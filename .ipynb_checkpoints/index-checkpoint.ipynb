{
 "metadata": {
  "name": "",
  "signature": "sha256:b1459aa13173edfa00ceee73f13762be70b6e812e025aa1bc4e3201314f8912e"
 },
 "nbformat": 3,
 "nbformat_minor": 0,
 "worksheets": [
  {
   "cells": [
    {
     "cell_type": "markdown",
     "metadata": {},
     "source": [
      "## Sheffield ML Notebooks\n",
      "\n",
      "This is a repository for the SheffieldML group's notebooks. They are broadly split into three categories.\n",
      "\n",
      "* [Computational Biology and Bioinformatics](./compbio/index.ipynb) These notebooks are focussed on data analysis and new methodologies in computational biology.\n",
      "* [GPy Examples](./GPy/index.ipynb) These notebooks give examples on how to use the group's GPy software. \n",
      "* [Lab Classes for Teaching](./lab_classes/index.ipynb) These notebooks give lab classes for teaching including notebooks from Neil's Level 4/MSc module in machine learning."
     ]
    },
    {
     "cell_type": "code",
     "collapsed": false,
     "input": [],
     "language": "python",
     "metadata": {},
     "outputs": []
    }
   ],
   "metadata": {}
  }
 ]
}