{
 "metadata": {
  "name": "",
  "signature": "sha256:54981b23394c98dc0ffe5d8ad5acf5d9d614c78d27d0196651d9487a7aa03320"
 },
 "nbformat": 3,
 "nbformat_minor": 0,
 "worksheets": [
  {
   "cells": [
    {
     "cell_type": "markdown",
     "metadata": {},
     "source": [
      "## Lab Class Notebooks\n",
      "\n",
      "This subdirectory contains a collection of notebooks designed for running lab classes.\n",
      "\n",
      "* [Learning from Data: Movie Recommendation in the IPython Notebook](./ambassadors/movie_recommender.ipynb) This notebook is used for introducing school children with good ability in maths, as well as the general public, to the ideas behind learning algorithms.\n",
      "* [Machines and Intelligence](./machines_and_intelligence/index.ipynb) This was a notebook used to introduce first year students to the ideas behind machine learning (target level: post high school maths).\n",
      "* [Machine Learning and Adaptive Intelligence](./machine_learning/index.ipynb) These notebooks are used in the lab classes of Neil's Level 4/MSc module on machine learning.\n",
      "* [Gaussian Process Summer School](./gpss/index.ipynb) These notebooks are used for our Gaussian process summer school lab classes."
     ]
    },
    {
     "cell_type": "code",
     "collapsed": false,
     "input": [],
     "language": "python",
     "metadata": {},
     "outputs": []
    }
   ],
   "metadata": {}
  }
 ]
}