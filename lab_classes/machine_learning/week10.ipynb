{
 "metadata": {
  "name": "",
  "signature": "sha256:a40b96183361c7e14f88a1a5fd73e51204678cd2fc855afdb6bce66742f7a2aa"
 },
 "nbformat": 3,
 "nbformat_minor": 0,
 "worksheets": [
  {
   "cells": [
    {
     "cell_type": "markdown",
     "metadata": {},
     "source": [
      "# Special Topics I: Gaussian Processes\n",
      "\n",
      "### 2nd December 2014 Neil D. Lawrence\n",
      "\n",
      "First we download the latest version of the `pods` software.\n",
      "$$\\newcommand{\\inputScalar}{x}\n",
      "\\newcommand{\\lengthScale}{\\ell}\n",
      "\\newcommand{\\mappingVector}{\\mathbf{w}}\n",
      "\\newcommand{\\gaussianDist}[3]{\\mathcal{N}\\left(#1|#2,#3\\right)}\n",
      "\\newcommand{\\gaussianSamp}[2]{\\mathcal{N}\\left(#1,#2\\right)}\n",
      "\\newcommand{\\zerosVector}{\\mathbf{0}}\n",
      "\\newcommand{\\eye}{\\mathbf{I}}\n",
      "\\newcommand{\\dataStd}{\\sigma}\n",
      "\\newcommand{\\dataScalar}{y}\n",
      "\\newcommand{\\dataVector}{\\mathbf{y}}\n",
      "\\newcommand{\\dataMatrix}{\\mathbf{Y}}\n",
      "\\newcommand{\\noiseScalar}{\\epsilon}\n",
      "\\newcommand{\\noiseVector}{\\mathbf{\\epsilon}}\n",
      "\\newcommand{\\noiseMatrix}{\\mathbf{\\Epsilon}}\n",
      "\\newcommand{\\inputVector}{\\mathbf{x}}\n",
      "\\newcommand{\\basisMatrix}{\\mathbf{\\Phi}}\n",
      "\\newcommand{\\basisVector}{\\mathbf{\\phi}}\n",
      "\\newcommand{\\basisScalar}{\\phi}\n",
      "\\newcommand{\\expSamp}[1]{\\left<#1\\right>}\n",
      "\\newcommand{\\expDist}[2]{\\left<#1\\right>_{#2}}\n",
      "\\newcommand{\\covarianceMatrix}{\\mathbf{C}}\n",
      "\\newcommand{\\numData}{N}\n",
      "\\newcommand{\\mappingScalar}{w}\n",
      "\\newcommand{\\mappingFunctionScalar}{f}\n",
      "\\newcommand{\\mappingFunctionVector}{\\mathbf{f}}\n",
      "\\newcommand{\\meanVector}{\\boldsymbol{\\mu}}\n",
      "\\newcommand{\\meanScalar}{\\mu}\n",
      "\\newcommand{\\ltwoNorm}[1]{\\left\\Vert #1 \\right\\Vert_2}\n",
      "\\newcommand{\\kernelScalar}{k}\n",
      "\\newcommand{\\kernelVector}{\\mathbf{\\kernelScalar}}\n",
      "\\newcommand{\\kernelMatrix}{\\mathbf{K}}\n",
      "\\newcommand{\\lengthScale}{\\ell}$$"
     ]
    },
    {
     "cell_type": "code",
     "collapsed": false,
     "input": [
      "# download the software\n",
      "import urllib\n",
      "\n",
      "urllib.urlretrieve('https://github.com/sods/ods/archive/master.zip', 'master.zip')\n",
      "\n",
      "# unzip the software\n",
      "import zipfile\n",
      "zip = zipfile.ZipFile('./master.zip', 'r')\n",
      "for name in zip.namelist():\n",
      "    zip.extract(name, '.')\n",
      "\n",
      "# add the module location to the python path.    \n",
      "import sys\n",
      "sys.path.append(\"./ods-master/\") "
     ],
     "language": "python",
     "metadata": {},
     "outputs": []
    },
    {
     "cell_type": "markdown",
     "metadata": {},
     "source": [
      "And next we get the plots running in line. We also also load in the `pylab` library as `plt`."
     ]
    },
    {
     "cell_type": "code",
     "collapsed": false,
     "input": [
      "%matplotlib inline\n",
      "import pods\n",
      "import pylab as plt\n"
     ],
     "language": "python",
     "metadata": {},
     "outputs": []
    },
    {
     "cell_type": "markdown",
     "metadata": {},
     "source": [
      "Once again, we will be working with the olympics data this week. "
     ]
    },
    {
     "cell_type": "code",
     "collapsed": false,
     "input": [
      "data = pods.datasets.olympic_marathon_men()\n",
      "x = data['X']\n",
      "y = data['Y']\n",
      "plt.plot(x, y, 'rx')"
     ],
     "language": "python",
     "metadata": {},
     "outputs": []
    },
    {
     "cell_type": "markdown",
     "metadata": {},
     "source": [
      "This week we're going to build on our understanding of the marginal likelihood we derived in the lectures, and also across the last lab session, to try and see the relationship with Gaussian procces. In the last lab class we sampled directly from the weight vector $\\mappingVector$ and applied it to the basis matrix $\\basisMatrix$ to obtain a sample from the prior and a sample from the posterior. This week we'll start by constructing the prior directly, rather than sampling the weights and then combining with the basis.\n",
      "\n",
      "## Sampling from the Prior\n",
      "\n",
      "The first thing we'll do is to set up the parameters of the model, these include the parameters of the prior, the parameters of the basis functions and the noise level.\n",
      "\n",
      "$$\\mappingVector \\sim \\gaussianSamp{\\zerosVector}{\\alpha \\eye}$$"
     ]
    },
    {
     "cell_type": "code",
     "collapsed": false,
     "input": [
      "# set prior variance on w\n",
      "alpha = 4.\n",
      "# set the order of the polynomial basis set\n",
      "order = 5\n",
      "# set the noise variance\n",
      "sigma2 = 0.01"
     ],
     "language": "python",
     "metadata": {},
     "outputs": []
    },
    {
     "cell_type": "markdown",
     "metadata": {},
     "source": [
      "Now we have the variance, we can sample from the prior distribution to see what form we are imposing on the functions *a priori*. \n",
      "\n",
      "Before we sample from our prior, recall the problems with the basis set from our last lab: the basis doesn't work well when predictions are made outside the $-1, 1$ region. Let's rescale the data to be within that region."
     ]
    },
    {
     "cell_type": "code",
     "collapsed": false,
     "input": [
      "import numpy as np\n",
      "span = np.max(x) - np.min(x) \n",
      "offset = np.min(x)\n",
      "x -= offset\n",
      "x /= span # x is now between zero and 1\n",
      "x = x*2-1 # x is now between -1 and 1"
     ],
     "language": "python",
     "metadata": {},
     "outputs": []
    },
    {
     "cell_type": "markdown",
     "metadata": {},
     "source": [
      "Let's now compute a range of values to make predictions at, spanning the *new* space of inputs,"
     ]
    },
    {
     "cell_type": "code",
     "collapsed": false,
     "input": [
      "num_data = x.shape[0]\n",
      "num_pred_data = 100 # how many points to use for plotting predictions\n",
      "x_pred = np.linspace(-1.2, 1.2, num_pred_data)[:, None] # input locations for predictions"
     ],
     "language": "python",
     "metadata": {},
     "outputs": []
    },
    {
     "cell_type": "markdown",
     "metadata": {},
     "source": [
      "now let's build the basis matrices.\n"
     ]
    },
    {
     "cell_type": "code",
     "collapsed": false,
     "input": [
      "# build the basis set\n",
      "Phi = np.zeros((num_data, order+1))\n",
      "Phi_pred = np.zeros((num_pred_data, order+1))\n",
      "for i in range(0, order+1):\n",
      "    Phi[:, i:i+1] = x**i\n",
      "    Phi_pred[:, i:i+1] = x_pred**i"
     ],
     "language": "python",
     "metadata": {},
     "outputs": []
    },
    {
     "cell_type": "markdown",
     "metadata": {},
     "source": [
      "### Weight Space View\n",
      "\n",
      "Now we will sample from the prior density to obtain a vector $\\mappingVector$ using the function `np.random.normal` and combine with our basis to create 10 samples from the model over functions,"
     ]
    },
    {
     "cell_type": "code",
     "collapsed": false,
     "input": [
      "num_samples = 10\n",
      "K = order+1\n",
      "for i in xrange(num_samples):\n",
      "    z_vec = np.random.normal(size=K)\n",
      "    w_sample = z_vec*np.sqrt(alpha)\n",
      "    f_sample = np.dot(Phi_pred,w_sample)\n",
      "    plt.plot(x_pred.flatten(), f_sample.flatten())\n"
     ],
     "language": "python",
     "metadata": {},
     "outputs": []
    },
    {
     "cell_type": "markdown",
     "metadata": {},
     "source": [
      "### Function Space View\n",
      "\n",
      "The process we have used to generate the samples is a two stage process. To obtain each function, we first generated a sample from the prior,\n",
      "\n",
      "$$\\mappingVector \\sim \\gaussianSamp{\\zerosVector}{\\alpha \\eye}$$\n",
      "\n",
      "We next applied the likelihood. The mean of the function in the likelihood is given by\n",
      "\n",
      "$$\\mathbf{f} = \\basisMatrix \\mappingVector.$$\n",
      "\n",
      "so we plotted the result. In the lecture this week we talked about computing the marginal likelihood directly. We used properties of Gaussian densities to show that,\n",
      "\n",
      "$$\\mappingFunctionVector \\sim \\gaussianSamp{\\zerosVector}{\\alpha \\basisMatrix \\basisMatrix^\\top},$$\n",
      "\n",
      "so we should be able to sample directly from this density. To do that we use the `np.random.multivariate_normal` command introduced in the last session. We need to sample from a multivariate normal with covariance given by $\\alpha\\basisMatrix\\basisMatrix^\\top$ and a zero mean,"
     ]
    },
    {
     "cell_type": "code",
     "collapsed": false,
     "input": [
      "K = alpha*np.dot(Phi_pred, Phi_pred.T)\n",
      "for i in xrange(10):\n",
      "    f_sample = np.random.multivariate_normal(mean=np.zeros(x_pred.size), cov=K)\n",
      "    plt.plot(x_pred.flatten(), f_sample.flatten())"
     ],
     "language": "python",
     "metadata": {},
     "outputs": []
    },
    {
     "cell_type": "markdown",
     "metadata": {},
     "source": [
      "We can plot the covariance given as an image in python with a colorbar to show scale."
     ]
    },
    {
     "cell_type": "code",
     "collapsed": false,
     "input": [
      "plt.imshow(K)\n",
      "plt.colorbar()"
     ],
     "language": "python",
     "metadata": {},
     "outputs": []
    },
    {
     "cell_type": "markdown",
     "metadata": {},
     "source": [
      "Because the full model involves corrupting the latent function with Gaussian noise,"
     ]
    },
    {
     "cell_type": "markdown",
     "metadata": {},
     "source": [
      "$$\\dataVector = \\mappingFunctionVector + \\noiseVector$$"
     ]
    },
    {
     "cell_type": "markdown",
     "metadata": {},
     "source": [
      "and the noise is sampled from an independent Gaussian distribution with variance $\\dataStd^2$,"
     ]
    },
    {
     "cell_type": "markdown",
     "metadata": {},
     "source": [
      "$$\\noiseVector \\sim \\gaussianSamp{\\zerosVector}{\\dataStd^2 \\eye},$$"
     ]
    },
    {
     "cell_type": "markdown",
     "metadata": {},
     "source": [
      "we can use properties of Gaussian variables, i.e. the fact that sum of two Gaussian variables is also Gaussian, and that it's covariance is given by the sum of the two covariances, whilst the mean is given by the sum of the means, to write down the marginal likelihood,"
     ]
    },
    {
     "cell_type": "markdown",
     "metadata": {},
     "source": [
      "$$\\dataScalar \\sim \\gaussianSamp{\\zerosVector}{\\alpha \\basisMatrix \\basisMatrix^\\top + \\dataStd^2 \\eye}$$."
     ]
    },
    {
     "cell_type": "markdown",
     "metadata": {},
     "source": [
      "Sampling directly from this distribution gives us the noise corrupted functions,"
     ]
    },
    {
     "cell_type": "code",
     "collapsed": false,
     "input": [
      "K = alpha*np.dot(Phi_pred, Phi_pred.T) + sigma2*np.eye(x_pred.size)\n",
      "for i in xrange(10):\n",
      "    y_sample = np.random.multivariate_normal(mean=np.zeros(x_pred.size), cov=K)\n",
      "    plt.plot(x_pred.flatten(), y_sample.flatten())"
     ],
     "language": "python",
     "metadata": {},
     "outputs": []
    },
    {
     "cell_type": "markdown",
     "metadata": {},
     "source": [
      "Here we can see the small effect of our noise value, $\\dataStd^2$. We can increase the noise value to see a different effect,"
     ]
    },
    {
     "cell_type": "code",
     "collapsed": false,
     "input": [
      "sigma2 = 1.\n",
      "K = alpha*np.dot(Phi_pred, Phi_pred.T) + sigma2*np.eye(x_pred.size)\n",
      "for i in xrange(10):\n",
      "    y_sample = np.random.multivariate_normal(mean=np.zeros(x_pred.size), cov=K)\n",
      "    plt.plot(x_pred.flatten(), y_sample.flatten())"
     ],
     "language": "python",
     "metadata": {},
     "outputs": []
    },
    {
     "cell_type": "markdown",
     "metadata": {},
     "source": [
      "#### Function Space Reflection\n",
      "\n",
      "How would you include the noise term when sampling in the weight space point of view?\n",
      "\n",
      "## Gaussian Process\n",
      "\n",
      "Rather than sampling from the prior over parameters, we sampled from the marginal likelihood. Specifying this marginal likelihood directly, and avoiding the intermediate weight-space representation is what Gaussian processes are all about. In a Gaussian process you specify the *covariance function* directly, rather than *implicitly* through a basis matrix and a prior over parameters. Gaussian processes have the advantage that they can be *nonparametric*, which in simple terms means that they can have *infinite* basis functions. In the lectures we introduced the *exponentiated quadratic* covariance, also known as the RBF or the Gaussian or the squared exponential covariance function. This covariance function is specified by\n",
      "\n",
      "$$\\kernelScalar(\\inputVector_i, \\inputVector_j) = \\alpha \\exp\\left( -\\frac{\\ltwoNorm{\\inputVector_i-\\inputVector_j}^2}{2\\lengthScale^2}\\right).$$\n",
      "\n",
      "where $\\ltwoNorm{\\inputVector_i-\\inputVector_j}^2$ is the squared distance between the two input vectors \n",
      "\n",
      "Let's build a covariance matrix based on this function. We will compute the covariance at the points given by `x_pred`"
     ]
    },
    {
     "cell_type": "code",
     "collapsed": false,
     "input": [
      "alpha = 1.0\n",
      "lengthscale = 0.1\n",
      "K = np.zeros((x_pred.size, x_pred.size))\n",
      "for i in xrange(x_pred.size):\n",
      "    for j in xrange(x_pred.size):\n",
      "        K[i, j] = alpha*np.exp((-0.5*(x_pred[i]-x_pred[j])**2)/lengthscale**2)\n"
     ],
     "language": "python",
     "metadata": {},
     "outputs": []
    },
    {
     "cell_type": "markdown",
     "metadata": {},
     "source": [
      "Now we can image the resulting covariance,"
     ]
    },
    {
     "cell_type": "code",
     "collapsed": false,
     "input": [
      "plt.imshow(K,interpolation='none')\n",
      "plt.colorbar()"
     ],
     "language": "python",
     "metadata": {},
     "outputs": []
    },
    {
     "cell_type": "markdown",
     "metadata": {},
     "source": [
      "and sample functions from the marginal likelihood."
     ]
    },
    {
     "cell_type": "code",
     "collapsed": false,
     "input": [
      "for i in xrange(10):\n",
      "    y_sample = np.random.multivariate_normal(mean=np.zeros(x_pred.size), cov=K)\n",
      "    plt.plot(x_pred.flatten(), y_sample.flatten())"
     ],
     "language": "python",
     "metadata": {},
     "outputs": []
    },
    {
     "cell_type": "markdown",
     "metadata": {},
     "source": [
      "The new covariance function doesn't have the problems with scaling exhibited by the the polynomial basis. We can reset our data from the olympics matrix and show samples computed across the actual years."
     ]
    },
    {
     "cell_type": "code",
     "collapsed": false,
     "input": [
      "x_pred = np.linspace(1892, 2016, num_pred_data)[:, None]\n",
      "\n",
      "alpha = 1.0\n",
      "lengthscale = 4\n",
      "K = np.zeros((x_pred.size, x_pred.size))\n",
      "for i in xrange(x_pred.size):\n",
      "    for j in xrange(x_pred.size):\n",
      "        K[i, j] = alpha*np.exp((-0.5*(x_pred[i]-x_pred[j])**2)/lengthscale**2)\n",
      "\n",
      "for i in xrange(10):\n",
      "    y_sample = np.random.multivariate_normal(mean=np.zeros(x_pred.size), cov=K)\n",
      "    plt.plot(x_pred.flatten(), y_sample.flatten())"
     ],
     "language": "python",
     "metadata": {},
     "outputs": []
    },
    {
     "cell_type": "markdown",
     "metadata": {},
     "source": [
      "### Moving Parameters\n",
      "\n",
      "Have a play with the parameters for this covariance function and see what effects the parameters have on the types of functions you observe.\n",
      "\n",
      "## Making Predictions\n",
      "\n",
      "\n",
      "We now have a probability density that represents functions. How do we make predictions with this density? The density is known as a process because it is *consistent*. By consistency, here, we mean that the model makes predictions for $\\mappingFunctionVector$ that are unaffected by future values of $\\mappingFunctionVector^*$ that are currently unobserved (such as test points). If we think of $\\mappingFunctionVector^\\ast$ as test points, we can still write down a joint probability ensity over the training observations, $\\mappingFunctionVector$ and the test observations, $\\mappingFunctionVector^\\ast$. This joint probability density will be Gaussian, with a covariance matrix given by our covariance function, $\\kernelScalar(\\inputVector_i, \\inputVector_j)$. \n",
      "\n",
      "$$\\begin{bmatrix}\\mappingFunctionVector \\\\\\ \\mappingFunctionVector^\\ast\\end{bmatrix} \\sim \\gaussianSamp{\\zerosVector}{\\begin{bmatrix} \\kernelMatrix & \\kernelMatrix_\\ast \\\\\\ \\kernelMatrix_\\ast^\\top & \\kernelMatrix_{\\ast,\\ast}\\end{bmatrix}}$$\n",
      "\n",
      "where here $\\kernelMatrix$ is the covariance computed between all the training points, $\\kernelMatrix_\\ast$ is the covariance matrix computed between the training points and the test points and $\\kernelMatrix_{\\ast,\\ast}$ is the covariance matrix computed betwen all the tests points. To be clear, let's compute these now for our example, using `x` and `y` for the training data (although `y` doesn't enter the covariance) and `x_pred` as the test locations."
     ]
    },
    {
     "cell_type": "code",
     "collapsed": false,
     "input": [
      "# set covariance function parameters\n",
      "alpha = 16.0\n",
      "lengthscale = 8\n",
      "# set noise variance\n",
      "sigma2 = 0.05\n",
      "\n",
      "# define a function to compute the covariance.\n",
      "def kern(x, xprime):\n",
      "    return alpha*np.exp((-0.5*(x-xprime)**2)/lengthscale**2)\n",
      "\n",
      "# compute covariance for training data, x\n",
      "K = np.zeros((x.size, x.size))\n",
      "for i in xrange(x.size):\n",
      "    for j in xrange(x.size):\n",
      "        K[i, j] = kern(x[i], x[j])\n",
      "\n",
      "# compute covariance between training data, x, and test data, x_pred\n",
      "K_star = np.zeros((x.size, x_pred.size))\n",
      "for i in xrange(x.size):\n",
      "    for j in xrange(x_pred.size):\n",
      "        K_star[i, j] = kern(x[i], x_pred[j])\n",
      "        \n",
      "# compute covariance for test data, x_pred\n",
      "K_starstar = np.zeros((x_pred.size, x_pred.size))\n",
      "for i in xrange(x_pred.size):\n",
      "    for j in xrange(x_pred.size):\n",
      "        K_starstar[i, j] = kern(x_pred[i], x_pred[j])"
     ],
     "language": "python",
     "metadata": {},
     "outputs": []
    },
    {
     "cell_type": "markdown",
     "metadata": {},
     "source": [
      "The overall covariance between our training and test data can now be plotted as"
     ]
    },
    {
     "cell_type": "code",
     "collapsed": false,
     "input": [
      "full_K = np.vstack([np.hstack([K, K_star]), np.hstack([K_star.T, K_starstar])])\n",
      "plt.imshow(full_K)\n",
      "plt.colorbar"
     ],
     "language": "python",
     "metadata": {},
     "outputs": []
    },
    {
     "cell_type": "markdown",
     "metadata": {},
     "source": [
      "The banded structure we now observe is because some of the training points are near to some of the test points. This is how we obtain 'communication' between our training data and our test data. If there is no structure in $\\kernelMatrix_\\ast$ then our belief about the test data simply matches our prior.\n",
      "\n",
      "To make predictions about the test data we need the conditional distribution: $p(\\mappingFunctionVector^\\ast|\\mappingFunctionVector)$, or when we include noise, $p(\\mappingFunctionVector^\\ast | \\dataVector)$. This conditional distribution is also Gaussian,\n",
      "\n",
      "$$\\mappingFunctionVector^\\ast \\sim \\gaussianSamp{\\meanVector_\\mappingFunctionScalar}{\\covarianceMatrix_\\mappingFunctionScalar}$$\n",
      "\n",
      " with a mean given by\n",
      "\n",
      "$$\\meanVector_\\mappingFunctionScalar = \\kernelMatrix^\\top_\\ast \\left[\\kernelMatrix + \\dataStd^2 \\eye\\right]^{-1} \\dataVector$$\n",
      "\n",
      "and a covariance given by \n",
      "\n",
      "$$\\covarianceMatrix_\\mappingFunctionScalar = \\kernelMatrix_{\\ast,\\ast} - \\kernelMatrix^\\top_\\ast \\left[\\kernelMatrix + \\dataStd^2 \\eye\\right]^{-1} \\kernelMatrix_\\ast.$$\n",
      "\n",
      "These results can be proved using *block matrix inverse* rules, but they are beyond the scope of this course, so you don't need to worry about remembering them or rederiving them. We are simply writing them here because it is this *conditional* density that is necessary for making predictions. Let's compute what those predictions are for the olympic marathon data."
     ]
    },
    {
     "cell_type": "code",
     "collapsed": false,
     "input": [
      "a = np.dot(np.linalg.inv(K + sigma2*np.eye(x.size)), K_star)\n",
      "mu_f = np.dot(a.T, y)\n",
      "C_f = K_starstar - np.dot(a.T, K_star)"
     ],
     "language": "python",
     "metadata": {},
     "outputs": []
    },
    {
     "cell_type": "markdown",
     "metadata": {},
     "source": [
      "where for convenience we've defined\n",
      "\n",
      "$$\\mathbf{a} = \\left[\\kernelMatrix + \\dataStd^2\\eye\\right]^{-1}\\kernelMatrix_\\ast.$$ \n",
      "\n",
      "We can visualize the covariance of the *conditional*,"
     ]
    },
    {
     "cell_type": "code",
     "collapsed": false,
     "input": [
      "plt.imshow(C_f)\n",
      "plt.colorbar"
     ],
     "language": "python",
     "metadata": {},
     "outputs": []
    },
    {
     "cell_type": "markdown",
     "metadata": {},
     "source": [
      "and we can plot the mean of the conditional"
     ]
    },
    {
     "cell_type": "code",
     "collapsed": false,
     "input": [
      "plt.plot(x, y, 'rx')\n",
      "plt.plot(x_pred, mu_f, 'b-')"
     ],
     "language": "python",
     "metadata": {},
     "outputs": []
    },
    {
     "cell_type": "markdown",
     "metadata": {},
     "source": [
      "as well as the associated error bars. These are given (similarly to the Bayesian parametric model from the last lab) by the standard deviations of the marginal posterior densities. The marginal posterior variances are given by the diagonal elements of the posterior covariance,"
     ]
    },
    {
     "cell_type": "code",
     "collapsed": false,
     "input": [
      "var_f = np.diag(C_f)[:, None]\n",
      "std_f = np.sqrt(var_f)"
     ],
     "language": "python",
     "metadata": {},
     "outputs": []
    },
    {
     "cell_type": "markdown",
     "metadata": {},
     "source": [
      "They can be added to the underlying mean function to give the error bars,"
     ]
    },
    {
     "cell_type": "code",
     "collapsed": false,
     "input": [
      "plt.plot(x, y, 'rx')\n",
      "plt.plot(x_pred, mu_f, 'b-')\n",
      "plt.plot(x_pred, mu_f+2*std_f, 'b--')\n",
      "plt.plot(x_pred, mu_f-2*std_f, 'b--')"
     ],
     "language": "python",
     "metadata": {},
     "outputs": []
    },
    {
     "cell_type": "markdown",
     "metadata": {},
     "source": [
      "This gives us a prediction from the Gaussian process. Remember machine learning is data + model = prediction. Here our data is from the olympics, and our model is a Gaussian process with two parameters. The main thing the model expresses is smoothness. But it also sustains the uncertainty about the function, this means we see an increase in the size of the error bars during periods like the 1st and 2nd World Wars when no olympic marathon was held. \n",
      "\n",
      "## Exercises\n",
      "\n",
      "Now try changing the parameters of the covariance function (and the noise) to see how the predictions change.\n",
      "\n",
      "Now try sampling from this conditional density to see what your predictions look like. What happens if you sample from the conditional density in regions a long way into the future or the past? How does this compare with the results from the polynomial model?"
     ]
    }
   ],
   "metadata": {}
  }
 ]
}