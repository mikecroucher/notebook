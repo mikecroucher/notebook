{
 "metadata": {
  "name": "",
  "signature": "sha256:3851282e5270581f350e2a84fbe5a922912b1063abc769ddee7413b26c6cb28f"
 },
 "nbformat": 3,
 "nbformat_minor": 0,
 "worksheets": [
  {
   "cells": [
    {
     "cell_type": "markdown",
     "metadata": {},
     "source": [
      "# Probabilistic Classification with Logistic Regression\n",
      "\n",
      "## 11th November 2014 Neil D. Lawrence"
     ]
    },
    {
     "cell_type": "code",
     "collapsed": false,
     "input": [],
     "language": "python",
     "metadata": {},
     "outputs": []
    }
   ],
   "metadata": {}
  }
 ]
}