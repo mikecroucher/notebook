{
 "metadata": {
  "name": "",
  "signature": "sha256:1726d958b40e1c0034dc205db32e325e4221ad67d5ff8c4ae45d8878f9c15d19"
 },
 "nbformat": 3,
 "nbformat_minor": 0,
 "worksheets": [
  {
   "cells": [
    {
     "cell_type": "markdown",
     "metadata": {},
     "source": [
      "# Dimensionality Reduction: Latent Variable Modelling\n",
      "\n",
      "### 18th November 2014 Neil D. Lawrence"
     ]
    },
    {
     "cell_type": "code",
     "collapsed": false,
     "input": [],
     "language": "python",
     "metadata": {},
     "outputs": []
    }
   ],
   "metadata": {}
  }
 ]
}