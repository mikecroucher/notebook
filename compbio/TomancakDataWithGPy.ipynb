{
 "metadata": {
  "name": "",
  "signature": "sha256:b08b22aa21496bdcfc0768b89981b4678c5f7d83eb68b8165d5bf753dbaab22a"
 },
 "nbformat": 3,
 "nbformat_minor": 0,
 "worksheets": [
  {
   "cells": [
    {
     "cell_type": "heading",
     "level": 1,
     "metadata": {},
     "source": [
      "Tomancak et al Drosophila Data with GPy and Pandas"
     ]
    },
    {
     "cell_type": "heading",
     "level": 4,
     "metadata": {},
     "source": [
      "presented at the EBI BioPreDyn Course 'The Systems Biology Modelling Cycle'"
     ]
    },
    {
     "cell_type": "heading",
     "level": 4,
     "metadata": {},
     "source": [
      "Neil Lawrence, 12th May 2014 with help from Marta Milo for the Bioconductor Portion"
     ]
    },
    {
     "cell_type": "heading",
     "level": 3,
     "metadata": {},
     "source": [
      "Introduction"
     ]
    },
    {
     "cell_type": "markdown",
     "metadata": {},
     "source": [
      "In this demonstration we are going to load pre-processed Affymetrix time series data. The data is pre-processed in R using bioconductor. The results are then loaded into a python for further analysis with a Gaussian process.\n",
      "\n",
      "The analysis we are going to do is to check whether any given set of replicates is 'valid'. In other words, were the replicates drawn from the same Gaussian process. To do this we will fit two Gaussian process models, one which assumes that the replicates are independent and one that assumes that they are drawn from the same process. We will evaluate the likelihood of each. The result could be used in a likelihood ratio test."
     ]
    },
    {
     "cell_type": "heading",
     "level": 3,
     "metadata": {},
     "source": [
      "Preparing the Environment"
     ]
    },
    {
     "cell_type": "markdown",
     "metadata": {},
     "source": [
      "Firstly we load in the data set by downloading `cel` files if the analyzed files aren't already present on the disk. We load in `rmagic` if that data isn't present to do the preprocessing in the R PUMA package from bioconductor."
     ]
    },
    {
     "cell_type": "code",
     "collapsed": false,
     "input": [
      "import os\n",
      "import numpy as np\n",
      "import GPy\n",
      "import pods\n",
      "%matplotlib inline\n",
      "%load_ext rmagic\n",
      "datapath = os.path.join(pods.datasets.data_path, 'fruitfly_tomancak')\n",
      "\n",
      "import matplotlib as plt\n",
      "plt.rcParams['figure.figsize'] = (10.0, 4.0)"
     ],
     "language": "python",
     "metadata": {},
     "outputs": [],
     "prompt_number": 1
    },
    {
     "cell_type": "heading",
     "level": 3,
     "metadata": {},
     "source": [
      "Use Bioconductor for Processing"
     ]
    },
    {
     "cell_type": "markdown",
     "metadata": {},
     "source": [
      "Now we process the `cel` files using the PUMA package from bioconductor in R. This step can take a long time. The R code checks whether the preprocessed results are present and skips the processing of the `cel` files if they are. If you want to run the processing from scratch, delete any processed results stored in `datapath` and set the variable in the next box `process_data_in_R` to `True`."
     ]
    },
    {
     "cell_type": "code",
     "collapsed": false,
     "input": [
      "# This downloads cel files if they are not present. \n",
      "# These cel files would be needed if you want to do \n",
      "# the full Bioconductor analysis below.\n",
      "process_data_in_R = False\n",
      "if process_data_in_R:\n",
      "    # download the original cel files and prepare to process!\n",
      "    data_set = 'fruitfly_tomancak_cel_files'\n",
      "    if not pods.datasets.data_available(data_set):\n",
      "        data = pods.datasets.download_data(data_set)\n",
      "else:\n",
      "    # download the puma-processed affymetrix data.\n",
      "    data = pods.datasets.fruitfly_tomancak()"
     ],
     "language": "python",
     "metadata": {},
     "outputs": []
    },
    {
     "cell_type": "markdown",
     "metadata": {},
     "source": [
      "This portion of the code will do the PUMA analysis of the gene\n",
      "expression data in R. To run it needs to have the cel files\n",
      "from <a href=\"ftp://ftp.fruitfly.org/pub/embryo_tc_array_data/\">this fruitfly.org FTP server</a>. The code above dowloads all the `cel` files and stores them in the path given by `datapath`. "
     ]
    },
    {
     "cell_type": "code",
     "collapsed": false,
     "input": [
      "%%R -i datapath\n",
      "returnpath <- getwd()\n",
      "setwd(datapath)\n",
      "if(!file.exists(\"tomancak_exprs.csv\")) {\n",
      "    source(\"http://www.bioconductor.org/biocLite.R\")\n",
      "    biocLite(\"puma\")\n",
      "    library(puma)\n",
      "    print(\"Processing data with PUMA\")\n",
      "    expfiles <- c(paste(\"embryo_tc_4_\", 1:12, \".CEL\", sep=\"\"), paste(\"embryo_tc_6_\", 1:12, \".CEL\", sep=\"\"), paste(\"embryo_tc_8_\", 1:12, \".CEL\", sep=\"\"))\n",
      "    library(puma)\n",
      "    drosophila_exp_set <- justmmgMOS(filenames=expfiles, celfile.path=datapath)\n",
      "    pData(drosophila_exp_set) <- data.frame(\"time.h\" = rep(1:12, 3), row.names=rownames(pData(drosophila_exp_set)))    \n",
      "    write.reslts(drosophila_exp_set, file='tomancak')\n",
      "}\n",
      "else {\n",
      "    print(\"Processed data found on disk.\")\n",
      "}\n",
      "setwd(returnpath)"
     ],
     "language": "python",
     "metadata": {},
     "outputs": [
      {
       "metadata": {},
       "output_type": "display_data",
       "text": [
        "[1] \"Processed data found on disk.\"\n"
       ]
      }
     ],
     "prompt_number": 3
    },
    {
     "cell_type": "heading",
     "level": 3,
     "metadata": {},
     "source": [
      "Read Gene Expression Data into Pandas Dataframe"
     ]
    },
    {
     "cell_type": "markdown",
     "metadata": {},
     "source": [
      "Once the analysis is complete, the results are stored in the file `tomancak_exprs.csv`. To save you doing the full analysis, we can download a pre-processed version of this file using this command."
     ]
    },
    {
     "cell_type": "code",
     "collapsed": false,
     "input": [
      "data = pods.datasets.fruitfly_tomancak()\n",
      "X = data['X']\n",
      "Y = data['Y']"
     ],
     "language": "python",
     "metadata": {},
     "outputs": [],
     "prompt_number": 4
    },
    {
     "cell_type": "markdown",
     "metadata": {},
     "source": [
      "The gene expression data is now loaded into the python environment. We have made use of `pandas` a python library for handling data structures. It provides us with a `DataFrame` object which gives some functionality similar to that of `R` for basic analysis."
     ]
    },
    {
     "cell_type": "heading",
     "level": 3,
     "metadata": {},
     "source": [
      "Are these Replicates Really Valid?"
     ]
    },
    {
     "cell_type": "markdown",
     "metadata": {},
     "source": [
      "Next we are going to write a couple of python functions that allow us to do some simple processing of the gene expression data. The idea will be to see if the data is best modelled through a series of *identical* Gaussian processes, or through series of *independent* Gaussian processes. "
     ]
    },
    {
     "cell_type": "code",
     "collapsed": false,
     "input": [
      "def fit_probe(id, independent=False):\n",
      "    \"\"\"Fit a set of probe repeats as either independent or correlated.\"\"\"\n",
      "    \n",
      "    # set up the covariance function.\n",
      "    lengthscale = 2.\n",
      "    if independent:\n",
      "        kern = GPy.kern.RBF(1,lengthscale=lengthscale)**GPy.kern.Coregionalize(1,3, rank=0) \n",
      "    else:\n",
      "        kern = GPy.kern.RBF(1,lengthscale=lengthscale)**GPy.kern.Coregionalize(1,3, rank=1)\n",
      "        kern.coregion.W[0] = 1.\n",
      "        kern.coregion.W[1] = 1.\n",
      "        kern.coregion.W[2] = 1.\n",
      "        kern.coregion.W.constrain_fixed()\n",
      "\n",
      "    kern += GPy.kern.Bias(2)\n",
      "    \n",
      "    m = GPy.models.GPRegression(X, Y[id][:, None], kern)\n",
      "    m.optimize(messages=True)\n",
      "    return m"
     ],
     "language": "python",
     "metadata": {},
     "outputs": [],
     "prompt_number": 5
    },
    {
     "cell_type": "markdown",
     "metadata": {},
     "source": [
      "We'd like to display the model fits. The `GPy` software allows us to select which data to plot from the model. Below there's a function for plotting the data associated with each repliacte alongside the fit."
     ]
    },
    {
     "cell_type": "code",
     "collapsed": false,
     "input": [
      "import pylab as plt\n",
      "\n",
      "def show_model_fit(m):\n",
      "    print m\n",
      "    print \"Log likelihood:\", m.log_likelihood()\n",
      "    fig, ax = plt.subplots(1, 3, sharex=True,sharey=True)\n",
      "    for replicate in range(3):\n",
      "        symbols = ['rx', 'gx', 'bx']\n",
      "        linecolors = [(1.,0.,0.), (0., 1., 0.), (0., 0., 1.)]\n",
      "        # Plot the result without noise (trying to estimate underlying gene expression)\n",
      "        pl = m.plot_f(ax=ax[replicate], fixed_inputs=[(1, replicate)],which_data_rows=np.nonzero(X[:,1]==replicate), \n",
      "                                data_symbol=symbols[replicate],linecol=linecolors[replicate])"
     ],
     "language": "python",
     "metadata": {},
     "outputs": [],
     "prompt_number": 6
    },
    {
     "cell_type": "markdown",
     "metadata": {},
     "source": [
      "Finally, for convenience, we write a short helper function that allows us to fit and display each model."
     ]
    },
    {
     "cell_type": "code",
     "collapsed": false,
     "input": [
      "def fit_and_display(probe_id): \n",
      "    mc = fit_probe(probe_id, independent=False)\n",
      "    mi = fit_probe(probe_id, independent=True)\n",
      "    show_model_fit(mc)\n",
      "    show_model_fit(mi)\n",
      "    return mc, mi"
     ],
     "language": "python",
     "metadata": {},
     "outputs": [],
     "prompt_number": 7
    },
    {
     "cell_type": "markdown",
     "metadata": {},
     "source": [
      "Now let's fit each of the two models to a given probe id. First we select a probe_id where the correspondence between the repeats is not very strong (even if it's there)."
     ]
    },
    {
     "cell_type": "code",
     "collapsed": false,
     "input": [
      "mc, mi = fit_and_display('141201_at')"
     ],
     "language": "python",
     "metadata": {},
     "outputs": [
      {
       "output_type": "stream",
       "stream": "stdout",
       "text": [
        " I      F              Scale          |g|        \n",
        "\r",
        "0001   7.387117e+01   1.000000e+00   8.006574e+01"
       ]
      },
      {
       "output_type": "stream",
       "stream": "stdout",
       "text": [
        " \r",
        "0002   7.155017e+01   5.000000e-01   1.144176e+01"
       ]
      },
      {
       "output_type": "stream",
       "stream": "stdout",
       "text": [
        " \r",
        "0003   7.022950e+01   2.500000e-01   1.619041e+00"
       ]
      },
      {
       "output_type": "stream",
       "stream": "stdout",
       "text": [
        " \n",
        "\r",
        "0004   7.008159e+01   1.250000e-01   4.636280e-01"
       ]
      },
      {
       "output_type": "stream",
       "stream": "stdout",
       "text": [
        " \r",
        "0005   6.947130e+01   6.250000e-02   3.769697e-01"
       ]
      },
      {
       "output_type": "stream",
       "stream": "stdout",
       "text": [
        " \r",
        "0006   6.927961e+01   3.125000e-02   3.307685e-01"
       ]
      },
      {
       "output_type": "stream",
       "stream": "stdout",
       "text": [
        " \r",
        "0007   6.891209e+01   1.562500e-02   1.697254e-01"
       ]
      },
      {
       "output_type": "stream",
       "stream": "stdout",
       "text": [
        " \r",
        "0008   6.884368e+01   7.812500e-03   4.533998e-01"
       ]
      },
      {
       "output_type": "stream",
       "stream": "stdout",
       "text": [
        " \r",
        "0009   6.865976e+01   3.906250e-03   2.595534e-02"
       ]
      },
      {
       "output_type": "stream",
       "stream": "stdout",
       "text": [
        " \r",
        "0010   6.856970e+01   1.953125e-03   3.879114e-02"
       ]
      },
      {
       "output_type": "stream",
       "stream": "stdout",
       "text": [
        " \r",
        "0011   6.852718e+01   9.765625e-04   1.553915e-01"
       ]
      },
      {
       "output_type": "stream",
       "stream": "stdout",
       "text": [
        " \n",
        "\r",
        "0012   6.845258e+01   4.882812e-04   2.097762e-02"
       ]
      },
      {
       "output_type": "stream",
       "stream": "stdout",
       "text": [
        " \r",
        "0013   6.844485e+01   2.441406e-04   2.330362e-02"
       ]
      },
      {
       "output_type": "stream",
       "stream": "stdout",
       "text": [
        " \r",
        "0014   6.839814e+01   1.220703e-04   1.745185e-02"
       ]
      },
      {
       "output_type": "stream",
       "stream": "stdout",
       "text": [
        " \r",
        "0015   6.839268e+01   6.103516e-05   2.719814e-02"
       ]
      },
      {
       "output_type": "stream",
       "stream": "stdout",
       "text": [
        " \n",
        "\r",
        "0016   6.838639e+01   3.051758e-05   5.774384e-03"
       ]
      },
      {
       "output_type": "stream",
       "stream": "stdout",
       "text": [
        " \r",
        "0017   6.838549e+01   1.525879e-05   8.747279e-04"
       ]
      },
      {
       "output_type": "stream",
       "stream": "stdout",
       "text": [
        " \r",
        "0018   6.836354e+01   7.629395e-06   4.114114e-03"
       ]
      },
      {
       "output_type": "stream",
       "stream": "stdout",
       "text": [
        " \r",
        "0019   6.835441e+01   3.814697e-06   1.039852e-02"
       ]
      },
      {
       "output_type": "stream",
       "stream": "stdout",
       "text": [
        " \r",
        "0020   6.833551e+01   1.907349e-06   2.545910e-02"
       ]
      },
      {
       "output_type": "stream",
       "stream": "stdout",
       "text": [
        " \r",
        "0021   6.833386e+01   9.536743e-07   1.959320e-03"
       ]
      },
      {
       "output_type": "stream",
       "stream": "stdout",
       "text": [
        " \r",
        "0022   6.833265e+01   4.768372e-07   5.096027e-03"
       ]
      },
      {
       "output_type": "stream",
       "stream": "stdout",
       "text": [
        " \r",
        "0023   6.832956e+01   2.384186e-07   2.126501e-03"
       ]
      },
      {
       "output_type": "stream",
       "stream": "stdout",
       "text": [
        " \r",
        "0024   6.832730e+01   1.192093e-07   8.839271e-04"
       ]
      },
      {
       "output_type": "stream",
       "stream": "stdout",
       "text": [
        " \r",
        "0025   6.832597e+01   5.960464e-08   5.717099e-03"
       ]
      },
      {
       "output_type": "stream",
       "stream": "stdout",
       "text": [
        " \r",
        "0026   6.832582e+01   2.980232e-08   2.626878e-04"
       ]
      },
      {
       "output_type": "stream",
       "stream": "stdout",
       "text": [
        " \n",
        "\r",
        "0027   6.832577e+01   1.490116e-08   1.550156e-04"
       ]
      },
      {
       "output_type": "stream",
       "stream": "stdout",
       "text": [
        " \r",
        "0028   6.832572e+01   7.450581e-09   3.370915e-05"
       ]
      },
      {
       "output_type": "stream",
       "stream": "stdout",
       "text": [
        " \n",
        "\r",
        "0029   6.832568e+01   3.725290e-09   1.231950e-04"
       ]
      },
      {
       "output_type": "stream",
       "stream": "stdout",
       "text": [
        " \r",
        "0030   6.832557e+01   1.862645e-09   6.410209e-05"
       ]
      },
      {
       "output_type": "stream",
       "stream": "stdout",
       "text": [
        " \r",
        "0031   6.832430e+01   9.313226e-10   5.662404e-05"
       ]
      },
      {
       "output_type": "stream",
       "stream": "stdout",
       "text": [
        " \r",
        "0032   6.832414e+01   4.656613e-10   6.850064e-04"
       ]
      },
      {
       "output_type": "stream",
       "stream": "stdout",
       "text": [
        " \r",
        "0033   6.832235e+01   2.328306e-10   2.141731e-04"
       ]
      },
      {
       "output_type": "stream",
       "stream": "stdout",
       "text": [
        " \r",
        "0034   6.831954e+01   1.164153e-10   7.961738e-04"
       ]
      },
      {
       "output_type": "stream",
       "stream": "stdout",
       "text": [
        " \r",
        "0035   6.831948e+01   5.820766e-11   2.740933e-04"
       ]
      },
      {
       "output_type": "stream",
       "stream": "stdout",
       "text": [
        " \r",
        "0036   6.831946e+01   2.910383e-11   3.834389e-05"
       ]
      },
      {
       "output_type": "stream",
       "stream": "stdout",
       "text": [
        " \r",
        "0037   6.831944e+01   1.455192e-11   5.974540e-05"
       ]
      },
      {
       "output_type": "stream",
       "stream": "stdout",
       "text": [
        " \r",
        "0037   6.831944e+01   1.455192e-11   3.114992e-06"
       ]
      },
      {
       "output_type": "stream",
       "stream": "stdout",
       "text": [
        " \n",
        "converged - relative reduction in gradient\n",
        " I      F              Scale          |g|        "
       ]
      },
      {
       "output_type": "stream",
       "stream": "stdout",
       "text": [
        "\n",
        "\r",
        "0001   7.630594e+01   1.000000e+00   1.334323e+02"
       ]
      },
      {
       "output_type": "stream",
       "stream": "stdout",
       "text": [
        " \r",
        "0002   7.342031e+01   5.000000e-01   1.973407e+01"
       ]
      },
      {
       "output_type": "stream",
       "stream": "stdout",
       "text": [
        " \n",
        "\r",
        "0003   7.269395e+01   2.500000e-01   2.516373e+00"
       ]
      },
      {
       "output_type": "stream",
       "stream": "stdout",
       "text": [
        " \r",
        "0004   7.201214e+01   1.250000e-01   8.796638e-01"
       ]
      },
      {
       "output_type": "stream",
       "stream": "stdout",
       "text": [
        " \r",
        "0005   7.174293e+01   6.250000e-02   5.314203e-01"
       ]
      },
      {
       "output_type": "stream",
       "stream": "stdout",
       "text": [
        " \r",
        "0006   7.142455e+01   3.125000e-02   1.975273e-01"
       ]
      },
      {
       "output_type": "stream",
       "stream": "stdout",
       "text": [
        " \r",
        "0007   7.126251e+01   1.562500e-02   2.488280e-01"
       ]
      },
      {
       "output_type": "stream",
       "stream": "stdout",
       "text": [
        " \r",
        "0008   7.124706e+01   7.812500e-03   4.790529e-02"
       ]
      },
      {
       "output_type": "stream",
       "stream": "stdout",
       "text": [
        " \r",
        "0009   7.111617e+01   3.906250e-03   2.214247e-02"
       ]
      },
      {
       "output_type": "stream",
       "stream": "stdout",
       "text": [
        " \r",
        "0010   7.110567e+01   1.953125e-03   3.155182e-02"
       ]
      },
      {
       "output_type": "stream",
       "stream": "stdout",
       "text": [
        " \r",
        "0011   7.108856e+01   9.765625e-04   7.593125e-03"
       ]
      },
      {
       "output_type": "stream",
       "stream": "stdout",
       "text": [
        " \r",
        "0012   7.106559e+01   4.882812e-04   6.459012e-03"
       ]
      },
      {
       "output_type": "stream",
       "stream": "stdout",
       "text": [
        " \n",
        "\r",
        "0013   7.103465e+01   2.441406e-04   4.054892e-02"
       ]
      },
      {
       "output_type": "stream",
       "stream": "stdout",
       "text": [
        " \r",
        "0014   7.102440e+01   1.220703e-04   1.180229e-02"
       ]
      },
      {
       "output_type": "stream",
       "stream": "stdout",
       "text": [
        " \r",
        "0015   7.102329e+01   6.103516e-05   3.246713e-03"
       ]
      },
      {
       "output_type": "stream",
       "stream": "stdout",
       "text": [
        " \r",
        "0016   7.101769e+01   3.051758e-05   1.742134e-03"
       ]
      },
      {
       "output_type": "stream",
       "stream": "stdout",
       "text": [
        " \r",
        "0017   7.101643e+01   1.525879e-05   9.861979e-04"
       ]
      },
      {
       "output_type": "stream",
       "stream": "stdout",
       "text": [
        " \n",
        "\r",
        "0018   7.101616e+01   7.629395e-06   9.610034e-04"
       ]
      },
      {
       "output_type": "stream",
       "stream": "stdout",
       "text": [
        " \r",
        "0019   7.101318e+01   3.814697e-06   8.939803e-05"
       ]
      },
      {
       "output_type": "stream",
       "stream": "stdout",
       "text": [
        " \r",
        "0020   7.101191e+01   1.907349e-06   6.304250e-04"
       ]
      },
      {
       "output_type": "stream",
       "stream": "stdout",
       "text": [
        " \r",
        "0021   7.101136e+01   9.536743e-07   1.569498e-03"
       ]
      },
      {
       "output_type": "stream",
       "stream": "stdout",
       "text": [
        " \r",
        "0022   7.101088e+01   4.768372e-07   3.239710e-04"
       ]
      },
      {
       "output_type": "stream",
       "stream": "stdout",
       "text": [
        " \r",
        "0023   7.101067e+01   2.384186e-07   5.899356e-04"
       ]
      },
      {
       "output_type": "stream",
       "stream": "stdout",
       "text": [
        " \r",
        "0024   7.101026e+01   1.192093e-07   1.400559e-04"
       ]
      },
      {
       "output_type": "stream",
       "stream": "stdout",
       "text": [
        " \r",
        "0025   7.101025e+01   5.960464e-08   1.744846e-05"
       ]
      },
      {
       "output_type": "stream",
       "stream": "stdout",
       "text": [
        " \r",
        "0026   7.101001e+01   2.980232e-08   4.823721e-05"
       ]
      },
      {
       "output_type": "stream",
       "stream": "stdout",
       "text": [
        " \r",
        "0027   7.100910e+01   1.490116e-08   1.429193e-04"
       ]
      },
      {
       "output_type": "stream",
       "stream": "stdout",
       "text": [
        " \r",
        "0028   7.100888e+01   7.450581e-09   6.927251e-04"
       ]
      },
      {
       "output_type": "stream",
       "stream": "stdout",
       "text": [
        " \r",
        "0029   7.100888e+01   3.725290e-09   1.723961e-05"
       ]
      },
      {
       "output_type": "stream",
       "stream": "stdout",
       "text": [
        " \n",
        "\r",
        "0030   7.100887e+01   1.862645e-09   1.449196e-05"
       ]
      },
      {
       "output_type": "stream",
       "stream": "stdout",
       "text": [
        " \r",
        "0030   7.100887e+01   1.862645e-09   1.143451e-06"
       ]
      },
      {
       "output_type": "stream",
       "stream": "stdout",
       "text": [
        " \n",
        "converged - relative reduction in gradient\n",
        "  GP_regression.           |      Value      |  Constraint  |  Prior  |  Tied to\n",
        "  \u001b[1madd.mul.rbf.variance   \u001b[0;0m  |  1.72780009055  |     +ve      |         |         \n",
        "  \u001b[1madd.mul.rbf.lengthscale\u001b[0;0m  |  3.33806016899  |     +ve      |         |         \n",
        "  \u001b[1madd.mul.coregion.W     \u001b[0;0m  |         (3, 1)  |    fixed     |         |         \n",
        "  \u001b[1madd.mul.coregion.kappa \u001b[0;0m  |           (3,)  |     +ve      |         |         \n",
        "  \u001b[1madd.bias.variance      \u001b[0;0m  |  15.8074444421  |     +ve      |         |         \n",
        "  \u001b[1mGaussian_noise.variance\u001b[0;0m  |   1.9463062621  |     +ve      |         |         \n",
        "Log likelihood: -68.3194391057\n",
        "  GP_regression.           |      Value       |  Constraint  |  Prior  |  Tied to\n",
        "  \u001b[1madd.mul.rbf.variance   \u001b[0;0m  |  0.568839595845  |     +ve      |         |         \n",
        "  \u001b[1madd.mul.rbf.lengthscale\u001b[0;0m  |   1.99782726507  |     +ve      |         |         \n",
        "  \u001b[1madd.mul.coregion.W     \u001b[0;0m  |              []  |              |         |         \n",
        "  \u001b[1madd.mul.coregion.kappa \u001b[0;0m  |            (3,)  |     +ve      |         |         \n",
        "  \u001b[1madd.bias.variance      \u001b[0;0m  |   12.8220694326  |     +ve      |         |         \n",
        "  \u001b[1mGaussian_noise.variance\u001b[0;0m  |   2.36092484964  |     +ve      |         |         "
       ]
      },
      {
       "output_type": "stream",
       "stream": "stdout",
       "text": [
        "\n",
        "Log likelihood: -71.0088672008\n"
       ]
      },
      {
       "metadata": {},
       "output_type": "display_data",
       "png": "[encoded data removed]",
       "text": [
        "<matplotlib.figure.Figure at 0x11304fd50>"
       ]
      },
      {
       "metadata": {},
       "output_type": "display_data",
       "png": "[encoded data removed]",
       "text": [
        "<matplotlib.figure.Figure at 0x1139307d0>"
       ]
      }
     ],
     "prompt_number": 8
    },
    {
     "cell_type": "markdown",
     "metadata": {},
     "source": [
      "Viewing the results here, for the independent model two of the fits adjudge there to be *no signal*. The constrained model shares information across the fits and can therefore determine better parameters. We can compute the ratio of the likelihods given:"
     ]
    },
    {
     "cell_type": "code",
     "collapsed": false,
     "input": [
      "print mc.log_likelihood() - mi.log_likelihood()"
     ],
     "language": "python",
     "metadata": {},
     "outputs": [
      {
       "output_type": "stream",
       "stream": "stdout",
       "text": [
        "2.68942809511\n"
       ]
      }
     ],
     "prompt_number": 9
    },
    {
     "cell_type": "markdown",
     "metadata": {},
     "source": [
      "As a second gene, we consider `141200_at`. This gene turns out to have a more consistent response across the three repeats."
     ]
    },
    {
     "cell_type": "code",
     "collapsed": false,
     "input": [
      "mc, mi = fit_and_display('141200_at')\n"
     ],
     "language": "python",
     "metadata": {},
     "outputs": [
      {
       "output_type": "stream",
       "stream": "stdout",
       "text": [
        " I      F              Scale          |g|        \n",
        "\r",
        "0001   5.954675e+01   1.000000e+00   7.415977e+01"
       ]
      },
      {
       "output_type": "stream",
       "stream": "stdout",
       "text": [
        " \n",
        "\r",
        "0002   5.651343e+01   5.000000e-01   1.101257e+01"
       ]
      },
      {
       "output_type": "stream",
       "stream": "stdout",
       "text": [
        " \r",
        "0003   5.454736e+01   2.500000e-01   1.121249e+01"
       ]
      },
      {
       "output_type": "stream",
       "stream": "stdout",
       "text": [
        " \n",
        "\r",
        "0004   5.328529e+01   1.250000e-01   2.632947e+00"
       ]
      },
      {
       "output_type": "stream",
       "stream": "stdout",
       "text": [
        " \r",
        "0005   5.205405e+01   6.250000e-02   7.078399e+00"
       ]
      },
      {
       "output_type": "stream",
       "stream": "stdout",
       "text": [
        " \n",
        "\r",
        "0006   5.133984e+01   3.125000e-02   2.083490e+00"
       ]
      },
      {
       "output_type": "stream",
       "stream": "stdout",
       "text": [
        " \r",
        "0007   5.080924e+01   1.562500e-02   9.245166e-01"
       ]
      },
      {
       "output_type": "stream",
       "stream": "stdout",
       "text": [
        " \r",
        "0008   5.054323e+01   7.812500e-03   5.096522e+00"
       ]
      },
      {
       "output_type": "stream",
       "stream": "stdout",
       "text": [
        " \r",
        "0009   5.047832e+01   3.906250e-03   2.946653e-01"
       ]
      },
      {
       "output_type": "stream",
       "stream": "stdout",
       "text": [
        " \r",
        "0010   5.044946e+01   1.953125e-03   1.746709e-01"
       ]
      },
      {
       "output_type": "stream",
       "stream": "stdout",
       "text": [
        " \r",
        "0011   5.019104e+01   9.765625e-04   2.961983e-01"
       ]
      },
      {
       "output_type": "stream",
       "stream": "stdout",
       "text": [
        " \r",
        "0012   4.992371e+01   4.882812e-04   3.464851e-01"
       ]
      },
      {
       "output_type": "stream",
       "stream": "stdout",
       "text": [
        " \r",
        "0013   4.979024e+01   2.441406e-04   4.748281e-01"
       ]
      },
      {
       "output_type": "stream",
       "stream": "stdout",
       "text": [
        " \r",
        "0014   4.956721e+01   1.220703e-04   1.348324e+00"
       ]
      },
      {
       "output_type": "stream",
       "stream": "stdout",
       "text": [
        " \r",
        "0015   4.954234e+01   6.103516e-05   3.509260e-01"
       ]
      },
      {
       "output_type": "stream",
       "stream": "stdout",
       "text": [
        " \n",
        "\r",
        "0016   4.953037e+01   3.051758e-05   6.306185e-02"
       ]
      },
      {
       "output_type": "stream",
       "stream": "stdout",
       "text": [
        " \r",
        "0017   4.952408e+01   1.525879e-05   1.847405e-02"
       ]
      },
      {
       "output_type": "stream",
       "stream": "stdout",
       "text": [
        " \r",
        "0018   4.952026e+01   7.629395e-06   3.163090e-02"
       ]
      },
      {
       "output_type": "stream",
       "stream": "stdout",
       "text": [
        " \n",
        "\r",
        "0019   4.951665e+01   3.814697e-06   8.396935e-03"
       ]
      },
      {
       "output_type": "stream",
       "stream": "stdout",
       "text": [
        " \r",
        "0020   4.949756e+01   1.907349e-06   2.416812e-02"
       ]
      },
      {
       "output_type": "stream",
       "stream": "stdout",
       "text": [
        " \r",
        "0021   4.935796e+01   9.536743e-07   2.441473e-01"
       ]
      },
      {
       "output_type": "stream",
       "stream": "stdout",
       "text": [
        " \r",
        "0022   4.932076e+01   4.768372e-07   2.468304e-01"
       ]
      },
      {
       "output_type": "stream",
       "stream": "stdout",
       "text": [
        " \r",
        "0023   4.931614e+01   2.384186e-07   6.476982e-02"
       ]
      },
      {
       "output_type": "stream",
       "stream": "stdout",
       "text": [
        " \r",
        "0024   4.930658e+01   1.192093e-07   1.423701e-02"
       ]
      },
      {
       "output_type": "stream",
       "stream": "stdout",
       "text": [
        " \r",
        "0025   4.930197e+01   5.960464e-08   2.930524e-02"
       ]
      },
      {
       "output_type": "stream",
       "stream": "stdout",
       "text": [
        " \r",
        "0026   4.929530e+01   2.980232e-08   3.266620e-02"
       ]
      },
      {
       "output_type": "stream",
       "stream": "stdout",
       "text": [
        " \r",
        "0027   4.929380e+01   1.490116e-08   5.732343e-03"
       ]
      },
      {
       "output_type": "stream",
       "stream": "stdout",
       "text": [
        " \r",
        "0028   4.929259e+01   7.450581e-09   9.723442e-03"
       ]
      },
      {
       "output_type": "stream",
       "stream": "stdout",
       "text": [
        " \r",
        "0029   4.929201e+01   3.725290e-09   3.048111e-03"
       ]
      },
      {
       "output_type": "stream",
       "stream": "stdout",
       "text": [
        " \r",
        "0030   4.929171e+01   1.862645e-09   1.889383e-03"
       ]
      },
      {
       "output_type": "stream",
       "stream": "stdout",
       "text": [
        " \n",
        "\r",
        "0031   4.925278e+01   9.313226e-10   2.654319e-03"
       ]
      },
      {
       "output_type": "stream",
       "stream": "stdout",
       "text": [
        " \r",
        "0032   4.922492e+01   4.656613e-10   5.074865e-02"
       ]
      },
      {
       "output_type": "stream",
       "stream": "stdout",
       "text": [
        " \r",
        "0033   4.918416e+01   2.328306e-10   2.380481e-01"
       ]
      },
      {
       "output_type": "stream",
       "stream": "stdout",
       "text": [
        " \r",
        "0034   4.917606e+01   1.164153e-10   3.329963e-02"
       ]
      },
      {
       "output_type": "stream",
       "stream": "stdout",
       "text": [
        " \r",
        "0035   4.915568e+01   5.820766e-11   4.167542e-02"
       ]
      },
      {
       "output_type": "stream",
       "stream": "stdout",
       "text": [
        " \r",
        "0036   4.914472e+01   2.910383e-11   1.436691e-01"
       ]
      },
      {
       "output_type": "stream",
       "stream": "stdout",
       "text": [
        " \r",
        "0037   4.912697e+01   1.455192e-11   4.225831e-02"
       ]
      },
      {
       "output_type": "stream",
       "stream": "stdout",
       "text": [
        " \r",
        "0038   4.912137e+01   7.275958e-12   2.367971e-02"
       ]
      },
      {
       "output_type": "stream",
       "stream": "stdout",
       "text": [
        " \r",
        "0039   4.911914e+01   3.637979e-12   1.646599e-02"
       ]
      },
      {
       "output_type": "stream",
       "stream": "stdout",
       "text": [
        " \r",
        "0040   4.911097e+01   1.818989e-12   1.423990e-02"
       ]
      },
      {
       "output_type": "stream",
       "stream": "stdout",
       "text": [
        " \r",
        "0041   4.911075e+01   9.094947e-13   1.758956e-03"
       ]
      },
      {
       "output_type": "stream",
       "stream": "stdout",
       "text": [
        " \r",
        "0042   4.911066e+01   4.547474e-13   8.114017e-04"
       ]
      },
      {
       "output_type": "stream",
       "stream": "stdout",
       "text": [
        " \n",
        "\r",
        "0043   4.911061e+01   2.273737e-13   1.904281e-04"
       ]
      },
      {
       "output_type": "stream",
       "stream": "stdout",
       "text": [
        " \r",
        "0044   4.911058e+01   1.136868e-13   2.044480e-04"
       ]
      },
      {
       "output_type": "stream",
       "stream": "stdout",
       "text": [
        " \r",
        "0045   4.911052e+01   5.684342e-14   1.782676e-04"
       ]
      },
      {
       "output_type": "stream",
       "stream": "stdout",
       "text": [
        " \r",
        "0046   4.910977e+01   2.842171e-14   9.480241e-05"
       ]
      },
      {
       "output_type": "stream",
       "stream": "stdout",
       "text": [
        " \n",
        "\r",
        "0047   4.910969e+01   1.421085e-14   3.512417e-04"
       ]
      },
      {
       "output_type": "stream",
       "stream": "stdout",
       "text": [
        " \r",
        "0048   4.909331e+01   7.105427e-15   9.844570e-04"
       ]
      },
      {
       "output_type": "stream",
       "stream": "stdout",
       "text": [
        " \r",
        "0049   4.908444e+01   3.552714e-15   2.617158e-02"
       ]
      },
      {
       "output_type": "stream",
       "stream": "stdout",
       "text": [
        " \r",
        "0050   4.908369e+01   1.776357e-15   8.290038e-03"
       ]
      },
      {
       "output_type": "stream",
       "stream": "stdout",
       "text": [
        " \r",
        "0051   4.908321e+01   1.000000e-15   2.965585e-03"
       ]
      },
      {
       "output_type": "stream",
       "stream": "stdout",
       "text": [
        " \r",
        "0052   4.908295e+01   1.000000e-15   7.691343e-04"
       ]
      },
      {
       "output_type": "stream",
       "stream": "stdout",
       "text": [
        " \r",
        "0053   4.908294e+01   1.000000e-15   4.074377e-05"
       ]
      },
      {
       "output_type": "stream",
       "stream": "stdout",
       "text": [
        " \r",
        "0054   4.908294e+01   1.000000e-15   1.118552e-05"
       ]
      },
      {
       "output_type": "stream",
       "stream": "stdout",
       "text": [
        " \r",
        "0055   4.908292e+01   1.000000e-15   2.391155e-05"
       ]
      },
      {
       "output_type": "stream",
       "stream": "stdout",
       "text": [
        " \r",
        "0056   4.908291e+01   1.000000e-15   2.745654e-05"
       ]
      },
      {
       "output_type": "stream",
       "stream": "stdout",
       "text": [
        " \r",
        "0056   4.908291e+01   1.000000e-15   7.618811e-06"
       ]
      },
      {
       "output_type": "stream",
       "stream": "stdout",
       "text": [
        " \n",
        "converged - relative reduction in gradient\n",
        " I      F              Scale          |g|        \n",
        "\r"
       ]
      },
      {
       "output_type": "stream",
       "stream": "stdout",
       "text": [
        "0001   6.876734e+01   1.000000e+00   1.628927e+02"
       ]
      },
      {
       "output_type": "stream",
       "stream": "stdout",
       "text": [
        " \r",
        "0002   6.280627e+01   5.000000e-01   3.183509e+01"
       ]
      },
      {
       "output_type": "stream",
       "stream": "stdout",
       "text": [
        " \r",
        "0003   6.186018e+01   2.500000e-01   8.217787e+00"
       ]
      },
      {
       "output_type": "stream",
       "stream": "stdout",
       "text": [
        " \r",
        "0004   6.028225e+01   1.250000e-01   3.505947e+00"
       ]
      },
      {
       "output_type": "stream",
       "stream": "stdout",
       "text": [
        " \r",
        "0005   5.974515e+01   6.250000e-02   2.621115e+00"
       ]
      },
      {
       "output_type": "stream",
       "stream": "stdout",
       "text": [
        " \r",
        "0006   5.891810e+01   3.125000e-02   1.067113e+00"
       ]
      },
      {
       "output_type": "stream",
       "stream": "stdout",
       "text": [
        " \n",
        "\r",
        "0007   5.847762e+01   1.562500e-02   1.683518e+00"
       ]
      },
      {
       "output_type": "stream",
       "stream": "stdout",
       "text": [
        " \r",
        "0008   5.841680e+01   7.812500e-03   5.235071e-01"
       ]
      },
      {
       "output_type": "stream",
       "stream": "stdout",
       "text": [
        " \r",
        "0009   5.834838e+01   3.906250e-03   2.174818e-01"
       ]
      },
      {
       "output_type": "stream",
       "stream": "stdout",
       "text": [
        " \r",
        "0010   5.828898e+01   1.953125e-03   2.675170e-01"
       ]
      },
      {
       "output_type": "stream",
       "stream": "stdout",
       "text": [
        " \r",
        "0011   5.798514e+01   9.765625e-04   5.260352e-01"
       ]
      },
      {
       "output_type": "stream",
       "stream": "stdout",
       "text": [
        " \r",
        "0012   5.762192e+01   4.882812e-04   2.463574e-01"
       ]
      },
      {
       "output_type": "stream",
       "stream": "stdout",
       "text": [
        " \r",
        "0013   5.757099e+01   2.441406e-04   2.873420e-01"
       ]
      },
      {
       "output_type": "stream",
       "stream": "stdout",
       "text": [
        " \r",
        "0014   5.744771e+01   1.220703e-04   1.716507e-01"
       ]
      },
      {
       "output_type": "stream",
       "stream": "stdout",
       "text": [
        " \r",
        "0015   5.741356e+01   6.103516e-05   1.215135e-01"
       ]
      },
      {
       "output_type": "stream",
       "stream": "stdout",
       "text": [
        " \r",
        "0016   5.741206e+01   3.051758e-05   1.406818e-02"
       ]
      },
      {
       "output_type": "stream",
       "stream": "stdout",
       "text": [
        " \r",
        "0017   5.739427e+01   1.525879e-05   6.487256e-03"
       ]
      },
      {
       "output_type": "stream",
       "stream": "stdout",
       "text": [
        " \n",
        "\r",
        "0018   5.737408e+01   7.629395e-06   4.545689e-02"
       ]
      },
      {
       "output_type": "stream",
       "stream": "stdout",
       "text": [
        " \r",
        "0019   5.727321e+01   3.814697e-06   1.565282e-01"
       ]
      },
      {
       "output_type": "stream",
       "stream": "stdout",
       "text": [
        " \r",
        "0020   5.709004e+01   1.907349e-06   1.473545e-01"
       ]
      },
      {
       "output_type": "stream",
       "stream": "stdout",
       "text": [
        " \r",
        "0021   5.707428e+01   9.536743e-07   3.500999e-02"
       ]
      },
      {
       "output_type": "stream",
       "stream": "stdout",
       "text": [
        " \r",
        "0022   5.706685e+01   4.768372e-07   9.495672e-02"
       ]
      },
      {
       "output_type": "stream",
       "stream": "stdout",
       "text": [
        " \r",
        "0023   5.706516e+01   2.384186e-07   3.377820e-03"
       ]
      },
      {
       "output_type": "stream",
       "stream": "stdout",
       "text": [
        " \r",
        "0024   5.706491e+01   1.192093e-07   7.931889e-04"
       ]
      },
      {
       "output_type": "stream",
       "stream": "stdout",
       "text": [
        " \n",
        "\r",
        "0025   5.706474e+01   5.960464e-08   1.018454e-03"
       ]
      },
      {
       "output_type": "stream",
       "stream": "stdout",
       "text": [
        " \r",
        "0026   5.706384e+01   2.980232e-08   4.167588e-04"
       ]
      },
      {
       "output_type": "stream",
       "stream": "stdout",
       "text": [
        " \r",
        "0027   5.703825e+01   1.490116e-08   1.791454e-03"
       ]
      },
      {
       "output_type": "stream",
       "stream": "stdout",
       "text": [
        " \r",
        "0028   5.699694e+01   7.450581e-09   1.722007e-01"
       ]
      },
      {
       "output_type": "stream",
       "stream": "stdout",
       "text": [
        " \r",
        "0029   5.699433e+01   3.725290e-09   2.206110e-02"
       ]
      },
      {
       "output_type": "stream",
       "stream": "stdout",
       "text": [
        " \r",
        "0030   5.699077e+01   1.862645e-09   9.292273e-03"
       ]
      },
      {
       "output_type": "stream",
       "stream": "stdout",
       "text": [
        " \r",
        "0031   5.699070e+01   9.313226e-10   2.879144e-04"
       ]
      },
      {
       "output_type": "stream",
       "stream": "stdout",
       "text": [
        " \r",
        "0032   5.699066e+01   4.656613e-10   2.785983e-04"
       ]
      },
      {
       "output_type": "stream",
       "stream": "stdout",
       "text": [
        " \r",
        "0033   5.699063e+01   2.328306e-10   3.883252e-05"
       ]
      },
      {
       "output_type": "stream",
       "stream": "stdout",
       "text": [
        " \r",
        "0034   5.699059e+01   1.164153e-10   5.449617e-05"
       ]
      },
      {
       "output_type": "stream",
       "stream": "stdout",
       "text": [
        " \n",
        "\r",
        "0035   5.699051e+01   5.820766e-11   2.581063e-04"
       ]
      },
      {
       "output_type": "stream",
       "stream": "stdout",
       "text": [
        " \r",
        "0036   5.699044e+01   2.910383e-11   2.092824e-04"
       ]
      },
      {
       "output_type": "stream",
       "stream": "stdout",
       "text": [
        " \r",
        "0037   5.699040e+01   1.455192e-11   2.924947e-04"
       ]
      },
      {
       "output_type": "stream",
       "stream": "stdout",
       "text": [
        " \r",
        "0038   5.699037e+01   7.275958e-12   4.374779e-05"
       ]
      },
      {
       "output_type": "stream",
       "stream": "stdout",
       "text": [
        " \r",
        "0039   5.699024e+01   3.637979e-12   3.796532e-05"
       ]
      },
      {
       "output_type": "stream",
       "stream": "stdout",
       "text": [
        " \r",
        "0040   5.699013e+01   1.818989e-12   4.453789e-04"
       ]
      },
      {
       "output_type": "stream",
       "stream": "stdout",
       "text": [
        " \r",
        "0041   5.697855e+01   9.094947e-13   8.078215e-04"
       ]
      },
      {
       "output_type": "stream",
       "stream": "stdout",
       "text": [
        " \r",
        "0042   5.697396e+01   4.547474e-13   4.613574e-03"
       ]
      },
      {
       "output_type": "stream",
       "stream": "stdout",
       "text": [
        " \r",
        "0043   5.697348e+01   2.273737e-13   1.785668e-03"
       ]
      },
      {
       "output_type": "stream",
       "stream": "stdout",
       "text": [
        " \r",
        "0044   5.697347e+01   1.136868e-13   2.959524e-05"
       ]
      },
      {
       "output_type": "stream",
       "stream": "stdout",
       "text": [
        " \r",
        "0044   5.697347e+01   1.136868e-13   7.649845e-06"
       ]
      },
      {
       "output_type": "stream",
       "stream": "stdout",
       "text": [
        " \n",
        "converged - relative reduction in gradient\n",
        "  GP_regression.           |      Value       |  Constraint  |  Prior  |  Tied to\n",
        "  \u001b[1madd.mul.rbf.variance   \u001b[0;0m  |    1.6733641931  |     +ve      |         |         \n",
        "  \u001b[1madd.mul.rbf.lengthscale\u001b[0;0m  |   2.25972853566  |     +ve      |         |         \n",
        "  \u001b[1madd.mul.coregion.W     \u001b[0;0m  |          (3, 1)  |    fixed     |         |         \n",
        "  \u001b[1madd.mul.coregion.kappa \u001b[0;0m  |            (3,)  |     +ve      |         |         \n",
        "  \u001b[1madd.bias.variance      \u001b[0;0m  |   41.6358928332  |     +ve      |         |         \n",
        "  \u001b[1mGaussian_noise.variance\u001b[0;0m  |  0.466800439528  |     +ve      |         |         \n",
        "Log likelihood: -49.0829147999\n",
        "  GP_regression.           |      Value       |  Constraint  |  Prior  |  Tied to\n",
        "  \u001b[1madd.mul.rbf.variance   \u001b[0;0m  |   1.85371366452  |     +ve      |         |         \n",
        "  \u001b[1madd.mul.rbf.lengthscale\u001b[0;0m  |    2.1518535383  |     +ve      |         |         \n",
        "  \u001b[1madd.mul.coregion.W     \u001b[0;0m  |              []  |              |         |         \n",
        "  \u001b[1madd.mul.coregion.kappa \u001b[0;0m  |            (3,)  |     +ve      |         |         \n",
        "  \u001b[1madd.bias.variance      \u001b[0;0m  |   43.7655705493  |     +ve      |         |         \n",
        "  \u001b[1mGaussian_noise.variance\u001b[0;0m  |  0.583260906627  |     +ve      |         |         "
       ]
      },
      {
       "output_type": "stream",
       "stream": "stdout",
       "text": [
        "\n",
        "Log likelihood: -56.9734738447\n"
       ]
      },
      {
       "metadata": {},
       "output_type": "display_data",
       "png": "[encoded data removed]",
       "text": [
        "<matplotlib.figure.Figure at 0x11398d5d0>"
       ]
      },
      {
       "metadata": {},
       "output_type": "display_data",
       "png": "[encoded data removed]",
       "text": [
        "<matplotlib.figure.Figure at 0x1132792d0>"
       ]
      }
     ],
     "prompt_number": 10
    },
    {
     "cell_type": "markdown",
     "metadata": {},
     "source": [
      "Naturally, the likelihood still favours the constrained model. "
     ]
    },
    {
     "cell_type": "heading",
     "level": 3,
     "metadata": {},
     "source": [
      "Outlier Detection"
     ]
    },
    {
     "cell_type": "markdown",
     "metadata": {},
     "source": [
      "The above model used a Gaussian noise to fit the data (i.e. it assumed that gene expression has a log-normally distributed noise). In the next example we will relax this assumption and use the *Laplace approximation* to fit a model with a Student-t noise model (degrees of freedom 5). This makes the analysis less sensitive to outliers."
     ]
    },
    {
     "cell_type": "code",
     "collapsed": false,
     "input": [
      "def fit_probe(id, independent=False):\n",
      "    \"\"\"Fit a set of probe repeats as either independent or correlated.\"\"\"\n",
      "    \n",
      "    # set up a likelihood function, Student-t with 5 degress of freedom.\n",
      "    likelihood = GPy.likelihoods.StudentT(deg_free=5)\n",
      "    # use the Laplace approximation for inference.\n",
      "    inference = GPy.inference.latent_function_inference.laplace.Laplace()\n",
      "\n",
      "    # set up the covariance function as before.\n",
      "    lengthscale = 2.\n",
      "    if independent:\n",
      "        kern = GPy.kern.RBF(1,lengthscale=lengthscale)**GPy.kern.Coregionalize(1,3, rank=0) \n",
      "    else:\n",
      "        kern = GPy.kern.RBF(1,lengthscale=lengthscale)**GPy.kern.Coregionalize(1,3, rank=1)\n",
      "        kern.coregion.W[0] = 1.\n",
      "        kern.coregion.W[1] = 1.\n",
      "        kern.coregion.W[2] = 1.\n",
      "        kern.coregion.W.constrain_fixed()\n",
      "\n",
      "    kern += GPy.kern.Bias(2)\n",
      "    \n",
      "    m = GPy.core.GP(X, Y[id][:, None], likelihood=likelihood, inference_method=inference, kernel=kern)\n",
      "    m.optimize(messages=True)\n",
      "    return m"
     ],
     "language": "python",
     "metadata": {},
     "outputs": [],
     "prompt_number": 11
    },
    {
     "cell_type": "code",
     "collapsed": false,
     "input": [
      "mc, mi = fit_and_display('141201_at')"
     ],
     "language": "python",
     "metadata": {},
     "outputs": [
      {
       "output_type": "stream",
       "stream": "stdout",
       "text": [
        " I      F              Scale          |g|        \n",
        "\r"
       ]
      },
      {
       "output_type": "stream",
       "stream": "stdout",
       "text": [
        "0001   7.164397e+01   5.018466e+00   5.748980e+00"
       ]
      },
      {
       "output_type": "stream",
       "stream": "stdout",
       "text": [
        " \r",
        "0002   7.110441e+01   2.509233e+00   3.741555e+00"
       ]
      },
      {
       "output_type": "stream",
       "stream": "stdout",
       "text": [
        " \r",
        "0003   7.098206e+01   1.254617e+00   1.508217e+00"
       ]
      },
      {
       "output_type": "stream",
       "stream": "stdout",
       "text": [
        " \r",
        "0004   7.087526e+01   6.273083e-01   7.323516e-01"
       ]
      },
      {
       "output_type": "stream",
       "stream": "stdout",
       "text": [
        " \n",
        "\r"
       ]
      },
      {
       "output_type": "stream",
       "stream": "stdout",
       "text": [
        "0005   7.060781e+01   3.136541e-01   5.915071e-01"
       ]
      },
      {
       "output_type": "stream",
       "stream": "stdout",
       "text": [
        " \r",
        "0006   7.011394e+01   1.568271e-01   5.558323e-01"
       ]
      },
      {
       "output_type": "stream",
       "stream": "stdout",
       "text": [
        " \r",
        "0007   6.970390e+01   7.841354e-02   7.801658e-01"
       ]
      },
      {
       "output_type": "stream",
       "stream": "stdout",
       "text": [
        " \r",
        "0008   6.970390e+01   2.997012e+00   1.735325e-01"
       ]
      },
      {
       "output_type": "stream",
       "stream": "stdout",
       "text": [
        " \r",
        "0009   6.967889e+01   1.198805e+01   1.735325e-01"
       ]
      },
      {
       "output_type": "stream",
       "stream": "stdout",
       "text": [
        " \r",
        "0010   6.964629e+01   5.994023e+00   9.322968e-02"
       ]
      },
      {
       "output_type": "stream",
       "stream": "stdout",
       "text": [
        " \r",
        "0011   6.959752e+01   2.997012e+00   1.080891e-01"
       ]
      },
      {
       "output_type": "stream",
       "stream": "stdout",
       "text": [
        " \r",
        "0012   6.953950e+01   3.119938e+00   8.385654e-02"
       ]
      },
      {
       "output_type": "stream",
       "stream": "stdout",
       "text": [
        " \n",
        "\r"
       ]
      },
      {
       "output_type": "stream",
       "stream": "stdout",
       "text": [
        "0013   6.947636e+01   1.559969e+00   6.222795e-02"
       ]
      },
      {
       "output_type": "stream",
       "stream": "stdout",
       "text": [
        " \r",
        "0014   6.941093e+01   7.799845e-01   5.046212e-02"
       ]
      },
      {
       "output_type": "stream",
       "stream": "stdout",
       "text": [
        " \r",
        "0015   6.939212e+01   3.899922e-01   2.455260e-01"
       ]
      },
      {
       "output_type": "stream",
       "stream": "stdout",
       "text": [
        " \r",
        "0016   6.935745e+01   1.949961e-01   2.066871e-01"
       ]
      },
      {
       "output_type": "stream",
       "stream": "stdout",
       "text": [
        " \r",
        "0017   6.933341e+01   9.749806e-02   5.359108e-02"
       ]
      },
      {
       "output_type": "stream",
       "stream": "stdout",
       "text": [
        " \r",
        "0018   6.927425e+01   4.874903e-02   5.165165e-02"
       ]
      },
      {
       "output_type": "stream",
       "stream": "stdout",
       "text": [
        " \r",
        "0019   6.927425e+01   2.437451e-02   3.057907e-02"
       ]
      },
      {
       "output_type": "stream",
       "stream": "stdout",
       "text": [
        " \r",
        "0020   6.927396e+01   9.749806e-02   3.057907e-02"
       ]
      },
      {
       "output_type": "stream",
       "stream": "stdout",
       "text": [
        " \r",
        "0021   6.927258e+01   3.899922e-01   4.803180e-02"
       ]
      },
      {
       "output_type": "stream",
       "stream": "stdout",
       "text": [
        " \r",
        "0022   6.926027e+01   1.559969e+00   1.091742e-01"
       ]
      },
      {
       "output_type": "stream",
       "stream": "stdout",
       "text": [
        " \r",
        "0023   6.925322e+01   7.799845e-01   6.667610e-02"
       ]
      },
      {
       "output_type": "stream",
       "stream": "stdout",
       "text": [
        " \r",
        "0024   6.924306e+01   3.899922e-01   3.647374e-02"
       ]
      },
      {
       "output_type": "stream",
       "stream": "stdout",
       "text": [
        " \r",
        "0025   6.924269e+01   3.899922e-01   7.872877e-02"
       ]
      },
      {
       "output_type": "stream",
       "stream": "stdout",
       "text": [
        " \r",
        "0026   6.920807e+01   1.949961e-01   8.921342e-02"
       ]
      },
      {
       "output_type": "stream",
       "stream": "stdout",
       "text": [
        " \r",
        "0027   6.918240e+01   9.749806e-02   1.080706e-02"
       ]
      },
      {
       "output_type": "stream",
       "stream": "stdout",
       "text": [
        " \r",
        "0028   6.916490e+01   4.874903e-02   2.166961e-02"
       ]
      },
      {
       "output_type": "stream",
       "stream": "stdout",
       "text": [
        " \r",
        "0029   6.904070e+01   3.502384e-01   4.099140e-02"
       ]
      },
      {
       "output_type": "stream",
       "stream": "stdout",
       "text": [
        " \r",
        "0030   6.903785e+01   3.502384e-01   5.437574e-01"
       ]
      },
      {
       "output_type": "stream",
       "stream": "stdout",
       "text": [
        " \r",
        "0031   6.903785e+01   9.812686e-01   5.322936e-01"
       ]
      },
      {
       "output_type": "stream",
       "stream": "stdout",
       "text": [
        " \r",
        "0032   6.896883e+01   3.925074e+00   5.322936e-01"
       ]
      },
      {
       "output_type": "stream",
       "stream": "stdout",
       "text": [
        " \r",
        "0033   6.896749e+01   1.962537e+00   3.862998e-03"
       ]
      },
      {
       "output_type": "stream",
       "stream": "stdout",
       "text": [
        " \n",
        "\r"
       ]
      },
      {
       "output_type": "stream",
       "stream": "stdout",
       "text": [
        "0034   6.896061e+01   4.781110e+00   4.305708e-03"
       ]
      },
      {
       "output_type": "stream",
       "stream": "stdout",
       "text": [
        " \r",
        "0035   6.896053e+01   2.390555e+00   9.652359e-03"
       ]
      },
      {
       "output_type": "stream",
       "stream": "stdout",
       "text": [
        " \r",
        "0036   6.896053e+01   9.562219e+00   4.478018e-03"
       ]
      },
      {
       "output_type": "stream",
       "stream": "stdout",
       "text": [
        " \r",
        "0037   6.896053e+01   3.824888e+01   4.478018e-03"
       ]
      },
      {
       "output_type": "stream",
       "stream": "stdout",
       "text": [
        " \r",
        "0038   6.896053e+01   1.529955e+02   4.478018e-03"
       ]
      },
      {
       "output_type": "stream",
       "stream": "stdout",
       "text": [
        " \r",
        "0039   6.896053e+01   6.119820e+02   4.478018e-03"
       ]
      },
      {
       "output_type": "stream",
       "stream": "stdout",
       "text": [
        " \r",
        "0040   6.896053e+01   2.447928e+03   4.478018e-03"
       ]
      },
      {
       "output_type": "stream",
       "stream": "stdout",
       "text": [
        " \r",
        "0041   6.896053e+01   9.791712e+03   4.478018e-03"
       ]
      },
      {
       "output_type": "stream",
       "stream": "stdout",
       "text": [
        " \r",
        "0042   6.896053e+01   3.916685e+04   4.478018e-03"
       ]
      },
      {
       "output_type": "stream",
       "stream": "stdout",
       "text": [
        " \r",
        "0043   6.896053e+01   1.566674e+05   4.478018e-03"
       ]
      },
      {
       "output_type": "stream",
       "stream": "stdout",
       "text": [
        " \r",
        "0044   6.896053e+01   6.266696e+05   4.478018e-03"
       ]
      },
      {
       "output_type": "stream",
       "stream": "stdout",
       "text": [
        " \r",
        "0045   6.896053e+01   2.506678e+06   4.478018e-03"
       ]
      },
      {
       "output_type": "stream",
       "stream": "stdout",
       "text": [
        " \r",
        "0046   6.896053e+01   1.002671e+07   4.478018e-03"
       ]
      },
      {
       "output_type": "stream",
       "stream": "stdout",
       "text": [
        " \r",
        "0047   6.896053e+01   4.010685e+07   4.478018e-03"
       ]
      },
      {
       "output_type": "stream",
       "stream": "stdout",
       "text": [
        " \r",
        "0048   6.896053e+01   1.604274e+08   4.478018e-03"
       ]
      },
      {
       "output_type": "stream",
       "stream": "stdout",
       "text": [
        " \r",
        "0049   6.896053e+01   6.417097e+08   4.478018e-03"
       ]
      },
      {
       "output_type": "stream",
       "stream": "stdout",
       "text": [
        " \r",
        "0050   6.896053e+01   2.566839e+09   4.478018e-03"
       ]
      },
      {
       "output_type": "stream",
       "stream": "stdout",
       "text": [
        " \r",
        "0051   6.896053e+01   1.026735e+10   4.478018e-03"
       ]
      },
      {
       "output_type": "stream",
       "stream": "stdout",
       "text": [
        " \r",
        "0052   6.896053e+01   4.106942e+10   4.478018e-03"
       ]
      },
      {
       "output_type": "stream",
       "stream": "stdout",
       "text": [
        " \r",
        "0053   6.896053e+01   1.642777e+11   4.478018e-03"
       ]
      },
      {
       "output_type": "stream",
       "stream": "stdout",
       "text": [
        " \r",
        "0054   6.896053e+01   6.571107e+11   4.478018e-03"
       ]
      },
      {
       "output_type": "stream",
       "stream": "stdout",
       "text": [
        " \r",
        "0055   6.896053e+01   2.628443e+12   4.478018e-03"
       ]
      },
      {
       "output_type": "stream",
       "stream": "stdout",
       "text": [
        " \r",
        "0056   6.896053e+01   1.051377e+13   4.478018e-03"
       ]
      },
      {
       "output_type": "stream",
       "stream": "stdout",
       "text": [
        " \r",
        "0057   6.896053e+01   4.205508e+13   4.478018e-03"
       ]
      },
      {
       "output_type": "stream",
       "stream": "stdout",
       "text": [
        " \r",
        "0058   6.896053e+01   1.682203e+14   4.478018e-03"
       ]
      },
      {
       "output_type": "stream",
       "stream": "stdout",
       "text": [
        " \r",
        "0059   6.896053e+01   6.728814e+14   4.478018e-03"
       ]
      },
      {
       "output_type": "stream",
       "stream": "stdout",
       "text": [
        " \r",
        "0060   6.896053e+01   1.000000e+15   4.478018e-03"
       ]
      },
      {
       "output_type": "stream",
       "stream": "stdout",
       "text": [
        " \r",
        "0061   6.896053e+01   1.000000e+15   4.478018e-03"
       ]
      },
      {
       "output_type": "stream",
       "stream": "stdout",
       "text": [
        " \r",
        "0062   6.896053e+01   1.000000e+15   4.478018e-03"
       ]
      },
      {
       "output_type": "stream",
       "stream": "stdout",
       "text": [
        " \r",
        "0063   6.896053e+01   1.000000e+15   4.478018e-03"
       ]
      },
      {
       "output_type": "stream",
       "stream": "stdout",
       "text": [
        " \r",
        "0064   6.896053e+01   1.000000e+15   4.478018e-03"
       ]
      },
      {
       "output_type": "stream",
       "stream": "stdout",
       "text": [
        " \r",
        "0065   6.896053e+01   1.000000e+15   4.478018e-03"
       ]
      },
      {
       "output_type": "stream",
       "stream": "stdout",
       "text": [
        " \r",
        "0066   6.896053e+01   1.000000e+15   4.478018e-03"
       ]
      },
      {
       "output_type": "stream",
       "stream": "stdout",
       "text": [
        " \r",
        "0067   6.896053e+01   1.000000e+15   4.478018e-03"
       ]
      },
      {
       "output_type": "stream",
       "stream": "stdout",
       "text": [
        " \r",
        "0068   6.896053e+01   1.000000e+15   4.478018e-03"
       ]
      },
      {
       "output_type": "stream",
       "stream": "stdout",
       "text": [
        " \r",
        "0069   6.896053e+01   1.000000e+15   4.478018e-03"
       ]
      },
      {
       "output_type": "stream",
       "stream": "stdout",
       "text": [
        " \r",
        "0070   6.896053e+01   1.000000e+15   4.478018e-03"
       ]
      },
      {
       "output_type": "stream",
       "stream": "stdout",
       "text": [
        " \r",
        "0071   6.896053e+01   1.000000e+15   4.478018e-03"
       ]
      },
      {
       "output_type": "stream",
       "stream": "stdout",
       "text": [
        " \r",
        "0072   6.896053e+01   1.000000e+15   4.478018e-03"
       ]
      },
      {
       "output_type": "stream",
       "stream": "stdout",
       "text": [
        " \r",
        "0073   6.896053e+01   1.000000e+15   4.478018e-03"
       ]
      },
      {
       "output_type": "stream",
       "stream": "stdout",
       "text": [
        " \r",
        "0074   6.896053e+01   1.000000e+15   4.478018e-03"
       ]
      },
      {
       "output_type": "stream",
       "stream": "stdout",
       "text": [
        " \r",
        "0075   6.896053e+01   1.000000e+15   4.478018e-03"
       ]
      },
      {
       "output_type": "stream",
       "stream": "stdout",
       "text": [
        " \r",
        "0076   6.896053e+01   1.000000e+15   4.478018e-03"
       ]
      },
      {
       "output_type": "stream",
       "stream": "stdout",
       "text": [
        " \r",
        "0077   6.896053e+01   1.000000e+15   4.478018e-03"
       ]
      },
      {
       "output_type": "stream",
       "stream": "stdout",
       "text": [
        " \r",
        "0078   6.896053e+01   1.000000e+15   4.478018e-03"
       ]
      },
      {
       "output_type": "stream",
       "stream": "stdout",
       "text": [
        " \r",
        "0079   6.896053e+01   1.000000e+15   4.478018e-03"
       ]
      },
      {
       "output_type": "stream",
       "stream": "stdout",
       "text": [
        " \r",
        "0080   6.896053e+01   1.000000e+15   4.478018e-03"
       ]
      },
      {
       "output_type": "stream",
       "stream": "stdout",
       "text": [
        " \r",
        "0081   6.896053e+01   1.000000e+15   4.478018e-03"
       ]
      },
      {
       "output_type": "stream",
       "stream": "stdout",
       "text": [
        " \r",
        "0082   6.896053e+01   1.000000e+15   4.478018e-03"
       ]
      },
      {
       "output_type": "stream",
       "stream": "stdout",
       "text": [
        " \r",
        "0083   6.896053e+01   1.000000e+15   4.478018e-03"
       ]
      },
      {
       "output_type": "stream",
       "stream": "stdout",
       "text": [
        " \r",
        "0084   6.896053e+01   1.000000e+15   4.478018e-03"
       ]
      },
      {
       "output_type": "stream",
       "stream": "stdout",
       "text": [
        " \r",
        "0085   6.896053e+01   1.000000e+15   4.478018e-03"
       ]
      },
      {
       "output_type": "stream",
       "stream": "stdout",
       "text": [
        " \r",
        "0086   6.896053e+01   1.000000e+15   4.478018e-03"
       ]
      },
      {
       "output_type": "stream",
       "stream": "stdout",
       "text": [
        " \r",
        "0087   6.896053e+01   1.000000e+15   4.478018e-03"
       ]
      },
      {
       "output_type": "stream",
       "stream": "stdout",
       "text": [
        " \r",
        "0088   6.896053e+01   1.000000e+15   4.478018e-03"
       ]
      },
      {
       "output_type": "stream",
       "stream": "stdout",
       "text": [
        " \r",
        "0089   6.896053e+01   1.000000e+15   4.478018e-03"
       ]
      },
      {
       "output_type": "stream",
       "stream": "stdout",
       "text": [
        " \r",
        "0090   6.896053e+01   1.000000e+15   4.478018e-03"
       ]
      },
      {
       "output_type": "stream",
       "stream": "stdout",
       "text": [
        " \r",
        "0091   6.896053e+01   1.000000e+15   4.478018e-03"
       ]
      },
      {
       "output_type": "stream",
       "stream": "stdout",
       "text": [
        " \r",
        "0092   6.896053e+01   1.000000e+15   4.478018e-03"
       ]
      },
      {
       "output_type": "stream",
       "stream": "stdout",
       "text": [
        " \n",
        "\r",
        "0093   6.896053e+01   1.000000e+15   4.478018e-03"
       ]
      },
      {
       "output_type": "stream",
       "stream": "stdout",
       "text": [
        " \r",
        "0094   6.896053e+01   1.000000e+15   4.478018e-03"
       ]
      },
      {
       "output_type": "stream",
       "stream": "stdout",
       "text": [
        " \r",
        "0095   6.896053e+01   1.000000e+15   4.478018e-03"
       ]
      },
      {
       "output_type": "stream",
       "stream": "stdout",
       "text": [
        " \r",
        "0096   6.896053e+01   1.000000e+15   4.478018e-03"
       ]
      },
      {
       "output_type": "stream",
       "stream": "stdout",
       "text": [
        " \r",
        "0097   6.896053e+01   1.000000e+15   4.478018e-03"
       ]
      },
      {
       "output_type": "stream",
       "stream": "stdout",
       "text": [
        " \r",
        "0098   6.896053e+01   1.000000e+15   4.478018e-03"
       ]
      },
      {
       "output_type": "stream",
       "stream": "stdout",
       "text": [
        " \r",
        "0099   6.896053e+01   1.000000e+15   4.478018e-03"
       ]
      },
      {
       "output_type": "stream",
       "stream": "stdout",
       "text": [
        " \r",
        "0100   6.896053e+01   1.000000e+15   4.478018e-03"
       ]
      },
      {
       "output_type": "stream",
       "stream": "stdout",
       "text": [
        " \r",
        "0101   6.896053e+01   1.000000e+15   4.478018e-03"
       ]
      },
      {
       "output_type": "stream",
       "stream": "stdout",
       "text": [
        " \r",
        "0102   6.896053e+01   1.000000e+15   4.478018e-03"
       ]
      },
      {
       "output_type": "stream",
       "stream": "stdout",
       "text": [
        " \r",
        "0103   6.896053e+01   1.000000e+15   4.478018e-03"
       ]
      },
      {
       "output_type": "stream",
       "stream": "stdout",
       "text": [
        " \r",
        "0104   6.896053e+01   1.000000e+15   4.478018e-03"
       ]
      },
      {
       "output_type": "stream",
       "stream": "stdout",
       "text": [
        " \r",
        "0105   6.896053e+01   1.000000e+15   4.478018e-03"
       ]
      },
      {
       "output_type": "stream",
       "stream": "stdout",
       "text": [
        " \r",
        "0106   6.896053e+01   1.000000e+15   4.478018e-03"
       ]
      },
      {
       "output_type": "stream",
       "stream": "stdout",
       "text": [
        " \r",
        "0107   6.896053e+01   1.000000e+15   4.478018e-03"
       ]
      },
      {
       "output_type": "stream",
       "stream": "stdout",
       "text": [
        " \r",
        "0108   6.896053e+01   1.000000e+15   4.478018e-03"
       ]
      },
      {
       "output_type": "stream",
       "stream": "stdout",
       "text": [
        " \r",
        "0109   6.896053e+01   1.000000e+15   4.478018e-03"
       ]
      },
      {
       "output_type": "stream",
       "stream": "stdout",
       "text": [
        " \r",
        "0110   6.896053e+01   1.000000e+15   4.478018e-03"
       ]
      },
      {
       "output_type": "stream",
       "stream": "stdout",
       "text": [
        " \r",
        "0111   6.896053e+01   1.000000e+15   4.478018e-03"
       ]
      },
      {
       "output_type": "stream",
       "stream": "stdout",
       "text": [
        " \r",
        "0112   6.896053e+01   1.000000e+15   4.478018e-03"
       ]
      },
      {
       "output_type": "stream",
       "stream": "stdout",
       "text": [
        " \r",
        "0113   6.896053e+01   1.000000e+15   4.478018e-03"
       ]
      },
      {
       "output_type": "stream",
       "stream": "stdout",
       "text": [
        " \r",
        "0114   6.896053e+01   1.000000e+15   4.478018e-03"
       ]
      },
      {
       "output_type": "stream",
       "stream": "stdout",
       "text": [
        " \r",
        "0115   6.896053e+01   1.000000e+15   4.478018e-03"
       ]
      },
      {
       "output_type": "stream",
       "stream": "stdout",
       "text": [
        " \r",
        "0116   6.896053e+01   1.000000e+15   4.478018e-03"
       ]
      },
      {
       "output_type": "stream",
       "stream": "stdout",
       "text": [
        " \r",
        "0117   6.896053e+01   1.000000e+15   4.478018e-03"
       ]
      },
      {
       "output_type": "stream",
       "stream": "stdout",
       "text": [
        " \r",
        "0118   6.896053e+01   1.000000e+15   4.478018e-03"
       ]
      },
      {
       "output_type": "stream",
       "stream": "stdout",
       "text": [
        " \r",
        "0119   6.896053e+01   1.000000e+15   4.478018e-03"
       ]
      },
      {
       "output_type": "stream",
       "stream": "stdout",
       "text": [
        " \r",
        "0120   6.896053e+01   1.000000e+15   4.478018e-03"
       ]
      },
      {
       "output_type": "stream",
       "stream": "stdout",
       "text": [
        " \r",
        "0121   6.896053e+01   1.000000e+15   4.478018e-03"
       ]
      },
      {
       "output_type": "stream",
       "stream": "stdout",
       "text": [
        " \r",
        "0122   6.896053e+01   1.000000e+15   4.478018e-03"
       ]
      },
      {
       "output_type": "stream",
       "stream": "stdout",
       "text": [
        " \r",
        "0123   6.896053e+01   1.000000e+15   4.478018e-03"
       ]
      },
      {
       "output_type": "stream",
       "stream": "stdout",
       "text": [
        " \r",
        "0124   6.896053e+01   1.000000e+15   4.478018e-03"
       ]
      },
      {
       "output_type": "stream",
       "stream": "stdout",
       "text": [
        " \r",
        "0125   6.896053e+01   1.000000e+15   4.478018e-03"
       ]
      },
      {
       "output_type": "stream",
       "stream": "stdout",
       "text": [
        " \r",
        "0126   6.896053e+01   1.000000e+15   4.478018e-03"
       ]
      },
      {
       "output_type": "stream",
       "stream": "stdout",
       "text": [
        " \r",
        "0127   6.896053e+01   1.000000e+15   4.478018e-03"
       ]
      },
      {
       "output_type": "stream",
       "stream": "stdout",
       "text": [
        " \r",
        "0128   6.896053e+01   1.000000e+15   4.478018e-03"
       ]
      },
      {
       "output_type": "stream",
       "stream": "stdout",
       "text": [
        " \r",
        "0129   6.896053e+01   1.000000e+15   4.478018e-03"
       ]
      },
      {
       "output_type": "stream",
       "stream": "stdout",
       "text": [
        " \r",
        "0130   6.896053e+01   1.000000e+15   4.478018e-03"
       ]
      },
      {
       "output_type": "stream",
       "stream": "stdout",
       "text": [
        " \r",
        "0131   6.896053e+01   1.000000e+15   4.478018e-03"
       ]
      },
      {
       "output_type": "stream",
       "stream": "stdout",
       "text": [
        " \r",
        "0132   6.896053e+01   1.000000e+15   4.478018e-03"
       ]
      },
      {
       "output_type": "stream",
       "stream": "stdout",
       "text": [
        " \r",
        "0133   6.896053e+01   1.000000e+15   4.478018e-03"
       ]
      },
      {
       "output_type": "stream",
       "stream": "stdout",
       "text": [
        " \r",
        "0134   6.896053e+01   1.000000e+15   4.478018e-03"
       ]
      },
      {
       "output_type": "stream",
       "stream": "stdout",
       "text": [
        " \r",
        "0135   6.896053e+01   1.000000e+15   4.478018e-03"
       ]
      },
      {
       "output_type": "stream",
       "stream": "stdout",
       "text": [
        " \r",
        "0136   6.896053e+01   1.000000e+15   4.478018e-03"
       ]
      },
      {
       "output_type": "stream",
       "stream": "stdout",
       "text": [
        " \r",
        "0137   6.896053e+01   1.000000e+15   4.478018e-03"
       ]
      },
      {
       "output_type": "stream",
       "stream": "stdout",
       "text": [
        " \r",
        "0138   6.896053e+01   1.000000e+15   4.478018e-03"
       ]
      },
      {
       "output_type": "stream",
       "stream": "stdout",
       "text": [
        " \r",
        "0139   6.896053e+01   1.000000e+15   4.478018e-03"
       ]
      },
      {
       "output_type": "stream",
       "stream": "stdout",
       "text": [
        " \r",
        "0140   6.896053e+01   1.000000e+15   4.478018e-03"
       ]
      },
      {
       "output_type": "stream",
       "stream": "stdout",
       "text": [
        " \r",
        "0141   6.896053e+01   1.000000e+15   4.478018e-03"
       ]
      },
      {
       "output_type": "stream",
       "stream": "stdout",
       "text": [
        " \r",
        "0142   6.896053e+01   1.000000e+15   4.478018e-03"
       ]
      },
      {
       "output_type": "stream",
       "stream": "stdout",
       "text": [
        " \r",
        "0143   6.896053e+01   1.000000e+15   4.478018e-03"
       ]
      },
      {
       "output_type": "stream",
       "stream": "stdout",
       "text": [
        " \r",
        "0144   6.896053e+01   1.000000e+15   4.478018e-03"
       ]
      },
      {
       "output_type": "stream",
       "stream": "stdout",
       "text": [
        " \r",
        "0145   6.896053e+01   1.000000e+15   4.478018e-03"
       ]
      },
      {
       "output_type": "stream",
       "stream": "stdout",
       "text": [
        " \r",
        "0146   6.896053e+01   1.000000e+15   4.478018e-03"
       ]
      },
      {
       "output_type": "stream",
       "stream": "stdout",
       "text": [
        " \r",
        "0147   6.896053e+01   1.000000e+15   4.478018e-03"
       ]
      },
      {
       "output_type": "stream",
       "stream": "stdout",
       "text": [
        " \r",
        "0148   6.896053e+01   1.000000e+15   4.478018e-03"
       ]
      },
      {
       "output_type": "stream",
       "stream": "stdout",
       "text": [
        " \r",
        "0149   6.896053e+01   1.000000e+15   4.478018e-03"
       ]
      },
      {
       "output_type": "stream",
       "stream": "stdout",
       "text": [
        " \r",
        "0150   6.896053e+01   1.000000e+15   4.478018e-03"
       ]
      },
      {
       "output_type": "stream",
       "stream": "stdout",
       "text": [
        " \r",
        "0151   6.896053e+01   1.000000e+15   4.478018e-03"
       ]
      },
      {
       "output_type": "stream",
       "stream": "stdout",
       "text": [
        " \r",
        "0152   6.896053e+01   1.000000e+15   4.478018e-03"
       ]
      },
      {
       "output_type": "stream",
       "stream": "stdout",
       "text": [
        " \r",
        "0153   6.896053e+01   1.000000e+15   4.478018e-03"
       ]
      },
      {
       "output_type": "stream",
       "stream": "stdout",
       "text": [
        " \r",
        "0154   6.896053e+01   1.000000e+15   4.478018e-03"
       ]
      },
      {
       "output_type": "stream",
       "stream": "stdout",
       "text": [
        " \r",
        "0155   6.896053e+01   1.000000e+15   4.478018e-03"
       ]
      },
      {
       "output_type": "stream",
       "stream": "stdout",
       "text": [
        " \r",
        "0156   6.896053e+01   1.000000e+15   4.478018e-03"
       ]
      },
      {
       "output_type": "stream",
       "stream": "stdout",
       "text": [
        " \r",
        "0157   6.896053e+01   1.000000e+15   4.478018e-03"
       ]
      },
      {
       "output_type": "stream",
       "stream": "stdout",
       "text": [
        " \r",
        "0158   6.896053e+01   1.000000e+15   4.478018e-03"
       ]
      },
      {
       "output_type": "stream",
       "stream": "stdout",
       "text": [
        " \r",
        "0159   6.896053e+01   1.000000e+15   4.478018e-03"
       ]
      },
      {
       "output_type": "stream",
       "stream": "stdout",
       "text": [
        " \r",
        "0160   6.896053e+01   1.000000e+15   4.478018e-03"
       ]
      },
      {
       "output_type": "stream",
       "stream": "stdout",
       "text": [
        " \r",
        "0161   6.896053e+01   1.000000e+15   4.478018e-03"
       ]
      },
      {
       "output_type": "stream",
       "stream": "stdout",
       "text": [
        " \r",
        "0162   6.896053e+01   1.000000e+15   4.478018e-03"
       ]
      },
      {
       "output_type": "stream",
       "stream": "stdout",
       "text": [
        " \r",
        "0163   6.896053e+01   1.000000e+15   4.478018e-03"
       ]
      },
      {
       "output_type": "stream",
       "stream": "stdout",
       "text": [
        " \r",
        "0164   6.896053e+01   1.000000e+15   4.478018e-03"
       ]
      },
      {
       "output_type": "stream",
       "stream": "stdout",
       "text": [
        " \r",
        "0165   6.896053e+01   1.000000e+15   4.478018e-03"
       ]
      },
      {
       "output_type": "stream",
       "stream": "stdout",
       "text": [
        " \r",
        "0166   6.896053e+01   1.000000e+15   4.478018e-03"
       ]
      },
      {
       "output_type": "stream",
       "stream": "stdout",
       "text": [
        " \r",
        "0167   6.896053e+01   1.000000e+15   4.478018e-03"
       ]
      },
      {
       "output_type": "stream",
       "stream": "stdout",
       "text": [
        " \r",
        "0168   6.896053e+01   1.000000e+15   4.478018e-03"
       ]
      },
      {
       "output_type": "stream",
       "stream": "stdout",
       "text": [
        " \r",
        "0169   6.896053e+01   1.000000e+15   4.478018e-03"
       ]
      },
      {
       "output_type": "stream",
       "stream": "stdout",
       "text": [
        " \r",
        "0170   6.896053e+01   1.000000e+15   4.478018e-03"
       ]
      },
      {
       "output_type": "stream",
       "stream": "stdout",
       "text": [
        " \r",
        "0171   6.896053e+01   1.000000e+15   4.478018e-03"
       ]
      },
      {
       "output_type": "stream",
       "stream": "stdout",
       "text": [
        " \r",
        "0172   6.896053e+01   1.000000e+15   4.478018e-03"
       ]
      },
      {
       "output_type": "stream",
       "stream": "stdout",
       "text": [
        " \r",
        "0173   6.896053e+01   1.000000e+15   4.478018e-03"
       ]
      },
      {
       "output_type": "stream",
       "stream": "stdout",
       "text": [
        " \r",
        "0174   6.896053e+01   1.000000e+15   4.478018e-03"
       ]
      },
      {
       "output_type": "stream",
       "stream": "stdout",
       "text": [
        " \r",
        "0175   6.896053e+01   1.000000e+15   4.478018e-03"
       ]
      },
      {
       "output_type": "stream",
       "stream": "stdout",
       "text": [
        " \r",
        "0176   6.896053e+01   1.000000e+15   4.478018e-03"
       ]
      },
      {
       "output_type": "stream",
       "stream": "stdout",
       "text": [
        " \r",
        "0177   6.896053e+01   1.000000e+15   4.478018e-03"
       ]
      },
      {
       "output_type": "stream",
       "stream": "stdout",
       "text": [
        " \r",
        "0178   6.896053e+01   1.000000e+15   4.478018e-03"
       ]
      },
      {
       "output_type": "stream",
       "stream": "stdout",
       "text": [
        " \r",
        "0179   6.896053e+01   1.000000e+15   4.478018e-03"
       ]
      },
      {
       "output_type": "stream",
       "stream": "stdout",
       "text": [
        " \r",
        "0180   6.896053e+01   1.000000e+15   4.478018e-03"
       ]
      },
      {
       "output_type": "stream",
       "stream": "stdout",
       "text": [
        " \r",
        "0181   6.896053e+01   1.000000e+15   4.478018e-03"
       ]
      },
      {
       "output_type": "stream",
       "stream": "stdout",
       "text": [
        " \r",
        "0182   6.896053e+01   1.000000e+15   4.478018e-03"
       ]
      },
      {
       "output_type": "stream",
       "stream": "stdout",
       "text": [
        " \r",
        "0183   6.896053e+01   1.000000e+15   4.478018e-03"
       ]
      },
      {
       "output_type": "stream",
       "stream": "stdout",
       "text": [
        " \r",
        "0184   6.896053e+01   1.000000e+15   4.478018e-03"
       ]
      },
      {
       "output_type": "stream",
       "stream": "stdout",
       "text": [
        " \r",
        "0185   6.896053e+01   1.000000e+15   4.478018e-03"
       ]
      },
      {
       "output_type": "stream",
       "stream": "stdout",
       "text": [
        " \r",
        "0186   6.896053e+01   1.000000e+15   4.478018e-03"
       ]
      },
      {
       "output_type": "stream",
       "stream": "stdout",
       "text": [
        " \r",
        "0187   6.896053e+01   1.000000e+15   4.478018e-03"
       ]
      },
      {
       "output_type": "stream",
       "stream": "stdout",
       "text": [
        " \r",
        "0188   6.896053e+01   1.000000e+15   4.478018e-03"
       ]
      },
      {
       "output_type": "stream",
       "stream": "stdout",
       "text": [
        " \r",
        "0189   6.896053e+01   1.000000e+15   4.478018e-03"
       ]
      },
      {
       "output_type": "stream",
       "stream": "stdout",
       "text": [
        " \r",
        "0190   6.896053e+01   1.000000e+15   4.478018e-03"
       ]
      },
      {
       "output_type": "stream",
       "stream": "stdout",
       "text": [
        " \r",
        "0191   6.896053e+01   1.000000e+15   4.478018e-03"
       ]
      },
      {
       "output_type": "stream",
       "stream": "stdout",
       "text": [
        " \r",
        "0192   6.896053e+01   1.000000e+15   4.478018e-03"
       ]
      },
      {
       "output_type": "stream",
       "stream": "stdout",
       "text": [
        " \r",
        "0193   6.896053e+01   1.000000e+15   4.478018e-03"
       ]
      },
      {
       "output_type": "stream",
       "stream": "stdout",
       "text": [
        " \r",
        "0194   6.896053e+01   1.000000e+15   4.478018e-03"
       ]
      },
      {
       "output_type": "stream",
       "stream": "stdout",
       "text": [
        " \r",
        "0195   6.896053e+01   1.000000e+15   4.478018e-03"
       ]
      },
      {
       "output_type": "stream",
       "stream": "stdout",
       "text": [
        " \r",
        "0196   6.896053e+01   1.000000e+15   4.478018e-03"
       ]
      },
      {
       "output_type": "stream",
       "stream": "stdout",
       "text": [
        " \r",
        "0197   6.896053e+01   1.000000e+15   4.478018e-03"
       ]
      },
      {
       "output_type": "stream",
       "stream": "stdout",
       "text": [
        " \r",
        "0198   6.896053e+01   1.000000e+15   4.478018e-03"
       ]
      },
      {
       "output_type": "stream",
       "stream": "stdout",
       "text": [
        " \r",
        "0199   6.896053e+01   1.000000e+15   4.478018e-03"
       ]
      },
      {
       "output_type": "stream",
       "stream": "stdout",
       "text": [
        " \r",
        "0200   6.896053e+01   1.000000e+15   4.478018e-03"
       ]
      },
      {
       "output_type": "stream",
       "stream": "stdout",
       "text": [
        " \r",
        "0201   6.896053e+01   1.000000e+15   4.478018e-03"
       ]
      },
      {
       "output_type": "stream",
       "stream": "stdout",
       "text": [
        " \r",
        "0202   6.896053e+01   1.000000e+15   4.478018e-03"
       ]
      },
      {
       "output_type": "stream",
       "stream": "stdout",
       "text": [
        " \r",
        "0203   6.896053e+01   1.000000e+15   4.478018e-03"
       ]
      },
      {
       "output_type": "stream",
       "stream": "stdout",
       "text": [
        " \r",
        "0204   6.896053e+01   1.000000e+15   4.478018e-03"
       ]
      },
      {
       "output_type": "stream",
       "stream": "stdout",
       "text": [
        " \r",
        "0205   6.896053e+01   1.000000e+15   4.478018e-03"
       ]
      },
      {
       "output_type": "stream",
       "stream": "stdout",
       "text": [
        " \r",
        "0206   6.896053e+01   1.000000e+15   4.478018e-03"
       ]
      },
      {
       "output_type": "stream",
       "stream": "stdout",
       "text": [
        " \r",
        "0207   6.896053e+01   1.000000e+15   4.478018e-03"
       ]
      },
      {
       "output_type": "stream",
       "stream": "stdout",
       "text": [
        " \r",
        "0208   6.896053e+01   1.000000e+15   4.478018e-03"
       ]
      },
      {
       "output_type": "stream",
       "stream": "stdout",
       "text": [
        " \r",
        "0209   6.896053e+01   1.000000e+15   4.478018e-03"
       ]
      },
      {
       "output_type": "stream",
       "stream": "stdout",
       "text": [
        " \r",
        "0210   6.896053e+01   1.000000e+15   4.478018e-03"
       ]
      },
      {
       "output_type": "stream",
       "stream": "stdout",
       "text": [
        " \r",
        "0211   6.896053e+01   1.000000e+15   4.478018e-03"
       ]
      },
      {
       "output_type": "stream",
       "stream": "stdout",
       "text": [
        " \r",
        "0212   6.896053e+01   1.000000e+15   4.478018e-03"
       ]
      },
      {
       "output_type": "stream",
       "stream": "stdout",
       "text": [
        " \r",
        "0213   6.896053e+01   1.000000e+15   4.478018e-03"
       ]
      },
      {
       "output_type": "stream",
       "stream": "stdout",
       "text": [
        " \r",
        "0214   6.896053e+01   1.000000e+15   4.478018e-03"
       ]
      },
      {
       "output_type": "stream",
       "stream": "stdout",
       "text": [
        " \r",
        "0215   6.896053e+01   1.000000e+15   4.478018e-03"
       ]
      },
      {
       "output_type": "stream",
       "stream": "stdout",
       "text": [
        " \r",
        "0216   6.896053e+01   1.000000e+15   4.478018e-03"
       ]
      },
      {
       "output_type": "stream",
       "stream": "stdout",
       "text": [
        " \r",
        "0217   6.896053e+01   1.000000e+15   4.478018e-03"
       ]
      },
      {
       "output_type": "stream",
       "stream": "stdout",
       "text": [
        " \r",
        "0218   6.896053e+01   1.000000e+15   4.478018e-03"
       ]
      },
      {
       "output_type": "stream",
       "stream": "stdout",
       "text": [
        " \r",
        "0219   6.896053e+01   1.000000e+15   4.478018e-03"
       ]
      },
      {
       "output_type": "stream",
       "stream": "stdout",
       "text": [
        " \r",
        "0220   6.896053e+01   1.000000e+15   4.478018e-03"
       ]
      },
      {
       "output_type": "stream",
       "stream": "stdout",
       "text": [
        " \r",
        "0221   6.896053e+01   1.000000e+15   4.478018e-03"
       ]
      },
      {
       "output_type": "stream",
       "stream": "stdout",
       "text": [
        " \r",
        "0222   6.896053e+01   1.000000e+15   4.478018e-03"
       ]
      },
      {
       "output_type": "stream",
       "stream": "stdout",
       "text": [
        " \r",
        "0223   6.896053e+01   1.000000e+15   4.478018e-03"
       ]
      },
      {
       "output_type": "stream",
       "stream": "stdout",
       "text": [
        " \r",
        "0224   6.896053e+01   1.000000e+15   4.478018e-03"
       ]
      },
      {
       "output_type": "stream",
       "stream": "stdout",
       "text": [
        " \r",
        "0225   6.896053e+01   1.000000e+15   4.478018e-03"
       ]
      },
      {
       "output_type": "stream",
       "stream": "stdout",
       "text": [
        " \r",
        "0226   6.896053e+01   1.000000e+15   4.478018e-03"
       ]
      },
      {
       "output_type": "stream",
       "stream": "stdout",
       "text": [
        " \r",
        "0227   6.896053e+01   1.000000e+15   4.478018e-03"
       ]
      },
      {
       "output_type": "stream",
       "stream": "stdout",
       "text": [
        " \r",
        "0228   6.896053e+01   1.000000e+15   4.478018e-03"
       ]
      },
      {
       "output_type": "stream",
       "stream": "stdout",
       "text": [
        " \r",
        "0229   6.896053e+01   1.000000e+15   4.478018e-03"
       ]
      },
      {
       "output_type": "stream",
       "stream": "stdout",
       "text": [
        " \r",
        "0230   6.896053e+01   1.000000e+15   4.478018e-03"
       ]
      },
      {
       "output_type": "stream",
       "stream": "stdout",
       "text": [
        " \r",
        "0231   6.896053e+01   1.000000e+15   4.478018e-03"
       ]
      },
      {
       "output_type": "stream",
       "stream": "stdout",
       "text": [
        " \r",
        "0232   6.896053e+01   1.000000e+15   4.478018e-03"
       ]
      },
      {
       "output_type": "stream",
       "stream": "stdout",
       "text": [
        " \r",
        "0233   6.896053e+01   1.000000e+15   4.478018e-03"
       ]
      },
      {
       "output_type": "stream",
       "stream": "stdout",
       "text": [
        " \r",
        "0234   6.896053e+01   1.000000e+15   4.478018e-03"
       ]
      },
      {
       "output_type": "stream",
       "stream": "stdout",
       "text": [
        " \r",
        "0235   6.896053e+01   1.000000e+15   4.478018e-03"
       ]
      },
      {
       "output_type": "stream",
       "stream": "stdout",
       "text": [
        " \r",
        "0236   6.896053e+01   1.000000e+15   4.478018e-03"
       ]
      },
      {
       "output_type": "stream",
       "stream": "stdout",
       "text": [
        " \r",
        "0237   6.896053e+01   1.000000e+15   4.478018e-03"
       ]
      },
      {
       "output_type": "stream",
       "stream": "stdout",
       "text": [
        " \r",
        "0238   6.896053e+01   1.000000e+15   4.478018e-03"
       ]
      },
      {
       "output_type": "stream",
       "stream": "stdout",
       "text": [
        " \r",
        "0239   6.896053e+01   1.000000e+15   4.478018e-03"
       ]
      },
      {
       "output_type": "stream",
       "stream": "stdout",
       "text": [
        " \r",
        "0240   6.896053e+01   1.000000e+15   4.478018e-03"
       ]
      },
      {
       "output_type": "stream",
       "stream": "stdout",
       "text": [
        " \r",
        "0241   6.896053e+01   1.000000e+15   4.478018e-03"
       ]
      },
      {
       "output_type": "stream",
       "stream": "stdout",
       "text": [
        " \r",
        "0242   6.896053e+01   1.000000e+15   4.478018e-03"
       ]
      },
      {
       "output_type": "stream",
       "stream": "stdout",
       "text": [
        " \r",
        "0243   6.896053e+01   1.000000e+15   4.478018e-03"
       ]
      },
      {
       "output_type": "stream",
       "stream": "stdout",
       "text": [
        " \r",
        "0244   6.896053e+01   1.000000e+15   4.478018e-03"
       ]
      },
      {
       "output_type": "stream",
       "stream": "stdout",
       "text": [
        " \r",
        "0245   6.896053e+01   1.000000e+15   4.478018e-03"
       ]
      },
      {
       "output_type": "stream",
       "stream": "stdout",
       "text": [
        " \r",
        "0246   6.896053e+01   1.000000e+15   4.478018e-03"
       ]
      },
      {
       "output_type": "stream",
       "stream": "stdout",
       "text": [
        " \r",
        "0247   6.896053e+01   1.000000e+15   4.478018e-03"
       ]
      },
      {
       "output_type": "stream",
       "stream": "stdout",
       "text": [
        " \r",
        "0248   6.896053e+01   1.000000e+15   4.478018e-03"
       ]
      },
      {
       "output_type": "stream",
       "stream": "stdout",
       "text": [
        " \r",
        "0249   6.896053e+01   1.000000e+15   4.478018e-03"
       ]
      },
      {
       "output_type": "stream",
       "stream": "stdout",
       "text": [
        " \r",
        "0250   6.896053e+01   1.000000e+15   4.478018e-03"
       ]
      },
      {
       "output_type": "stream",
       "stream": "stdout",
       "text": [
        " \r",
        "0251   6.896053e+01   1.000000e+15   4.478018e-03"
       ]
      },
      {
       "output_type": "stream",
       "stream": "stdout",
       "text": [
        " \r",
        "0252   6.896053e+01   1.000000e+15   4.478018e-03"
       ]
      },
      {
       "output_type": "stream",
       "stream": "stdout",
       "text": [
        " \r",
        "0253   6.896053e+01   1.000000e+15   4.478018e-03"
       ]
      },
      {
       "output_type": "stream",
       "stream": "stdout",
       "text": [
        " \r",
        "0254   6.896053e+01   1.000000e+15   4.478018e-03"
       ]
      },
      {
       "output_type": "stream",
       "stream": "stdout",
       "text": [
        " \r",
        "0255   6.896053e+01   1.000000e+15   4.478018e-03"
       ]
      },
      {
       "output_type": "stream",
       "stream": "stdout",
       "text": [
        " \r",
        "0256   6.896053e+01   1.000000e+15   4.478018e-03"
       ]
      },
      {
       "output_type": "stream",
       "stream": "stdout",
       "text": [
        " \n",
        "\r",
        "0257   6.896053e+01   1.000000e+15   4.478018e-03"
       ]
      },
      {
       "output_type": "stream",
       "stream": "stdout",
       "text": [
        " \r",
        "0258   6.896053e+01   1.000000e+15   4.478018e-03"
       ]
      },
      {
       "output_type": "stream",
       "stream": "stdout",
       "text": [
        " \r",
        "0259   6.896053e+01   1.000000e+15   4.478018e-03"
       ]
      },
      {
       "output_type": "stream",
       "stream": "stdout",
       "text": [
        " \r",
        "0260   6.896053e+01   1.000000e+15   4.478018e-03"
       ]
      },
      {
       "output_type": "stream",
       "stream": "stdout",
       "text": [
        " \r",
        "0261   6.896053e+01   1.000000e+15   4.478018e-03"
       ]
      },
      {
       "output_type": "stream",
       "stream": "stdout",
       "text": [
        " \r",
        "0262   6.896053e+01   1.000000e+15   4.478018e-03"
       ]
      },
      {
       "output_type": "stream",
       "stream": "stdout",
       "text": [
        " \r",
        "0263   6.896053e+01   1.000000e+15   4.478018e-03"
       ]
      },
      {
       "output_type": "stream",
       "stream": "stdout",
       "text": [
        " \r",
        "0264   6.896053e+01   1.000000e+15   4.478018e-03"
       ]
      },
      {
       "output_type": "stream",
       "stream": "stdout",
       "text": [
        " \r",
        "0265   6.896053e+01   1.000000e+15   4.478018e-03"
       ]
      },
      {
       "output_type": "stream",
       "stream": "stdout",
       "text": [
        " \r",
        "0266   6.896053e+01   1.000000e+15   4.478018e-03"
       ]
      },
      {
       "output_type": "stream",
       "stream": "stdout",
       "text": [
        " \r",
        "0267   6.896053e+01   1.000000e+15   4.478018e-03"
       ]
      },
      {
       "output_type": "stream",
       "stream": "stdout",
       "text": [
        " \r",
        "0268   6.896053e+01   1.000000e+15   4.478018e-03"
       ]
      },
      {
       "output_type": "stream",
       "stream": "stdout",
       "text": [
        " \r",
        "0269   6.896053e+01   1.000000e+15   4.478018e-03"
       ]
      },
      {
       "output_type": "stream",
       "stream": "stdout",
       "text": [
        " \r",
        "0270   6.896053e+01   1.000000e+15   4.478018e-03"
       ]
      },
      {
       "output_type": "stream",
       "stream": "stdout",
       "text": [
        " \r",
        "0271   6.896053e+01   1.000000e+15   4.478018e-03"
       ]
      },
      {
       "output_type": "stream",
       "stream": "stdout",
       "text": [
        " \r",
        "0272   6.896053e+01   1.000000e+15   4.478018e-03"
       ]
      },
      {
       "output_type": "stream",
       "stream": "stdout",
       "text": [
        " \r",
        "0273   6.896053e+01   1.000000e+15   4.478018e-03"
       ]
      },
      {
       "output_type": "stream",
       "stream": "stdout",
       "text": [
        " \r",
        "0274   6.896053e+01   1.000000e+15   4.478018e-03"
       ]
      },
      {
       "output_type": "stream",
       "stream": "stdout",
       "text": [
        " \r",
        "0275   6.896053e+01   1.000000e+15   4.478018e-03"
       ]
      },
      {
       "output_type": "stream",
       "stream": "stdout",
       "text": [
        " \r",
        "0276   6.896053e+01   1.000000e+15   4.478018e-03"
       ]
      },
      {
       "output_type": "stream",
       "stream": "stdout",
       "text": [
        " \r",
        "0277   6.896053e+01   1.000000e+15   4.478018e-03"
       ]
      },
      {
       "output_type": "stream",
       "stream": "stdout",
       "text": [
        " \r",
        "0278   6.896053e+01   1.000000e+15   4.478018e-03"
       ]
      },
      {
       "output_type": "stream",
       "stream": "stdout",
       "text": [
        " \r",
        "0279   6.896053e+01   1.000000e+15   4.478018e-03"
       ]
      },
      {
       "output_type": "stream",
       "stream": "stdout",
       "text": [
        " \r",
        "0280   6.896053e+01   1.000000e+15   4.478018e-03"
       ]
      },
      {
       "output_type": "stream",
       "stream": "stdout",
       "text": [
        " \r",
        "0281   6.896053e+01   1.000000e+15   4.478018e-03"
       ]
      },
      {
       "output_type": "stream",
       "stream": "stdout",
       "text": [
        " \r",
        "0282   6.896053e+01   1.000000e+15   4.478018e-03"
       ]
      },
      {
       "output_type": "stream",
       "stream": "stdout",
       "text": [
        " \r",
        "0283   6.896053e+01   1.000000e+15   4.478018e-03"
       ]
      },
      {
       "output_type": "stream",
       "stream": "stdout",
       "text": [
        " \r",
        "0284   6.896053e+01   1.000000e+15   4.478018e-03"
       ]
      },
      {
       "output_type": "stream",
       "stream": "stdout",
       "text": [
        " \r",
        "0285   6.896053e+01   1.000000e+15   4.478018e-03"
       ]
      },
      {
       "output_type": "stream",
       "stream": "stdout",
       "text": [
        " \r",
        "0286   6.896053e+01   1.000000e+15   4.478018e-03"
       ]
      },
      {
       "output_type": "stream",
       "stream": "stdout",
       "text": [
        " \r",
        "0287   6.896053e+01   1.000000e+15   4.478018e-03"
       ]
      },
      {
       "output_type": "stream",
       "stream": "stdout",
       "text": [
        " \r",
        "0288   6.896053e+01   1.000000e+15   4.478018e-03"
       ]
      },
      {
       "output_type": "stream",
       "stream": "stdout",
       "text": [
        " \r",
        "0289   6.896053e+01   1.000000e+15   4.478018e-03"
       ]
      },
      {
       "output_type": "stream",
       "stream": "stdout",
       "text": [
        " \r",
        "0290   6.896053e+01   1.000000e+15   4.478018e-03"
       ]
      },
      {
       "output_type": "stream",
       "stream": "stdout",
       "text": [
        " \r",
        "0291   6.896053e+01   1.000000e+15   4.478018e-03"
       ]
      },
      {
       "output_type": "stream",
       "stream": "stdout",
       "text": [
        " \r",
        "0292   6.896053e+01   1.000000e+15   4.478018e-03"
       ]
      },
      {
       "output_type": "stream",
       "stream": "stdout",
       "text": [
        " \r",
        "0293   6.896053e+01   1.000000e+15   4.478018e-03"
       ]
      },
      {
       "output_type": "stream",
       "stream": "stdout",
       "text": [
        " \r",
        "0294   6.896053e+01   1.000000e+15   4.478018e-03"
       ]
      },
      {
       "output_type": "stream",
       "stream": "stdout",
       "text": [
        " \r",
        "0295   6.896053e+01   1.000000e+15   4.478018e-03"
       ]
      },
      {
       "output_type": "stream",
       "stream": "stdout",
       "text": [
        " \r",
        "0296   6.896053e+01   1.000000e+15   4.478018e-03"
       ]
      },
      {
       "output_type": "stream",
       "stream": "stdout",
       "text": [
        " \r",
        "0297   6.896053e+01   1.000000e+15   4.478018e-03"
       ]
      },
      {
       "output_type": "stream",
       "stream": "stdout",
       "text": [
        " \r",
        "0298   6.896053e+01   1.000000e+15   4.478018e-03"
       ]
      },
      {
       "output_type": "stream",
       "stream": "stdout",
       "text": [
        " \r",
        "0299   6.896053e+01   1.000000e+15   4.478018e-03"
       ]
      },
      {
       "output_type": "stream",
       "stream": "stdout",
       "text": [
        " \r",
        "0300   6.896053e+01   1.000000e+15   4.478018e-03"
       ]
      },
      {
       "output_type": "stream",
       "stream": "stdout",
       "text": [
        " \r",
        "0301   6.896053e+01   1.000000e+15   4.478018e-03"
       ]
      },
      {
       "output_type": "stream",
       "stream": "stdout",
       "text": [
        " \r",
        "0302   6.896053e+01   1.000000e+15   4.478018e-03"
       ]
      },
      {
       "output_type": "stream",
       "stream": "stdout",
       "text": [
        " \r",
        "0303   6.896053e+01   1.000000e+15   4.478018e-03"
       ]
      },
      {
       "output_type": "stream",
       "stream": "stdout",
       "text": [
        " \r",
        "0304   6.896053e+01   1.000000e+15   4.478018e-03"
       ]
      },
      {
       "output_type": "stream",
       "stream": "stdout",
       "text": [
        " \r",
        "0305   6.896053e+01   1.000000e+15   4.478018e-03"
       ]
      },
      {
       "output_type": "stream",
       "stream": "stdout",
       "text": [
        " \r",
        "0306   6.896053e+01   1.000000e+15   4.478018e-03"
       ]
      },
      {
       "output_type": "stream",
       "stream": "stdout",
       "text": [
        " \r",
        "0307   6.896053e+01   1.000000e+15   4.478018e-03"
       ]
      },
      {
       "output_type": "stream",
       "stream": "stdout",
       "text": [
        " \r",
        "0308   6.896053e+01   1.000000e+15   4.478018e-03"
       ]
      },
      {
       "output_type": "stream",
       "stream": "stdout",
       "text": [
        " \r",
        "0309   6.896053e+01   1.000000e+15   4.478018e-03"
       ]
      },
      {
       "output_type": "stream",
       "stream": "stdout",
       "text": [
        " \r",
        "0310   6.896053e+01   1.000000e+15   4.478018e-03"
       ]
      },
      {
       "output_type": "stream",
       "stream": "stdout",
       "text": [
        " \r",
        "0311   6.896053e+01   1.000000e+15   4.478018e-03"
       ]
      },
      {
       "output_type": "stream",
       "stream": "stdout",
       "text": [
        " \r",
        "0312   6.896053e+01   1.000000e+15   4.478018e-03"
       ]
      },
      {
       "output_type": "stream",
       "stream": "stdout",
       "text": [
        " \r",
        "0313   6.896053e+01   1.000000e+15   4.478018e-03"
       ]
      },
      {
       "output_type": "stream",
       "stream": "stdout",
       "text": [
        " \r",
        "0314   6.896053e+01   1.000000e+15   4.478018e-03"
       ]
      },
      {
       "output_type": "stream",
       "stream": "stdout",
       "text": [
        " \r",
        "0315   6.896053e+01   1.000000e+15   4.478018e-03"
       ]
      },
      {
       "output_type": "stream",
       "stream": "stdout",
       "text": [
        " \r",
        "0316   6.896053e+01   1.000000e+15   4.478018e-03"
       ]
      },
      {
       "output_type": "stream",
       "stream": "stdout",
       "text": [
        " \r",
        "0317   6.896053e+01   1.000000e+15   4.478018e-03"
       ]
      },
      {
       "output_type": "stream",
       "stream": "stdout",
       "text": [
        " \r",
        "0318   6.896053e+01   1.000000e+15   4.478018e-03"
       ]
      },
      {
       "output_type": "stream",
       "stream": "stdout",
       "text": [
        " \r",
        "0319   6.896053e+01   1.000000e+15   4.478018e-03"
       ]
      },
      {
       "output_type": "stream",
       "stream": "stdout",
       "text": [
        " \r",
        "0320   6.896053e+01   1.000000e+15   4.478018e-03"
       ]
      },
      {
       "output_type": "stream",
       "stream": "stdout",
       "text": [
        " \r",
        "0321   6.896053e+01   1.000000e+15   4.478018e-03"
       ]
      },
      {
       "output_type": "stream",
       "stream": "stdout",
       "text": [
        " \r",
        "0322   6.896053e+01   1.000000e+15   4.478018e-03"
       ]
      },
      {
       "output_type": "stream",
       "stream": "stdout",
       "text": [
        " \r",
        "0323   6.896053e+01   1.000000e+15   4.478018e-03"
       ]
      },
      {
       "output_type": "stream",
       "stream": "stdout",
       "text": [
        " \r",
        "0324   6.896053e+01   1.000000e+15   4.478018e-03"
       ]
      },
      {
       "output_type": "stream",
       "stream": "stdout",
       "text": [
        " \r",
        "0325   6.896053e+01   1.000000e+15   4.478018e-03"
       ]
      },
      {
       "output_type": "stream",
       "stream": "stdout",
       "text": [
        " \r",
        "0326   6.896053e+01   1.000000e+15   4.478018e-03"
       ]
      },
      {
       "output_type": "stream",
       "stream": "stdout",
       "text": [
        " \r",
        "0327   6.896053e+01   1.000000e+15   4.478018e-03"
       ]
      },
      {
       "output_type": "stream",
       "stream": "stdout",
       "text": [
        " \r",
        "0328   6.896053e+01   1.000000e+15   4.478018e-03"
       ]
      },
      {
       "output_type": "stream",
       "stream": "stdout",
       "text": [
        " \r",
        "0329   6.896053e+01   1.000000e+15   4.478018e-03"
       ]
      },
      {
       "output_type": "stream",
       "stream": "stdout",
       "text": [
        " \r",
        "0330   6.896053e+01   1.000000e+15   4.478018e-03"
       ]
      },
      {
       "output_type": "stream",
       "stream": "stdout",
       "text": [
        " \r",
        "0331   6.896053e+01   1.000000e+15   4.478018e-03"
       ]
      },
      {
       "output_type": "stream",
       "stream": "stdout",
       "text": [
        " \r",
        "0332   6.896053e+01   1.000000e+15   4.478018e-03"
       ]
      },
      {
       "output_type": "stream",
       "stream": "stdout",
       "text": [
        " \r",
        "0333   6.896053e+01   1.000000e+15   4.478018e-03"
       ]
      },
      {
       "output_type": "stream",
       "stream": "stdout",
       "text": [
        " \r",
        "0334   6.896053e+01   1.000000e+15   4.478018e-03"
       ]
      },
      {
       "output_type": "stream",
       "stream": "stdout",
       "text": [
        " \r",
        "0335   6.896053e+01   1.000000e+15   4.478018e-03"
       ]
      },
      {
       "output_type": "stream",
       "stream": "stdout",
       "text": [
        " \r",
        "0336   6.896053e+01   1.000000e+15   4.478018e-03"
       ]
      },
      {
       "output_type": "stream",
       "stream": "stdout",
       "text": [
        " \r",
        "0337   6.896053e+01   1.000000e+15   4.478018e-03"
       ]
      },
      {
       "output_type": "stream",
       "stream": "stdout",
       "text": [
        " \r",
        "0338   6.896053e+01   1.000000e+15   4.478018e-03"
       ]
      },
      {
       "output_type": "stream",
       "stream": "stdout",
       "text": [
        " \r",
        "0339   6.896053e+01   1.000000e+15   4.478018e-03"
       ]
      },
      {
       "output_type": "stream",
       "stream": "stdout",
       "text": [
        " \r",
        "0340   6.896053e+01   1.000000e+15   4.478018e-03"
       ]
      },
      {
       "output_type": "stream",
       "stream": "stdout",
       "text": [
        " \r",
        "0341   6.896053e+01   1.000000e+15   4.478018e-03"
       ]
      },
      {
       "output_type": "stream",
       "stream": "stdout",
       "text": [
        " \r",
        "0342   6.896053e+01   1.000000e+15   4.478018e-03"
       ]
      },
      {
       "output_type": "stream",
       "stream": "stdout",
       "text": [
        " \r",
        "0343   6.896053e+01   1.000000e+15   4.478018e-03"
       ]
      },
      {
       "output_type": "stream",
       "stream": "stdout",
       "text": [
        " \r",
        "0344   6.896053e+01   1.000000e+15   4.478018e-03"
       ]
      },
      {
       "output_type": "stream",
       "stream": "stdout",
       "text": [
        " \r",
        "0345   6.896053e+01   1.000000e+15   4.478018e-03"
       ]
      },
      {
       "output_type": "stream",
       "stream": "stdout",
       "text": [
        " \r",
        "0346   6.896053e+01   1.000000e+15   4.478018e-03"
       ]
      },
      {
       "output_type": "stream",
       "stream": "stdout",
       "text": [
        " \r",
        "0347   6.896053e+01   1.000000e+15   4.478018e-03"
       ]
      },
      {
       "output_type": "stream",
       "stream": "stdout",
       "text": [
        " \r",
        "0348   6.896053e+01   1.000000e+15   4.478018e-03"
       ]
      },
      {
       "output_type": "stream",
       "stream": "stdout",
       "text": [
        " \r",
        "0349   6.896053e+01   1.000000e+15   4.478018e-03"
       ]
      },
      {
       "output_type": "stream",
       "stream": "stdout",
       "text": [
        " \r",
        "0350   6.896053e+01   1.000000e+15   4.478018e-03"
       ]
      },
      {
       "output_type": "stream",
       "stream": "stdout",
       "text": [
        " \r",
        "0351   6.896053e+01   1.000000e+15   4.478018e-03"
       ]
      },
      {
       "output_type": "stream",
       "stream": "stdout",
       "text": [
        " \r",
        "0352   6.896053e+01   1.000000e+15   4.478018e-03"
       ]
      },
      {
       "output_type": "stream",
       "stream": "stdout",
       "text": [
        " \r",
        "0353   6.896053e+01   1.000000e+15   4.478018e-03"
       ]
      },
      {
       "output_type": "stream",
       "stream": "stdout",
       "text": [
        " \r",
        "0354   6.896053e+01   1.000000e+15   4.478018e-03"
       ]
      },
      {
       "output_type": "stream",
       "stream": "stdout",
       "text": [
        " \r",
        "0355   6.896053e+01   1.000000e+15   4.478018e-03"
       ]
      },
      {
       "output_type": "stream",
       "stream": "stdout",
       "text": [
        " \r",
        "0356   6.896053e+01   1.000000e+15   4.478018e-03"
       ]
      },
      {
       "output_type": "stream",
       "stream": "stdout",
       "text": [
        " \r",
        "0357   6.896053e+01   1.000000e+15   4.478018e-03"
       ]
      },
      {
       "output_type": "stream",
       "stream": "stdout",
       "text": [
        " \r",
        "0358   6.896053e+01   1.000000e+15   4.478018e-03"
       ]
      },
      {
       "output_type": "stream",
       "stream": "stdout",
       "text": [
        " \r",
        "0359   6.896053e+01   1.000000e+15   4.478018e-03"
       ]
      },
      {
       "output_type": "stream",
       "stream": "stdout",
       "text": [
        " \r",
        "0360   6.896053e+01   1.000000e+15   4.478018e-03"
       ]
      },
      {
       "output_type": "stream",
       "stream": "stdout",
       "text": [
        " \r",
        "0361   6.896053e+01   1.000000e+15   4.478018e-03"
       ]
      },
      {
       "output_type": "stream",
       "stream": "stdout",
       "text": [
        " \r",
        "0362   6.896053e+01   1.000000e+15   4.478018e-03"
       ]
      },
      {
       "output_type": "stream",
       "stream": "stdout",
       "text": [
        " \r",
        "0363   6.896053e+01   1.000000e+15   4.478018e-03"
       ]
      },
      {
       "output_type": "stream",
       "stream": "stdout",
       "text": [
        " \r",
        "0364   6.896053e+01   1.000000e+15   4.478018e-03"
       ]
      },
      {
       "output_type": "stream",
       "stream": "stdout",
       "text": [
        " \r",
        "0365   6.896053e+01   1.000000e+15   4.478018e-03"
       ]
      },
      {
       "output_type": "stream",
       "stream": "stdout",
       "text": [
        " \r",
        "0366   6.896053e+01   1.000000e+15   4.478018e-03"
       ]
      },
      {
       "output_type": "stream",
       "stream": "stdout",
       "text": [
        " \r",
        "0367   6.896053e+01   1.000000e+15   4.478018e-03"
       ]
      },
      {
       "output_type": "stream",
       "stream": "stdout",
       "text": [
        " \r",
        "0368   6.896053e+01   1.000000e+15   4.478018e-03"
       ]
      },
      {
       "output_type": "stream",
       "stream": "stdout",
       "text": [
        " \r",
        "0369   6.896053e+01   1.000000e+15   4.478018e-03"
       ]
      },
      {
       "output_type": "stream",
       "stream": "stdout",
       "text": [
        " \r",
        "0370   6.896053e+01   1.000000e+15   4.478018e-03"
       ]
      },
      {
       "output_type": "stream",
       "stream": "stdout",
       "text": [
        " \r",
        "0371   6.896053e+01   1.000000e+15   4.478018e-03"
       ]
      },
      {
       "output_type": "stream",
       "stream": "stdout",
       "text": [
        " \r",
        "0372   6.896053e+01   1.000000e+15   4.478018e-03"
       ]
      },
      {
       "output_type": "stream",
       "stream": "stdout",
       "text": [
        " \r",
        "0373   6.896053e+01   1.000000e+15   4.478018e-03"
       ]
      },
      {
       "output_type": "stream",
       "stream": "stdout",
       "text": [
        " \r",
        "0374   6.896053e+01   1.000000e+15   4.478018e-03"
       ]
      },
      {
       "output_type": "stream",
       "stream": "stdout",
       "text": [
        " \r",
        "0375   6.896053e+01   1.000000e+15   4.478018e-03"
       ]
      },
      {
       "output_type": "stream",
       "stream": "stdout",
       "text": [
        " \r",
        "0376   6.896053e+01   1.000000e+15   4.478018e-03"
       ]
      },
      {
       "output_type": "stream",
       "stream": "stdout",
       "text": [
        " \r",
        "0377   6.896053e+01   1.000000e+15   4.478018e-03"
       ]
      },
      {
       "output_type": "stream",
       "stream": "stdout",
       "text": [
        " \r",
        "0378   6.896053e+01   1.000000e+15   4.478018e-03"
       ]
      },
      {
       "output_type": "stream",
       "stream": "stdout",
       "text": [
        " \r",
        "0379   6.896053e+01   1.000000e+15   4.478018e-03"
       ]
      },
      {
       "output_type": "stream",
       "stream": "stdout",
       "text": [
        " \r",
        "0380   6.896053e+01   1.000000e+15   4.478018e-03"
       ]
      },
      {
       "output_type": "stream",
       "stream": "stdout",
       "text": [
        " \r",
        "0381   6.896053e+01   1.000000e+15   4.478018e-03"
       ]
      },
      {
       "output_type": "stream",
       "stream": "stdout",
       "text": [
        " \r",
        "0382   6.896053e+01   1.000000e+15   4.478018e-03"
       ]
      },
      {
       "output_type": "stream",
       "stream": "stdout",
       "text": [
        " \r",
        "0383   6.896053e+01   1.000000e+15   4.478018e-03"
       ]
      },
      {
       "output_type": "stream",
       "stream": "stdout",
       "text": [
        " \r",
        "0384   6.896053e+01   1.000000e+15   4.478018e-03"
       ]
      },
      {
       "output_type": "stream",
       "stream": "stdout",
       "text": [
        " \r",
        "0385   6.896053e+01   1.000000e+15   4.478018e-03"
       ]
      },
      {
       "output_type": "stream",
       "stream": "stdout",
       "text": [
        " \r",
        "0386   6.896053e+01   1.000000e+15   4.478018e-03"
       ]
      },
      {
       "output_type": "stream",
       "stream": "stdout",
       "text": [
        " \r",
        "0387   6.896053e+01   1.000000e+15   4.478018e-03"
       ]
      },
      {
       "output_type": "stream",
       "stream": "stdout",
       "text": [
        " \r",
        "0388   6.896053e+01   1.000000e+15   4.478018e-03"
       ]
      },
      {
       "output_type": "stream",
       "stream": "stdout",
       "text": [
        " \r",
        "0389   6.896053e+01   1.000000e+15   4.478018e-03"
       ]
      },
      {
       "output_type": "stream",
       "stream": "stdout",
       "text": [
        " \r",
        "0390   6.896053e+01   1.000000e+15   4.478018e-03"
       ]
      },
      {
       "output_type": "stream",
       "stream": "stdout",
       "text": [
        " \r",
        "0391   6.896053e+01   1.000000e+15   4.478018e-03"
       ]
      },
      {
       "output_type": "stream",
       "stream": "stdout",
       "text": [
        " \r",
        "0392   6.896053e+01   1.000000e+15   4.478018e-03"
       ]
      },
      {
       "output_type": "stream",
       "stream": "stdout",
       "text": [
        " \r",
        "0393   6.896053e+01   1.000000e+15   4.478018e-03"
       ]
      },
      {
       "output_type": "stream",
       "stream": "stdout",
       "text": [
        " \r",
        "0394   6.896053e+01   1.000000e+15   4.478018e-03"
       ]
      },
      {
       "output_type": "stream",
       "stream": "stdout",
       "text": [
        " \r",
        "0395   6.896053e+01   1.000000e+15   4.478018e-03"
       ]
      },
      {
       "output_type": "stream",
       "stream": "stdout",
       "text": [
        " \r",
        "0396   6.896053e+01   1.000000e+15   4.478018e-03"
       ]
      },
      {
       "output_type": "stream",
       "stream": "stdout",
       "text": [
        " \r",
        "0397   6.896053e+01   1.000000e+15   4.478018e-03"
       ]
      },
      {
       "output_type": "stream",
       "stream": "stdout",
       "text": [
        " \r",
        "0398   6.896053e+01   1.000000e+15   4.478018e-03"
       ]
      },
      {
       "output_type": "stream",
       "stream": "stdout",
       "text": [
        " \r",
        "0399   6.896053e+01   1.000000e+15   4.478018e-03"
       ]
      },
      {
       "output_type": "stream",
       "stream": "stdout",
       "text": [
        " \r",
        "0400   6.896053e+01   1.000000e+15   4.478018e-03"
       ]
      },
      {
       "output_type": "stream",
       "stream": "stdout",
       "text": [
        " \r",
        "0401   6.896053e+01   1.000000e+15   4.478018e-03"
       ]
      },
      {
       "output_type": "stream",
       "stream": "stdout",
       "text": [
        " \r",
        "0402   6.896053e+01   1.000000e+15   4.478018e-03"
       ]
      },
      {
       "output_type": "stream",
       "stream": "stdout",
       "text": [
        " \r",
        "0403   6.896053e+01   1.000000e+15   4.478018e-03"
       ]
      },
      {
       "output_type": "stream",
       "stream": "stdout",
       "text": [
        " \r",
        "0404   6.896053e+01   1.000000e+15   4.478018e-03"
       ]
      },
      {
       "output_type": "stream",
       "stream": "stdout",
       "text": [
        " \r",
        "0405   6.896053e+01   1.000000e+15   4.478018e-03"
       ]
      },
      {
       "output_type": "stream",
       "stream": "stdout",
       "text": [
        " \r",
        "0406   6.896053e+01   1.000000e+15   4.478018e-03"
       ]
      },
      {
       "output_type": "stream",
       "stream": "stdout",
       "text": [
        " \r",
        "0407   6.896053e+01   1.000000e+15   4.478018e-03"
       ]
      },
      {
       "output_type": "stream",
       "stream": "stdout",
       "text": [
        " \r",
        "0408   6.896053e+01   1.000000e+15   4.478018e-03"
       ]
      },
      {
       "output_type": "stream",
       "stream": "stdout",
       "text": [
        " \r",
        "0409   6.896053e+01   1.000000e+15   4.478018e-03"
       ]
      },
      {
       "output_type": "stream",
       "stream": "stdout",
       "text": [
        " \r",
        "0410   6.896053e+01   1.000000e+15   4.478018e-03"
       ]
      },
      {
       "output_type": "stream",
       "stream": "stdout",
       "text": [
        " \r",
        "0411   6.896053e+01   1.000000e+15   4.478018e-03"
       ]
      },
      {
       "output_type": "stream",
       "stream": "stdout",
       "text": [
        " \r",
        "0412   6.896053e+01   1.000000e+15   4.478018e-03"
       ]
      },
      {
       "output_type": "stream",
       "stream": "stdout",
       "text": [
        " \r",
        "0413   6.896053e+01   1.000000e+15   4.478018e-03"
       ]
      },
      {
       "output_type": "stream",
       "stream": "stdout",
       "text": [
        " \r",
        "0414   6.896053e+01   1.000000e+15   4.478018e-03"
       ]
      },
      {
       "output_type": "stream",
       "stream": "stdout",
       "text": [
        " \r",
        "0415   6.896053e+01   1.000000e+15   4.478018e-03"
       ]
      },
      {
       "output_type": "stream",
       "stream": "stdout",
       "text": [
        " \r",
        "0416   6.896053e+01   1.000000e+15   4.478018e-03"
       ]
      },
      {
       "output_type": "stream",
       "stream": "stdout",
       "text": [
        " \r",
        "0417   6.896053e+01   1.000000e+15   4.478018e-03"
       ]
      },
      {
       "output_type": "stream",
       "stream": "stdout",
       "text": [
        " \r",
        "0418   6.896053e+01   1.000000e+15   4.478018e-03"
       ]
      },
      {
       "output_type": "stream",
       "stream": "stdout",
       "text": [
        " \r",
        "0419   6.896053e+01   1.000000e+15   4.478018e-03"
       ]
      },
      {
       "output_type": "stream",
       "stream": "stdout",
       "text": [
        " \r",
        "0420   6.896053e+01   1.000000e+15   4.478018e-03"
       ]
      },
      {
       "output_type": "stream",
       "stream": "stdout",
       "text": [
        " \r",
        "0421   6.896053e+01   1.000000e+15   4.478018e-03"
       ]
      },
      {
       "output_type": "stream",
       "stream": "stdout",
       "text": [
        " \r",
        "0422   6.896053e+01   1.000000e+15   4.478018e-03"
       ]
      },
      {
       "output_type": "stream",
       "stream": "stdout",
       "text": [
        " \r",
        "0423   6.896053e+01   1.000000e+15   4.478018e-03"
       ]
      },
      {
       "output_type": "stream",
       "stream": "stdout",
       "text": [
        " \r",
        "0424   6.896053e+01   1.000000e+15   4.478018e-03"
       ]
      },
      {
       "output_type": "stream",
       "stream": "stdout",
       "text": [
        " \r",
        "0425   6.896053e+01   1.000000e+15   4.478018e-03"
       ]
      },
      {
       "output_type": "stream",
       "stream": "stdout",
       "text": [
        " \r",
        "0426   6.896053e+01   1.000000e+15   4.478018e-03"
       ]
      },
      {
       "output_type": "stream",
       "stream": "stdout",
       "text": [
        " \r",
        "0427   6.896053e+01   1.000000e+15   4.478018e-03"
       ]
      },
      {
       "output_type": "stream",
       "stream": "stdout",
       "text": [
        " \r",
        "0428   6.896053e+01   1.000000e+15   4.478018e-03"
       ]
      },
      {
       "output_type": "stream",
       "stream": "stdout",
       "text": [
        " \r",
        "0429   6.896053e+01   1.000000e+15   4.478018e-03"
       ]
      },
      {
       "output_type": "stream",
       "stream": "stdout",
       "text": [
        " \r",
        "0430   6.896053e+01   1.000000e+15   4.478018e-03"
       ]
      },
      {
       "output_type": "stream",
       "stream": "stdout",
       "text": [
        " \r",
        "0431   6.896053e+01   1.000000e+15   4.478018e-03"
       ]
      },
      {
       "output_type": "stream",
       "stream": "stdout",
       "text": [
        " \r",
        "0432   6.896053e+01   1.000000e+15   4.478018e-03"
       ]
      },
      {
       "output_type": "stream",
       "stream": "stdout",
       "text": [
        " \r",
        "0433   6.896053e+01   1.000000e+15   4.478018e-03"
       ]
      },
      {
       "output_type": "stream",
       "stream": "stdout",
       "text": [
        " \r",
        "0434   6.896053e+01   1.000000e+15   4.478018e-03"
       ]
      },
      {
       "output_type": "stream",
       "stream": "stdout",
       "text": [
        " \r",
        "0435   6.896053e+01   1.000000e+15   4.478018e-03"
       ]
      },
      {
       "output_type": "stream",
       "stream": "stdout",
       "text": [
        " \r",
        "0436   6.896053e+01   1.000000e+15   4.478018e-03"
       ]
      },
      {
       "output_type": "stream",
       "stream": "stdout",
       "text": [
        " \r",
        "0437   6.896053e+01   1.000000e+15   4.478018e-03"
       ]
      },
      {
       "output_type": "stream",
       "stream": "stdout",
       "text": [
        " \r",
        "0438   6.896053e+01   1.000000e+15   4.478018e-03"
       ]
      },
      {
       "output_type": "stream",
       "stream": "stdout",
       "text": [
        " \r",
        "0439   6.896053e+01   1.000000e+15   4.478018e-03"
       ]
      },
      {
       "output_type": "stream",
       "stream": "stdout",
       "text": [
        " \r",
        "0440   6.896053e+01   1.000000e+15   4.478018e-03"
       ]
      },
      {
       "output_type": "stream",
       "stream": "stdout",
       "text": [
        " \r",
        "0441   6.896053e+01   1.000000e+15   4.478018e-03"
       ]
      },
      {
       "output_type": "stream",
       "stream": "stdout",
       "text": [
        " \r",
        "0442   6.896053e+01   1.000000e+15   4.478018e-03"
       ]
      },
      {
       "output_type": "stream",
       "stream": "stdout",
       "text": [
        " \r",
        "0443   6.896053e+01   1.000000e+15   4.478018e-03"
       ]
      },
      {
       "output_type": "stream",
       "stream": "stdout",
       "text": [
        " \r",
        "0444   6.896053e+01   1.000000e+15   4.478018e-03"
       ]
      },
      {
       "output_type": "stream",
       "stream": "stdout",
       "text": [
        " \r",
        "0445   6.896053e+01   1.000000e+15   4.478018e-03"
       ]
      },
      {
       "output_type": "stream",
       "stream": "stdout",
       "text": [
        " \r",
        "0446   6.896053e+01   1.000000e+15   4.478018e-03"
       ]
      },
      {
       "output_type": "stream",
       "stream": "stdout",
       "text": [
        " \r",
        "0447   6.896053e+01   1.000000e+15   4.478018e-03"
       ]
      },
      {
       "output_type": "stream",
       "stream": "stdout",
       "text": [
        " \r",
        "0448   6.896053e+01   1.000000e+15   4.478018e-03"
       ]
      },
      {
       "output_type": "stream",
       "stream": "stdout",
       "text": [
        " \r",
        "0449   6.896053e+01   1.000000e+15   4.478018e-03"
       ]
      },
      {
       "output_type": "stream",
       "stream": "stdout",
       "text": [
        " \r",
        "0450   6.896053e+01   1.000000e+15   4.478018e-03"
       ]
      },
      {
       "output_type": "stream",
       "stream": "stdout",
       "text": [
        " \r",
        "0451   6.896053e+01   1.000000e+15   4.478018e-03"
       ]
      },
      {
       "output_type": "stream",
       "stream": "stdout",
       "text": [
        " \r",
        "0452   6.896053e+01   1.000000e+15   4.478018e-03"
       ]
      },
      {
       "output_type": "stream",
       "stream": "stdout",
       "text": [
        " \r",
        "0453   6.896053e+01   1.000000e+15   4.478018e-03"
       ]
      },
      {
       "output_type": "stream",
       "stream": "stdout",
       "text": [
        " \r",
        "0454   6.896053e+01   1.000000e+15   4.478018e-03"
       ]
      },
      {
       "output_type": "stream",
       "stream": "stdout",
       "text": [
        " \r",
        "0455   6.896053e+01   1.000000e+15   4.478018e-03"
       ]
      },
      {
       "output_type": "stream",
       "stream": "stdout",
       "text": [
        " \r",
        "0456   6.896053e+01   1.000000e+15   4.478018e-03"
       ]
      },
      {
       "output_type": "stream",
       "stream": "stdout",
       "text": [
        " \r",
        "0457   6.896053e+01   1.000000e+15   4.478018e-03"
       ]
      },
      {
       "output_type": "stream",
       "stream": "stdout",
       "text": [
        " \r",
        "0458   6.896053e+01   1.000000e+15   4.478018e-03"
       ]
      },
      {
       "output_type": "stream",
       "stream": "stdout",
       "text": [
        " \r",
        "0459   6.896053e+01   1.000000e+15   4.478018e-03"
       ]
      },
      {
       "output_type": "stream",
       "stream": "stdout",
       "text": [
        " \r",
        "0460   6.896053e+01   1.000000e+15   4.478018e-03"
       ]
      },
      {
       "output_type": "stream",
       "stream": "stdout",
       "text": [
        " \r",
        "0461   6.896053e+01   1.000000e+15   4.478018e-03"
       ]
      },
      {
       "output_type": "stream",
       "stream": "stdout",
       "text": [
        " \r",
        "0462   6.896053e+01   1.000000e+15   4.478018e-03"
       ]
      },
      {
       "output_type": "stream",
       "stream": "stdout",
       "text": [
        " \r",
        "0463   6.896053e+01   1.000000e+15   4.478018e-03"
       ]
      },
      {
       "output_type": "stream",
       "stream": "stdout",
       "text": [
        " \r",
        "0464   6.896053e+01   1.000000e+15   4.478018e-03"
       ]
      },
      {
       "output_type": "stream",
       "stream": "stdout",
       "text": [
        " \r",
        "0465   6.896053e+01   1.000000e+15   4.478018e-03"
       ]
      },
      {
       "output_type": "stream",
       "stream": "stdout",
       "text": [
        " \r",
        "0466   6.896053e+01   1.000000e+15   4.478018e-03"
       ]
      },
      {
       "output_type": "stream",
       "stream": "stdout",
       "text": [
        " \r",
        "0467   6.896053e+01   1.000000e+15   4.478018e-03"
       ]
      },
      {
       "output_type": "stream",
       "stream": "stdout",
       "text": [
        " \r",
        "0468   6.896053e+01   1.000000e+15   4.478018e-03"
       ]
      },
      {
       "output_type": "stream",
       "stream": "stdout",
       "text": [
        " \r",
        "0469   6.896053e+01   1.000000e+15   4.478018e-03"
       ]
      },
      {
       "output_type": "stream",
       "stream": "stdout",
       "text": [
        " \r",
        "0470   6.896053e+01   1.000000e+15   4.478018e-03"
       ]
      },
      {
       "output_type": "stream",
       "stream": "stdout",
       "text": [
        " \r",
        "0471   6.896053e+01   1.000000e+15   4.478018e-03"
       ]
      },
      {
       "output_type": "stream",
       "stream": "stdout",
       "text": [
        " \r",
        "0472   6.896053e+01   1.000000e+15   4.478018e-03"
       ]
      },
      {
       "output_type": "stream",
       "stream": "stdout",
       "text": [
        " \r",
        "0473   6.896053e+01   1.000000e+15   4.478018e-03"
       ]
      },
      {
       "output_type": "stream",
       "stream": "stdout",
       "text": [
        " \r",
        "0474   6.896053e+01   1.000000e+15   4.478018e-03"
       ]
      },
      {
       "output_type": "stream",
       "stream": "stdout",
       "text": [
        " \r",
        "0475   6.896053e+01   1.000000e+15   4.478018e-03"
       ]
      },
      {
       "output_type": "stream",
       "stream": "stdout",
       "text": [
        " \r",
        "0476   6.896053e+01   1.000000e+15   4.478018e-03"
       ]
      },
      {
       "output_type": "stream",
       "stream": "stdout",
       "text": [
        " \r",
        "0477   6.896053e+01   1.000000e+15   4.478018e-03"
       ]
      },
      {
       "output_type": "stream",
       "stream": "stdout",
       "text": [
        " \r",
        "0478   6.896053e+01   1.000000e+15   4.478018e-03"
       ]
      },
      {
       "output_type": "stream",
       "stream": "stdout",
       "text": [
        " \r",
        "0479   6.896053e+01   1.000000e+15   4.478018e-03"
       ]
      },
      {
       "output_type": "stream",
       "stream": "stdout",
       "text": [
        " \r",
        "0480   6.896053e+01   1.000000e+15   4.478018e-03"
       ]
      },
      {
       "output_type": "stream",
       "stream": "stdout",
       "text": [
        " \r",
        "0481   6.896053e+01   1.000000e+15   4.478018e-03"
       ]
      },
      {
       "output_type": "stream",
       "stream": "stdout",
       "text": [
        " \r",
        "0482   6.896053e+01   1.000000e+15   4.478018e-03"
       ]
      },
      {
       "output_type": "stream",
       "stream": "stdout",
       "text": [
        " \r",
        "0483   6.896053e+01   1.000000e+15   4.478018e-03"
       ]
      },
      {
       "output_type": "stream",
       "stream": "stdout",
       "text": [
        " \r",
        "0484   6.896053e+01   1.000000e+15   4.478018e-03"
       ]
      },
      {
       "output_type": "stream",
       "stream": "stdout",
       "text": [
        " \r",
        "0485   6.896053e+01   1.000000e+15   4.478018e-03"
       ]
      },
      {
       "output_type": "stream",
       "stream": "stdout",
       "text": [
        " \r",
        "0486   6.896053e+01   1.000000e+15   4.478018e-03"
       ]
      },
      {
       "output_type": "stream",
       "stream": "stdout",
       "text": [
        " \r",
        "0487   6.896053e+01   1.000000e+15   4.478018e-03"
       ]
      },
      {
       "output_type": "stream",
       "stream": "stdout",
       "text": [
        " \r",
        "0488   6.896053e+01   1.000000e+15   4.478018e-03"
       ]
      },
      {
       "output_type": "stream",
       "stream": "stdout",
       "text": [
        " \r",
        "0489   6.896053e+01   1.000000e+15   4.478018e-03"
       ]
      },
      {
       "output_type": "stream",
       "stream": "stdout",
       "text": [
        " \r",
        "0490   6.896053e+01   1.000000e+15   4.478018e-03"
       ]
      },
      {
       "output_type": "stream",
       "stream": "stdout",
       "text": [
        " \r",
        "0491   6.896053e+01   1.000000e+15   4.478018e-03"
       ]
      },
      {
       "output_type": "stream",
       "stream": "stdout",
       "text": [
        " \r",
        "0492   6.896053e+01   1.000000e+15   4.478018e-03"
       ]
      },
      {
       "output_type": "stream",
       "stream": "stdout",
       "text": [
        " \r",
        "0493   6.896053e+01   1.000000e+15   4.478018e-03"
       ]
      },
      {
       "output_type": "stream",
       "stream": "stdout",
       "text": [
        " \r",
        "0494   6.896053e+01   1.000000e+15   4.478018e-03"
       ]
      },
      {
       "output_type": "stream",
       "stream": "stdout",
       "text": [
        " \r",
        "0495   6.896053e+01   1.000000e+15   4.478018e-03"
       ]
      },
      {
       "output_type": "stream",
       "stream": "stdout",
       "text": [
        " \r",
        "0496   6.896053e+01   1.000000e+15   4.478018e-03"
       ]
      },
      {
       "output_type": "stream",
       "stream": "stdout",
       "text": [
        " \r",
        "0497   6.896053e+01   1.000000e+15   4.478018e-03"
       ]
      },
      {
       "output_type": "stream",
       "stream": "stdout",
       "text": [
        " \r",
        "0498   6.896053e+01   1.000000e+15   4.478018e-03"
       ]
      },
      {
       "output_type": "stream",
       "stream": "stdout",
       "text": [
        " \r",
        "0499   6.896053e+01   1.000000e+15   4.478018e-03"
       ]
      },
      {
       "output_type": "stream",
       "stream": "stdout",
       "text": [
        " \r",
        "0500   6.896053e+01   1.000000e+15   4.478018e-03"
       ]
      },
      {
       "output_type": "stream",
       "stream": "stdout",
       "text": [
        " \r",
        "0501   6.896053e+01   1.000000e+15   4.478018e-03"
       ]
      },
      {
       "output_type": "stream",
       "stream": "stdout",
       "text": [
        " \r",
        "0502   6.896053e+01   1.000000e+15   4.478018e-03"
       ]
      },
      {
       "output_type": "stream",
       "stream": "stdout",
       "text": [
        " \r",
        "0503   6.896053e+01   1.000000e+15   4.478018e-03"
       ]
      },
      {
       "output_type": "stream",
       "stream": "stdout",
       "text": [
        " \r",
        "0504   6.896053e+01   1.000000e+15   4.478018e-03"
       ]
      },
      {
       "output_type": "stream",
       "stream": "stdout",
       "text": [
        " \r",
        "0505   6.896053e+01   1.000000e+15   4.478018e-03"
       ]
      },
      {
       "output_type": "stream",
       "stream": "stdout",
       "text": [
        " \r",
        "0506   6.896053e+01   1.000000e+15   4.478018e-03"
       ]
      },
      {
       "output_type": "stream",
       "stream": "stdout",
       "text": [
        " \r",
        "0507   6.896053e+01   1.000000e+15   4.478018e-03"
       ]
      },
      {
       "output_type": "stream",
       "stream": "stdout",
       "text": [
        " \r",
        "0508   6.896053e+01   1.000000e+15   4.478018e-03"
       ]
      },
      {
       "output_type": "stream",
       "stream": "stdout",
       "text": [
        " \r",
        "0509   6.896053e+01   1.000000e+15   4.478018e-03"
       ]
      },
      {
       "output_type": "stream",
       "stream": "stdout",
       "text": [
        " \r",
        "0510   6.896053e+01   1.000000e+15   4.478018e-03"
       ]
      },
      {
       "output_type": "stream",
       "stream": "stdout",
       "text": [
        " \r",
        "0511   6.896053e+01   1.000000e+15   4.478018e-03"
       ]
      },
      {
       "output_type": "stream",
       "stream": "stdout",
       "text": [
        " \r",
        "0512   6.896053e+01   1.000000e+15   4.478018e-03"
       ]
      },
      {
       "output_type": "stream",
       "stream": "stdout",
       "text": [
        " \r",
        "0513   6.896053e+01   1.000000e+15   4.478018e-03"
       ]
      },
      {
       "output_type": "stream",
       "stream": "stdout",
       "text": [
        " \r",
        "0514   6.896053e+01   1.000000e+15   4.478018e-03"
       ]
      },
      {
       "output_type": "stream",
       "stream": "stdout",
       "text": [
        " \r",
        "0515   6.896053e+01   1.000000e+15   4.478018e-03"
       ]
      },
      {
       "output_type": "stream",
       "stream": "stdout",
       "text": [
        " \r",
        "0516   6.896053e+01   1.000000e+15   4.478018e-03"
       ]
      },
      {
       "output_type": "stream",
       "stream": "stdout",
       "text": [
        " \r",
        "0517   6.896053e+01   1.000000e+15   4.478018e-03"
       ]
      },
      {
       "output_type": "stream",
       "stream": "stdout",
       "text": [
        " \r",
        "0518   6.896053e+01   1.000000e+15   4.478018e-03"
       ]
      },
      {
       "output_type": "stream",
       "stream": "stdout",
       "text": [
        " \r",
        "0519   6.896053e+01   1.000000e+15   4.478018e-03"
       ]
      },
      {
       "output_type": "stream",
       "stream": "stdout",
       "text": [
        " \r",
        "0520   6.896053e+01   1.000000e+15   4.478018e-03"
       ]
      },
      {
       "output_type": "stream",
       "stream": "stdout",
       "text": [
        " \r",
        "0521   6.896053e+01   1.000000e+15   4.478018e-03"
       ]
      },
      {
       "output_type": "stream",
       "stream": "stdout",
       "text": [
        " \r",
        "0522   6.896053e+01   1.000000e+15   4.478018e-03"
       ]
      },
      {
       "output_type": "stream",
       "stream": "stdout",
       "text": [
        " \r",
        "0523   6.896053e+01   1.000000e+15   4.478018e-03"
       ]
      },
      {
       "output_type": "stream",
       "stream": "stdout",
       "text": [
        " \r",
        "0524   6.896053e+01   1.000000e+15   4.478018e-03"
       ]
      },
      {
       "output_type": "stream",
       "stream": "stdout",
       "text": [
        " \r",
        "0525   6.896053e+01   1.000000e+15   4.478018e-03"
       ]
      },
      {
       "output_type": "stream",
       "stream": "stdout",
       "text": [
        " \r",
        "0526   6.896053e+01   1.000000e+15   4.478018e-03"
       ]
      },
      {
       "output_type": "stream",
       "stream": "stdout",
       "text": [
        " \r",
        "0527   6.896053e+01   1.000000e+15   4.478018e-03"
       ]
      },
      {
       "output_type": "stream",
       "stream": "stdout",
       "text": [
        " \r",
        "0528   6.896053e+01   1.000000e+15   4.478018e-03"
       ]
      },
      {
       "output_type": "stream",
       "stream": "stdout",
       "text": [
        " \r",
        "0529   6.896053e+01   1.000000e+15   4.478018e-03"
       ]
      },
      {
       "output_type": "stream",
       "stream": "stdout",
       "text": [
        " \r",
        "0530   6.896053e+01   1.000000e+15   4.478018e-03"
       ]
      },
      {
       "output_type": "stream",
       "stream": "stdout",
       "text": [
        " \r",
        "0531   6.896053e+01   1.000000e+15   4.478018e-03"
       ]
      },
      {
       "output_type": "stream",
       "stream": "stdout",
       "text": [
        " \r",
        "0532   6.896053e+01   1.000000e+15   4.478018e-03"
       ]
      },
      {
       "output_type": "stream",
       "stream": "stdout",
       "text": [
        " \r",
        "0533   6.896053e+01   1.000000e+15   4.478018e-03"
       ]
      },
      {
       "output_type": "stream",
       "stream": "stdout",
       "text": [
        " \r",
        "0534   6.896053e+01   1.000000e+15   4.478018e-03"
       ]
      },
      {
       "output_type": "stream",
       "stream": "stdout",
       "text": [
        " \r",
        "0535   6.896053e+01   1.000000e+15   4.478018e-03"
       ]
      },
      {
       "output_type": "stream",
       "stream": "stdout",
       "text": [
        " \r",
        "0536   6.896053e+01   1.000000e+15   4.478018e-03"
       ]
      },
      {
       "output_type": "stream",
       "stream": "stdout",
       "text": [
        " \r",
        "0537   6.896053e+01   1.000000e+15   4.478018e-03"
       ]
      },
      {
       "output_type": "stream",
       "stream": "stdout",
       "text": [
        " \r",
        "0538   6.896053e+01   1.000000e+15   4.478018e-03"
       ]
      },
      {
       "output_type": "stream",
       "stream": "stdout",
       "text": [
        " \r",
        "0539   6.896053e+01   1.000000e+15   4.478018e-03"
       ]
      },
      {
       "output_type": "stream",
       "stream": "stdout",
       "text": [
        " \r",
        "0540   6.896053e+01   1.000000e+15   4.478018e-03"
       ]
      },
      {
       "output_type": "stream",
       "stream": "stdout",
       "text": [
        " \r",
        "0541   6.896053e+01   1.000000e+15   4.478018e-03"
       ]
      },
      {
       "output_type": "stream",
       "stream": "stdout",
       "text": [
        " \r",
        "0542   6.896053e+01   1.000000e+15   4.478018e-03"
       ]
      },
      {
       "output_type": "stream",
       "stream": "stdout",
       "text": [
        " \r",
        "0543   6.896053e+01   1.000000e+15   4.478018e-03"
       ]
      },
      {
       "output_type": "stream",
       "stream": "stdout",
       "text": [
        " \r",
        "0544   6.896053e+01   1.000000e+15   4.478018e-03"
       ]
      },
      {
       "output_type": "stream",
       "stream": "stdout",
       "text": [
        " \r",
        "0545   6.896053e+01   1.000000e+15   4.478018e-03"
       ]
      },
      {
       "output_type": "stream",
       "stream": "stdout",
       "text": [
        " \r",
        "0546   6.896053e+01   1.000000e+15   4.478018e-03"
       ]
      },
      {
       "output_type": "stream",
       "stream": "stdout",
       "text": [
        " \r",
        "0547   6.896053e+01   1.000000e+15   4.478018e-03"
       ]
      },
      {
       "output_type": "stream",
       "stream": "stdout",
       "text": [
        " \r",
        "0548   6.896053e+01   1.000000e+15   4.478018e-03"
       ]
      },
      {
       "output_type": "stream",
       "stream": "stdout",
       "text": [
        " \r",
        "0549   6.896053e+01   1.000000e+15   4.478018e-03"
       ]
      },
      {
       "output_type": "stream",
       "stream": "stdout",
       "text": [
        " \r",
        "0550   6.896053e+01   1.000000e+15   4.478018e-03"
       ]
      },
      {
       "output_type": "stream",
       "stream": "stdout",
       "text": [
        " \r",
        "0551   6.896053e+01   1.000000e+15   4.478018e-03"
       ]
      },
      {
       "output_type": "stream",
       "stream": "stdout",
       "text": [
        " \r",
        "0552   6.896053e+01   1.000000e+15   4.478018e-03"
       ]
      },
      {
       "output_type": "stream",
       "stream": "stdout",
       "text": [
        " \r",
        "0553   6.896053e+01   1.000000e+15   4.478018e-03"
       ]
      },
      {
       "output_type": "stream",
       "stream": "stdout",
       "text": [
        " \r",
        "0554   6.896053e+01   1.000000e+15   4.478018e-03"
       ]
      },
      {
       "output_type": "stream",
       "stream": "stdout",
       "text": [
        " \r",
        "0555   6.896053e+01   1.000000e+15   4.478018e-03"
       ]
      },
      {
       "output_type": "stream",
       "stream": "stdout",
       "text": [
        " \r",
        "0556   6.896053e+01   1.000000e+15   4.478018e-03"
       ]
      },
      {
       "output_type": "stream",
       "stream": "stdout",
       "text": [
        " \r",
        "0557   6.896053e+01   1.000000e+15   4.478018e-03"
       ]
      },
      {
       "output_type": "stream",
       "stream": "stdout",
       "text": [
        " \r",
        "0558   6.896053e+01   1.000000e+15   4.478018e-03"
       ]
      },
      {
       "output_type": "stream",
       "stream": "stdout",
       "text": [
        " \r",
        "0559   6.896053e+01   1.000000e+15   4.478018e-03"
       ]
      },
      {
       "output_type": "stream",
       "stream": "stdout",
       "text": [
        " \r",
        "0560   6.896053e+01   1.000000e+15   4.478018e-03"
       ]
      },
      {
       "output_type": "stream",
       "stream": "stdout",
       "text": [
        " \r",
        "0561   6.896053e+01   1.000000e+15   4.478018e-03"
       ]
      },
      {
       "output_type": "stream",
       "stream": "stdout",
       "text": [
        " \r",
        "0562   6.896053e+01   1.000000e+15   4.478018e-03"
       ]
      },
      {
       "output_type": "stream",
       "stream": "stdout",
       "text": [
        " \r",
        "0563   6.896053e+01   1.000000e+15   4.478018e-03"
       ]
      },
      {
       "output_type": "stream",
       "stream": "stdout",
       "text": [
        " \r",
        "0564   6.896053e+01   1.000000e+15   4.478018e-03"
       ]
      },
      {
       "output_type": "stream",
       "stream": "stdout",
       "text": [
        " \r",
        "0565   6.896053e+01   1.000000e+15   4.478018e-03"
       ]
      },
      {
       "output_type": "stream",
       "stream": "stdout",
       "text": [
        " \r",
        "0566   6.896053e+01   1.000000e+15   4.478018e-03"
       ]
      },
      {
       "output_type": "stream",
       "stream": "stdout",
       "text": [
        " \r",
        "0567   6.896053e+01   1.000000e+15   4.478018e-03"
       ]
      },
      {
       "output_type": "stream",
       "stream": "stdout",
       "text": [
        " \r",
        "0568   6.896053e+01   1.000000e+15   4.478018e-03"
       ]
      },
      {
       "output_type": "stream",
       "stream": "stdout",
       "text": [
        " \r",
        "0569   6.896053e+01   1.000000e+15   4.478018e-03"
       ]
      },
      {
       "output_type": "stream",
       "stream": "stdout",
       "text": [
        " \r",
        "0570   6.896053e+01   1.000000e+15   4.478018e-03"
       ]
      },
      {
       "output_type": "stream",
       "stream": "stdout",
       "text": [
        " \r",
        "0571   6.896053e+01   1.000000e+15   4.478018e-03"
       ]
      },
      {
       "output_type": "stream",
       "stream": "stdout",
       "text": [
        " \r",
        "0572   6.896053e+01   1.000000e+15   4.478018e-03"
       ]
      },
      {
       "output_type": "stream",
       "stream": "stdout",
       "text": [
        " \r",
        "0573   6.896053e+01   1.000000e+15   4.478018e-03"
       ]
      },
      {
       "output_type": "stream",
       "stream": "stdout",
       "text": [
        " \r",
        "0574   6.896053e+01   1.000000e+15   4.478018e-03"
       ]
      },
      {
       "output_type": "stream",
       "stream": "stdout",
       "text": [
        " \r",
        "0575   6.896053e+01   1.000000e+15   4.478018e-03"
       ]
      },
      {
       "output_type": "stream",
       "stream": "stdout",
       "text": [
        " \r",
        "0576   6.896053e+01   1.000000e+15   4.478018e-03"
       ]
      },
      {
       "output_type": "stream",
       "stream": "stdout",
       "text": [
        " \r",
        "0577   6.896053e+01   1.000000e+15   4.478018e-03"
       ]
      },
      {
       "output_type": "stream",
       "stream": "stdout",
       "text": [
        " \r",
        "0578   6.896053e+01   1.000000e+15   4.478018e-03"
       ]
      },
      {
       "output_type": "stream",
       "stream": "stdout",
       "text": [
        " \r",
        "0579   6.896053e+01   1.000000e+15   4.478018e-03"
       ]
      },
      {
       "output_type": "stream",
       "stream": "stdout",
       "text": [
        " \r",
        "0580   6.896053e+01   1.000000e+15   4.478018e-03"
       ]
      },
      {
       "output_type": "stream",
       "stream": "stdout",
       "text": [
        " \r",
        "0581   6.896053e+01   1.000000e+15   4.478018e-03"
       ]
      },
      {
       "output_type": "stream",
       "stream": "stdout",
       "text": [
        " \r",
        "0582   6.896053e+01   1.000000e+15   4.478018e-03"
       ]
      },
      {
       "output_type": "stream",
       "stream": "stdout",
       "text": [
        " \r",
        "0583   6.896053e+01   1.000000e+15   4.478018e-03"
       ]
      },
      {
       "output_type": "stream",
       "stream": "stdout",
       "text": [
        " \r",
        "0584   6.896053e+01   1.000000e+15   4.478018e-03"
       ]
      },
      {
       "output_type": "stream",
       "stream": "stdout",
       "text": [
        " \r",
        "0585   6.896053e+01   1.000000e+15   4.478018e-03"
       ]
      },
      {
       "output_type": "stream",
       "stream": "stdout",
       "text": [
        " \r",
        "0586   6.896053e+01   1.000000e+15   4.478018e-03"
       ]
      },
      {
       "output_type": "stream",
       "stream": "stdout",
       "text": [
        " \r",
        "0587   6.896053e+01   1.000000e+15   4.478018e-03"
       ]
      },
      {
       "output_type": "stream",
       "stream": "stdout",
       "text": [
        " \r",
        "0588   6.896053e+01   1.000000e+15   4.478018e-03"
       ]
      },
      {
       "output_type": "stream",
       "stream": "stdout",
       "text": [
        " \r",
        "0589   6.896053e+01   1.000000e+15   4.478018e-03"
       ]
      },
      {
       "output_type": "stream",
       "stream": "stdout",
       "text": [
        " \r",
        "0590   6.896053e+01   1.000000e+15   4.478018e-03"
       ]
      },
      {
       "output_type": "stream",
       "stream": "stdout",
       "text": [
        " \r",
        "0591   6.896053e+01   1.000000e+15   4.478018e-03"
       ]
      },
      {
       "output_type": "stream",
       "stream": "stdout",
       "text": [
        " \r",
        "0592   6.896053e+01   1.000000e+15   4.478018e-03"
       ]
      },
      {
       "output_type": "stream",
       "stream": "stdout",
       "text": [
        " \r",
        "0593   6.896053e+01   1.000000e+15   4.478018e-03"
       ]
      },
      {
       "output_type": "stream",
       "stream": "stdout",
       "text": [
        " \r",
        "0594   6.896053e+01   1.000000e+15   4.478018e-03"
       ]
      },
      {
       "output_type": "stream",
       "stream": "stdout",
       "text": [
        " \r",
        "0595   6.896053e+01   1.000000e+15   4.478018e-03"
       ]
      },
      {
       "output_type": "stream",
       "stream": "stdout",
       "text": [
        " \r",
        "0596   6.896053e+01   1.000000e+15   4.478018e-03"
       ]
      },
      {
       "output_type": "stream",
       "stream": "stdout",
       "text": [
        " \r",
        "0597   6.896053e+01   1.000000e+15   4.478018e-03"
       ]
      },
      {
       "output_type": "stream",
       "stream": "stdout",
       "text": [
        " \r",
        "0598   6.896053e+01   1.000000e+15   4.478018e-03"
       ]
      },
      {
       "output_type": "stream",
       "stream": "stdout",
       "text": [
        " \r",
        "0599   6.896053e+01   1.000000e+15   4.478018e-03"
       ]
      },
      {
       "output_type": "stream",
       "stream": "stdout",
       "text": [
        " \r",
        "0600   6.896053e+01   1.000000e+15   4.478018e-03"
       ]
      },
      {
       "output_type": "stream",
       "stream": "stdout",
       "text": [
        " \r",
        "0601   6.896053e+01   1.000000e+15   4.478018e-03"
       ]
      },
      {
       "output_type": "stream",
       "stream": "stdout",
       "text": [
        " \r",
        "0602   6.896053e+01   1.000000e+15   4.478018e-03"
       ]
      },
      {
       "output_type": "stream",
       "stream": "stdout",
       "text": [
        " \r",
        "0603   6.896053e+01   1.000000e+15   4.478018e-03"
       ]
      },
      {
       "output_type": "stream",
       "stream": "stdout",
       "text": [
        " \r",
        "0604   6.896053e+01   1.000000e+15   4.478018e-03"
       ]
      },
      {
       "output_type": "stream",
       "stream": "stdout",
       "text": [
        " \r",
        "0605   6.896053e+01   1.000000e+15   4.478018e-03"
       ]
      },
      {
       "output_type": "stream",
       "stream": "stdout",
       "text": [
        " \r",
        "0606   6.896053e+01   1.000000e+15   4.478018e-03"
       ]
      },
      {
       "output_type": "stream",
       "stream": "stdout",
       "text": [
        " \r",
        "0607   6.896053e+01   1.000000e+15   4.478018e-03"
       ]
      },
      {
       "output_type": "stream",
       "stream": "stdout",
       "text": [
        " \r",
        "0608   6.896053e+01   1.000000e+15   4.478018e-03"
       ]
      },
      {
       "output_type": "stream",
       "stream": "stdout",
       "text": [
        " \r",
        "0609   6.896053e+01   1.000000e+15   4.478018e-03"
       ]
      },
      {
       "output_type": "stream",
       "stream": "stdout",
       "text": [
        " \r",
        "0610   6.896053e+01   1.000000e+15   4.478018e-03"
       ]
      },
      {
       "output_type": "stream",
       "stream": "stdout",
       "text": [
        " \r",
        "0611   6.896053e+01   1.000000e+15   4.478018e-03"
       ]
      },
      {
       "output_type": "stream",
       "stream": "stdout",
       "text": [
        " \r",
        "0612   6.896053e+01   1.000000e+15   4.478018e-03"
       ]
      },
      {
       "output_type": "stream",
       "stream": "stdout",
       "text": [
        " \r",
        "0613   6.896053e+01   1.000000e+15   4.478018e-03"
       ]
      },
      {
       "output_type": "stream",
       "stream": "stdout",
       "text": [
        " \r",
        "0614   6.896053e+01   1.000000e+15   4.478018e-03"
       ]
      },
      {
       "output_type": "stream",
       "stream": "stdout",
       "text": [
        " \r",
        "0615   6.896053e+01   1.000000e+15   4.478018e-03"
       ]
      },
      {
       "output_type": "stream",
       "stream": "stdout",
       "text": [
        " \r",
        "0616   6.896053e+01   1.000000e+15   4.478018e-03"
       ]
      },
      {
       "output_type": "stream",
       "stream": "stdout",
       "text": [
        " \r",
        "0617   6.896053e+01   1.000000e+15   4.478018e-03"
       ]
      },
      {
       "output_type": "stream",
       "stream": "stdout",
       "text": [
        " \r",
        "0618   6.896053e+01   1.000000e+15   4.478018e-03"
       ]
      },
      {
       "output_type": "stream",
       "stream": "stdout",
       "text": [
        " \r",
        "0619   6.896053e+01   1.000000e+15   4.478018e-03"
       ]
      },
      {
       "output_type": "stream",
       "stream": "stdout",
       "text": [
        " \r",
        "0620   6.896053e+01   1.000000e+15   4.478018e-03"
       ]
      },
      {
       "output_type": "stream",
       "stream": "stdout",
       "text": [
        " \r",
        "0621   6.896053e+01   1.000000e+15   4.478018e-03"
       ]
      },
      {
       "output_type": "stream",
       "stream": "stdout",
       "text": [
        " \r",
        "0622   6.896053e+01   1.000000e+15   4.478018e-03"
       ]
      },
      {
       "output_type": "stream",
       "stream": "stdout",
       "text": [
        " \r",
        "0623   6.896053e+01   1.000000e+15   4.478018e-03"
       ]
      },
      {
       "output_type": "stream",
       "stream": "stdout",
       "text": [
        " \r",
        "0624   6.896053e+01   1.000000e+15   4.478018e-03"
       ]
      },
      {
       "output_type": "stream",
       "stream": "stdout",
       "text": [
        " \r",
        "0625   6.896053e+01   1.000000e+15   4.478018e-03"
       ]
      },
      {
       "output_type": "stream",
       "stream": "stdout",
       "text": [
        " \r",
        "0626   6.896053e+01   1.000000e+15   4.478018e-03"
       ]
      },
      {
       "output_type": "stream",
       "stream": "stdout",
       "text": [
        " \r",
        "0627   6.896053e+01   1.000000e+15   4.478018e-03"
       ]
      },
      {
       "output_type": "stream",
       "stream": "stdout",
       "text": [
        " \r",
        "0628   6.896053e+01   1.000000e+15   4.478018e-03"
       ]
      },
      {
       "output_type": "stream",
       "stream": "stdout",
       "text": [
        " \r",
        "0629   6.896053e+01   1.000000e+15   4.478018e-03"
       ]
      },
      {
       "output_type": "stream",
       "stream": "stdout",
       "text": [
        " \r",
        "0630   6.896053e+01   1.000000e+15   4.478018e-03"
       ]
      },
      {
       "output_type": "stream",
       "stream": "stdout",
       "text": [
        " \r",
        "0631   6.896053e+01   1.000000e+15   4.478018e-03"
       ]
      },
      {
       "output_type": "stream",
       "stream": "stdout",
       "text": [
        " \r",
        "0632   6.896053e+01   1.000000e+15   4.478018e-03"
       ]
      },
      {
       "output_type": "stream",
       "stream": "stdout",
       "text": [
        " \r",
        "0633   6.896053e+01   1.000000e+15   4.478018e-03"
       ]
      },
      {
       "output_type": "stream",
       "stream": "stdout",
       "text": [
        " \r",
        "0634   6.896053e+01   1.000000e+15   4.478018e-03"
       ]
      },
      {
       "output_type": "stream",
       "stream": "stdout",
       "text": [
        " \r",
        "0635   6.896053e+01   1.000000e+15   4.478018e-03"
       ]
      },
      {
       "output_type": "stream",
       "stream": "stdout",
       "text": [
        " \r",
        "0636   6.896053e+01   1.000000e+15   4.478018e-03"
       ]
      },
      {
       "output_type": "stream",
       "stream": "stdout",
       "text": [
        " \r",
        "0637   6.896053e+01   1.000000e+15   4.478018e-03"
       ]
      },
      {
       "output_type": "stream",
       "stream": "stdout",
       "text": [
        " \r",
        "0638   6.896053e+01   1.000000e+15   4.478018e-03"
       ]
      },
      {
       "output_type": "stream",
       "stream": "stdout",
       "text": [
        " \r",
        "0639   6.896053e+01   1.000000e+15   4.478018e-03"
       ]
      },
      {
       "output_type": "stream",
       "stream": "stdout",
       "text": [
        " \r",
        "0640   6.896053e+01   1.000000e+15   4.478018e-03"
       ]
      },
      {
       "output_type": "stream",
       "stream": "stdout",
       "text": [
        " \r",
        "0641   6.896053e+01   1.000000e+15   4.478018e-03"
       ]
      },
      {
       "output_type": "stream",
       "stream": "stdout",
       "text": [
        " \r",
        "0642   6.896053e+01   1.000000e+15   4.478018e-03"
       ]
      },
      {
       "output_type": "stream",
       "stream": "stdout",
       "text": [
        " \r",
        "0643   6.896053e+01   1.000000e+15   4.478018e-03"
       ]
      },
      {
       "output_type": "stream",
       "stream": "stdout",
       "text": [
        " \r",
        "0644   6.896053e+01   1.000000e+15   4.478018e-03"
       ]
      },
      {
       "output_type": "stream",
       "stream": "stdout",
       "text": [
        " \r",
        "0645   6.896053e+01   1.000000e+15   4.478018e-03"
       ]
      },
      {
       "output_type": "stream",
       "stream": "stdout",
       "text": [
        " \r",
        "0646   6.896053e+01   1.000000e+15   4.478018e-03"
       ]
      },
      {
       "output_type": "stream",
       "stream": "stdout",
       "text": [
        " \r",
        "0647   6.896053e+01   1.000000e+15   4.478018e-03"
       ]
      },
      {
       "output_type": "stream",
       "stream": "stdout",
       "text": [
        " \r",
        "0648   6.896053e+01   1.000000e+15   4.478018e-03"
       ]
      },
      {
       "output_type": "stream",
       "stream": "stdout",
       "text": [
        " \r",
        "0649   6.896053e+01   1.000000e+15   4.478018e-03"
       ]
      },
      {
       "output_type": "stream",
       "stream": "stdout",
       "text": [
        " \r",
        "0650   6.896053e+01   1.000000e+15   4.478018e-03"
       ]
      },
      {
       "output_type": "stream",
       "stream": "stdout",
       "text": [
        " \r",
        "0651   6.896053e+01   1.000000e+15   4.478018e-03"
       ]
      },
      {
       "output_type": "stream",
       "stream": "stdout",
       "text": [
        " \r",
        "0652   6.896053e+01   1.000000e+15   4.478018e-03"
       ]
      },
      {
       "output_type": "stream",
       "stream": "stdout",
       "text": [
        " \r",
        "0653   6.896053e+01   1.000000e+15   4.478018e-03"
       ]
      },
      {
       "output_type": "stream",
       "stream": "stdout",
       "text": [
        " \r",
        "0654   6.896053e+01   1.000000e+15   4.478018e-03"
       ]
      },
      {
       "output_type": "stream",
       "stream": "stdout",
       "text": [
        " \r",
        "0655   6.896053e+01   1.000000e+15   4.478018e-03"
       ]
      },
      {
       "output_type": "stream",
       "stream": "stdout",
       "text": [
        " \r",
        "0656   6.896053e+01   1.000000e+15   4.478018e-03"
       ]
      },
      {
       "output_type": "stream",
       "stream": "stdout",
       "text": [
        " \r",
        "0657   6.896053e+01   1.000000e+15   4.478018e-03"
       ]
      },
      {
       "output_type": "stream",
       "stream": "stdout",
       "text": [
        " \r",
        "0658   6.896053e+01   1.000000e+15   4.478018e-03"
       ]
      },
      {
       "output_type": "stream",
       "stream": "stdout",
       "text": [
        " \r",
        "0659   6.896053e+01   1.000000e+15   4.478018e-03"
       ]
      },
      {
       "output_type": "stream",
       "stream": "stdout",
       "text": [
        " \r",
        "0660   6.896053e+01   1.000000e+15   4.478018e-03"
       ]
      },
      {
       "output_type": "stream",
       "stream": "stdout",
       "text": [
        " \r",
        "0661   6.896053e+01   1.000000e+15   4.478018e-03"
       ]
      },
      {
       "output_type": "stream",
       "stream": "stdout",
       "text": [
        " \r",
        "0662   6.896053e+01   1.000000e+15   4.478018e-03"
       ]
      },
      {
       "output_type": "stream",
       "stream": "stdout",
       "text": [
        " \r",
        "0663   6.896053e+01   1.000000e+15   4.478018e-03"
       ]
      },
      {
       "output_type": "stream",
       "stream": "stdout",
       "text": [
        " \r",
        "0664   6.896053e+01   1.000000e+15   4.478018e-03"
       ]
      },
      {
       "output_type": "stream",
       "stream": "stdout",
       "text": [
        " \r",
        "0665   6.896053e+01   1.000000e+15   4.478018e-03"
       ]
      },
      {
       "output_type": "stream",
       "stream": "stdout",
       "text": [
        " \r",
        "0666   6.896053e+01   1.000000e+15   4.478018e-03"
       ]
      },
      {
       "output_type": "stream",
       "stream": "stdout",
       "text": [
        " \r",
        "0667   6.896053e+01   1.000000e+15   4.478018e-03"
       ]
      },
      {
       "output_type": "stream",
       "stream": "stdout",
       "text": [
        " \r",
        "0668   6.896053e+01   1.000000e+15   4.478018e-03"
       ]
      },
      {
       "output_type": "stream",
       "stream": "stdout",
       "text": [
        " \r",
        "0669   6.896053e+01   1.000000e+15   4.478018e-03"
       ]
      },
      {
       "output_type": "stream",
       "stream": "stdout",
       "text": [
        " \r",
        "0670   6.896053e+01   1.000000e+15   4.478018e-03"
       ]
      },
      {
       "output_type": "stream",
       "stream": "stdout",
       "text": [
        " \r",
        "0671   6.896053e+01   1.000000e+15   4.478018e-03"
       ]
      },
      {
       "output_type": "stream",
       "stream": "stdout",
       "text": [
        " \r",
        "0672   6.896053e+01   1.000000e+15   4.478018e-03"
       ]
      },
      {
       "output_type": "stream",
       "stream": "stdout",
       "text": [
        " \r",
        "0673   6.896053e+01   1.000000e+15   4.478018e-03"
       ]
      },
      {
       "output_type": "stream",
       "stream": "stdout",
       "text": [
        " \r",
        "0674   6.896053e+01   1.000000e+15   4.478018e-03"
       ]
      },
      {
       "output_type": "stream",
       "stream": "stdout",
       "text": [
        " \r",
        "0675   6.896053e+01   1.000000e+15   4.478018e-03"
       ]
      },
      {
       "output_type": "stream",
       "stream": "stdout",
       "text": [
        " \r",
        "0676   6.896053e+01   1.000000e+15   4.478018e-03"
       ]
      },
      {
       "output_type": "stream",
       "stream": "stdout",
       "text": [
        " \r",
        "0677   6.896053e+01   1.000000e+15   4.478018e-03"
       ]
      },
      {
       "output_type": "stream",
       "stream": "stdout",
       "text": [
        " \r",
        "0678   6.896053e+01   1.000000e+15   4.478018e-03"
       ]
      },
      {
       "output_type": "stream",
       "stream": "stdout",
       "text": [
        " \r",
        "0679   6.896053e+01   1.000000e+15   4.478018e-03"
       ]
      },
      {
       "output_type": "stream",
       "stream": "stdout",
       "text": [
        " \r",
        "0680   6.896053e+01   1.000000e+15   4.478018e-03"
       ]
      },
      {
       "output_type": "stream",
       "stream": "stdout",
       "text": [
        " \r",
        "0681   6.896053e+01   1.000000e+15   4.478018e-03"
       ]
      },
      {
       "output_type": "stream",
       "stream": "stdout",
       "text": [
        " \r",
        "0682   6.896053e+01   1.000000e+15   4.478018e-03"
       ]
      },
      {
       "output_type": "stream",
       "stream": "stdout",
       "text": [
        " \r",
        "0683   6.896053e+01   1.000000e+15   4.478018e-03"
       ]
      },
      {
       "output_type": "stream",
       "stream": "stdout",
       "text": [
        " \r",
        "0684   6.896053e+01   1.000000e+15   4.478018e-03"
       ]
      },
      {
       "output_type": "stream",
       "stream": "stdout",
       "text": [
        " \r",
        "0685   6.896053e+01   1.000000e+15   4.478018e-03"
       ]
      },
      {
       "output_type": "stream",
       "stream": "stdout",
       "text": [
        " \r",
        "0686   6.896053e+01   1.000000e+15   4.478018e-03"
       ]
      },
      {
       "output_type": "stream",
       "stream": "stdout",
       "text": [
        " \r",
        "0687   6.896053e+01   1.000000e+15   4.478018e-03"
       ]
      },
      {
       "output_type": "stream",
       "stream": "stdout",
       "text": [
        " \r",
        "0688   6.896053e+01   1.000000e+15   4.478018e-03"
       ]
      },
      {
       "output_type": "stream",
       "stream": "stdout",
       "text": [
        " \r",
        "0689   6.896053e+01   1.000000e+15   4.478018e-03"
       ]
      },
      {
       "output_type": "stream",
       "stream": "stdout",
       "text": [
        " \r",
        "0690   6.896053e+01   1.000000e+15   4.478018e-03"
       ]
      },
      {
       "output_type": "stream",
       "stream": "stdout",
       "text": [
        " \r",
        "0691   6.896053e+01   1.000000e+15   4.478018e-03"
       ]
      },
      {
       "output_type": "stream",
       "stream": "stdout",
       "text": [
        " \r",
        "0692   6.896053e+01   1.000000e+15   4.478018e-03"
       ]
      },
      {
       "output_type": "stream",
       "stream": "stdout",
       "text": [
        " \r",
        "0693   6.896053e+01   1.000000e+15   4.478018e-03"
       ]
      },
      {
       "output_type": "stream",
       "stream": "stdout",
       "text": [
        " \r",
        "0694   6.896053e+01   1.000000e+15   4.478018e-03"
       ]
      },
      {
       "output_type": "stream",
       "stream": "stdout",
       "text": [
        " \r",
        "0695   6.896053e+01   1.000000e+15   4.478018e-03"
       ]
      },
      {
       "output_type": "stream",
       "stream": "stdout",
       "text": [
        " \r",
        "0696   6.896053e+01   1.000000e+15   4.478018e-03"
       ]
      },
      {
       "output_type": "stream",
       "stream": "stdout",
       "text": [
        " \r",
        "0697   6.896053e+01   1.000000e+15   4.478018e-03"
       ]
      },
      {
       "output_type": "stream",
       "stream": "stdout",
       "text": [
        " \r",
        "0698   6.896053e+01   1.000000e+15   4.478018e-03"
       ]
      },
      {
       "output_type": "stream",
       "stream": "stdout",
       "text": [
        " \r",
        "0699   6.896053e+01   1.000000e+15   4.478018e-03"
       ]
      },
      {
       "output_type": "stream",
       "stream": "stdout",
       "text": [
        " \r",
        "0700   6.896053e+01   1.000000e+15   4.478018e-03"
       ]
      },
      {
       "output_type": "stream",
       "stream": "stdout",
       "text": [
        " \r",
        "0701   6.896053e+01   1.000000e+15   4.478018e-03"
       ]
      },
      {
       "output_type": "stream",
       "stream": "stdout",
       "text": [
        " \r",
        "0702   6.896053e+01   1.000000e+15   4.478018e-03"
       ]
      },
      {
       "output_type": "stream",
       "stream": "stdout",
       "text": [
        " \r",
        "0703   6.896053e+01   1.000000e+15   4.478018e-03"
       ]
      },
      {
       "output_type": "stream",
       "stream": "stdout",
       "text": [
        " \r",
        "0704   6.896053e+01   1.000000e+15   4.478018e-03"
       ]
      },
      {
       "output_type": "stream",
       "stream": "stdout",
       "text": [
        " \r",
        "0705   6.896053e+01   1.000000e+15   4.478018e-03"
       ]
      },
      {
       "output_type": "stream",
       "stream": "stdout",
       "text": [
        " \r",
        "0706   6.896053e+01   1.000000e+15   4.478018e-03"
       ]
      },
      {
       "output_type": "stream",
       "stream": "stdout",
       "text": [
        " \r",
        "0707   6.896053e+01   1.000000e+15   4.478018e-03"
       ]
      },
      {
       "output_type": "stream",
       "stream": "stdout",
       "text": [
        " \r",
        "0708   6.896053e+01   1.000000e+15   4.478018e-03"
       ]
      },
      {
       "output_type": "stream",
       "stream": "stdout",
       "text": [
        " \r",
        "0709   6.896053e+01   1.000000e+15   4.478018e-03"
       ]
      },
      {
       "output_type": "stream",
       "stream": "stdout",
       "text": [
        " \r",
        "0710   6.896053e+01   1.000000e+15   4.478018e-03"
       ]
      },
      {
       "output_type": "stream",
       "stream": "stdout",
       "text": [
        " \r",
        "0711   6.896053e+01   1.000000e+15   4.478018e-03"
       ]
      },
      {
       "output_type": "stream",
       "stream": "stdout",
       "text": [
        " \r",
        "0712   6.896053e+01   1.000000e+15   4.478018e-03"
       ]
      },
      {
       "output_type": "stream",
       "stream": "stdout",
       "text": [
        " \n",
        "\r",
        "0713   6.896053e+01   1.000000e+15   4.478018e-03"
       ]
      },
      {
       "output_type": "stream",
       "stream": "stdout",
       "text": [
        " \r",
        "0714   6.896053e+01   1.000000e+15   4.478018e-03"
       ]
      },
      {
       "output_type": "stream",
       "stream": "stdout",
       "text": [
        " \r",
        "0715   6.896053e+01   1.000000e+15   4.478018e-03"
       ]
      },
      {
       "output_type": "stream",
       "stream": "stdout",
       "text": [
        " \r",
        "0716   6.896053e+01   1.000000e+15   4.478018e-03"
       ]
      },
      {
       "output_type": "stream",
       "stream": "stdout",
       "text": [
        " \r",
        "0717   6.896053e+01   1.000000e+15   4.478018e-03"
       ]
      },
      {
       "output_type": "stream",
       "stream": "stdout",
       "text": [
        " \r",
        "0718   6.896053e+01   1.000000e+15   4.478018e-03"
       ]
      },
      {
       "output_type": "stream",
       "stream": "stdout",
       "text": [
        " \r",
        "0719   6.896053e+01   1.000000e+15   4.478018e-03"
       ]
      },
      {
       "output_type": "stream",
       "stream": "stdout",
       "text": [
        " \r",
        "0720   6.896053e+01   1.000000e+15   4.478018e-03"
       ]
      },
      {
       "output_type": "stream",
       "stream": "stdout",
       "text": [
        " \r",
        "0721   6.896053e+01   1.000000e+15   4.478018e-03"
       ]
      },
      {
       "output_type": "stream",
       "stream": "stdout",
       "text": [
        " \r",
        "0722   6.896053e+01   1.000000e+15   4.478018e-03"
       ]
      },
      {
       "output_type": "stream",
       "stream": "stdout",
       "text": [
        " \r",
        "0723   6.896053e+01   1.000000e+15   4.478018e-03"
       ]
      },
      {
       "output_type": "stream",
       "stream": "stdout",
       "text": [
        " \r",
        "0724   6.896053e+01   1.000000e+15   4.478018e-03"
       ]
      },
      {
       "output_type": "stream",
       "stream": "stdout",
       "text": [
        " \r",
        "0725   6.896053e+01   1.000000e+15   4.478018e-03"
       ]
      },
      {
       "output_type": "stream",
       "stream": "stdout",
       "text": [
        " \r",
        "0726   6.896053e+01   1.000000e+15   4.478018e-03"
       ]
      },
      {
       "output_type": "stream",
       "stream": "stdout",
       "text": [
        " \r",
        "0727   6.896053e+01   1.000000e+15   4.478018e-03"
       ]
      },
      {
       "output_type": "stream",
       "stream": "stdout",
       "text": [
        " \r",
        "0728   6.896053e+01   1.000000e+15   4.478018e-03"
       ]
      },
      {
       "output_type": "stream",
       "stream": "stdout",
       "text": [
        " \r",
        "0729   6.896053e+01   1.000000e+15   4.478018e-03"
       ]
      },
      {
       "output_type": "stream",
       "stream": "stdout",
       "text": [
        " \r",
        "0730   6.896053e+01   1.000000e+15   4.478018e-03"
       ]
      },
      {
       "output_type": "stream",
       "stream": "stdout",
       "text": [
        " \r",
        "0731   6.896053e+01   1.000000e+15   4.478018e-03"
       ]
      },
      {
       "output_type": "stream",
       "stream": "stdout",
       "text": [
        " \r",
        "0732   6.896053e+01   1.000000e+15   4.478018e-03"
       ]
      },
      {
       "output_type": "stream",
       "stream": "stdout",
       "text": [
        " \r",
        "0733   6.896053e+01   1.000000e+15   4.478018e-03"
       ]
      },
      {
       "output_type": "stream",
       "stream": "stdout",
       "text": [
        " \r",
        "0734   6.896053e+01   1.000000e+15   4.478018e-03"
       ]
      },
      {
       "output_type": "stream",
       "stream": "stdout",
       "text": [
        " \r",
        "0735   6.896053e+01   1.000000e+15   4.478018e-03"
       ]
      },
      {
       "output_type": "stream",
       "stream": "stdout",
       "text": [
        " \r",
        "0736   6.896053e+01   1.000000e+15   4.478018e-03"
       ]
      },
      {
       "output_type": "stream",
       "stream": "stdout",
       "text": [
        " \r",
        "0737   6.896053e+01   1.000000e+15   4.478018e-03"
       ]
      },
      {
       "output_type": "stream",
       "stream": "stdout",
       "text": [
        " \r",
        "0738   6.896053e+01   1.000000e+15   4.478018e-03"
       ]
      },
      {
       "output_type": "stream",
       "stream": "stdout",
       "text": [
        " \r",
        "0739   6.896053e+01   1.000000e+15   4.478018e-03"
       ]
      },
      {
       "output_type": "stream",
       "stream": "stdout",
       "text": [
        " \r",
        "0740   6.896053e+01   1.000000e+15   4.478018e-03"
       ]
      },
      {
       "output_type": "stream",
       "stream": "stdout",
       "text": [
        " \r",
        "0741   6.896053e+01   1.000000e+15   4.478018e-03"
       ]
      },
      {
       "output_type": "stream",
       "stream": "stdout",
       "text": [
        " \r",
        "0742   6.896053e+01   1.000000e+15   4.478018e-03"
       ]
      },
      {
       "output_type": "stream",
       "stream": "stdout",
       "text": [
        " \r",
        "0743   6.896053e+01   1.000000e+15   4.478018e-03"
       ]
      },
      {
       "output_type": "stream",
       "stream": "stdout",
       "text": [
        " \r",
        "0744   6.896053e+01   1.000000e+15   4.478018e-03"
       ]
      },
      {
       "output_type": "stream",
       "stream": "stdout",
       "text": [
        " \r",
        "0745   6.896053e+01   1.000000e+15   4.478018e-03"
       ]
      },
      {
       "output_type": "stream",
       "stream": "stdout",
       "text": [
        " \r",
        "0746   6.896053e+01   1.000000e+15   4.478018e-03"
       ]
      },
      {
       "output_type": "stream",
       "stream": "stdout",
       "text": [
        " \r",
        "0747   6.896053e+01   1.000000e+15   4.478018e-03"
       ]
      },
      {
       "output_type": "stream",
       "stream": "stdout",
       "text": [
        " \r",
        "0748   6.896053e+01   1.000000e+15   4.478018e-03"
       ]
      },
      {
       "output_type": "stream",
       "stream": "stdout",
       "text": [
        " \r",
        "0749   6.896053e+01   1.000000e+15   4.478018e-03"
       ]
      },
      {
       "output_type": "stream",
       "stream": "stdout",
       "text": [
        " \r",
        "0750   6.896053e+01   1.000000e+15   4.478018e-03"
       ]
      },
      {
       "output_type": "stream",
       "stream": "stdout",
       "text": [
        " \r",
        "0751   6.896053e+01   1.000000e+15   4.478018e-03"
       ]
      },
      {
       "output_type": "stream",
       "stream": "stdout",
       "text": [
        " \r",
        "0752   6.896053e+01   1.000000e+15   4.478018e-03"
       ]
      },
      {
       "output_type": "stream",
       "stream": "stdout",
       "text": [
        " \r",
        "0753   6.896053e+01   1.000000e+15   4.478018e-03"
       ]
      },
      {
       "output_type": "stream",
       "stream": "stdout",
       "text": [
        " \r",
        "0754   6.896053e+01   1.000000e+15   4.478018e-03"
       ]
      },
      {
       "output_type": "stream",
       "stream": "stdout",
       "text": [
        " \r",
        "0755   6.896053e+01   1.000000e+15   4.478018e-03"
       ]
      },
      {
       "output_type": "stream",
       "stream": "stdout",
       "text": [
        " \r",
        "0756   6.896053e+01   1.000000e+15   4.478018e-03"
       ]
      },
      {
       "output_type": "stream",
       "stream": "stdout",
       "text": [
        " \r",
        "0757   6.896053e+01   1.000000e+15   4.478018e-03"
       ]
      },
      {
       "output_type": "stream",
       "stream": "stdout",
       "text": [
        " \r",
        "0758   6.896053e+01   1.000000e+15   4.478018e-03"
       ]
      },
      {
       "output_type": "stream",
       "stream": "stdout",
       "text": [
        " \r",
        "0759   6.896053e+01   1.000000e+15   4.478018e-03"
       ]
      },
      {
       "output_type": "stream",
       "stream": "stdout",
       "text": [
        " \r",
        "0760   6.896053e+01   1.000000e+15   4.478018e-03"
       ]
      },
      {
       "output_type": "stream",
       "stream": "stdout",
       "text": [
        " \r",
        "0761   6.896053e+01   1.000000e+15   4.478018e-03"
       ]
      },
      {
       "output_type": "stream",
       "stream": "stdout",
       "text": [
        " \r",
        "0762   6.896053e+01   1.000000e+15   4.478018e-03"
       ]
      },
      {
       "output_type": "stream",
       "stream": "stdout",
       "text": [
        " \r",
        "0763   6.896053e+01   1.000000e+15   4.478018e-03"
       ]
      },
      {
       "output_type": "stream",
       "stream": "stdout",
       "text": [
        " \r",
        "0764   6.896053e+01   1.000000e+15   4.478018e-03"
       ]
      },
      {
       "output_type": "stream",
       "stream": "stdout",
       "text": [
        " \r",
        "0765   6.896053e+01   1.000000e+15   4.478018e-03"
       ]
      },
      {
       "output_type": "stream",
       "stream": "stdout",
       "text": [
        " \r",
        "0766   6.896053e+01   1.000000e+15   4.478018e-03"
       ]
      },
      {
       "output_type": "stream",
       "stream": "stdout",
       "text": [
        " \r",
        "0767   6.896053e+01   1.000000e+15   4.478018e-03"
       ]
      },
      {
       "output_type": "stream",
       "stream": "stdout",
       "text": [
        " \r",
        "0768   6.896053e+01   1.000000e+15   4.478018e-03"
       ]
      },
      {
       "output_type": "stream",
       "stream": "stdout",
       "text": [
        " \r",
        "0769   6.896053e+01   1.000000e+15   4.478018e-03"
       ]
      },
      {
       "output_type": "stream",
       "stream": "stdout",
       "text": [
        " \r",
        "0770   6.896053e+01   1.000000e+15   4.478018e-03"
       ]
      },
      {
       "output_type": "stream",
       "stream": "stdout",
       "text": [
        " \r",
        "0771   6.896053e+01   1.000000e+15   4.478018e-03"
       ]
      },
      {
       "output_type": "stream",
       "stream": "stdout",
       "text": [
        " \r",
        "0772   6.896053e+01   1.000000e+15   4.478018e-03"
       ]
      },
      {
       "output_type": "stream",
       "stream": "stdout",
       "text": [
        " \r",
        "0773   6.896053e+01   1.000000e+15   4.478018e-03"
       ]
      },
      {
       "output_type": "stream",
       "stream": "stdout",
       "text": [
        " \r",
        "0774   6.896053e+01   1.000000e+15   4.478018e-03"
       ]
      },
      {
       "output_type": "stream",
       "stream": "stdout",
       "text": [
        " \r",
        "0775   6.896053e+01   1.000000e+15   4.478018e-03"
       ]
      },
      {
       "output_type": "stream",
       "stream": "stdout",
       "text": [
        " \r",
        "0776   6.896053e+01   1.000000e+15   4.478018e-03"
       ]
      },
      {
       "output_type": "stream",
       "stream": "stdout",
       "text": [
        " \r",
        "0777   6.896053e+01   1.000000e+15   4.478018e-03"
       ]
      },
      {
       "output_type": "stream",
       "stream": "stdout",
       "text": [
        " \r",
        "0778   6.896053e+01   1.000000e+15   4.478018e-03"
       ]
      },
      {
       "output_type": "stream",
       "stream": "stdout",
       "text": [
        " \r",
        "0779   6.896053e+01   1.000000e+15   4.478018e-03"
       ]
      },
      {
       "output_type": "stream",
       "stream": "stdout",
       "text": [
        " \r",
        "0780   6.896053e+01   1.000000e+15   4.478018e-03"
       ]
      },
      {
       "output_type": "stream",
       "stream": "stdout",
       "text": [
        " \r",
        "0781   6.896053e+01   1.000000e+15   4.478018e-03"
       ]
      },
      {
       "output_type": "stream",
       "stream": "stdout",
       "text": [
        " \r",
        "0782   6.896053e+01   1.000000e+15   4.478018e-03"
       ]
      },
      {
       "output_type": "stream",
       "stream": "stdout",
       "text": [
        " \r",
        "0783   6.896053e+01   1.000000e+15   4.478018e-03"
       ]
      },
      {
       "output_type": "stream",
       "stream": "stdout",
       "text": [
        " \r",
        "0784   6.896053e+01   1.000000e+15   4.478018e-03"
       ]
      },
      {
       "output_type": "stream",
       "stream": "stdout",
       "text": [
        " \r",
        "0785   6.896053e+01   1.000000e+15   4.478018e-03"
       ]
      },
      {
       "output_type": "stream",
       "stream": "stdout",
       "text": [
        " \r",
        "0786   6.896053e+01   1.000000e+15   4.478018e-03"
       ]
      },
      {
       "output_type": "stream",
       "stream": "stdout",
       "text": [
        " \r",
        "0787   6.896053e+01   1.000000e+15   4.478018e-03"
       ]
      },
      {
       "output_type": "stream",
       "stream": "stdout",
       "text": [
        " \r",
        "0788   6.896053e+01   1.000000e+15   4.478018e-03"
       ]
      },
      {
       "output_type": "stream",
       "stream": "stdout",
       "text": [
        " \r",
        "0789   6.896053e+01   1.000000e+15   4.478018e-03"
       ]
      },
      {
       "output_type": "stream",
       "stream": "stdout",
       "text": [
        " \r",
        "0790   6.896053e+01   1.000000e+15   4.478018e-03"
       ]
      },
      {
       "output_type": "stream",
       "stream": "stdout",
       "text": [
        " \r",
        "0791   6.896053e+01   1.000000e+15   4.478018e-03"
       ]
      },
      {
       "output_type": "stream",
       "stream": "stdout",
       "text": [
        " \r",
        "0792   6.896053e+01   1.000000e+15   4.478018e-03"
       ]
      },
      {
       "output_type": "stream",
       "stream": "stdout",
       "text": [
        " \r",
        "0793   6.896053e+01   1.000000e+15   4.478018e-03"
       ]
      },
      {
       "output_type": "stream",
       "stream": "stdout",
       "text": [
        " \r",
        "0794   6.896053e+01   1.000000e+15   4.478018e-03"
       ]
      },
      {
       "output_type": "stream",
       "stream": "stdout",
       "text": [
        " \r",
        "0795   6.896053e+01   1.000000e+15   4.478018e-03"
       ]
      },
      {
       "output_type": "stream",
       "stream": "stdout",
       "text": [
        " \r",
        "0796   6.896053e+01   1.000000e+15   4.478018e-03"
       ]
      },
      {
       "output_type": "stream",
       "stream": "stdout",
       "text": [
        " \r",
        "0797   6.896053e+01   1.000000e+15   4.478018e-03"
       ]
      },
      {
       "output_type": "stream",
       "stream": "stdout",
       "text": [
        " \r",
        "0798   6.896053e+01   1.000000e+15   4.478018e-03"
       ]
      },
      {
       "output_type": "stream",
       "stream": "stdout",
       "text": [
        " \r",
        "0799   6.896053e+01   1.000000e+15   4.478018e-03"
       ]
      },
      {
       "output_type": "stream",
       "stream": "stdout",
       "text": [
        " \r",
        "0800   6.896053e+01   1.000000e+15   4.478018e-03"
       ]
      },
      {
       "output_type": "stream",
       "stream": "stdout",
       "text": [
        " \r",
        "0801   6.896053e+01   1.000000e+15   4.478018e-03"
       ]
      },
      {
       "output_type": "stream",
       "stream": "stdout",
       "text": [
        " \r",
        "0802   6.896053e+01   1.000000e+15   4.478018e-03"
       ]
      },
      {
       "output_type": "stream",
       "stream": "stdout",
       "text": [
        " \r",
        "0803   6.896053e+01   1.000000e+15   4.478018e-03"
       ]
      },
      {
       "output_type": "stream",
       "stream": "stdout",
       "text": [
        " \r",
        "0804   6.896053e+01   1.000000e+15   4.478018e-03"
       ]
      },
      {
       "output_type": "stream",
       "stream": "stdout",
       "text": [
        " \r",
        "0805   6.896053e+01   1.000000e+15   4.478018e-03"
       ]
      },
      {
       "output_type": "stream",
       "stream": "stdout",
       "text": [
        " \r",
        "0806   6.896053e+01   1.000000e+15   4.478018e-03"
       ]
      },
      {
       "output_type": "stream",
       "stream": "stdout",
       "text": [
        " \r",
        "0807   6.896053e+01   1.000000e+15   4.478018e-03"
       ]
      },
      {
       "output_type": "stream",
       "stream": "stdout",
       "text": [
        " \r",
        "0808   6.896053e+01   1.000000e+15   4.478018e-03"
       ]
      },
      {
       "output_type": "stream",
       "stream": "stdout",
       "text": [
        " \r",
        "0809   6.896053e+01   1.000000e+15   4.478018e-03"
       ]
      },
      {
       "output_type": "stream",
       "stream": "stdout",
       "text": [
        " \r",
        "0810   6.896053e+01   1.000000e+15   4.478018e-03"
       ]
      },
      {
       "output_type": "stream",
       "stream": "stdout",
       "text": [
        " \r",
        "0811   6.896053e+01   1.000000e+15   4.478018e-03"
       ]
      },
      {
       "output_type": "stream",
       "stream": "stdout",
       "text": [
        " \r",
        "0812   6.896053e+01   1.000000e+15   4.478018e-03"
       ]
      },
      {
       "output_type": "stream",
       "stream": "stdout",
       "text": [
        " \r",
        "0813   6.896053e+01   1.000000e+15   4.478018e-03"
       ]
      },
      {
       "output_type": "stream",
       "stream": "stdout",
       "text": [
        " \r",
        "0814   6.896053e+01   1.000000e+15   4.478018e-03"
       ]
      },
      {
       "output_type": "stream",
       "stream": "stdout",
       "text": [
        " \r",
        "0815   6.896053e+01   1.000000e+15   4.478018e-03"
       ]
      },
      {
       "output_type": "stream",
       "stream": "stdout",
       "text": [
        " \r",
        "0816   6.896053e+01   1.000000e+15   4.478018e-03"
       ]
      },
      {
       "output_type": "stream",
       "stream": "stdout",
       "text": [
        " \r",
        "0817   6.896053e+01   1.000000e+15   4.478018e-03"
       ]
      },
      {
       "output_type": "stream",
       "stream": "stdout",
       "text": [
        " \r",
        "0818   6.896053e+01   1.000000e+15   4.478018e-03"
       ]
      },
      {
       "output_type": "stream",
       "stream": "stdout",
       "text": [
        " \r",
        "0819   6.896053e+01   1.000000e+15   4.478018e-03"
       ]
      },
      {
       "output_type": "stream",
       "stream": "stdout",
       "text": [
        " \r",
        "0820   6.896053e+01   1.000000e+15   4.478018e-03"
       ]
      },
      {
       "output_type": "stream",
       "stream": "stdout",
       "text": [
        " \r",
        "0821   6.896053e+01   1.000000e+15   4.478018e-03"
       ]
      },
      {
       "output_type": "stream",
       "stream": "stdout",
       "text": [
        " \r",
        "0822   6.896053e+01   1.000000e+15   4.478018e-03"
       ]
      },
      {
       "output_type": "stream",
       "stream": "stdout",
       "text": [
        " \r",
        "0823   6.896053e+01   1.000000e+15   4.478018e-03"
       ]
      },
      {
       "output_type": "stream",
       "stream": "stdout",
       "text": [
        " \r",
        "0824   6.896053e+01   1.000000e+15   4.478018e-03"
       ]
      },
      {
       "output_type": "stream",
       "stream": "stdout",
       "text": [
        " \r",
        "0825   6.896053e+01   1.000000e+15   4.478018e-03"
       ]
      },
      {
       "output_type": "stream",
       "stream": "stdout",
       "text": [
        " \r",
        "0826   6.896053e+01   1.000000e+15   4.478018e-03"
       ]
      },
      {
       "output_type": "stream",
       "stream": "stdout",
       "text": [
        " \r",
        "0827   6.896053e+01   1.000000e+15   4.478018e-03"
       ]
      },
      {
       "output_type": "stream",
       "stream": "stdout",
       "text": [
        " \r",
        "0828   6.896053e+01   1.000000e+15   4.478018e-03"
       ]
      },
      {
       "output_type": "stream",
       "stream": "stdout",
       "text": [
        " \r",
        "0829   6.896053e+01   1.000000e+15   4.478018e-03"
       ]
      },
      {
       "output_type": "stream",
       "stream": "stdout",
       "text": [
        " \r",
        "0830   6.896053e+01   1.000000e+15   4.478018e-03"
       ]
      },
      {
       "output_type": "stream",
       "stream": "stdout",
       "text": [
        " \r",
        "0831   6.896053e+01   1.000000e+15   4.478018e-03"
       ]
      },
      {
       "output_type": "stream",
       "stream": "stdout",
       "text": [
        " \r",
        "0832   6.896053e+01   1.000000e+15   4.478018e-03"
       ]
      },
      {
       "output_type": "stream",
       "stream": "stdout",
       "text": [
        " \r",
        "0833   6.896053e+01   1.000000e+15   4.478018e-03"
       ]
      },
      {
       "output_type": "stream",
       "stream": "stdout",
       "text": [
        " \r",
        "0834   6.896053e+01   1.000000e+15   4.478018e-03"
       ]
      },
      {
       "output_type": "stream",
       "stream": "stdout",
       "text": [
        " \r",
        "0835   6.896053e+01   1.000000e+15   4.478018e-03"
       ]
      },
      {
       "output_type": "stream",
       "stream": "stdout",
       "text": [
        " \r",
        "0836   6.896053e+01   1.000000e+15   4.478018e-03"
       ]
      },
      {
       "output_type": "stream",
       "stream": "stdout",
       "text": [
        " \r",
        "0837   6.896053e+01   1.000000e+15   4.478018e-03"
       ]
      },
      {
       "output_type": "stream",
       "stream": "stdout",
       "text": [
        " \r",
        "0838   6.896053e+01   1.000000e+15   4.478018e-03"
       ]
      },
      {
       "output_type": "stream",
       "stream": "stdout",
       "text": [
        " \r",
        "0839   6.896053e+01   1.000000e+15   4.478018e-03"
       ]
      },
      {
       "output_type": "stream",
       "stream": "stdout",
       "text": [
        " \r",
        "0840   6.896053e+01   1.000000e+15   4.478018e-03"
       ]
      },
      {
       "output_type": "stream",
       "stream": "stdout",
       "text": [
        " \r",
        "0841   6.896053e+01   1.000000e+15   4.478018e-03"
       ]
      },
      {
       "output_type": "stream",
       "stream": "stdout",
       "text": [
        " \r",
        "0842   6.896053e+01   1.000000e+15   4.478018e-03"
       ]
      },
      {
       "output_type": "stream",
       "stream": "stdout",
       "text": [
        " \r",
        "0843   6.896053e+01   1.000000e+15   4.478018e-03"
       ]
      },
      {
       "output_type": "stream",
       "stream": "stdout",
       "text": [
        " \r",
        "0844   6.896053e+01   1.000000e+15   4.478018e-03"
       ]
      },
      {
       "output_type": "stream",
       "stream": "stdout",
       "text": [
        " \r",
        "0845   6.896053e+01   1.000000e+15   4.478018e-03"
       ]
      },
      {
       "output_type": "stream",
       "stream": "stdout",
       "text": [
        " \r",
        "0846   6.896053e+01   1.000000e+15   4.478018e-03"
       ]
      },
      {
       "output_type": "stream",
       "stream": "stdout",
       "text": [
        " \r",
        "0847   6.896053e+01   1.000000e+15   4.478018e-03"
       ]
      },
      {
       "output_type": "stream",
       "stream": "stdout",
       "text": [
        " \r",
        "0848   6.896053e+01   1.000000e+15   4.478018e-03"
       ]
      },
      {
       "output_type": "stream",
       "stream": "stdout",
       "text": [
        " \r",
        "0849   6.896053e+01   1.000000e+15   4.478018e-03"
       ]
      },
      {
       "output_type": "stream",
       "stream": "stdout",
       "text": [
        " \r",
        "0850   6.896053e+01   1.000000e+15   4.478018e-03"
       ]
      },
      {
       "output_type": "stream",
       "stream": "stdout",
       "text": [
        " \r",
        "0851   6.896053e+01   1.000000e+15   4.478018e-03"
       ]
      },
      {
       "output_type": "stream",
       "stream": "stdout",
       "text": [
        " \r",
        "0852   6.896053e+01   1.000000e+15   4.478018e-03"
       ]
      },
      {
       "output_type": "stream",
       "stream": "stdout",
       "text": [
        " \r",
        "0853   6.896053e+01   1.000000e+15   4.478018e-03"
       ]
      },
      {
       "output_type": "stream",
       "stream": "stdout",
       "text": [
        " \r",
        "0854   6.896053e+01   1.000000e+15   4.478018e-03"
       ]
      },
      {
       "output_type": "stream",
       "stream": "stdout",
       "text": [
        " \r",
        "0855   6.896053e+01   1.000000e+15   4.478018e-03"
       ]
      },
      {
       "output_type": "stream",
       "stream": "stdout",
       "text": [
        " \r",
        "0856   6.896053e+01   1.000000e+15   4.478018e-03"
       ]
      },
      {
       "output_type": "stream",
       "stream": "stdout",
       "text": [
        " \r",
        "0857   6.896053e+01   1.000000e+15   4.478018e-03"
       ]
      },
      {
       "output_type": "stream",
       "stream": "stdout",
       "text": [
        " \r",
        "0858   6.896053e+01   1.000000e+15   4.478018e-03"
       ]
      },
      {
       "output_type": "stream",
       "stream": "stdout",
       "text": [
        " \r",
        "0859   6.896053e+01   1.000000e+15   4.478018e-03"
       ]
      },
      {
       "output_type": "stream",
       "stream": "stdout",
       "text": [
        " \r",
        "0860   6.896053e+01   1.000000e+15   4.478018e-03"
       ]
      },
      {
       "output_type": "stream",
       "stream": "stdout",
       "text": [
        " \r",
        "0861   6.896053e+01   1.000000e+15   4.478018e-03"
       ]
      },
      {
       "output_type": "stream",
       "stream": "stdout",
       "text": [
        " \r",
        "0862   6.896053e+01   1.000000e+15   4.478018e-03"
       ]
      },
      {
       "output_type": "stream",
       "stream": "stdout",
       "text": [
        " \r",
        "0863   6.896053e+01   1.000000e+15   4.478018e-03"
       ]
      },
      {
       "output_type": "stream",
       "stream": "stdout",
       "text": [
        " \r",
        "0864   6.896053e+01   1.000000e+15   4.478018e-03"
       ]
      },
      {
       "output_type": "stream",
       "stream": "stdout",
       "text": [
        " \r",
        "0865   6.896053e+01   1.000000e+15   4.478018e-03"
       ]
      },
      {
       "output_type": "stream",
       "stream": "stdout",
       "text": [
        " \r",
        "0866   6.896053e+01   1.000000e+15   4.478018e-03"
       ]
      },
      {
       "output_type": "stream",
       "stream": "stdout",
       "text": [
        " \r",
        "0867   6.896053e+01   1.000000e+15   4.478018e-03"
       ]
      },
      {
       "output_type": "stream",
       "stream": "stdout",
       "text": [
        " \r",
        "0868   6.896053e+01   1.000000e+15   4.478018e-03"
       ]
      },
      {
       "output_type": "stream",
       "stream": "stdout",
       "text": [
        " \r",
        "0869   6.896053e+01   1.000000e+15   4.478018e-03"
       ]
      },
      {
       "output_type": "stream",
       "stream": "stdout",
       "text": [
        " \r",
        "0870   6.896053e+01   1.000000e+15   4.478018e-03"
       ]
      },
      {
       "output_type": "stream",
       "stream": "stdout",
       "text": [
        " \r",
        "0871   6.896053e+01   1.000000e+15   4.478018e-03"
       ]
      },
      {
       "output_type": "stream",
       "stream": "stdout",
       "text": [
        " \r",
        "0872   6.896053e+01   1.000000e+15   4.478018e-03"
       ]
      },
      {
       "output_type": "stream",
       "stream": "stdout",
       "text": [
        " \r",
        "0873   6.896053e+01   1.000000e+15   4.478018e-03"
       ]
      },
      {
       "output_type": "stream",
       "stream": "stdout",
       "text": [
        " \r",
        "0874   6.896053e+01   1.000000e+15   4.478018e-03"
       ]
      },
      {
       "output_type": "stream",
       "stream": "stdout",
       "text": [
        " \r",
        "0875   6.896053e+01   1.000000e+15   4.478018e-03"
       ]
      },
      {
       "output_type": "stream",
       "stream": "stdout",
       "text": [
        " \r",
        "0876   6.896053e+01   1.000000e+15   4.478018e-03"
       ]
      },
      {
       "output_type": "stream",
       "stream": "stdout",
       "text": [
        " \r",
        "0877   6.896053e+01   1.000000e+15   4.478018e-03"
       ]
      },
      {
       "output_type": "stream",
       "stream": "stdout",
       "text": [
        " \r",
        "0878   6.896053e+01   1.000000e+15   4.478018e-03"
       ]
      },
      {
       "output_type": "stream",
       "stream": "stdout",
       "text": [
        " \r",
        "0879   6.896053e+01   1.000000e+15   4.478018e-03"
       ]
      },
      {
       "output_type": "stream",
       "stream": "stdout",
       "text": [
        " \r",
        "0880   6.896053e+01   1.000000e+15   4.478018e-03"
       ]
      },
      {
       "output_type": "stream",
       "stream": "stdout",
       "text": [
        " \r",
        "0881   6.896053e+01   1.000000e+15   4.478018e-03"
       ]
      },
      {
       "output_type": "stream",
       "stream": "stdout",
       "text": [
        " \r",
        "0882   6.896053e+01   1.000000e+15   4.478018e-03"
       ]
      },
      {
       "output_type": "stream",
       "stream": "stdout",
       "text": [
        " \r",
        "0883   6.896053e+01   1.000000e+15   4.478018e-03"
       ]
      },
      {
       "output_type": "stream",
       "stream": "stdout",
       "text": [
        " \r",
        "0884   6.896053e+01   1.000000e+15   4.478018e-03"
       ]
      },
      {
       "output_type": "stream",
       "stream": "stdout",
       "text": [
        " \r",
        "0885   6.896053e+01   1.000000e+15   4.478018e-03"
       ]
      },
      {
       "output_type": "stream",
       "stream": "stdout",
       "text": [
        " \r",
        "0886   6.896053e+01   1.000000e+15   4.478018e-03"
       ]
      },
      {
       "output_type": "stream",
       "stream": "stdout",
       "text": [
        " \r",
        "0887   6.896053e+01   1.000000e+15   4.478018e-03"
       ]
      },
      {
       "output_type": "stream",
       "stream": "stdout",
       "text": [
        " \r",
        "0888   6.896053e+01   1.000000e+15   4.478018e-03"
       ]
      },
      {
       "output_type": "stream",
       "stream": "stdout",
       "text": [
        " \r",
        "0889   6.896053e+01   1.000000e+15   4.478018e-03"
       ]
      },
      {
       "output_type": "stream",
       "stream": "stdout",
       "text": [
        " \r",
        "0890   6.896053e+01   1.000000e+15   4.478018e-03"
       ]
      },
      {
       "output_type": "stream",
       "stream": "stdout",
       "text": [
        " \r",
        "0891   6.896053e+01   1.000000e+15   4.478018e-03"
       ]
      },
      {
       "output_type": "stream",
       "stream": "stdout",
       "text": [
        " \r",
        "0892   6.896053e+01   1.000000e+15   4.478018e-03"
       ]
      },
      {
       "output_type": "stream",
       "stream": "stdout",
       "text": [
        " \r",
        "0893   6.896053e+01   1.000000e+15   4.478018e-03"
       ]
      },
      {
       "output_type": "stream",
       "stream": "stdout",
       "text": [
        " \r",
        "0894   6.896053e+01   1.000000e+15   4.478018e-03"
       ]
      },
      {
       "output_type": "stream",
       "stream": "stdout",
       "text": [
        " \r",
        "0895   6.896053e+01   1.000000e+15   4.478018e-03"
       ]
      },
      {
       "output_type": "stream",
       "stream": "stdout",
       "text": [
        " \r",
        "0896   6.896053e+01   1.000000e+15   4.478018e-03"
       ]
      },
      {
       "output_type": "stream",
       "stream": "stdout",
       "text": [
        " \r",
        "0897   6.896053e+01   1.000000e+15   4.478018e-03"
       ]
      },
      {
       "output_type": "stream",
       "stream": "stdout",
       "text": [
        " \r",
        "0898   6.896053e+01   1.000000e+15   4.478018e-03"
       ]
      },
      {
       "output_type": "stream",
       "stream": "stdout",
       "text": [
        " \r",
        "0899   6.896053e+01   1.000000e+15   4.478018e-03"
       ]
      },
      {
       "output_type": "stream",
       "stream": "stdout",
       "text": [
        " \r",
        "0900   6.896053e+01   1.000000e+15   4.478018e-03"
       ]
      },
      {
       "output_type": "stream",
       "stream": "stdout",
       "text": [
        " \r",
        "0901   6.896053e+01   1.000000e+15   4.478018e-03"
       ]
      },
      {
       "output_type": "stream",
       "stream": "stdout",
       "text": [
        " \r",
        "0902   6.896053e+01   1.000000e+15   4.478018e-03"
       ]
      },
      {
       "output_type": "stream",
       "stream": "stdout",
       "text": [
        " \r",
        "0903   6.896053e+01   1.000000e+15   4.478018e-03"
       ]
      },
      {
       "output_type": "stream",
       "stream": "stdout",
       "text": [
        " \r",
        "0904   6.896053e+01   1.000000e+15   4.478018e-03"
       ]
      },
      {
       "output_type": "stream",
       "stream": "stdout",
       "text": [
        " \r",
        "0905   6.896053e+01   1.000000e+15   4.478018e-03"
       ]
      },
      {
       "output_type": "stream",
       "stream": "stdout",
       "text": [
        " \r",
        "0906   6.896053e+01   1.000000e+15   4.478018e-03"
       ]
      },
      {
       "output_type": "stream",
       "stream": "stdout",
       "text": [
        " \r",
        "0907   6.896053e+01   1.000000e+15   4.478018e-03"
       ]
      },
      {
       "output_type": "stream",
       "stream": "stdout",
       "text": [
        " \r",
        "0908   6.896053e+01   1.000000e+15   4.478018e-03"
       ]
      },
      {
       "output_type": "stream",
       "stream": "stdout",
       "text": [
        " \r",
        "0909   6.896053e+01   1.000000e+15   4.478018e-03"
       ]
      },
      {
       "output_type": "stream",
       "stream": "stdout",
       "text": [
        " \r",
        "0910   6.896053e+01   1.000000e+15   4.478018e-03"
       ]
      },
      {
       "output_type": "stream",
       "stream": "stdout",
       "text": [
        " \r",
        "0911   6.896053e+01   1.000000e+15   4.478018e-03"
       ]
      },
      {
       "output_type": "stream",
       "stream": "stdout",
       "text": [
        " \r",
        "0912   6.896053e+01   1.000000e+15   4.478018e-03"
       ]
      },
      {
       "output_type": "stream",
       "stream": "stdout",
       "text": [
        " \r",
        "0913   6.896053e+01   1.000000e+15   4.478018e-03"
       ]
      },
      {
       "output_type": "stream",
       "stream": "stdout",
       "text": [
        " \r",
        "0914   6.896053e+01   1.000000e+15   4.478018e-03"
       ]
      },
      {
       "output_type": "stream",
       "stream": "stdout",
       "text": [
        " \r",
        "0915   6.896053e+01   1.000000e+15   4.478018e-03"
       ]
      },
      {
       "output_type": "stream",
       "stream": "stdout",
       "text": [
        " \r",
        "0916   6.896053e+01   1.000000e+15   4.478018e-03"
       ]
      },
      {
       "output_type": "stream",
       "stream": "stdout",
       "text": [
        " \r",
        "0917   6.896053e+01   1.000000e+15   4.478018e-03"
       ]
      },
      {
       "output_type": "stream",
       "stream": "stdout",
       "text": [
        " \r",
        "0918   6.896053e+01   1.000000e+15   4.478018e-03"
       ]
      },
      {
       "output_type": "stream",
       "stream": "stdout",
       "text": [
        " \r",
        "0919   6.896053e+01   1.000000e+15   4.478018e-03"
       ]
      },
      {
       "output_type": "stream",
       "stream": "stdout",
       "text": [
        " \r",
        "0920   6.896053e+01   1.000000e+15   4.478018e-03"
       ]
      },
      {
       "output_type": "stream",
       "stream": "stdout",
       "text": [
        " \r",
        "0921   6.896053e+01   1.000000e+15   4.478018e-03"
       ]
      },
      {
       "output_type": "stream",
       "stream": "stdout",
       "text": [
        " \r",
        "0922   6.896053e+01   1.000000e+15   4.478018e-03"
       ]
      },
      {
       "output_type": "stream",
       "stream": "stdout",
       "text": [
        " \r",
        "0923   6.896053e+01   1.000000e+15   4.478018e-03"
       ]
      },
      {
       "output_type": "stream",
       "stream": "stdout",
       "text": [
        " \r",
        "0924   6.896053e+01   1.000000e+15   4.478018e-03"
       ]
      },
      {
       "output_type": "stream",
       "stream": "stdout",
       "text": [
        " \r",
        "0925   6.896053e+01   1.000000e+15   4.478018e-03"
       ]
      },
      {
       "output_type": "stream",
       "stream": "stdout",
       "text": [
        " \r",
        "0926   6.896053e+01   1.000000e+15   4.478018e-03"
       ]
      },
      {
       "output_type": "stream",
       "stream": "stdout",
       "text": [
        " \r",
        "0927   6.896053e+01   1.000000e+15   4.478018e-03"
       ]
      },
      {
       "output_type": "stream",
       "stream": "stdout",
       "text": [
        " \r",
        "0928   6.896053e+01   1.000000e+15   4.478018e-03"
       ]
      },
      {
       "output_type": "stream",
       "stream": "stdout",
       "text": [
        " \r",
        "0929   6.896053e+01   1.000000e+15   4.478018e-03"
       ]
      },
      {
       "output_type": "stream",
       "stream": "stdout",
       "text": [
        " \r",
        "0930   6.896053e+01   1.000000e+15   4.478018e-03"
       ]
      },
      {
       "output_type": "stream",
       "stream": "stdout",
       "text": [
        " \r",
        "0931   6.896053e+01   1.000000e+15   4.478018e-03"
       ]
      },
      {
       "output_type": "stream",
       "stream": "stdout",
       "text": [
        " \r",
        "0932   6.896053e+01   1.000000e+15   4.478018e-03"
       ]
      },
      {
       "output_type": "stream",
       "stream": "stdout",
       "text": [
        " \r",
        "0933   6.896053e+01   1.000000e+15   4.478018e-03"
       ]
      },
      {
       "output_type": "stream",
       "stream": "stdout",
       "text": [
        " \r",
        "0934   6.896053e+01   1.000000e+15   4.478018e-03"
       ]
      },
      {
       "output_type": "stream",
       "stream": "stdout",
       "text": [
        " \r",
        "0935   6.896053e+01   1.000000e+15   4.478018e-03"
       ]
      },
      {
       "output_type": "stream",
       "stream": "stdout",
       "text": [
        " \r",
        "0936   6.896053e+01   1.000000e+15   4.478018e-03"
       ]
      },
      {
       "output_type": "stream",
       "stream": "stdout",
       "text": [
        " \r",
        "0937   6.896053e+01   1.000000e+15   4.478018e-03"
       ]
      },
      {
       "output_type": "stream",
       "stream": "stdout",
       "text": [
        " \r",
        "0938   6.896053e+01   1.000000e+15   4.478018e-03"
       ]
      },
      {
       "output_type": "stream",
       "stream": "stdout",
       "text": [
        " \r",
        "0939   6.896053e+01   1.000000e+15   4.478018e-03"
       ]
      },
      {
       "output_type": "stream",
       "stream": "stdout",
       "text": [
        " \r",
        "0940   6.896053e+01   1.000000e+15   4.478018e-03"
       ]
      },
      {
       "output_type": "stream",
       "stream": "stdout",
       "text": [
        " \r",
        "0941   6.896053e+01   1.000000e+15   4.478018e-03"
       ]
      },
      {
       "output_type": "stream",
       "stream": "stdout",
       "text": [
        " \r",
        "0942   6.896053e+01   1.000000e+15   4.478018e-03"
       ]
      },
      {
       "output_type": "stream",
       "stream": "stdout",
       "text": [
        " \r",
        "0943   6.896053e+01   1.000000e+15   4.478018e-03"
       ]
      },
      {
       "output_type": "stream",
       "stream": "stdout",
       "text": [
        " \r",
        "0944   6.896053e+01   1.000000e+15   4.478018e-03"
       ]
      },
      {
       "output_type": "stream",
       "stream": "stdout",
       "text": [
        " \r",
        "0945   6.896053e+01   1.000000e+15   4.478018e-03"
       ]
      },
      {
       "output_type": "stream",
       "stream": "stdout",
       "text": [
        " \r",
        "0946   6.896053e+01   1.000000e+15   4.478018e-03"
       ]
      },
      {
       "output_type": "stream",
       "stream": "stdout",
       "text": [
        " \r",
        "0947   6.896053e+01   1.000000e+15   4.478018e-03"
       ]
      },
      {
       "output_type": "stream",
       "stream": "stdout",
       "text": [
        " \r",
        "0948   6.896053e+01   1.000000e+15   4.478018e-03"
       ]
      },
      {
       "output_type": "stream",
       "stream": "stdout",
       "text": [
        " \r",
        "0949   6.896053e+01   1.000000e+15   4.478018e-03"
       ]
      },
      {
       "output_type": "stream",
       "stream": "stdout",
       "text": [
        " \r",
        "0950   6.896053e+01   1.000000e+15   4.478018e-03"
       ]
      },
      {
       "output_type": "stream",
       "stream": "stdout",
       "text": [
        " \r",
        "0951   6.896053e+01   1.000000e+15   4.478018e-03"
       ]
      },
      {
       "output_type": "stream",
       "stream": "stdout",
       "text": [
        " \r",
        "0952   6.896053e+01   1.000000e+15   4.478018e-03"
       ]
      },
      {
       "output_type": "stream",
       "stream": "stdout",
       "text": [
        " \r",
        "0953   6.896053e+01   1.000000e+15   4.478018e-03"
       ]
      },
      {
       "output_type": "stream",
       "stream": "stdout",
       "text": [
        " \r",
        "0954   6.896053e+01   1.000000e+15   4.478018e-03"
       ]
      },
      {
       "output_type": "stream",
       "stream": "stdout",
       "text": [
        " \r",
        "0955   6.896053e+01   1.000000e+15   4.478018e-03"
       ]
      },
      {
       "output_type": "stream",
       "stream": "stdout",
       "text": [
        " \r",
        "0956   6.896053e+01   1.000000e+15   4.478018e-03"
       ]
      },
      {
       "output_type": "stream",
       "stream": "stdout",
       "text": [
        " \r",
        "0957   6.896053e+01   1.000000e+15   4.478018e-03"
       ]
      },
      {
       "output_type": "stream",
       "stream": "stdout",
       "text": [
        " \r",
        "0958   6.896053e+01   1.000000e+15   4.478018e-03"
       ]
      },
      {
       "output_type": "stream",
       "stream": "stdout",
       "text": [
        " \r",
        "0959   6.896053e+01   1.000000e+15   4.478018e-03"
       ]
      },
      {
       "output_type": "stream",
       "stream": "stdout",
       "text": [
        " \r",
        "0960   6.896053e+01   1.000000e+15   4.478018e-03"
       ]
      },
      {
       "output_type": "stream",
       "stream": "stdout",
       "text": [
        " \r",
        "0961   6.896053e+01   1.000000e+15   4.478018e-03"
       ]
      },
      {
       "output_type": "stream",
       "stream": "stdout",
       "text": [
        " \r",
        "0962   6.896053e+01   1.000000e+15   4.478018e-03"
       ]
      },
      {
       "output_type": "stream",
       "stream": "stdout",
       "text": [
        " \r",
        "0963   6.896053e+01   1.000000e+15   4.478018e-03"
       ]
      },
      {
       "output_type": "stream",
       "stream": "stdout",
       "text": [
        " \r",
        "0964   6.896053e+01   1.000000e+15   4.478018e-03"
       ]
      },
      {
       "output_type": "stream",
       "stream": "stdout",
       "text": [
        " \r",
        "0965   6.896053e+01   1.000000e+15   4.478018e-03"
       ]
      },
      {
       "output_type": "stream",
       "stream": "stdout",
       "text": [
        " \r",
        "0966   6.896053e+01   1.000000e+15   4.478018e-03"
       ]
      },
      {
       "output_type": "stream",
       "stream": "stdout",
       "text": [
        " \r",
        "0967   6.896053e+01   1.000000e+15   4.478018e-03"
       ]
      },
      {
       "output_type": "stream",
       "stream": "stdout",
       "text": [
        " \r",
        "0968   6.896053e+01   1.000000e+15   4.478018e-03"
       ]
      },
      {
       "output_type": "stream",
       "stream": "stdout",
       "text": [
        " \r",
        "0969   6.896053e+01   1.000000e+15   4.478018e-03"
       ]
      },
      {
       "output_type": "stream",
       "stream": "stdout",
       "text": [
        " \r",
        "0970   6.896053e+01   1.000000e+15   4.478018e-03"
       ]
      },
      {
       "output_type": "stream",
       "stream": "stdout",
       "text": [
        " \r",
        "0971   6.896053e+01   1.000000e+15   4.478018e-03"
       ]
      },
      {
       "output_type": "stream",
       "stream": "stdout",
       "text": [
        " \r",
        "0972   6.896053e+01   1.000000e+15   4.478018e-03"
       ]
      },
      {
       "output_type": "stream",
       "stream": "stdout",
       "text": [
        " \r",
        "0973   6.896053e+01   1.000000e+15   4.478018e-03"
       ]
      },
      {
       "output_type": "stream",
       "stream": "stdout",
       "text": [
        " \r",
        "0974   6.896053e+01   1.000000e+15   4.478018e-03"
       ]
      },
      {
       "output_type": "stream",
       "stream": "stdout",
       "text": [
        " \r",
        "0975   6.896053e+01   1.000000e+15   4.478018e-03"
       ]
      },
      {
       "output_type": "stream",
       "stream": "stdout",
       "text": [
        " \r",
        "0976   6.896053e+01   1.000000e+15   4.478018e-03"
       ]
      },
      {
       "output_type": "stream",
       "stream": "stdout",
       "text": [
        " \r",
        "0977   6.896053e+01   1.000000e+15   4.478018e-03"
       ]
      },
      {
       "output_type": "stream",
       "stream": "stdout",
       "text": [
        " \r",
        "0978   6.896053e+01   1.000000e+15   4.478018e-03"
       ]
      },
      {
       "output_type": "stream",
       "stream": "stdout",
       "text": [
        " \r",
        "0979   6.896053e+01   1.000000e+15   4.478018e-03"
       ]
      },
      {
       "output_type": "stream",
       "stream": "stdout",
       "text": [
        " \r",
        "0980   6.896053e+01   1.000000e+15   4.478018e-03"
       ]
      },
      {
       "output_type": "stream",
       "stream": "stdout",
       "text": [
        " \r",
        "0981   6.896053e+01   1.000000e+15   4.478018e-03"
       ]
      },
      {
       "output_type": "stream",
       "stream": "stdout",
       "text": [
        " \r",
        "0982   6.896053e+01   1.000000e+15   4.478018e-03"
       ]
      },
      {
       "output_type": "stream",
       "stream": "stdout",
       "text": [
        " \r",
        "0983   6.896053e+01   1.000000e+15   4.478018e-03"
       ]
      },
      {
       "output_type": "stream",
       "stream": "stdout",
       "text": [
        " \r",
        "0984   6.896053e+01   1.000000e+15   4.478018e-03"
       ]
      },
      {
       "output_type": "stream",
       "stream": "stdout",
       "text": [
        " \r",
        "0985   6.896053e+01   1.000000e+15   4.478018e-03"
       ]
      },
      {
       "output_type": "stream",
       "stream": "stdout",
       "text": [
        " \r",
        "0986   6.896053e+01   1.000000e+15   4.478018e-03"
       ]
      },
      {
       "output_type": "stream",
       "stream": "stdout",
       "text": [
        " \r",
        "0987   6.896053e+01   1.000000e+15   4.478018e-03"
       ]
      },
      {
       "output_type": "stream",
       "stream": "stdout",
       "text": [
        " \r",
        "0988   6.896053e+01   1.000000e+15   4.478018e-03"
       ]
      },
      {
       "output_type": "stream",
       "stream": "stdout",
       "text": [
        " \r",
        "0989   6.896053e+01   1.000000e+15   4.478018e-03"
       ]
      },
      {
       "output_type": "stream",
       "stream": "stdout",
       "text": [
        " \r",
        "0990   6.896053e+01   1.000000e+15   4.478018e-03"
       ]
      },
      {
       "output_type": "stream",
       "stream": "stdout",
       "text": [
        " \r",
        "0991   6.896053e+01   1.000000e+15   4.478018e-03"
       ]
      },
      {
       "output_type": "stream",
       "stream": "stdout",
       "text": [
        " \r",
        "0992   6.896053e+01   1.000000e+15   4.478018e-03"
       ]
      },
      {
       "output_type": "stream",
       "stream": "stdout",
       "text": [
        " \r",
        "0993   6.896053e+01   1.000000e+15   4.478018e-03"
       ]
      },
      {
       "output_type": "stream",
       "stream": "stdout",
       "text": [
        " \r",
        "0994   6.896053e+01   1.000000e+15   4.478018e-03"
       ]
      },
      {
       "output_type": "stream",
       "stream": "stdout",
       "text": [
        " \r",
        "0995   6.896053e+01   1.000000e+15   4.478018e-03"
       ]
      },
      {
       "output_type": "stream",
       "stream": "stdout",
       "text": [
        " \r",
        "0996   6.896053e+01   1.000000e+15   4.478018e-03"
       ]
      },
      {
       "output_type": "stream",
       "stream": "stdout",
       "text": [
        " \r",
        "0997   6.896053e+01   1.000000e+15   4.478018e-03"
       ]
      },
      {
       "output_type": "stream",
       "stream": "stdout",
       "text": [
        " \r",
        "0998   6.896053e+01   1.000000e+15   4.478018e-03"
       ]
      },
      {
       "output_type": "stream",
       "stream": "stdout",
       "text": [
        " \r",
        "0999   6.896053e+01   1.000000e+15   4.478018e-03"
       ]
      },
      {
       "output_type": "stream",
       "stream": "stdout",
       "text": [
        " \r",
        "1000   6.896053e+01   1.000000e+15   4.478018e-03"
       ]
      },
      {
       "output_type": "stream",
       "stream": "stdout",
       "text": [
        " \r",
        "1000   6.896053e+01   1.000000e+15   4.478018e-03"
       ]
      },
      {
       "output_type": "stream",
       "stream": "stdout",
       "text": [
        " \n",
        "maxiter exceeded\n",
        " I      F              Scale          |g|        "
       ]
      },
      {
       "output_type": "stream",
       "stream": "stdout",
       "text": [
        "\n",
        "\r"
       ]
      },
      {
       "output_type": "stream",
       "stream": "stdout",
       "text": [
        "0001   7.296463e+01   2.589961e+00   8.764366e+00"
       ]
      },
      {
       "output_type": "stream",
       "stream": "stdout",
       "text": [
        " \r",
        "0002   7.291604e+01   1.294980e+00   3.422026e-01"
       ]
      },
      {
       "output_type": "stream",
       "stream": "stdout",
       "text": [
        " \r",
        "0003   7.288947e+01   6.474901e-01   2.888108e-01"
       ]
      },
      {
       "output_type": "stream",
       "stream": "stdout",
       "text": [
        " \r",
        "0004   7.277267e+01   3.237451e-01   2.640125e-01"
       ]
      },
      {
       "output_type": "stream",
       "stream": "stdout",
       "text": [
        " \r",
        "0005   7.263015e+01   1.618725e-01   2.132836e-01"
       ]
      },
      {
       "output_type": "stream",
       "stream": "stdout",
       "text": [
        " \r",
        "0006   7.258388e+01   8.093627e-02   1.715736e-01"
       ]
      },
      {
       "output_type": "stream",
       "stream": "stdout",
       "text": [
        " \r",
        "0007   7.240113e+01   4.046813e-02   1.489486e-01"
       ]
      },
      {
       "output_type": "stream",
       "stream": "stdout",
       "text": [
        " \r",
        "0008   7.233969e+01   2.023407e-02   8.411679e-02"
       ]
      },
      {
       "output_type": "stream",
       "stream": "stdout",
       "text": [
        " \r",
        "0009   7.233969e+01   2.023407e-02   9.645325e-02"
       ]
      },
      {
       "output_type": "stream",
       "stream": "stdout",
       "text": [
        " \r",
        "0010   7.229787e+01   8.093627e-02   9.645325e-02"
       ]
      },
      {
       "output_type": "stream",
       "stream": "stdout",
       "text": [
        " \n",
        "\r"
       ]
      },
      {
       "output_type": "stream",
       "stream": "stdout",
       "text": [
        "0011   7.229535e+01   8.093627e-02   4.760129e-01"
       ]
      },
      {
       "output_type": "stream",
       "stream": "stdout",
       "text": [
        " \r",
        "0012   7.219737e+01   4.046813e-02   4.858571e-01"
       ]
      },
      {
       "output_type": "stream",
       "stream": "stdout",
       "text": [
        " \r",
        "0013   7.219737e+01   1.225379e+01   1.918578e-01"
       ]
      },
      {
       "output_type": "stream",
       "stream": "stdout",
       "text": [
        " \r",
        "0014   7.219737e+01   4.901514e+01   1.918578e-01"
       ]
      },
      {
       "output_type": "stream",
       "stream": "stdout",
       "text": [
        " \r",
        "0015   7.219737e+01   1.960606e+02   1.918578e-01"
       ]
      },
      {
       "output_type": "stream",
       "stream": "stdout",
       "text": [
        " \r",
        "0016   7.219737e+01   7.842423e+02   1.918578e-01"
       ]
      },
      {
       "output_type": "stream",
       "stream": "stdout",
       "text": [
        " \r",
        "0017   7.219737e+01   3.136969e+03   1.918578e-01"
       ]
      },
      {
       "output_type": "stream",
       "stream": "stdout",
       "text": [
        " \r",
        "0018   7.219737e+01   1.254788e+04   1.918578e-01"
       ]
      },
      {
       "output_type": "stream",
       "stream": "stdout",
       "text": [
        " \r",
        "0019   7.219737e+01   5.019151e+04   1.918578e-01"
       ]
      },
      {
       "output_type": "stream",
       "stream": "stdout",
       "text": [
        " \r",
        "0020   7.219737e+01   2.007660e+05   1.918578e-01"
       ]
      },
      {
       "output_type": "stream",
       "stream": "stdout",
       "text": [
        " \r",
        "0021   7.219737e+01   8.030641e+05   1.918578e-01"
       ]
      },
      {
       "output_type": "stream",
       "stream": "stdout",
       "text": [
        " \r",
        "0022   7.219737e+01   3.212256e+06   1.918578e-01"
       ]
      },
      {
       "output_type": "stream",
       "stream": "stdout",
       "text": [
        " \r",
        "0023   7.219737e+01   1.284903e+07   1.918578e-01"
       ]
      },
      {
       "output_type": "stream",
       "stream": "stdout",
       "text": [
        " \r",
        "0024   7.219737e+01   5.139610e+07   1.918578e-01"
       ]
      },
      {
       "output_type": "stream",
       "stream": "stdout",
       "text": [
        " \r",
        "0025   7.219737e+01   2.055844e+08   1.918578e-01"
       ]
      },
      {
       "output_type": "stream",
       "stream": "stdout",
       "text": [
        " \r",
        "0026   7.219737e+01   8.223376e+08   1.918578e-01"
       ]
      },
      {
       "output_type": "stream",
       "stream": "stdout",
       "text": [
        " \r",
        "0027   7.219737e+01   3.289351e+09   1.918578e-01"
       ]
      },
      {
       "output_type": "stream",
       "stream": "stdout",
       "text": [
        " \r",
        "0028   7.219737e+01   1.315740e+10   1.918578e-01"
       ]
      },
      {
       "output_type": "stream",
       "stream": "stdout",
       "text": [
        " \r",
        "0029   7.219737e+01   5.262961e+10   1.918578e-01"
       ]
      },
      {
       "output_type": "stream",
       "stream": "stdout",
       "text": [
        " \r",
        "0030   7.219737e+01   2.105184e+11   1.918578e-01"
       ]
      },
      {
       "output_type": "stream",
       "stream": "stdout",
       "text": [
        " \n",
        "\r",
        "0031   7.219737e+01   8.420737e+11   1.918578e-01"
       ]
      },
      {
       "output_type": "stream",
       "stream": "stdout",
       "text": [
        " \r",
        "0032   7.219737e+01   3.368295e+12   1.918578e-01"
       ]
      },
      {
       "output_type": "stream",
       "stream": "stdout",
       "text": [
        " \r",
        "0033   7.219737e+01   1.347318e+13   1.918578e-01"
       ]
      },
      {
       "output_type": "stream",
       "stream": "stdout",
       "text": [
        " \r",
        "0034   7.219737e+01   5.389272e+13   1.918578e-01"
       ]
      },
      {
       "output_type": "stream",
       "stream": "stdout",
       "text": [
        " \r",
        "0035   7.219737e+01   2.155709e+14   1.918578e-01"
       ]
      },
      {
       "output_type": "stream",
       "stream": "stdout",
       "text": [
        " \r",
        "0036   7.219737e+01   8.622835e+14   1.918578e-01"
       ]
      },
      {
       "output_type": "stream",
       "stream": "stdout",
       "text": [
        " \r",
        "0037   7.219737e+01   1.000000e+15   1.918578e-01"
       ]
      },
      {
       "output_type": "stream",
       "stream": "stdout",
       "text": [
        " \r",
        "0038   7.219737e+01   1.000000e+15   1.918578e-01"
       ]
      },
      {
       "output_type": "stream",
       "stream": "stdout",
       "text": [
        " \r",
        "0039   7.219737e+01   1.000000e+15   1.918578e-01"
       ]
      },
      {
       "output_type": "stream",
       "stream": "stdout",
       "text": [
        " \r",
        "0040   7.219737e+01   1.000000e+15   1.918578e-01"
       ]
      },
      {
       "output_type": "stream",
       "stream": "stdout",
       "text": [
        " \r",
        "0041   7.219737e+01   1.000000e+15   1.918578e-01"
       ]
      },
      {
       "output_type": "stream",
       "stream": "stdout",
       "text": [
        " \r",
        "0042   7.219737e+01   1.000000e+15   1.918578e-01"
       ]
      },
      {
       "output_type": "stream",
       "stream": "stdout",
       "text": [
        " \r",
        "0043   7.219737e+01   1.000000e+15   1.918578e-01"
       ]
      },
      {
       "output_type": "stream",
       "stream": "stdout",
       "text": [
        " \r",
        "0044   7.219737e+01   1.000000e+15   1.918578e-01"
       ]
      },
      {
       "output_type": "stream",
       "stream": "stdout",
       "text": [
        " \r",
        "0045   7.219737e+01   1.000000e+15   1.918578e-01"
       ]
      },
      {
       "output_type": "stream",
       "stream": "stdout",
       "text": [
        " \r",
        "0046   7.219737e+01   1.000000e+15   1.918578e-01"
       ]
      },
      {
       "output_type": "stream",
       "stream": "stdout",
       "text": [
        " \r",
        "0047   7.219737e+01   1.000000e+15   1.918578e-01"
       ]
      },
      {
       "output_type": "stream",
       "stream": "stdout",
       "text": [
        " \r",
        "0048   7.219737e+01   1.000000e+15   1.918578e-01"
       ]
      },
      {
       "output_type": "stream",
       "stream": "stdout",
       "text": [
        " \r",
        "0049   7.219737e+01   1.000000e+15   1.918578e-01"
       ]
      },
      {
       "output_type": "stream",
       "stream": "stdout",
       "text": [
        " \r",
        "0050   7.219737e+01   1.000000e+15   1.918578e-01"
       ]
      },
      {
       "output_type": "stream",
       "stream": "stdout",
       "text": [
        " \r",
        "0051   7.219737e+01   1.000000e+15   1.918578e-01"
       ]
      },
      {
       "output_type": "stream",
       "stream": "stdout",
       "text": [
        " \r",
        "0052   7.219737e+01   1.000000e+15   1.918578e-01"
       ]
      },
      {
       "output_type": "stream",
       "stream": "stdout",
       "text": [
        " \r",
        "0053   7.219737e+01   1.000000e+15   1.918578e-01"
       ]
      },
      {
       "output_type": "stream",
       "stream": "stdout",
       "text": [
        " \r",
        "0054   7.219737e+01   1.000000e+15   1.918578e-01"
       ]
      },
      {
       "output_type": "stream",
       "stream": "stdout",
       "text": [
        " \r",
        "0055   7.219737e+01   1.000000e+15   1.918578e-01"
       ]
      },
      {
       "output_type": "stream",
       "stream": "stdout",
       "text": [
        " \r",
        "0056   7.219737e+01   1.000000e+15   1.918578e-01"
       ]
      },
      {
       "output_type": "stream",
       "stream": "stdout",
       "text": [
        " \r",
        "0057   7.219737e+01   1.000000e+15   1.918578e-01"
       ]
      },
      {
       "output_type": "stream",
       "stream": "stdout",
       "text": [
        " \r",
        "0058   7.219737e+01   1.000000e+15   1.918578e-01"
       ]
      },
      {
       "output_type": "stream",
       "stream": "stdout",
       "text": [
        " \r",
        "0059   7.219737e+01   1.000000e+15   1.918578e-01"
       ]
      },
      {
       "output_type": "stream",
       "stream": "stdout",
       "text": [
        " \r",
        "0060   7.219737e+01   1.000000e+15   1.918578e-01"
       ]
      },
      {
       "output_type": "stream",
       "stream": "stdout",
       "text": [
        " \r",
        "0061   7.219737e+01   1.000000e+15   1.918578e-01"
       ]
      },
      {
       "output_type": "stream",
       "stream": "stdout",
       "text": [
        " \r",
        "0062   7.219737e+01   1.000000e+15   1.918578e-01"
       ]
      },
      {
       "output_type": "stream",
       "stream": "stdout",
       "text": [
        " \r",
        "0063   7.219737e+01   1.000000e+15   1.918578e-01"
       ]
      },
      {
       "output_type": "stream",
       "stream": "stdout",
       "text": [
        " \r",
        "0064   7.219737e+01   1.000000e+15   1.918578e-01"
       ]
      },
      {
       "output_type": "stream",
       "stream": "stdout",
       "text": [
        " \r",
        "0065   7.219737e+01   1.000000e+15   1.918578e-01"
       ]
      },
      {
       "output_type": "stream",
       "stream": "stdout",
       "text": [
        " \r",
        "0066   7.219737e+01   1.000000e+15   1.918578e-01"
       ]
      },
      {
       "output_type": "stream",
       "stream": "stdout",
       "text": [
        " \r",
        "0067   7.219737e+01   1.000000e+15   1.918578e-01"
       ]
      },
      {
       "output_type": "stream",
       "stream": "stdout",
       "text": [
        " \r",
        "0068   7.219737e+01   1.000000e+15   1.918578e-01"
       ]
      },
      {
       "output_type": "stream",
       "stream": "stdout",
       "text": [
        " \r",
        "0069   7.219737e+01   1.000000e+15   1.918578e-01"
       ]
      },
      {
       "output_type": "stream",
       "stream": "stdout",
       "text": [
        " \r",
        "0070   7.219737e+01   1.000000e+15   1.918578e-01"
       ]
      },
      {
       "output_type": "stream",
       "stream": "stdout",
       "text": [
        " \r",
        "0071   7.219737e+01   1.000000e+15   1.918578e-01"
       ]
      },
      {
       "output_type": "stream",
       "stream": "stdout",
       "text": [
        " \r",
        "0072   7.219737e+01   1.000000e+15   1.918578e-01"
       ]
      },
      {
       "output_type": "stream",
       "stream": "stdout",
       "text": [
        " \r",
        "0073   7.219737e+01   1.000000e+15   1.918578e-01"
       ]
      },
      {
       "output_type": "stream",
       "stream": "stdout",
       "text": [
        " \r",
        "0074   7.219737e+01   1.000000e+15   1.918578e-01"
       ]
      },
      {
       "output_type": "stream",
       "stream": "stdout",
       "text": [
        " \r",
        "0075   7.219737e+01   1.000000e+15   1.918578e-01"
       ]
      },
      {
       "output_type": "stream",
       "stream": "stdout",
       "text": [
        " \r",
        "0076   7.219737e+01   1.000000e+15   1.918578e-01"
       ]
      },
      {
       "output_type": "stream",
       "stream": "stdout",
       "text": [
        " \r",
        "0077   7.219737e+01   1.000000e+15   1.918578e-01"
       ]
      },
      {
       "output_type": "stream",
       "stream": "stdout",
       "text": [
        " \r",
        "0078   7.219737e+01   1.000000e+15   1.918578e-01"
       ]
      },
      {
       "output_type": "stream",
       "stream": "stdout",
       "text": [
        " \r",
        "0079   7.219737e+01   1.000000e+15   1.918578e-01"
       ]
      },
      {
       "output_type": "stream",
       "stream": "stdout",
       "text": [
        " \r",
        "0080   7.219737e+01   1.000000e+15   1.918578e-01"
       ]
      },
      {
       "output_type": "stream",
       "stream": "stdout",
       "text": [
        " \r",
        "0081   7.219737e+01   1.000000e+15   1.918578e-01"
       ]
      },
      {
       "output_type": "stream",
       "stream": "stdout",
       "text": [
        " \r",
        "0082   7.219737e+01   1.000000e+15   1.918578e-01"
       ]
      },
      {
       "output_type": "stream",
       "stream": "stdout",
       "text": [
        " \r",
        "0083   7.219737e+01   1.000000e+15   1.918578e-01"
       ]
      },
      {
       "output_type": "stream",
       "stream": "stdout",
       "text": [
        " \r",
        "0084   7.219737e+01   1.000000e+15   1.918578e-01"
       ]
      },
      {
       "output_type": "stream",
       "stream": "stdout",
       "text": [
        " \n",
        "\r",
        "0085   7.219737e+01   1.000000e+15   1.918578e-01"
       ]
      },
      {
       "output_type": "stream",
       "stream": "stdout",
       "text": [
        " \r",
        "0086   7.219737e+01   1.000000e+15   1.918578e-01"
       ]
      },
      {
       "output_type": "stream",
       "stream": "stdout",
       "text": [
        " \r",
        "0087   7.219737e+01   1.000000e+15   1.918578e-01"
       ]
      },
      {
       "output_type": "stream",
       "stream": "stdout",
       "text": [
        " \r",
        "0088   7.219737e+01   1.000000e+15   1.918578e-01"
       ]
      },
      {
       "output_type": "stream",
       "stream": "stdout",
       "text": [
        " \r",
        "0089   7.219737e+01   1.000000e+15   1.918578e-01"
       ]
      },
      {
       "output_type": "stream",
       "stream": "stdout",
       "text": [
        " \r",
        "0090   7.219737e+01   1.000000e+15   1.918578e-01"
       ]
      },
      {
       "output_type": "stream",
       "stream": "stdout",
       "text": [
        " \r",
        "0091   7.219737e+01   1.000000e+15   1.918578e-01"
       ]
      },
      {
       "output_type": "stream",
       "stream": "stdout",
       "text": [
        " \r",
        "0092   7.219737e+01   1.000000e+15   1.918578e-01"
       ]
      },
      {
       "output_type": "stream",
       "stream": "stdout",
       "text": [
        " \r",
        "0093   7.219737e+01   1.000000e+15   1.918578e-01"
       ]
      },
      {
       "output_type": "stream",
       "stream": "stdout",
       "text": [
        " \r",
        "0094   7.219737e+01   1.000000e+15   1.918578e-01"
       ]
      },
      {
       "output_type": "stream",
       "stream": "stdout",
       "text": [
        " \r",
        "0095   7.219737e+01   1.000000e+15   1.918578e-01"
       ]
      },
      {
       "output_type": "stream",
       "stream": "stdout",
       "text": [
        " \r",
        "0096   7.219737e+01   1.000000e+15   1.918578e-01"
       ]
      },
      {
       "output_type": "stream",
       "stream": "stdout",
       "text": [
        " \r",
        "0097   7.219737e+01   1.000000e+15   1.918578e-01"
       ]
      },
      {
       "output_type": "stream",
       "stream": "stdout",
       "text": [
        " \r",
        "0098   7.219737e+01   1.000000e+15   1.918578e-01"
       ]
      },
      {
       "output_type": "stream",
       "stream": "stdout",
       "text": [
        " \r",
        "0099   7.219737e+01   1.000000e+15   1.918578e-01"
       ]
      },
      {
       "output_type": "stream",
       "stream": "stdout",
       "text": [
        " \r",
        "0100   7.219737e+01   1.000000e+15   1.918578e-01"
       ]
      },
      {
       "output_type": "stream",
       "stream": "stdout",
       "text": [
        " \r",
        "0101   7.219737e+01   1.000000e+15   1.918578e-01"
       ]
      },
      {
       "output_type": "stream",
       "stream": "stdout",
       "text": [
        " \r",
        "0102   7.219737e+01   1.000000e+15   1.918578e-01"
       ]
      },
      {
       "output_type": "stream",
       "stream": "stdout",
       "text": [
        " \r",
        "0103   7.219737e+01   1.000000e+15   1.918578e-01"
       ]
      },
      {
       "output_type": "stream",
       "stream": "stdout",
       "text": [
        " \r",
        "0104   7.219737e+01   1.000000e+15   1.918578e-01"
       ]
      },
      {
       "output_type": "stream",
       "stream": "stdout",
       "text": [
        " \r",
        "0105   7.219737e+01   1.000000e+15   1.918578e-01"
       ]
      },
      {
       "output_type": "stream",
       "stream": "stdout",
       "text": [
        " \r",
        "0106   7.219737e+01   1.000000e+15   1.918578e-01"
       ]
      },
      {
       "output_type": "stream",
       "stream": "stdout",
       "text": [
        " \r",
        "0107   7.219737e+01   1.000000e+15   1.918578e-01"
       ]
      },
      {
       "output_type": "stream",
       "stream": "stdout",
       "text": [
        " \r",
        "0108   7.219737e+01   1.000000e+15   1.918578e-01"
       ]
      },
      {
       "output_type": "stream",
       "stream": "stdout",
       "text": [
        " \r",
        "0109   7.219737e+01   1.000000e+15   1.918578e-01"
       ]
      },
      {
       "output_type": "stream",
       "stream": "stdout",
       "text": [
        " \r",
        "0110   7.219737e+01   1.000000e+15   1.918578e-01"
       ]
      },
      {
       "output_type": "stream",
       "stream": "stdout",
       "text": [
        " \r",
        "0111   7.219737e+01   1.000000e+15   1.918578e-01"
       ]
      },
      {
       "output_type": "stream",
       "stream": "stdout",
       "text": [
        " \r",
        "0112   7.219737e+01   1.000000e+15   1.918578e-01"
       ]
      },
      {
       "output_type": "stream",
       "stream": "stdout",
       "text": [
        " \r",
        "0113   7.219737e+01   1.000000e+15   1.918578e-01"
       ]
      },
      {
       "output_type": "stream",
       "stream": "stdout",
       "text": [
        " \r",
        "0114   7.219737e+01   1.000000e+15   1.918578e-01"
       ]
      },
      {
       "output_type": "stream",
       "stream": "stdout",
       "text": [
        " \r",
        "0115   7.219737e+01   1.000000e+15   1.918578e-01"
       ]
      },
      {
       "output_type": "stream",
       "stream": "stdout",
       "text": [
        " \r",
        "0116   7.219737e+01   1.000000e+15   1.918578e-01"
       ]
      },
      {
       "output_type": "stream",
       "stream": "stdout",
       "text": [
        " \r",
        "0117   7.219737e+01   1.000000e+15   1.918578e-01"
       ]
      },
      {
       "output_type": "stream",
       "stream": "stdout",
       "text": [
        " \r",
        "0118   7.219737e+01   1.000000e+15   1.918578e-01"
       ]
      },
      {
       "output_type": "stream",
       "stream": "stdout",
       "text": [
        " \r",
        "0119   7.219737e+01   1.000000e+15   1.918578e-01"
       ]
      },
      {
       "output_type": "stream",
       "stream": "stdout",
       "text": [
        " \r",
        "0120   7.219737e+01   1.000000e+15   1.918578e-01"
       ]
      },
      {
       "output_type": "stream",
       "stream": "stdout",
       "text": [
        " \r",
        "0121   7.219737e+01   1.000000e+15   1.918578e-01"
       ]
      },
      {
       "output_type": "stream",
       "stream": "stdout",
       "text": [
        " \r",
        "0122   7.219737e+01   1.000000e+15   1.918578e-01"
       ]
      },
      {
       "output_type": "stream",
       "stream": "stdout",
       "text": [
        " \r",
        "0123   7.219737e+01   1.000000e+15   1.918578e-01"
       ]
      },
      {
       "output_type": "stream",
       "stream": "stdout",
       "text": [
        " \r",
        "0124   7.219737e+01   1.000000e+15   1.918578e-01"
       ]
      },
      {
       "output_type": "stream",
       "stream": "stdout",
       "text": [
        " \r",
        "0125   7.219737e+01   1.000000e+15   1.918578e-01"
       ]
      },
      {
       "output_type": "stream",
       "stream": "stdout",
       "text": [
        " \r",
        "0126   7.219737e+01   1.000000e+15   1.918578e-01"
       ]
      },
      {
       "output_type": "stream",
       "stream": "stdout",
       "text": [
        " \r",
        "0127   7.219737e+01   1.000000e+15   1.918578e-01"
       ]
      },
      {
       "output_type": "stream",
       "stream": "stdout",
       "text": [
        " \r",
        "0128   7.219737e+01   1.000000e+15   1.918578e-01"
       ]
      },
      {
       "output_type": "stream",
       "stream": "stdout",
       "text": [
        " \r",
        "0129   7.219737e+01   1.000000e+15   1.918578e-01"
       ]
      },
      {
       "output_type": "stream",
       "stream": "stdout",
       "text": [
        " \r",
        "0130   7.219737e+01   1.000000e+15   1.918578e-01"
       ]
      },
      {
       "output_type": "stream",
       "stream": "stdout",
       "text": [
        " \r",
        "0131   7.219737e+01   1.000000e+15   1.918578e-01"
       ]
      },
      {
       "output_type": "stream",
       "stream": "stdout",
       "text": [
        " \r",
        "0132   7.219737e+01   1.000000e+15   1.918578e-01"
       ]
      },
      {
       "output_type": "stream",
       "stream": "stdout",
       "text": [
        " \r",
        "0133   7.219737e+01   1.000000e+15   1.918578e-01"
       ]
      },
      {
       "output_type": "stream",
       "stream": "stdout",
       "text": [
        " \r",
        "0134   7.219737e+01   1.000000e+15   1.918578e-01"
       ]
      },
      {
       "output_type": "stream",
       "stream": "stdout",
       "text": [
        " \r",
        "0135   7.219737e+01   1.000000e+15   1.918578e-01"
       ]
      },
      {
       "output_type": "stream",
       "stream": "stdout",
       "text": [
        " \r",
        "0136   7.219737e+01   1.000000e+15   1.918578e-01"
       ]
      },
      {
       "output_type": "stream",
       "stream": "stdout",
       "text": [
        " \r",
        "0137   7.219737e+01   1.000000e+15   1.918578e-01"
       ]
      },
      {
       "output_type": "stream",
       "stream": "stdout",
       "text": [
        " \r",
        "0138   7.219737e+01   1.000000e+15   1.918578e-01"
       ]
      },
      {
       "output_type": "stream",
       "stream": "stdout",
       "text": [
        " \r",
        "0139   7.219737e+01   1.000000e+15   1.918578e-01"
       ]
      },
      {
       "output_type": "stream",
       "stream": "stdout",
       "text": [
        " \r",
        "0140   7.219737e+01   1.000000e+15   1.918578e-01"
       ]
      },
      {
       "output_type": "stream",
       "stream": "stdout",
       "text": [
        " \r",
        "0141   7.219737e+01   1.000000e+15   1.918578e-01"
       ]
      },
      {
       "output_type": "stream",
       "stream": "stdout",
       "text": [
        " \r",
        "0142   7.219737e+01   1.000000e+15   1.918578e-01"
       ]
      },
      {
       "output_type": "stream",
       "stream": "stdout",
       "text": [
        " \r",
        "0143   7.219737e+01   1.000000e+15   1.918578e-01"
       ]
      },
      {
       "output_type": "stream",
       "stream": "stdout",
       "text": [
        " \r",
        "0144   7.219737e+01   1.000000e+15   1.918578e-01"
       ]
      },
      {
       "output_type": "stream",
       "stream": "stdout",
       "text": [
        " \r",
        "0145   7.219737e+01   1.000000e+15   1.918578e-01"
       ]
      },
      {
       "output_type": "stream",
       "stream": "stdout",
       "text": [
        " \r",
        "0146   7.219737e+01   1.000000e+15   1.918578e-01"
       ]
      },
      {
       "output_type": "stream",
       "stream": "stdout",
       "text": [
        " \r",
        "0147   7.219737e+01   1.000000e+15   1.918578e-01"
       ]
      },
      {
       "output_type": "stream",
       "stream": "stdout",
       "text": [
        " \r",
        "0148   7.219737e+01   1.000000e+15   1.918578e-01"
       ]
      },
      {
       "output_type": "stream",
       "stream": "stdout",
       "text": [
        " \r",
        "0149   7.219737e+01   1.000000e+15   1.918578e-01"
       ]
      },
      {
       "output_type": "stream",
       "stream": "stdout",
       "text": [
        " \r",
        "0150   7.219737e+01   1.000000e+15   1.918578e-01"
       ]
      },
      {
       "output_type": "stream",
       "stream": "stdout",
       "text": [
        " \r",
        "0151   7.219737e+01   1.000000e+15   1.918578e-01"
       ]
      },
      {
       "output_type": "stream",
       "stream": "stdout",
       "text": [
        " \r",
        "0152   7.219737e+01   1.000000e+15   1.918578e-01"
       ]
      },
      {
       "output_type": "stream",
       "stream": "stdout",
       "text": [
        " \r",
        "0153   7.219737e+01   1.000000e+15   1.918578e-01"
       ]
      },
      {
       "output_type": "stream",
       "stream": "stdout",
       "text": [
        " \r",
        "0154   7.219737e+01   1.000000e+15   1.918578e-01"
       ]
      },
      {
       "output_type": "stream",
       "stream": "stdout",
       "text": [
        " \r",
        "0155   7.219737e+01   1.000000e+15   1.918578e-01"
       ]
      },
      {
       "output_type": "stream",
       "stream": "stdout",
       "text": [
        " \r",
        "0156   7.219737e+01   1.000000e+15   1.918578e-01"
       ]
      },
      {
       "output_type": "stream",
       "stream": "stdout",
       "text": [
        " \r",
        "0157   7.219737e+01   1.000000e+15   1.918578e-01"
       ]
      },
      {
       "output_type": "stream",
       "stream": "stdout",
       "text": [
        " \r",
        "0158   7.219737e+01   1.000000e+15   1.918578e-01"
       ]
      },
      {
       "output_type": "stream",
       "stream": "stdout",
       "text": [
        " \r",
        "0159   7.219737e+01   1.000000e+15   1.918578e-01"
       ]
      },
      {
       "output_type": "stream",
       "stream": "stdout",
       "text": [
        " \r",
        "0160   7.219737e+01   1.000000e+15   1.918578e-01"
       ]
      },
      {
       "output_type": "stream",
       "stream": "stdout",
       "text": [
        " \r",
        "0161   7.219737e+01   1.000000e+15   1.918578e-01"
       ]
      },
      {
       "output_type": "stream",
       "stream": "stdout",
       "text": [
        " \r",
        "0162   7.219737e+01   1.000000e+15   1.918578e-01"
       ]
      },
      {
       "output_type": "stream",
       "stream": "stdout",
       "text": [
        " \r",
        "0163   7.219737e+01   1.000000e+15   1.918578e-01"
       ]
      },
      {
       "output_type": "stream",
       "stream": "stdout",
       "text": [
        " \r",
        "0164   7.219737e+01   1.000000e+15   1.918578e-01"
       ]
      },
      {
       "output_type": "stream",
       "stream": "stdout",
       "text": [
        " \r",
        "0165   7.219737e+01   1.000000e+15   1.918578e-01"
       ]
      },
      {
       "output_type": "stream",
       "stream": "stdout",
       "text": [
        " \r",
        "0166   7.219737e+01   1.000000e+15   1.918578e-01"
       ]
      },
      {
       "output_type": "stream",
       "stream": "stdout",
       "text": [
        " \r",
        "0167   7.219737e+01   1.000000e+15   1.918578e-01"
       ]
      },
      {
       "output_type": "stream",
       "stream": "stdout",
       "text": [
        " \r",
        "0168   7.219737e+01   1.000000e+15   1.918578e-01"
       ]
      },
      {
       "output_type": "stream",
       "stream": "stdout",
       "text": [
        " \r",
        "0169   7.219737e+01   1.000000e+15   1.918578e-01"
       ]
      },
      {
       "output_type": "stream",
       "stream": "stdout",
       "text": [
        " \r",
        "0170   7.219737e+01   1.000000e+15   1.918578e-01"
       ]
      },
      {
       "output_type": "stream",
       "stream": "stdout",
       "text": [
        " \r",
        "0171   7.219737e+01   1.000000e+15   1.918578e-01"
       ]
      },
      {
       "output_type": "stream",
       "stream": "stdout",
       "text": [
        " \r",
        "0172   7.219737e+01   1.000000e+15   1.918578e-01"
       ]
      },
      {
       "output_type": "stream",
       "stream": "stdout",
       "text": [
        " \r",
        "0173   7.219737e+01   1.000000e+15   1.918578e-01"
       ]
      },
      {
       "output_type": "stream",
       "stream": "stdout",
       "text": [
        " \r",
        "0174   7.219737e+01   1.000000e+15   1.918578e-01"
       ]
      },
      {
       "output_type": "stream",
       "stream": "stdout",
       "text": [
        " \r",
        "0175   7.219737e+01   1.000000e+15   1.918578e-01"
       ]
      },
      {
       "output_type": "stream",
       "stream": "stdout",
       "text": [
        " \r",
        "0176   7.219737e+01   1.000000e+15   1.918578e-01"
       ]
      },
      {
       "output_type": "stream",
       "stream": "stdout",
       "text": [
        " \r",
        "0177   7.219737e+01   1.000000e+15   1.918578e-01"
       ]
      },
      {
       "output_type": "stream",
       "stream": "stdout",
       "text": [
        " \r",
        "0178   7.219737e+01   1.000000e+15   1.918578e-01"
       ]
      },
      {
       "output_type": "stream",
       "stream": "stdout",
       "text": [
        " \r",
        "0179   7.219737e+01   1.000000e+15   1.918578e-01"
       ]
      },
      {
       "output_type": "stream",
       "stream": "stdout",
       "text": [
        " \r",
        "0180   7.219737e+01   1.000000e+15   1.918578e-01"
       ]
      },
      {
       "output_type": "stream",
       "stream": "stdout",
       "text": [
        " \r",
        "0181   7.219737e+01   1.000000e+15   1.918578e-01"
       ]
      },
      {
       "output_type": "stream",
       "stream": "stdout",
       "text": [
        " \r",
        "0182   7.219737e+01   1.000000e+15   1.918578e-01"
       ]
      },
      {
       "output_type": "stream",
       "stream": "stdout",
       "text": [
        " \r",
        "0183   7.219737e+01   1.000000e+15   1.918578e-01"
       ]
      },
      {
       "output_type": "stream",
       "stream": "stdout",
       "text": [
        " \r",
        "0184   7.219737e+01   1.000000e+15   1.918578e-01"
       ]
      },
      {
       "output_type": "stream",
       "stream": "stdout",
       "text": [
        " \r",
        "0185   7.219737e+01   1.000000e+15   1.918578e-01"
       ]
      },
      {
       "output_type": "stream",
       "stream": "stdout",
       "text": [
        " \r",
        "0186   7.219737e+01   1.000000e+15   1.918578e-01"
       ]
      },
      {
       "output_type": "stream",
       "stream": "stdout",
       "text": [
        " \r",
        "0187   7.219737e+01   1.000000e+15   1.918578e-01"
       ]
      },
      {
       "output_type": "stream",
       "stream": "stdout",
       "text": [
        " \r",
        "0188   7.219737e+01   1.000000e+15   1.918578e-01"
       ]
      },
      {
       "output_type": "stream",
       "stream": "stdout",
       "text": [
        " \r",
        "0189   7.219737e+01   1.000000e+15   1.918578e-01"
       ]
      },
      {
       "output_type": "stream",
       "stream": "stdout",
       "text": [
        " \r",
        "0190   7.219737e+01   1.000000e+15   1.918578e-01"
       ]
      },
      {
       "output_type": "stream",
       "stream": "stdout",
       "text": [
        " \r",
        "0191   7.219737e+01   1.000000e+15   1.918578e-01"
       ]
      },
      {
       "output_type": "stream",
       "stream": "stdout",
       "text": [
        " \r",
        "0192   7.219737e+01   1.000000e+15   1.918578e-01"
       ]
      },
      {
       "output_type": "stream",
       "stream": "stdout",
       "text": [
        " \r",
        "0193   7.219737e+01   1.000000e+15   1.918578e-01"
       ]
      },
      {
       "output_type": "stream",
       "stream": "stdout",
       "text": [
        " \r",
        "0194   7.219737e+01   1.000000e+15   1.918578e-01"
       ]
      },
      {
       "output_type": "stream",
       "stream": "stdout",
       "text": [
        " \r",
        "0195   7.219737e+01   1.000000e+15   1.918578e-01"
       ]
      },
      {
       "output_type": "stream",
       "stream": "stdout",
       "text": [
        " \r",
        "0196   7.219737e+01   1.000000e+15   1.918578e-01"
       ]
      },
      {
       "output_type": "stream",
       "stream": "stdout",
       "text": [
        " \r",
        "0197   7.219737e+01   1.000000e+15   1.918578e-01"
       ]
      },
      {
       "output_type": "stream",
       "stream": "stdout",
       "text": [
        " \r",
        "0198   7.219737e+01   1.000000e+15   1.918578e-01"
       ]
      },
      {
       "output_type": "stream",
       "stream": "stdout",
       "text": [
        " \r",
        "0199   7.219737e+01   1.000000e+15   1.918578e-01"
       ]
      },
      {
       "output_type": "stream",
       "stream": "stdout",
       "text": [
        " \r",
        "0200   7.219737e+01   1.000000e+15   1.918578e-01"
       ]
      },
      {
       "output_type": "stream",
       "stream": "stdout",
       "text": [
        " \r",
        "0201   7.219737e+01   1.000000e+15   1.918578e-01"
       ]
      },
      {
       "output_type": "stream",
       "stream": "stdout",
       "text": [
        " \r",
        "0202   7.219737e+01   1.000000e+15   1.918578e-01"
       ]
      },
      {
       "output_type": "stream",
       "stream": "stdout",
       "text": [
        " \r",
        "0203   7.219737e+01   1.000000e+15   1.918578e-01"
       ]
      },
      {
       "output_type": "stream",
       "stream": "stdout",
       "text": [
        " \r",
        "0204   7.219737e+01   1.000000e+15   1.918578e-01"
       ]
      },
      {
       "output_type": "stream",
       "stream": "stdout",
       "text": [
        " \r",
        "0205   7.219737e+01   1.000000e+15   1.918578e-01"
       ]
      },
      {
       "output_type": "stream",
       "stream": "stdout",
       "text": [
        " \r",
        "0206   7.219737e+01   1.000000e+15   1.918578e-01"
       ]
      },
      {
       "output_type": "stream",
       "stream": "stdout",
       "text": [
        " \r",
        "0207   7.219737e+01   1.000000e+15   1.918578e-01"
       ]
      },
      {
       "output_type": "stream",
       "stream": "stdout",
       "text": [
        " \r",
        "0208   7.219737e+01   1.000000e+15   1.918578e-01"
       ]
      },
      {
       "output_type": "stream",
       "stream": "stdout",
       "text": [
        " \r",
        "0209   7.219737e+01   1.000000e+15   1.918578e-01"
       ]
      },
      {
       "output_type": "stream",
       "stream": "stdout",
       "text": [
        " \r",
        "0210   7.219737e+01   1.000000e+15   1.918578e-01"
       ]
      },
      {
       "output_type": "stream",
       "stream": "stdout",
       "text": [
        " \r",
        "0211   7.219737e+01   1.000000e+15   1.918578e-01"
       ]
      },
      {
       "output_type": "stream",
       "stream": "stdout",
       "text": [
        " \r",
        "0212   7.219737e+01   1.000000e+15   1.918578e-01"
       ]
      },
      {
       "output_type": "stream",
       "stream": "stdout",
       "text": [
        " \r",
        "0213   7.219737e+01   1.000000e+15   1.918578e-01"
       ]
      },
      {
       "output_type": "stream",
       "stream": "stdout",
       "text": [
        " \r",
        "0214   7.219737e+01   1.000000e+15   1.918578e-01"
       ]
      },
      {
       "output_type": "stream",
       "stream": "stdout",
       "text": [
        " \r",
        "0215   7.219737e+01   1.000000e+15   1.918578e-01"
       ]
      },
      {
       "output_type": "stream",
       "stream": "stdout",
       "text": [
        " \r",
        "0216   7.219737e+01   1.000000e+15   1.918578e-01"
       ]
      },
      {
       "output_type": "stream",
       "stream": "stdout",
       "text": [
        " \r",
        "0217   7.219737e+01   1.000000e+15   1.918578e-01"
       ]
      },
      {
       "output_type": "stream",
       "stream": "stdout",
       "text": [
        " \r",
        "0218   7.219737e+01   1.000000e+15   1.918578e-01"
       ]
      },
      {
       "output_type": "stream",
       "stream": "stdout",
       "text": [
        " \r",
        "0219   7.219737e+01   1.000000e+15   1.918578e-01"
       ]
      },
      {
       "output_type": "stream",
       "stream": "stdout",
       "text": [
        " \r",
        "0220   7.219737e+01   1.000000e+15   1.918578e-01"
       ]
      },
      {
       "output_type": "stream",
       "stream": "stdout",
       "text": [
        " \r",
        "0221   7.219737e+01   1.000000e+15   1.918578e-01"
       ]
      },
      {
       "output_type": "stream",
       "stream": "stdout",
       "text": [
        " \r",
        "0222   7.219737e+01   1.000000e+15   1.918578e-01"
       ]
      },
      {
       "output_type": "stream",
       "stream": "stdout",
       "text": [
        " \r",
        "0223   7.219737e+01   1.000000e+15   1.918578e-01"
       ]
      },
      {
       "output_type": "stream",
       "stream": "stdout",
       "text": [
        " \r",
        "0224   7.219737e+01   1.000000e+15   1.918578e-01"
       ]
      },
      {
       "output_type": "stream",
       "stream": "stdout",
       "text": [
        " \r",
        "0225   7.219737e+01   1.000000e+15   1.918578e-01"
       ]
      },
      {
       "output_type": "stream",
       "stream": "stdout",
       "text": [
        " \r",
        "0226   7.219737e+01   1.000000e+15   1.918578e-01"
       ]
      },
      {
       "output_type": "stream",
       "stream": "stdout",
       "text": [
        " \r",
        "0227   7.219737e+01   1.000000e+15   1.918578e-01"
       ]
      },
      {
       "output_type": "stream",
       "stream": "stdout",
       "text": [
        " \r",
        "0228   7.219737e+01   1.000000e+15   1.918578e-01"
       ]
      },
      {
       "output_type": "stream",
       "stream": "stdout",
       "text": [
        " \r",
        "0229   7.219737e+01   1.000000e+15   1.918578e-01"
       ]
      },
      {
       "output_type": "stream",
       "stream": "stdout",
       "text": [
        " \r",
        "0230   7.219737e+01   1.000000e+15   1.918578e-01"
       ]
      },
      {
       "output_type": "stream",
       "stream": "stdout",
       "text": [
        " \r",
        "0231   7.219737e+01   1.000000e+15   1.918578e-01"
       ]
      },
      {
       "output_type": "stream",
       "stream": "stdout",
       "text": [
        " \r",
        "0232   7.219737e+01   1.000000e+15   1.918578e-01"
       ]
      },
      {
       "output_type": "stream",
       "stream": "stdout",
       "text": [
        " \r",
        "0233   7.219737e+01   1.000000e+15   1.918578e-01"
       ]
      },
      {
       "output_type": "stream",
       "stream": "stdout",
       "text": [
        " \r",
        "0234   7.219737e+01   1.000000e+15   1.918578e-01"
       ]
      },
      {
       "output_type": "stream",
       "stream": "stdout",
       "text": [
        " \n",
        "\r",
        "0235   7.219737e+01   1.000000e+15   1.918578e-01"
       ]
      },
      {
       "output_type": "stream",
       "stream": "stdout",
       "text": [
        " \r",
        "0236   7.219737e+01   1.000000e+15   1.918578e-01"
       ]
      },
      {
       "output_type": "stream",
       "stream": "stdout",
       "text": [
        " \r",
        "0237   7.219737e+01   1.000000e+15   1.918578e-01"
       ]
      },
      {
       "output_type": "stream",
       "stream": "stdout",
       "text": [
        " \r",
        "0238   7.219737e+01   1.000000e+15   1.918578e-01"
       ]
      },
      {
       "output_type": "stream",
       "stream": "stdout",
       "text": [
        " \r",
        "0239   7.219737e+01   1.000000e+15   1.918578e-01"
       ]
      },
      {
       "output_type": "stream",
       "stream": "stdout",
       "text": [
        " \r",
        "0240   7.219737e+01   1.000000e+15   1.918578e-01"
       ]
      },
      {
       "output_type": "stream",
       "stream": "stdout",
       "text": [
        " \r",
        "0241   7.219737e+01   1.000000e+15   1.918578e-01"
       ]
      },
      {
       "output_type": "stream",
       "stream": "stdout",
       "text": [
        " \r",
        "0242   7.219737e+01   1.000000e+15   1.918578e-01"
       ]
      },
      {
       "output_type": "stream",
       "stream": "stdout",
       "text": [
        " \r",
        "0243   7.219737e+01   1.000000e+15   1.918578e-01"
       ]
      },
      {
       "output_type": "stream",
       "stream": "stdout",
       "text": [
        " \r",
        "0244   7.219737e+01   1.000000e+15   1.918578e-01"
       ]
      },
      {
       "output_type": "stream",
       "stream": "stdout",
       "text": [
        " \r",
        "0245   7.219737e+01   1.000000e+15   1.918578e-01"
       ]
      },
      {
       "output_type": "stream",
       "stream": "stdout",
       "text": [
        " \r",
        "0246   7.219737e+01   1.000000e+15   1.918578e-01"
       ]
      },
      {
       "output_type": "stream",
       "stream": "stdout",
       "text": [
        " \r",
        "0247   7.219737e+01   1.000000e+15   1.918578e-01"
       ]
      },
      {
       "output_type": "stream",
       "stream": "stdout",
       "text": [
        " \r",
        "0248   7.219737e+01   1.000000e+15   1.918578e-01"
       ]
      },
      {
       "output_type": "stream",
       "stream": "stdout",
       "text": [
        " \r",
        "0249   7.219737e+01   1.000000e+15   1.918578e-01"
       ]
      },
      {
       "output_type": "stream",
       "stream": "stdout",
       "text": [
        " \r",
        "0250   7.219737e+01   1.000000e+15   1.918578e-01"
       ]
      },
      {
       "output_type": "stream",
       "stream": "stdout",
       "text": [
        " \r",
        "0251   7.219737e+01   1.000000e+15   1.918578e-01"
       ]
      },
      {
       "output_type": "stream",
       "stream": "stdout",
       "text": [
        " \r",
        "0252   7.219737e+01   1.000000e+15   1.918578e-01"
       ]
      },
      {
       "output_type": "stream",
       "stream": "stdout",
       "text": [
        " \r",
        "0253   7.219737e+01   1.000000e+15   1.918578e-01"
       ]
      },
      {
       "output_type": "stream",
       "stream": "stdout",
       "text": [
        " \r",
        "0254   7.219737e+01   1.000000e+15   1.918578e-01"
       ]
      },
      {
       "output_type": "stream",
       "stream": "stdout",
       "text": [
        " \r",
        "0255   7.219737e+01   1.000000e+15   1.918578e-01"
       ]
      },
      {
       "output_type": "stream",
       "stream": "stdout",
       "text": [
        " \r",
        "0256   7.219737e+01   1.000000e+15   1.918578e-01"
       ]
      },
      {
       "output_type": "stream",
       "stream": "stdout",
       "text": [
        " \r",
        "0257   7.219737e+01   1.000000e+15   1.918578e-01"
       ]
      },
      {
       "output_type": "stream",
       "stream": "stdout",
       "text": [
        " \r",
        "0258   7.219737e+01   1.000000e+15   1.918578e-01"
       ]
      },
      {
       "output_type": "stream",
       "stream": "stdout",
       "text": [
        " \r",
        "0259   7.219737e+01   1.000000e+15   1.918578e-01"
       ]
      },
      {
       "output_type": "stream",
       "stream": "stdout",
       "text": [
        " \r",
        "0260   7.219737e+01   1.000000e+15   1.918578e-01"
       ]
      },
      {
       "output_type": "stream",
       "stream": "stdout",
       "text": [
        " \r",
        "0261   7.219737e+01   1.000000e+15   1.918578e-01"
       ]
      },
      {
       "output_type": "stream",
       "stream": "stdout",
       "text": [
        " \r",
        "0262   7.219737e+01   1.000000e+15   1.918578e-01"
       ]
      },
      {
       "output_type": "stream",
       "stream": "stdout",
       "text": [
        " \r",
        "0263   7.219737e+01   1.000000e+15   1.918578e-01"
       ]
      },
      {
       "output_type": "stream",
       "stream": "stdout",
       "text": [
        " \r",
        "0264   7.219737e+01   1.000000e+15   1.918578e-01"
       ]
      },
      {
       "output_type": "stream",
       "stream": "stdout",
       "text": [
        " \r",
        "0265   7.219737e+01   1.000000e+15   1.918578e-01"
       ]
      },
      {
       "output_type": "stream",
       "stream": "stdout",
       "text": [
        " \r",
        "0266   7.219737e+01   1.000000e+15   1.918578e-01"
       ]
      },
      {
       "output_type": "stream",
       "stream": "stdout",
       "text": [
        " \r",
        "0267   7.219737e+01   1.000000e+15   1.918578e-01"
       ]
      },
      {
       "output_type": "stream",
       "stream": "stdout",
       "text": [
        " \r",
        "0268   7.219737e+01   1.000000e+15   1.918578e-01"
       ]
      },
      {
       "output_type": "stream",
       "stream": "stdout",
       "text": [
        " \r",
        "0269   7.219737e+01   1.000000e+15   1.918578e-01"
       ]
      },
      {
       "output_type": "stream",
       "stream": "stdout",
       "text": [
        " \r",
        "0270   7.219737e+01   1.000000e+15   1.918578e-01"
       ]
      },
      {
       "output_type": "stream",
       "stream": "stdout",
       "text": [
        " \r",
        "0271   7.219737e+01   1.000000e+15   1.918578e-01"
       ]
      },
      {
       "output_type": "stream",
       "stream": "stdout",
       "text": [
        " \r",
        "0272   7.219737e+01   1.000000e+15   1.918578e-01"
       ]
      },
      {
       "output_type": "stream",
       "stream": "stdout",
       "text": [
        " \r",
        "0273   7.219737e+01   1.000000e+15   1.918578e-01"
       ]
      },
      {
       "output_type": "stream",
       "stream": "stdout",
       "text": [
        " \r",
        "0274   7.219737e+01   1.000000e+15   1.918578e-01"
       ]
      },
      {
       "output_type": "stream",
       "stream": "stdout",
       "text": [
        " \r",
        "0275   7.219737e+01   1.000000e+15   1.918578e-01"
       ]
      },
      {
       "output_type": "stream",
       "stream": "stdout",
       "text": [
        " \r",
        "0276   7.219737e+01   1.000000e+15   1.918578e-01"
       ]
      },
      {
       "output_type": "stream",
       "stream": "stdout",
       "text": [
        " \r",
        "0277   7.219737e+01   1.000000e+15   1.918578e-01"
       ]
      },
      {
       "output_type": "stream",
       "stream": "stdout",
       "text": [
        " \r",
        "0278   7.219737e+01   1.000000e+15   1.918578e-01"
       ]
      },
      {
       "output_type": "stream",
       "stream": "stdout",
       "text": [
        " \r",
        "0279   7.219737e+01   1.000000e+15   1.918578e-01"
       ]
      },
      {
       "output_type": "stream",
       "stream": "stdout",
       "text": [
        " \r",
        "0280   7.219737e+01   1.000000e+15   1.918578e-01"
       ]
      },
      {
       "output_type": "stream",
       "stream": "stdout",
       "text": [
        " \r",
        "0281   7.219737e+01   1.000000e+15   1.918578e-01"
       ]
      },
      {
       "output_type": "stream",
       "stream": "stdout",
       "text": [
        " \r",
        "0282   7.219737e+01   1.000000e+15   1.918578e-01"
       ]
      },
      {
       "output_type": "stream",
       "stream": "stdout",
       "text": [
        " \r",
        "0283   7.219737e+01   1.000000e+15   1.918578e-01"
       ]
      },
      {
       "output_type": "stream",
       "stream": "stdout",
       "text": [
        " \r",
        "0284   7.219737e+01   1.000000e+15   1.918578e-01"
       ]
      },
      {
       "output_type": "stream",
       "stream": "stdout",
       "text": [
        " \r",
        "0285   7.219737e+01   1.000000e+15   1.918578e-01"
       ]
      },
      {
       "output_type": "stream",
       "stream": "stdout",
       "text": [
        " \r",
        "0286   7.219737e+01   1.000000e+15   1.918578e-01"
       ]
      },
      {
       "output_type": "stream",
       "stream": "stdout",
       "text": [
        " \r",
        "0287   7.219737e+01   1.000000e+15   1.918578e-01"
       ]
      },
      {
       "output_type": "stream",
       "stream": "stdout",
       "text": [
        " \r",
        "0288   7.219737e+01   1.000000e+15   1.918578e-01"
       ]
      },
      {
       "output_type": "stream",
       "stream": "stdout",
       "text": [
        " \r",
        "0289   7.219737e+01   1.000000e+15   1.918578e-01"
       ]
      },
      {
       "output_type": "stream",
       "stream": "stdout",
       "text": [
        " \r",
        "0290   7.219737e+01   1.000000e+15   1.918578e-01"
       ]
      },
      {
       "output_type": "stream",
       "stream": "stdout",
       "text": [
        " \r",
        "0291   7.219737e+01   1.000000e+15   1.918578e-01"
       ]
      },
      {
       "output_type": "stream",
       "stream": "stdout",
       "text": [
        " \r",
        "0292   7.219737e+01   1.000000e+15   1.918578e-01"
       ]
      },
      {
       "output_type": "stream",
       "stream": "stdout",
       "text": [
        " \r",
        "0293   7.219737e+01   1.000000e+15   1.918578e-01"
       ]
      },
      {
       "output_type": "stream",
       "stream": "stdout",
       "text": [
        " \r",
        "0294   7.219737e+01   1.000000e+15   1.918578e-01"
       ]
      },
      {
       "output_type": "stream",
       "stream": "stdout",
       "text": [
        " \r",
        "0295   7.219737e+01   1.000000e+15   1.918578e-01"
       ]
      },
      {
       "output_type": "stream",
       "stream": "stdout",
       "text": [
        " \r",
        "0296   7.219737e+01   1.000000e+15   1.918578e-01"
       ]
      },
      {
       "output_type": "stream",
       "stream": "stdout",
       "text": [
        " \r",
        "0297   7.219737e+01   1.000000e+15   1.918578e-01"
       ]
      },
      {
       "output_type": "stream",
       "stream": "stdout",
       "text": [
        " \r",
        "0298   7.219737e+01   1.000000e+15   1.918578e-01"
       ]
      },
      {
       "output_type": "stream",
       "stream": "stdout",
       "text": [
        " \r",
        "0299   7.219737e+01   1.000000e+15   1.918578e-01"
       ]
      },
      {
       "output_type": "stream",
       "stream": "stdout",
       "text": [
        " \r",
        "0300   7.219737e+01   1.000000e+15   1.918578e-01"
       ]
      },
      {
       "output_type": "stream",
       "stream": "stdout",
       "text": [
        " \r",
        "0301   7.219737e+01   1.000000e+15   1.918578e-01"
       ]
      },
      {
       "output_type": "stream",
       "stream": "stdout",
       "text": [
        " \r",
        "0302   7.219737e+01   1.000000e+15   1.918578e-01"
       ]
      },
      {
       "output_type": "stream",
       "stream": "stdout",
       "text": [
        " \r",
        "0303   7.219737e+01   1.000000e+15   1.918578e-01"
       ]
      },
      {
       "output_type": "stream",
       "stream": "stdout",
       "text": [
        " \r",
        "0304   7.219737e+01   1.000000e+15   1.918578e-01"
       ]
      },
      {
       "output_type": "stream",
       "stream": "stdout",
       "text": [
        " \r",
        "0305   7.219737e+01   1.000000e+15   1.918578e-01"
       ]
      },
      {
       "output_type": "stream",
       "stream": "stdout",
       "text": [
        " \r",
        "0306   7.219737e+01   1.000000e+15   1.918578e-01"
       ]
      },
      {
       "output_type": "stream",
       "stream": "stdout",
       "text": [
        " \r",
        "0307   7.219737e+01   1.000000e+15   1.918578e-01"
       ]
      },
      {
       "output_type": "stream",
       "stream": "stdout",
       "text": [
        " \r",
        "0308   7.219737e+01   1.000000e+15   1.918578e-01"
       ]
      },
      {
       "output_type": "stream",
       "stream": "stdout",
       "text": [
        " \r",
        "0309   7.219737e+01   1.000000e+15   1.918578e-01"
       ]
      },
      {
       "output_type": "stream",
       "stream": "stdout",
       "text": [
        " \r",
        "0310   7.219737e+01   1.000000e+15   1.918578e-01"
       ]
      },
      {
       "output_type": "stream",
       "stream": "stdout",
       "text": [
        " \r",
        "0311   7.219737e+01   1.000000e+15   1.918578e-01"
       ]
      },
      {
       "output_type": "stream",
       "stream": "stdout",
       "text": [
        " \r",
        "0312   7.219737e+01   1.000000e+15   1.918578e-01"
       ]
      },
      {
       "output_type": "stream",
       "stream": "stdout",
       "text": [
        " \r",
        "0313   7.219737e+01   1.000000e+15   1.918578e-01"
       ]
      },
      {
       "output_type": "stream",
       "stream": "stdout",
       "text": [
        " \r",
        "0314   7.219737e+01   1.000000e+15   1.918578e-01"
       ]
      },
      {
       "output_type": "stream",
       "stream": "stdout",
       "text": [
        " \r",
        "0315   7.219737e+01   1.000000e+15   1.918578e-01"
       ]
      },
      {
       "output_type": "stream",
       "stream": "stdout",
       "text": [
        " \r",
        "0316   7.219737e+01   1.000000e+15   1.918578e-01"
       ]
      },
      {
       "output_type": "stream",
       "stream": "stdout",
       "text": [
        " \r",
        "0317   7.219737e+01   1.000000e+15   1.918578e-01"
       ]
      },
      {
       "output_type": "stream",
       "stream": "stdout",
       "text": [
        " \r",
        "0318   7.219737e+01   1.000000e+15   1.918578e-01"
       ]
      },
      {
       "output_type": "stream",
       "stream": "stdout",
       "text": [
        " \r",
        "0319   7.219737e+01   1.000000e+15   1.918578e-01"
       ]
      },
      {
       "output_type": "stream",
       "stream": "stdout",
       "text": [
        " \r",
        "0320   7.219737e+01   1.000000e+15   1.918578e-01"
       ]
      },
      {
       "output_type": "stream",
       "stream": "stdout",
       "text": [
        " \r",
        "0321   7.219737e+01   1.000000e+15   1.918578e-01"
       ]
      },
      {
       "output_type": "stream",
       "stream": "stdout",
       "text": [
        " \r",
        "0322   7.219737e+01   1.000000e+15   1.918578e-01"
       ]
      },
      {
       "output_type": "stream",
       "stream": "stdout",
       "text": [
        " \r",
        "0323   7.219737e+01   1.000000e+15   1.918578e-01"
       ]
      },
      {
       "output_type": "stream",
       "stream": "stdout",
       "text": [
        " \r",
        "0324   7.219737e+01   1.000000e+15   1.918578e-01"
       ]
      },
      {
       "output_type": "stream",
       "stream": "stdout",
       "text": [
        " \r",
        "0325   7.219737e+01   1.000000e+15   1.918578e-01"
       ]
      },
      {
       "output_type": "stream",
       "stream": "stdout",
       "text": [
        " \r",
        "0326   7.219737e+01   1.000000e+15   1.918578e-01"
       ]
      },
      {
       "output_type": "stream",
       "stream": "stdout",
       "text": [
        " \r",
        "0327   7.219737e+01   1.000000e+15   1.918578e-01"
       ]
      },
      {
       "output_type": "stream",
       "stream": "stdout",
       "text": [
        " \r",
        "0328   7.219737e+01   1.000000e+15   1.918578e-01"
       ]
      },
      {
       "output_type": "stream",
       "stream": "stdout",
       "text": [
        " \r",
        "0329   7.219737e+01   1.000000e+15   1.918578e-01"
       ]
      },
      {
       "output_type": "stream",
       "stream": "stdout",
       "text": [
        " \r",
        "0330   7.219737e+01   1.000000e+15   1.918578e-01"
       ]
      },
      {
       "output_type": "stream",
       "stream": "stdout",
       "text": [
        " \r",
        "0331   7.219737e+01   1.000000e+15   1.918578e-01"
       ]
      },
      {
       "output_type": "stream",
       "stream": "stdout",
       "text": [
        " \r",
        "0332   7.219737e+01   1.000000e+15   1.918578e-01"
       ]
      },
      {
       "output_type": "stream",
       "stream": "stdout",
       "text": [
        " \r",
        "0333   7.219737e+01   1.000000e+15   1.918578e-01"
       ]
      },
      {
       "output_type": "stream",
       "stream": "stdout",
       "text": [
        " \r",
        "0334   7.219737e+01   1.000000e+15   1.918578e-01"
       ]
      },
      {
       "output_type": "stream",
       "stream": "stdout",
       "text": [
        " \r",
        "0335   7.219737e+01   1.000000e+15   1.918578e-01"
       ]
      },
      {
       "output_type": "stream",
       "stream": "stdout",
       "text": [
        " \r",
        "0336   7.219737e+01   1.000000e+15   1.918578e-01"
       ]
      },
      {
       "output_type": "stream",
       "stream": "stdout",
       "text": [
        " \r",
        "0337   7.219737e+01   1.000000e+15   1.918578e-01"
       ]
      },
      {
       "output_type": "stream",
       "stream": "stdout",
       "text": [
        " \r",
        "0338   7.219737e+01   1.000000e+15   1.918578e-01"
       ]
      },
      {
       "output_type": "stream",
       "stream": "stdout",
       "text": [
        " \r",
        "0339   7.219737e+01   1.000000e+15   1.918578e-01"
       ]
      },
      {
       "output_type": "stream",
       "stream": "stdout",
       "text": [
        " \r",
        "0340   7.219737e+01   1.000000e+15   1.918578e-01"
       ]
      },
      {
       "output_type": "stream",
       "stream": "stdout",
       "text": [
        " \r",
        "0341   7.219737e+01   1.000000e+15   1.918578e-01"
       ]
      },
      {
       "output_type": "stream",
       "stream": "stdout",
       "text": [
        " \r",
        "0342   7.219737e+01   1.000000e+15   1.918578e-01"
       ]
      },
      {
       "output_type": "stream",
       "stream": "stdout",
       "text": [
        " \r",
        "0343   7.219737e+01   1.000000e+15   1.918578e-01"
       ]
      },
      {
       "output_type": "stream",
       "stream": "stdout",
       "text": [
        " \r",
        "0344   7.219737e+01   1.000000e+15   1.918578e-01"
       ]
      },
      {
       "output_type": "stream",
       "stream": "stdout",
       "text": [
        " \r",
        "0345   7.219737e+01   1.000000e+15   1.918578e-01"
       ]
      },
      {
       "output_type": "stream",
       "stream": "stdout",
       "text": [
        " \r",
        "0346   7.219737e+01   1.000000e+15   1.918578e-01"
       ]
      },
      {
       "output_type": "stream",
       "stream": "stdout",
       "text": [
        " \r",
        "0347   7.219737e+01   1.000000e+15   1.918578e-01"
       ]
      },
      {
       "output_type": "stream",
       "stream": "stdout",
       "text": [
        " \r",
        "0348   7.219737e+01   1.000000e+15   1.918578e-01"
       ]
      },
      {
       "output_type": "stream",
       "stream": "stdout",
       "text": [
        " \r",
        "0349   7.219737e+01   1.000000e+15   1.918578e-01"
       ]
      },
      {
       "output_type": "stream",
       "stream": "stdout",
       "text": [
        " \r",
        "0350   7.219737e+01   1.000000e+15   1.918578e-01"
       ]
      },
      {
       "output_type": "stream",
       "stream": "stdout",
       "text": [
        " \r",
        "0351   7.219737e+01   1.000000e+15   1.918578e-01"
       ]
      },
      {
       "output_type": "stream",
       "stream": "stdout",
       "text": [
        " \r",
        "0352   7.219737e+01   1.000000e+15   1.918578e-01"
       ]
      },
      {
       "output_type": "stream",
       "stream": "stdout",
       "text": [
        " \r",
        "0353   7.219737e+01   1.000000e+15   1.918578e-01"
       ]
      },
      {
       "output_type": "stream",
       "stream": "stdout",
       "text": [
        " \r",
        "0354   7.219737e+01   1.000000e+15   1.918578e-01"
       ]
      },
      {
       "output_type": "stream",
       "stream": "stdout",
       "text": [
        " \r",
        "0355   7.219737e+01   1.000000e+15   1.918578e-01"
       ]
      },
      {
       "output_type": "stream",
       "stream": "stdout",
       "text": [
        " \r",
        "0356   7.219737e+01   1.000000e+15   1.918578e-01"
       ]
      },
      {
       "output_type": "stream",
       "stream": "stdout",
       "text": [
        " \r",
        "0357   7.219737e+01   1.000000e+15   1.918578e-01"
       ]
      },
      {
       "output_type": "stream",
       "stream": "stdout",
       "text": [
        " \r",
        "0358   7.219737e+01   1.000000e+15   1.918578e-01"
       ]
      },
      {
       "output_type": "stream",
       "stream": "stdout",
       "text": [
        " \r",
        "0359   7.219737e+01   1.000000e+15   1.918578e-01"
       ]
      },
      {
       "output_type": "stream",
       "stream": "stdout",
       "text": [
        " \r",
        "0360   7.219737e+01   1.000000e+15   1.918578e-01"
       ]
      },
      {
       "output_type": "stream",
       "stream": "stdout",
       "text": [
        " \r",
        "0361   7.219737e+01   1.000000e+15   1.918578e-01"
       ]
      },
      {
       "output_type": "stream",
       "stream": "stdout",
       "text": [
        " \r",
        "0362   7.219737e+01   1.000000e+15   1.918578e-01"
       ]
      },
      {
       "output_type": "stream",
       "stream": "stdout",
       "text": [
        " \r",
        "0363   7.219737e+01   1.000000e+15   1.918578e-01"
       ]
      },
      {
       "output_type": "stream",
       "stream": "stdout",
       "text": [
        " \r",
        "0364   7.219737e+01   1.000000e+15   1.918578e-01"
       ]
      },
      {
       "output_type": "stream",
       "stream": "stdout",
       "text": [
        " \r",
        "0365   7.219737e+01   1.000000e+15   1.918578e-01"
       ]
      },
      {
       "output_type": "stream",
       "stream": "stdout",
       "text": [
        " \r",
        "0366   7.219737e+01   1.000000e+15   1.918578e-01"
       ]
      },
      {
       "output_type": "stream",
       "stream": "stdout",
       "text": [
        " \r",
        "0367   7.219737e+01   1.000000e+15   1.918578e-01"
       ]
      },
      {
       "output_type": "stream",
       "stream": "stdout",
       "text": [
        " \r",
        "0368   7.219737e+01   1.000000e+15   1.918578e-01"
       ]
      },
      {
       "output_type": "stream",
       "stream": "stdout",
       "text": [
        " \r",
        "0369   7.219737e+01   1.000000e+15   1.918578e-01"
       ]
      },
      {
       "output_type": "stream",
       "stream": "stdout",
       "text": [
        " \r",
        "0370   7.219737e+01   1.000000e+15   1.918578e-01"
       ]
      },
      {
       "output_type": "stream",
       "stream": "stdout",
       "text": [
        " \r",
        "0371   7.219737e+01   1.000000e+15   1.918578e-01"
       ]
      },
      {
       "output_type": "stream",
       "stream": "stdout",
       "text": [
        " \r",
        "0372   7.219737e+01   1.000000e+15   1.918578e-01"
       ]
      },
      {
       "output_type": "stream",
       "stream": "stdout",
       "text": [
        " \r",
        "0373   7.219737e+01   1.000000e+15   1.918578e-01"
       ]
      },
      {
       "output_type": "stream",
       "stream": "stdout",
       "text": [
        " \r",
        "0374   7.219737e+01   1.000000e+15   1.918578e-01"
       ]
      },
      {
       "output_type": "stream",
       "stream": "stdout",
       "text": [
        " \r",
        "0375   7.219737e+01   1.000000e+15   1.918578e-01"
       ]
      },
      {
       "output_type": "stream",
       "stream": "stdout",
       "text": [
        " \r",
        "0376   7.219737e+01   1.000000e+15   1.918578e-01"
       ]
      },
      {
       "output_type": "stream",
       "stream": "stdout",
       "text": [
        " \r",
        "0377   7.219737e+01   1.000000e+15   1.918578e-01"
       ]
      },
      {
       "output_type": "stream",
       "stream": "stdout",
       "text": [
        " \r",
        "0378   7.219737e+01   1.000000e+15   1.918578e-01"
       ]
      },
      {
       "output_type": "stream",
       "stream": "stdout",
       "text": [
        " \r",
        "0379   7.219737e+01   1.000000e+15   1.918578e-01"
       ]
      },
      {
       "output_type": "stream",
       "stream": "stdout",
       "text": [
        " \r",
        "0380   7.219737e+01   1.000000e+15   1.918578e-01"
       ]
      },
      {
       "output_type": "stream",
       "stream": "stdout",
       "text": [
        " \r",
        "0381   7.219737e+01   1.000000e+15   1.918578e-01"
       ]
      },
      {
       "output_type": "stream",
       "stream": "stdout",
       "text": [
        " \r",
        "0382   7.219737e+01   1.000000e+15   1.918578e-01"
       ]
      },
      {
       "output_type": "stream",
       "stream": "stdout",
       "text": [
        " \r",
        "0383   7.219737e+01   1.000000e+15   1.918578e-01"
       ]
      },
      {
       "output_type": "stream",
       "stream": "stdout",
       "text": [
        " \r",
        "0384   7.219737e+01   1.000000e+15   1.918578e-01"
       ]
      },
      {
       "output_type": "stream",
       "stream": "stdout",
       "text": [
        " \r",
        "0385   7.219737e+01   1.000000e+15   1.918578e-01"
       ]
      },
      {
       "output_type": "stream",
       "stream": "stdout",
       "text": [
        " \r",
        "0386   7.219737e+01   1.000000e+15   1.918578e-01"
       ]
      },
      {
       "output_type": "stream",
       "stream": "stdout",
       "text": [
        " \r",
        "0387   7.219737e+01   1.000000e+15   1.918578e-01"
       ]
      },
      {
       "output_type": "stream",
       "stream": "stdout",
       "text": [
        " \r",
        "0388   7.219737e+01   1.000000e+15   1.918578e-01"
       ]
      },
      {
       "output_type": "stream",
       "stream": "stdout",
       "text": [
        " \r",
        "0389   7.219737e+01   1.000000e+15   1.918578e-01"
       ]
      },
      {
       "output_type": "stream",
       "stream": "stdout",
       "text": [
        " \r",
        "0390   7.219737e+01   1.000000e+15   1.918578e-01"
       ]
      },
      {
       "output_type": "stream",
       "stream": "stdout",
       "text": [
        " \r",
        "0391   7.219737e+01   1.000000e+15   1.918578e-01"
       ]
      },
      {
       "output_type": "stream",
       "stream": "stdout",
       "text": [
        " \r",
        "0392   7.219737e+01   1.000000e+15   1.918578e-01"
       ]
      },
      {
       "output_type": "stream",
       "stream": "stdout",
       "text": [
        " \r",
        "0393   7.219737e+01   1.000000e+15   1.918578e-01"
       ]
      },
      {
       "output_type": "stream",
       "stream": "stdout",
       "text": [
        " \r",
        "0394   7.219737e+01   1.000000e+15   1.918578e-01"
       ]
      },
      {
       "output_type": "stream",
       "stream": "stdout",
       "text": [
        " \r",
        "0395   7.219737e+01   1.000000e+15   1.918578e-01"
       ]
      },
      {
       "output_type": "stream",
       "stream": "stdout",
       "text": [
        " \r",
        "0396   7.219737e+01   1.000000e+15   1.918578e-01"
       ]
      },
      {
       "output_type": "stream",
       "stream": "stdout",
       "text": [
        " \r",
        "0397   7.219737e+01   1.000000e+15   1.918578e-01"
       ]
      },
      {
       "output_type": "stream",
       "stream": "stdout",
       "text": [
        " \r",
        "0398   7.219737e+01   1.000000e+15   1.918578e-01"
       ]
      },
      {
       "output_type": "stream",
       "stream": "stdout",
       "text": [
        " \r",
        "0399   7.219737e+01   1.000000e+15   1.918578e-01"
       ]
      },
      {
       "output_type": "stream",
       "stream": "stdout",
       "text": [
        " \r",
        "0400   7.219737e+01   1.000000e+15   1.918578e-01"
       ]
      },
      {
       "output_type": "stream",
       "stream": "stdout",
       "text": [
        " \r",
        "0401   7.219737e+01   1.000000e+15   1.918578e-01"
       ]
      },
      {
       "output_type": "stream",
       "stream": "stdout",
       "text": [
        " \r",
        "0402   7.219737e+01   1.000000e+15   1.918578e-01"
       ]
      },
      {
       "output_type": "stream",
       "stream": "stdout",
       "text": [
        " \r",
        "0403   7.219737e+01   1.000000e+15   1.918578e-01"
       ]
      },
      {
       "output_type": "stream",
       "stream": "stdout",
       "text": [
        " \r",
        "0404   7.219737e+01   1.000000e+15   1.918578e-01"
       ]
      },
      {
       "output_type": "stream",
       "stream": "stdout",
       "text": [
        " \r",
        "0405   7.219737e+01   1.000000e+15   1.918578e-01"
       ]
      },
      {
       "output_type": "stream",
       "stream": "stdout",
       "text": [
        " \r",
        "0406   7.219737e+01   1.000000e+15   1.918578e-01"
       ]
      },
      {
       "output_type": "stream",
       "stream": "stdout",
       "text": [
        " \r",
        "0407   7.219737e+01   1.000000e+15   1.918578e-01"
       ]
      },
      {
       "output_type": "stream",
       "stream": "stdout",
       "text": [
        " \r",
        "0408   7.219737e+01   1.000000e+15   1.918578e-01"
       ]
      },
      {
       "output_type": "stream",
       "stream": "stdout",
       "text": [
        " \r",
        "0409   7.219737e+01   1.000000e+15   1.918578e-01"
       ]
      },
      {
       "output_type": "stream",
       "stream": "stdout",
       "text": [
        " \r",
        "0410   7.219737e+01   1.000000e+15   1.918578e-01"
       ]
      },
      {
       "output_type": "stream",
       "stream": "stdout",
       "text": [
        " \r",
        "0411   7.219737e+01   1.000000e+15   1.918578e-01"
       ]
      },
      {
       "output_type": "stream",
       "stream": "stdout",
       "text": [
        " \r",
        "0412   7.219737e+01   1.000000e+15   1.918578e-01"
       ]
      },
      {
       "output_type": "stream",
       "stream": "stdout",
       "text": [
        " \r",
        "0413   7.219737e+01   1.000000e+15   1.918578e-01"
       ]
      },
      {
       "output_type": "stream",
       "stream": "stdout",
       "text": [
        " \r",
        "0414   7.219737e+01   1.000000e+15   1.918578e-01"
       ]
      },
      {
       "output_type": "stream",
       "stream": "stdout",
       "text": [
        " \r",
        "0415   7.219737e+01   1.000000e+15   1.918578e-01"
       ]
      },
      {
       "output_type": "stream",
       "stream": "stdout",
       "text": [
        " \r",
        "0416   7.219737e+01   1.000000e+15   1.918578e-01"
       ]
      },
      {
       "output_type": "stream",
       "stream": "stdout",
       "text": [
        " \r",
        "0417   7.219737e+01   1.000000e+15   1.918578e-01"
       ]
      },
      {
       "output_type": "stream",
       "stream": "stdout",
       "text": [
        " \r",
        "0418   7.219737e+01   1.000000e+15   1.918578e-01"
       ]
      },
      {
       "output_type": "stream",
       "stream": "stdout",
       "text": [
        " \r",
        "0419   7.219737e+01   1.000000e+15   1.918578e-01"
       ]
      },
      {
       "output_type": "stream",
       "stream": "stdout",
       "text": [
        " \r",
        "0420   7.219737e+01   1.000000e+15   1.918578e-01"
       ]
      },
      {
       "output_type": "stream",
       "stream": "stdout",
       "text": [
        " \r",
        "0421   7.219737e+01   1.000000e+15   1.918578e-01"
       ]
      },
      {
       "output_type": "stream",
       "stream": "stdout",
       "text": [
        " \r",
        "0422   7.219737e+01   1.000000e+15   1.918578e-01"
       ]
      },
      {
       "output_type": "stream",
       "stream": "stdout",
       "text": [
        " \r",
        "0423   7.219737e+01   1.000000e+15   1.918578e-01"
       ]
      },
      {
       "output_type": "stream",
       "stream": "stdout",
       "text": [
        " \r",
        "0424   7.219737e+01   1.000000e+15   1.918578e-01"
       ]
      },
      {
       "output_type": "stream",
       "stream": "stdout",
       "text": [
        " \r",
        "0425   7.219737e+01   1.000000e+15   1.918578e-01"
       ]
      },
      {
       "output_type": "stream",
       "stream": "stdout",
       "text": [
        " \r",
        "0426   7.219737e+01   1.000000e+15   1.918578e-01"
       ]
      },
      {
       "output_type": "stream",
       "stream": "stdout",
       "text": [
        " \r",
        "0427   7.219737e+01   1.000000e+15   1.918578e-01"
       ]
      },
      {
       "output_type": "stream",
       "stream": "stdout",
       "text": [
        " \r",
        "0428   7.219737e+01   1.000000e+15   1.918578e-01"
       ]
      },
      {
       "output_type": "stream",
       "stream": "stdout",
       "text": [
        " \r",
        "0429   7.219737e+01   1.000000e+15   1.918578e-01"
       ]
      },
      {
       "output_type": "stream",
       "stream": "stdout",
       "text": [
        " \r",
        "0430   7.219737e+01   1.000000e+15   1.918578e-01"
       ]
      },
      {
       "output_type": "stream",
       "stream": "stdout",
       "text": [
        " \r",
        "0431   7.219737e+01   1.000000e+15   1.918578e-01"
       ]
      },
      {
       "output_type": "stream",
       "stream": "stdout",
       "text": [
        " \r",
        "0432   7.219737e+01   1.000000e+15   1.918578e-01"
       ]
      },
      {
       "output_type": "stream",
       "stream": "stdout",
       "text": [
        " \r",
        "0433   7.219737e+01   1.000000e+15   1.918578e-01"
       ]
      },
      {
       "output_type": "stream",
       "stream": "stdout",
       "text": [
        " \r",
        "0434   7.219737e+01   1.000000e+15   1.918578e-01"
       ]
      },
      {
       "output_type": "stream",
       "stream": "stdout",
       "text": [
        " \r",
        "0435   7.219737e+01   1.000000e+15   1.918578e-01"
       ]
      },
      {
       "output_type": "stream",
       "stream": "stdout",
       "text": [
        " \r",
        "0436   7.219737e+01   1.000000e+15   1.918578e-01"
       ]
      },
      {
       "output_type": "stream",
       "stream": "stdout",
       "text": [
        " \r",
        "0437   7.219737e+01   1.000000e+15   1.918578e-01"
       ]
      },
      {
       "output_type": "stream",
       "stream": "stdout",
       "text": [
        " \r",
        "0438   7.219737e+01   1.000000e+15   1.918578e-01"
       ]
      },
      {
       "output_type": "stream",
       "stream": "stdout",
       "text": [
        " \r",
        "0439   7.219737e+01   1.000000e+15   1.918578e-01"
       ]
      },
      {
       "output_type": "stream",
       "stream": "stdout",
       "text": [
        " \r",
        "0440   7.219737e+01   1.000000e+15   1.918578e-01"
       ]
      },
      {
       "output_type": "stream",
       "stream": "stdout",
       "text": [
        " \r",
        "0441   7.219737e+01   1.000000e+15   1.918578e-01"
       ]
      },
      {
       "output_type": "stream",
       "stream": "stdout",
       "text": [
        " \r",
        "0442   7.219737e+01   1.000000e+15   1.918578e-01"
       ]
      },
      {
       "output_type": "stream",
       "stream": "stdout",
       "text": [
        " \r",
        "0443   7.219737e+01   1.000000e+15   1.918578e-01"
       ]
      },
      {
       "output_type": "stream",
       "stream": "stdout",
       "text": [
        " \r",
        "0444   7.219737e+01   1.000000e+15   1.918578e-01"
       ]
      },
      {
       "output_type": "stream",
       "stream": "stdout",
       "text": [
        " \r",
        "0445   7.219737e+01   1.000000e+15   1.918578e-01"
       ]
      },
      {
       "output_type": "stream",
       "stream": "stdout",
       "text": [
        " \r",
        "0446   7.219737e+01   1.000000e+15   1.918578e-01"
       ]
      },
      {
       "output_type": "stream",
       "stream": "stdout",
       "text": [
        " \r",
        "0447   7.219737e+01   1.000000e+15   1.918578e-01"
       ]
      },
      {
       "output_type": "stream",
       "stream": "stdout",
       "text": [
        " \r",
        "0448   7.219737e+01   1.000000e+15   1.918578e-01"
       ]
      },
      {
       "output_type": "stream",
       "stream": "stdout",
       "text": [
        " \r",
        "0449   7.219737e+01   1.000000e+15   1.918578e-01"
       ]
      },
      {
       "output_type": "stream",
       "stream": "stdout",
       "text": [
        " \r",
        "0450   7.219737e+01   1.000000e+15   1.918578e-01"
       ]
      },
      {
       "output_type": "stream",
       "stream": "stdout",
       "text": [
        " \r",
        "0451   7.219737e+01   1.000000e+15   1.918578e-01"
       ]
      },
      {
       "output_type": "stream",
       "stream": "stdout",
       "text": [
        " \r",
        "0452   7.219737e+01   1.000000e+15   1.918578e-01"
       ]
      },
      {
       "output_type": "stream",
       "stream": "stdout",
       "text": [
        " \r",
        "0453   7.219737e+01   1.000000e+15   1.918578e-01"
       ]
      },
      {
       "output_type": "stream",
       "stream": "stdout",
       "text": [
        " \r",
        "0454   7.219737e+01   1.000000e+15   1.918578e-01"
       ]
      },
      {
       "output_type": "stream",
       "stream": "stdout",
       "text": [
        " \r",
        "0455   7.219737e+01   1.000000e+15   1.918578e-01"
       ]
      },
      {
       "output_type": "stream",
       "stream": "stdout",
       "text": [
        " \r",
        "0456   7.219737e+01   1.000000e+15   1.918578e-01"
       ]
      },
      {
       "output_type": "stream",
       "stream": "stdout",
       "text": [
        " \r",
        "0457   7.219737e+01   1.000000e+15   1.918578e-01"
       ]
      },
      {
       "output_type": "stream",
       "stream": "stdout",
       "text": [
        " \r",
        "0458   7.219737e+01   1.000000e+15   1.918578e-01"
       ]
      },
      {
       "output_type": "stream",
       "stream": "stdout",
       "text": [
        " \r",
        "0459   7.219737e+01   1.000000e+15   1.918578e-01"
       ]
      },
      {
       "output_type": "stream",
       "stream": "stdout",
       "text": [
        " \r",
        "0460   7.219737e+01   1.000000e+15   1.918578e-01"
       ]
      },
      {
       "output_type": "stream",
       "stream": "stdout",
       "text": [
        " \r",
        "0461   7.219737e+01   1.000000e+15   1.918578e-01"
       ]
      },
      {
       "output_type": "stream",
       "stream": "stdout",
       "text": [
        " \r",
        "0462   7.219737e+01   1.000000e+15   1.918578e-01"
       ]
      },
      {
       "output_type": "stream",
       "stream": "stdout",
       "text": [
        " \r",
        "0463   7.219737e+01   1.000000e+15   1.918578e-01"
       ]
      },
      {
       "output_type": "stream",
       "stream": "stdout",
       "text": [
        " \r",
        "0464   7.219737e+01   1.000000e+15   1.918578e-01"
       ]
      },
      {
       "output_type": "stream",
       "stream": "stdout",
       "text": [
        " \r",
        "0465   7.219737e+01   1.000000e+15   1.918578e-01"
       ]
      },
      {
       "output_type": "stream",
       "stream": "stdout",
       "text": [
        " \r",
        "0466   7.219737e+01   1.000000e+15   1.918578e-01"
       ]
      },
      {
       "output_type": "stream",
       "stream": "stdout",
       "text": [
        " \r",
        "0467   7.219737e+01   1.000000e+15   1.918578e-01"
       ]
      },
      {
       "output_type": "stream",
       "stream": "stdout",
       "text": [
        " \r",
        "0468   7.219737e+01   1.000000e+15   1.918578e-01"
       ]
      },
      {
       "output_type": "stream",
       "stream": "stdout",
       "text": [
        " \r",
        "0469   7.219737e+01   1.000000e+15   1.918578e-01"
       ]
      },
      {
       "output_type": "stream",
       "stream": "stdout",
       "text": [
        " \r",
        "0470   7.219737e+01   1.000000e+15   1.918578e-01"
       ]
      },
      {
       "output_type": "stream",
       "stream": "stdout",
       "text": [
        " \r",
        "0471   7.219737e+01   1.000000e+15   1.918578e-01"
       ]
      },
      {
       "output_type": "stream",
       "stream": "stdout",
       "text": [
        " \r",
        "0472   7.219737e+01   1.000000e+15   1.918578e-01"
       ]
      },
      {
       "output_type": "stream",
       "stream": "stdout",
       "text": [
        " \r",
        "0473   7.219737e+01   1.000000e+15   1.918578e-01"
       ]
      },
      {
       "output_type": "stream",
       "stream": "stdout",
       "text": [
        " \r",
        "0474   7.219737e+01   1.000000e+15   1.918578e-01"
       ]
      },
      {
       "output_type": "stream",
       "stream": "stdout",
       "text": [
        " \r",
        "0475   7.219737e+01   1.000000e+15   1.918578e-01"
       ]
      },
      {
       "output_type": "stream",
       "stream": "stdout",
       "text": [
        " \r",
        "0476   7.219737e+01   1.000000e+15   1.918578e-01"
       ]
      },
      {
       "output_type": "stream",
       "stream": "stdout",
       "text": [
        " \r",
        "0477   7.219737e+01   1.000000e+15   1.918578e-01"
       ]
      },
      {
       "output_type": "stream",
       "stream": "stdout",
       "text": [
        " \r",
        "0478   7.219737e+01   1.000000e+15   1.918578e-01"
       ]
      },
      {
       "output_type": "stream",
       "stream": "stdout",
       "text": [
        " \r",
        "0479   7.219737e+01   1.000000e+15   1.918578e-01"
       ]
      },
      {
       "output_type": "stream",
       "stream": "stdout",
       "text": [
        " \r",
        "0480   7.219737e+01   1.000000e+15   1.918578e-01"
       ]
      },
      {
       "output_type": "stream",
       "stream": "stdout",
       "text": [
        " \r",
        "0481   7.219737e+01   1.000000e+15   1.918578e-01"
       ]
      },
      {
       "output_type": "stream",
       "stream": "stdout",
       "text": [
        " \r",
        "0482   7.219737e+01   1.000000e+15   1.918578e-01"
       ]
      },
      {
       "output_type": "stream",
       "stream": "stdout",
       "text": [
        " \r",
        "0483   7.219737e+01   1.000000e+15   1.918578e-01"
       ]
      },
      {
       "output_type": "stream",
       "stream": "stdout",
       "text": [
        " \r",
        "0484   7.219737e+01   1.000000e+15   1.918578e-01"
       ]
      },
      {
       "output_type": "stream",
       "stream": "stdout",
       "text": [
        " \r",
        "0485   7.219737e+01   1.000000e+15   1.918578e-01"
       ]
      },
      {
       "output_type": "stream",
       "stream": "stdout",
       "text": [
        " \r",
        "0486   7.219737e+01   1.000000e+15   1.918578e-01"
       ]
      },
      {
       "output_type": "stream",
       "stream": "stdout",
       "text": [
        " \r",
        "0487   7.219737e+01   1.000000e+15   1.918578e-01"
       ]
      },
      {
       "output_type": "stream",
       "stream": "stdout",
       "text": [
        " \r",
        "0488   7.219737e+01   1.000000e+15   1.918578e-01"
       ]
      },
      {
       "output_type": "stream",
       "stream": "stdout",
       "text": [
        " \r",
        "0489   7.219737e+01   1.000000e+15   1.918578e-01"
       ]
      },
      {
       "output_type": "stream",
       "stream": "stdout",
       "text": [
        " \r",
        "0490   7.219737e+01   1.000000e+15   1.918578e-01"
       ]
      },
      {
       "output_type": "stream",
       "stream": "stdout",
       "text": [
        " \r",
        "0491   7.219737e+01   1.000000e+15   1.918578e-01"
       ]
      },
      {
       "output_type": "stream",
       "stream": "stdout",
       "text": [
        " \r",
        "0492   7.219737e+01   1.000000e+15   1.918578e-01"
       ]
      },
      {
       "output_type": "stream",
       "stream": "stdout",
       "text": [
        " \r",
        "0493   7.219737e+01   1.000000e+15   1.918578e-01"
       ]
      },
      {
       "output_type": "stream",
       "stream": "stdout",
       "text": [
        " \r",
        "0494   7.219737e+01   1.000000e+15   1.918578e-01"
       ]
      },
      {
       "output_type": "stream",
       "stream": "stdout",
       "text": [
        " \r",
        "0495   7.219737e+01   1.000000e+15   1.918578e-01"
       ]
      },
      {
       "output_type": "stream",
       "stream": "stdout",
       "text": [
        " \r",
        "0496   7.219737e+01   1.000000e+15   1.918578e-01"
       ]
      },
      {
       "output_type": "stream",
       "stream": "stdout",
       "text": [
        " \r",
        "0497   7.219737e+01   1.000000e+15   1.918578e-01"
       ]
      },
      {
       "output_type": "stream",
       "stream": "stdout",
       "text": [
        " \r",
        "0498   7.219737e+01   1.000000e+15   1.918578e-01"
       ]
      },
      {
       "output_type": "stream",
       "stream": "stdout",
       "text": [
        " \r",
        "0499   7.219737e+01   1.000000e+15   1.918578e-01"
       ]
      },
      {
       "output_type": "stream",
       "stream": "stdout",
       "text": [
        " \r",
        "0500   7.219737e+01   1.000000e+15   1.918578e-01"
       ]
      },
      {
       "output_type": "stream",
       "stream": "stdout",
       "text": [
        " \r",
        "0501   7.219737e+01   1.000000e+15   1.918578e-01"
       ]
      },
      {
       "output_type": "stream",
       "stream": "stdout",
       "text": [
        " \r",
        "0502   7.219737e+01   1.000000e+15   1.918578e-01"
       ]
      },
      {
       "output_type": "stream",
       "stream": "stdout",
       "text": [
        " \r",
        "0503   7.219737e+01   1.000000e+15   1.918578e-01"
       ]
      },
      {
       "output_type": "stream",
       "stream": "stdout",
       "text": [
        " \r",
        "0504   7.219737e+01   1.000000e+15   1.918578e-01"
       ]
      },
      {
       "output_type": "stream",
       "stream": "stdout",
       "text": [
        " \r",
        "0505   7.219737e+01   1.000000e+15   1.918578e-01"
       ]
      },
      {
       "output_type": "stream",
       "stream": "stdout",
       "text": [
        " \r",
        "0506   7.219737e+01   1.000000e+15   1.918578e-01"
       ]
      },
      {
       "output_type": "stream",
       "stream": "stdout",
       "text": [
        " \r",
        "0507   7.219737e+01   1.000000e+15   1.918578e-01"
       ]
      },
      {
       "output_type": "stream",
       "stream": "stdout",
       "text": [
        " \r",
        "0508   7.219737e+01   1.000000e+15   1.918578e-01"
       ]
      },
      {
       "output_type": "stream",
       "stream": "stdout",
       "text": [
        " \r",
        "0509   7.219737e+01   1.000000e+15   1.918578e-01"
       ]
      },
      {
       "output_type": "stream",
       "stream": "stdout",
       "text": [
        " \r",
        "0510   7.219737e+01   1.000000e+15   1.918578e-01"
       ]
      },
      {
       "output_type": "stream",
       "stream": "stdout",
       "text": [
        " \r",
        "0511   7.219737e+01   1.000000e+15   1.918578e-01"
       ]
      },
      {
       "output_type": "stream",
       "stream": "stdout",
       "text": [
        " \r",
        "0512   7.219737e+01   1.000000e+15   1.918578e-01"
       ]
      },
      {
       "output_type": "stream",
       "stream": "stdout",
       "text": [
        " \r",
        "0513   7.219737e+01   1.000000e+15   1.918578e-01"
       ]
      },
      {
       "output_type": "stream",
       "stream": "stdout",
       "text": [
        " \r",
        "0514   7.219737e+01   1.000000e+15   1.918578e-01"
       ]
      },
      {
       "output_type": "stream",
       "stream": "stdout",
       "text": [
        " \r",
        "0515   7.219737e+01   1.000000e+15   1.918578e-01"
       ]
      },
      {
       "output_type": "stream",
       "stream": "stdout",
       "text": [
        " \r",
        "0516   7.219737e+01   1.000000e+15   1.918578e-01"
       ]
      },
      {
       "output_type": "stream",
       "stream": "stdout",
       "text": [
        " \r",
        "0517   7.219737e+01   1.000000e+15   1.918578e-01"
       ]
      },
      {
       "output_type": "stream",
       "stream": "stdout",
       "text": [
        " \r",
        "0518   7.219737e+01   1.000000e+15   1.918578e-01"
       ]
      },
      {
       "output_type": "stream",
       "stream": "stdout",
       "text": [
        " \r",
        "0519   7.219737e+01   1.000000e+15   1.918578e-01"
       ]
      },
      {
       "output_type": "stream",
       "stream": "stdout",
       "text": [
        " \r",
        "0520   7.219737e+01   1.000000e+15   1.918578e-01"
       ]
      },
      {
       "output_type": "stream",
       "stream": "stdout",
       "text": [
        " \r",
        "0521   7.219737e+01   1.000000e+15   1.918578e-01"
       ]
      },
      {
       "output_type": "stream",
       "stream": "stdout",
       "text": [
        " \r",
        "0522   7.219737e+01   1.000000e+15   1.918578e-01"
       ]
      },
      {
       "output_type": "stream",
       "stream": "stdout",
       "text": [
        " \r",
        "0523   7.219737e+01   1.000000e+15   1.918578e-01"
       ]
      },
      {
       "output_type": "stream",
       "stream": "stdout",
       "text": [
        " \r",
        "0524   7.219737e+01   1.000000e+15   1.918578e-01"
       ]
      },
      {
       "output_type": "stream",
       "stream": "stdout",
       "text": [
        " \r",
        "0525   7.219737e+01   1.000000e+15   1.918578e-01"
       ]
      },
      {
       "output_type": "stream",
       "stream": "stdout",
       "text": [
        " \r",
        "0526   7.219737e+01   1.000000e+15   1.918578e-01"
       ]
      },
      {
       "output_type": "stream",
       "stream": "stdout",
       "text": [
        " \r",
        "0527   7.219737e+01   1.000000e+15   1.918578e-01"
       ]
      },
      {
       "output_type": "stream",
       "stream": "stdout",
       "text": [
        " \r",
        "0528   7.219737e+01   1.000000e+15   1.918578e-01"
       ]
      },
      {
       "output_type": "stream",
       "stream": "stdout",
       "text": [
        " \r",
        "0529   7.219737e+01   1.000000e+15   1.918578e-01"
       ]
      },
      {
       "output_type": "stream",
       "stream": "stdout",
       "text": [
        " \r",
        "0530   7.219737e+01   1.000000e+15   1.918578e-01"
       ]
      },
      {
       "output_type": "stream",
       "stream": "stdout",
       "text": [
        " \r",
        "0531   7.219737e+01   1.000000e+15   1.918578e-01"
       ]
      },
      {
       "output_type": "stream",
       "stream": "stdout",
       "text": [
        " \r",
        "0532   7.219737e+01   1.000000e+15   1.918578e-01"
       ]
      },
      {
       "output_type": "stream",
       "stream": "stdout",
       "text": [
        " \r",
        "0533   7.219737e+01   1.000000e+15   1.918578e-01"
       ]
      },
      {
       "output_type": "stream",
       "stream": "stdout",
       "text": [
        " \r",
        "0534   7.219737e+01   1.000000e+15   1.918578e-01"
       ]
      },
      {
       "output_type": "stream",
       "stream": "stdout",
       "text": [
        " \r",
        "0535   7.219737e+01   1.000000e+15   1.918578e-01"
       ]
      },
      {
       "output_type": "stream",
       "stream": "stdout",
       "text": [
        " \r",
        "0536   7.219737e+01   1.000000e+15   1.918578e-01"
       ]
      },
      {
       "output_type": "stream",
       "stream": "stdout",
       "text": [
        " \r",
        "0537   7.219737e+01   1.000000e+15   1.918578e-01"
       ]
      },
      {
       "output_type": "stream",
       "stream": "stdout",
       "text": [
        " \r",
        "0538   7.219737e+01   1.000000e+15   1.918578e-01"
       ]
      },
      {
       "output_type": "stream",
       "stream": "stdout",
       "text": [
        " \r",
        "0539   7.219737e+01   1.000000e+15   1.918578e-01"
       ]
      },
      {
       "output_type": "stream",
       "stream": "stdout",
       "text": [
        " \r",
        "0540   7.219737e+01   1.000000e+15   1.918578e-01"
       ]
      },
      {
       "output_type": "stream",
       "stream": "stdout",
       "text": [
        " \r",
        "0541   7.219737e+01   1.000000e+15   1.918578e-01"
       ]
      },
      {
       "output_type": "stream",
       "stream": "stdout",
       "text": [
        " \r",
        "0542   7.219737e+01   1.000000e+15   1.918578e-01"
       ]
      },
      {
       "output_type": "stream",
       "stream": "stdout",
       "text": [
        " \r",
        "0543   7.219737e+01   1.000000e+15   1.918578e-01"
       ]
      },
      {
       "output_type": "stream",
       "stream": "stdout",
       "text": [
        " \r",
        "0544   7.219737e+01   1.000000e+15   1.918578e-01"
       ]
      },
      {
       "output_type": "stream",
       "stream": "stdout",
       "text": [
        " \r",
        "0545   7.219737e+01   1.000000e+15   1.918578e-01"
       ]
      },
      {
       "output_type": "stream",
       "stream": "stdout",
       "text": [
        " \r",
        "0546   7.219737e+01   1.000000e+15   1.918578e-01"
       ]
      },
      {
       "output_type": "stream",
       "stream": "stdout",
       "text": [
        " \r",
        "0547   7.219737e+01   1.000000e+15   1.918578e-01"
       ]
      },
      {
       "output_type": "stream",
       "stream": "stdout",
       "text": [
        " \r",
        "0548   7.219737e+01   1.000000e+15   1.918578e-01"
       ]
      },
      {
       "output_type": "stream",
       "stream": "stdout",
       "text": [
        " \r",
        "0549   7.219737e+01   1.000000e+15   1.918578e-01"
       ]
      },
      {
       "output_type": "stream",
       "stream": "stdout",
       "text": [
        " \r",
        "0550   7.219737e+01   1.000000e+15   1.918578e-01"
       ]
      },
      {
       "output_type": "stream",
       "stream": "stdout",
       "text": [
        " \r",
        "0551   7.219737e+01   1.000000e+15   1.918578e-01"
       ]
      },
      {
       "output_type": "stream",
       "stream": "stdout",
       "text": [
        " \r",
        "0552   7.219737e+01   1.000000e+15   1.918578e-01"
       ]
      },
      {
       "output_type": "stream",
       "stream": "stdout",
       "text": [
        " \r",
        "0553   7.219737e+01   1.000000e+15   1.918578e-01"
       ]
      },
      {
       "output_type": "stream",
       "stream": "stdout",
       "text": [
        " \r",
        "0554   7.219737e+01   1.000000e+15   1.918578e-01"
       ]
      },
      {
       "output_type": "stream",
       "stream": "stdout",
       "text": [
        " \r",
        "0555   7.219737e+01   1.000000e+15   1.918578e-01"
       ]
      },
      {
       "output_type": "stream",
       "stream": "stdout",
       "text": [
        " \r",
        "0556   7.219737e+01   1.000000e+15   1.918578e-01"
       ]
      },
      {
       "output_type": "stream",
       "stream": "stdout",
       "text": [
        " \r",
        "0557   7.219737e+01   1.000000e+15   1.918578e-01"
       ]
      },
      {
       "output_type": "stream",
       "stream": "stdout",
       "text": [
        " \r",
        "0558   7.219737e+01   1.000000e+15   1.918578e-01"
       ]
      },
      {
       "output_type": "stream",
       "stream": "stdout",
       "text": [
        " \r",
        "0559   7.219737e+01   1.000000e+15   1.918578e-01"
       ]
      },
      {
       "output_type": "stream",
       "stream": "stdout",
       "text": [
        " \r",
        "0560   7.219737e+01   1.000000e+15   1.918578e-01"
       ]
      },
      {
       "output_type": "stream",
       "stream": "stdout",
       "text": [
        " \r",
        "0561   7.219737e+01   1.000000e+15   1.918578e-01"
       ]
      },
      {
       "output_type": "stream",
       "stream": "stdout",
       "text": [
        " \r",
        "0562   7.219737e+01   1.000000e+15   1.918578e-01"
       ]
      },
      {
       "output_type": "stream",
       "stream": "stdout",
       "text": [
        " \r",
        "0563   7.219737e+01   1.000000e+15   1.918578e-01"
       ]
      },
      {
       "output_type": "stream",
       "stream": "stdout",
       "text": [
        " \r",
        "0564   7.219737e+01   1.000000e+15   1.918578e-01"
       ]
      },
      {
       "output_type": "stream",
       "stream": "stdout",
       "text": [
        " \r",
        "0565   7.219737e+01   1.000000e+15   1.918578e-01"
       ]
      },
      {
       "output_type": "stream",
       "stream": "stdout",
       "text": [
        " \r",
        "0566   7.219737e+01   1.000000e+15   1.918578e-01"
       ]
      },
      {
       "output_type": "stream",
       "stream": "stdout",
       "text": [
        " \r",
        "0567   7.219737e+01   1.000000e+15   1.918578e-01"
       ]
      },
      {
       "output_type": "stream",
       "stream": "stdout",
       "text": [
        " \r",
        "0568   7.219737e+01   1.000000e+15   1.918578e-01"
       ]
      },
      {
       "output_type": "stream",
       "stream": "stdout",
       "text": [
        " \r",
        "0569   7.219737e+01   1.000000e+15   1.918578e-01"
       ]
      },
      {
       "output_type": "stream",
       "stream": "stdout",
       "text": [
        " \r",
        "0570   7.219737e+01   1.000000e+15   1.918578e-01"
       ]
      },
      {
       "output_type": "stream",
       "stream": "stdout",
       "text": [
        " \r",
        "0571   7.219737e+01   1.000000e+15   1.918578e-01"
       ]
      },
      {
       "output_type": "stream",
       "stream": "stdout",
       "text": [
        " \r",
        "0572   7.219737e+01   1.000000e+15   1.918578e-01"
       ]
      },
      {
       "output_type": "stream",
       "stream": "stdout",
       "text": [
        " \r",
        "0573   7.219737e+01   1.000000e+15   1.918578e-01"
       ]
      },
      {
       "output_type": "stream",
       "stream": "stdout",
       "text": [
        " \r",
        "0574   7.219737e+01   1.000000e+15   1.918578e-01"
       ]
      },
      {
       "output_type": "stream",
       "stream": "stdout",
       "text": [
        " \r",
        "0575   7.219737e+01   1.000000e+15   1.918578e-01"
       ]
      },
      {
       "output_type": "stream",
       "stream": "stdout",
       "text": [
        " \r",
        "0576   7.219737e+01   1.000000e+15   1.918578e-01"
       ]
      },
      {
       "output_type": "stream",
       "stream": "stdout",
       "text": [
        " \r",
        "0577   7.219737e+01   1.000000e+15   1.918578e-01"
       ]
      },
      {
       "output_type": "stream",
       "stream": "stdout",
       "text": [
        " \r",
        "0578   7.219737e+01   1.000000e+15   1.918578e-01"
       ]
      },
      {
       "output_type": "stream",
       "stream": "stdout",
       "text": [
        " \r",
        "0579   7.219737e+01   1.000000e+15   1.918578e-01"
       ]
      },
      {
       "output_type": "stream",
       "stream": "stdout",
       "text": [
        " \r",
        "0580   7.219737e+01   1.000000e+15   1.918578e-01"
       ]
      },
      {
       "output_type": "stream",
       "stream": "stdout",
       "text": [
        " \r",
        "0581   7.219737e+01   1.000000e+15   1.918578e-01"
       ]
      },
      {
       "output_type": "stream",
       "stream": "stdout",
       "text": [
        " \r",
        "0582   7.219737e+01   1.000000e+15   1.918578e-01"
       ]
      },
      {
       "output_type": "stream",
       "stream": "stdout",
       "text": [
        " \r",
        "0583   7.219737e+01   1.000000e+15   1.918578e-01"
       ]
      },
      {
       "output_type": "stream",
       "stream": "stdout",
       "text": [
        " \r",
        "0584   7.219737e+01   1.000000e+15   1.918578e-01"
       ]
      },
      {
       "output_type": "stream",
       "stream": "stdout",
       "text": [
        " \r",
        "0585   7.219737e+01   1.000000e+15   1.918578e-01"
       ]
      },
      {
       "output_type": "stream",
       "stream": "stdout",
       "text": [
        " \r",
        "0586   7.219737e+01   1.000000e+15   1.918578e-01"
       ]
      },
      {
       "output_type": "stream",
       "stream": "stdout",
       "text": [
        " \r",
        "0587   7.219737e+01   1.000000e+15   1.918578e-01"
       ]
      },
      {
       "output_type": "stream",
       "stream": "stdout",
       "text": [
        " \r",
        "0588   7.219737e+01   1.000000e+15   1.918578e-01"
       ]
      },
      {
       "output_type": "stream",
       "stream": "stdout",
       "text": [
        " \r",
        "0589   7.219737e+01   1.000000e+15   1.918578e-01"
       ]
      },
      {
       "output_type": "stream",
       "stream": "stdout",
       "text": [
        " \r",
        "0590   7.219737e+01   1.000000e+15   1.918578e-01"
       ]
      },
      {
       "output_type": "stream",
       "stream": "stdout",
       "text": [
        " \r",
        "0591   7.219737e+01   1.000000e+15   1.918578e-01"
       ]
      },
      {
       "output_type": "stream",
       "stream": "stdout",
       "text": [
        " \r",
        "0592   7.219737e+01   1.000000e+15   1.918578e-01"
       ]
      },
      {
       "output_type": "stream",
       "stream": "stdout",
       "text": [
        " \r",
        "0593   7.219737e+01   1.000000e+15   1.918578e-01"
       ]
      },
      {
       "output_type": "stream",
       "stream": "stdout",
       "text": [
        " \r",
        "0594   7.219737e+01   1.000000e+15   1.918578e-01"
       ]
      },
      {
       "output_type": "stream",
       "stream": "stdout",
       "text": [
        " \r",
        "0595   7.219737e+01   1.000000e+15   1.918578e-01"
       ]
      },
      {
       "output_type": "stream",
       "stream": "stdout",
       "text": [
        " \r",
        "0596   7.219737e+01   1.000000e+15   1.918578e-01"
       ]
      },
      {
       "output_type": "stream",
       "stream": "stdout",
       "text": [
        " \r",
        "0597   7.219737e+01   1.000000e+15   1.918578e-01"
       ]
      },
      {
       "output_type": "stream",
       "stream": "stdout",
       "text": [
        " \r",
        "0598   7.219737e+01   1.000000e+15   1.918578e-01"
       ]
      },
      {
       "output_type": "stream",
       "stream": "stdout",
       "text": [
        " \r",
        "0599   7.219737e+01   1.000000e+15   1.918578e-01"
       ]
      },
      {
       "output_type": "stream",
       "stream": "stdout",
       "text": [
        " \r",
        "0600   7.219737e+01   1.000000e+15   1.918578e-01"
       ]
      },
      {
       "output_type": "stream",
       "stream": "stdout",
       "text": [
        " \r",
        "0601   7.219737e+01   1.000000e+15   1.918578e-01"
       ]
      },
      {
       "output_type": "stream",
       "stream": "stdout",
       "text": [
        " \r",
        "0602   7.219737e+01   1.000000e+15   1.918578e-01"
       ]
      },
      {
       "output_type": "stream",
       "stream": "stdout",
       "text": [
        " \r",
        "0603   7.219737e+01   1.000000e+15   1.918578e-01"
       ]
      },
      {
       "output_type": "stream",
       "stream": "stdout",
       "text": [
        " \r",
        "0604   7.219737e+01   1.000000e+15   1.918578e-01"
       ]
      },
      {
       "output_type": "stream",
       "stream": "stdout",
       "text": [
        " \r",
        "0605   7.219737e+01   1.000000e+15   1.918578e-01"
       ]
      },
      {
       "output_type": "stream",
       "stream": "stdout",
       "text": [
        " \r",
        "0606   7.219737e+01   1.000000e+15   1.918578e-01"
       ]
      },
      {
       "output_type": "stream",
       "stream": "stdout",
       "text": [
        " \r",
        "0607   7.219737e+01   1.000000e+15   1.918578e-01"
       ]
      },
      {
       "output_type": "stream",
       "stream": "stdout",
       "text": [
        " \r",
        "0608   7.219737e+01   1.000000e+15   1.918578e-01"
       ]
      },
      {
       "output_type": "stream",
       "stream": "stdout",
       "text": [
        " \r",
        "0609   7.219737e+01   1.000000e+15   1.918578e-01"
       ]
      },
      {
       "output_type": "stream",
       "stream": "stdout",
       "text": [
        " \r",
        "0610   7.219737e+01   1.000000e+15   1.918578e-01"
       ]
      },
      {
       "output_type": "stream",
       "stream": "stdout",
       "text": [
        " \r",
        "0611   7.219737e+01   1.000000e+15   1.918578e-01"
       ]
      },
      {
       "output_type": "stream",
       "stream": "stdout",
       "text": [
        " \r",
        "0612   7.219737e+01   1.000000e+15   1.918578e-01"
       ]
      },
      {
       "output_type": "stream",
       "stream": "stdout",
       "text": [
        " \r",
        "0613   7.219737e+01   1.000000e+15   1.918578e-01"
       ]
      },
      {
       "output_type": "stream",
       "stream": "stdout",
       "text": [
        " \r",
        "0614   7.219737e+01   1.000000e+15   1.918578e-01"
       ]
      },
      {
       "output_type": "stream",
       "stream": "stdout",
       "text": [
        " \r",
        "0615   7.219737e+01   1.000000e+15   1.918578e-01"
       ]
      },
      {
       "output_type": "stream",
       "stream": "stdout",
       "text": [
        " \r",
        "0616   7.219737e+01   1.000000e+15   1.918578e-01"
       ]
      },
      {
       "output_type": "stream",
       "stream": "stdout",
       "text": [
        " \r",
        "0617   7.219737e+01   1.000000e+15   1.918578e-01"
       ]
      },
      {
       "output_type": "stream",
       "stream": "stdout",
       "text": [
        " \r",
        "0618   7.219737e+01   1.000000e+15   1.918578e-01"
       ]
      },
      {
       "output_type": "stream",
       "stream": "stdout",
       "text": [
        " \r",
        "0619   7.219737e+01   1.000000e+15   1.918578e-01"
       ]
      },
      {
       "output_type": "stream",
       "stream": "stdout",
       "text": [
        " \r",
        "0620   7.219737e+01   1.000000e+15   1.918578e-01"
       ]
      },
      {
       "output_type": "stream",
       "stream": "stdout",
       "text": [
        " \r",
        "0621   7.219737e+01   1.000000e+15   1.918578e-01"
       ]
      },
      {
       "output_type": "stream",
       "stream": "stdout",
       "text": [
        " \r",
        "0622   7.219737e+01   1.000000e+15   1.918578e-01"
       ]
      },
      {
       "output_type": "stream",
       "stream": "stdout",
       "text": [
        " \r",
        "0623   7.219737e+01   1.000000e+15   1.918578e-01"
       ]
      },
      {
       "output_type": "stream",
       "stream": "stdout",
       "text": [
        " \r",
        "0624   7.219737e+01   1.000000e+15   1.918578e-01"
       ]
      },
      {
       "output_type": "stream",
       "stream": "stdout",
       "text": [
        " \r",
        "0625   7.219737e+01   1.000000e+15   1.918578e-01"
       ]
      },
      {
       "output_type": "stream",
       "stream": "stdout",
       "text": [
        " \r",
        "0626   7.219737e+01   1.000000e+15   1.918578e-01"
       ]
      },
      {
       "output_type": "stream",
       "stream": "stdout",
       "text": [
        " \r",
        "0627   7.219737e+01   1.000000e+15   1.918578e-01"
       ]
      },
      {
       "output_type": "stream",
       "stream": "stdout",
       "text": [
        " \r",
        "0628   7.219737e+01   1.000000e+15   1.918578e-01"
       ]
      },
      {
       "output_type": "stream",
       "stream": "stdout",
       "text": [
        " \r",
        "0629   7.219737e+01   1.000000e+15   1.918578e-01"
       ]
      },
      {
       "output_type": "stream",
       "stream": "stdout",
       "text": [
        " \r",
        "0630   7.219737e+01   1.000000e+15   1.918578e-01"
       ]
      },
      {
       "output_type": "stream",
       "stream": "stdout",
       "text": [
        " \r",
        "0631   7.219737e+01   1.000000e+15   1.918578e-01"
       ]
      },
      {
       "output_type": "stream",
       "stream": "stdout",
       "text": [
        " \r",
        "0632   7.219737e+01   1.000000e+15   1.918578e-01"
       ]
      },
      {
       "output_type": "stream",
       "stream": "stdout",
       "text": [
        " \r",
        "0633   7.219737e+01   1.000000e+15   1.918578e-01"
       ]
      },
      {
       "output_type": "stream",
       "stream": "stdout",
       "text": [
        " \r",
        "0634   7.219737e+01   1.000000e+15   1.918578e-01"
       ]
      },
      {
       "output_type": "stream",
       "stream": "stdout",
       "text": [
        " \r",
        "0635   7.219737e+01   1.000000e+15   1.918578e-01"
       ]
      },
      {
       "output_type": "stream",
       "stream": "stdout",
       "text": [
        " \r",
        "0636   7.219737e+01   1.000000e+15   1.918578e-01"
       ]
      },
      {
       "output_type": "stream",
       "stream": "stdout",
       "text": [
        " \r",
        "0637   7.219737e+01   1.000000e+15   1.918578e-01"
       ]
      },
      {
       "output_type": "stream",
       "stream": "stdout",
       "text": [
        " \r",
        "0638   7.219737e+01   1.000000e+15   1.918578e-01"
       ]
      },
      {
       "output_type": "stream",
       "stream": "stdout",
       "text": [
        " \r",
        "0639   7.219737e+01   1.000000e+15   1.918578e-01"
       ]
      },
      {
       "output_type": "stream",
       "stream": "stdout",
       "text": [
        " \r",
        "0640   7.219737e+01   1.000000e+15   1.918578e-01"
       ]
      },
      {
       "output_type": "stream",
       "stream": "stdout",
       "text": [
        " \r",
        "0641   7.219737e+01   1.000000e+15   1.918578e-01"
       ]
      },
      {
       "output_type": "stream",
       "stream": "stdout",
       "text": [
        " \r",
        "0642   7.219737e+01   1.000000e+15   1.918578e-01"
       ]
      },
      {
       "output_type": "stream",
       "stream": "stdout",
       "text": [
        " \r",
        "0643   7.219737e+01   1.000000e+15   1.918578e-01"
       ]
      },
      {
       "output_type": "stream",
       "stream": "stdout",
       "text": [
        " \r",
        "0644   7.219737e+01   1.000000e+15   1.918578e-01"
       ]
      },
      {
       "output_type": "stream",
       "stream": "stdout",
       "text": [
        " \r",
        "0645   7.219737e+01   1.000000e+15   1.918578e-01"
       ]
      },
      {
       "output_type": "stream",
       "stream": "stdout",
       "text": [
        " \r",
        "0646   7.219737e+01   1.000000e+15   1.918578e-01"
       ]
      },
      {
       "output_type": "stream",
       "stream": "stdout",
       "text": [
        " \r",
        "0647   7.219737e+01   1.000000e+15   1.918578e-01"
       ]
      },
      {
       "output_type": "stream",
       "stream": "stdout",
       "text": [
        " \r",
        "0648   7.219737e+01   1.000000e+15   1.918578e-01"
       ]
      },
      {
       "output_type": "stream",
       "stream": "stdout",
       "text": [
        " \r",
        "0649   7.219737e+01   1.000000e+15   1.918578e-01"
       ]
      },
      {
       "output_type": "stream",
       "stream": "stdout",
       "text": [
        " \r",
        "0650   7.219737e+01   1.000000e+15   1.918578e-01"
       ]
      },
      {
       "output_type": "stream",
       "stream": "stdout",
       "text": [
        " \r",
        "0651   7.219737e+01   1.000000e+15   1.918578e-01"
       ]
      },
      {
       "output_type": "stream",
       "stream": "stdout",
       "text": [
        " \n",
        "\r",
        "0652   7.219737e+01   1.000000e+15   1.918578e-01"
       ]
      },
      {
       "output_type": "stream",
       "stream": "stdout",
       "text": [
        " \r",
        "0653   7.219737e+01   1.000000e+15   1.918578e-01"
       ]
      },
      {
       "output_type": "stream",
       "stream": "stdout",
       "text": [
        " \r",
        "0654   7.219737e+01   1.000000e+15   1.918578e-01"
       ]
      },
      {
       "output_type": "stream",
       "stream": "stdout",
       "text": [
        " \r",
        "0655   7.219737e+01   1.000000e+15   1.918578e-01"
       ]
      },
      {
       "output_type": "stream",
       "stream": "stdout",
       "text": [
        " \r",
        "0656   7.219737e+01   1.000000e+15   1.918578e-01"
       ]
      },
      {
       "output_type": "stream",
       "stream": "stdout",
       "text": [
        " \r",
        "0657   7.219737e+01   1.000000e+15   1.918578e-01"
       ]
      },
      {
       "output_type": "stream",
       "stream": "stdout",
       "text": [
        " \r",
        "0658   7.219737e+01   1.000000e+15   1.918578e-01"
       ]
      },
      {
       "output_type": "stream",
       "stream": "stdout",
       "text": [
        " \r",
        "0659   7.219737e+01   1.000000e+15   1.918578e-01"
       ]
      },
      {
       "output_type": "stream",
       "stream": "stdout",
       "text": [
        " \r",
        "0660   7.219737e+01   1.000000e+15   1.918578e-01"
       ]
      },
      {
       "output_type": "stream",
       "stream": "stdout",
       "text": [
        " \r",
        "0661   7.219737e+01   1.000000e+15   1.918578e-01"
       ]
      },
      {
       "output_type": "stream",
       "stream": "stdout",
       "text": [
        " \r",
        "0662   7.219737e+01   1.000000e+15   1.918578e-01"
       ]
      },
      {
       "output_type": "stream",
       "stream": "stdout",
       "text": [
        " \r",
        "0663   7.219737e+01   1.000000e+15   1.918578e-01"
       ]
      },
      {
       "output_type": "stream",
       "stream": "stdout",
       "text": [
        " \r",
        "0664   7.219737e+01   1.000000e+15   1.918578e-01"
       ]
      },
      {
       "output_type": "stream",
       "stream": "stdout",
       "text": [
        " \r",
        "0665   7.219737e+01   1.000000e+15   1.918578e-01"
       ]
      },
      {
       "output_type": "stream",
       "stream": "stdout",
       "text": [
        " \r",
        "0666   7.219737e+01   1.000000e+15   1.918578e-01"
       ]
      },
      {
       "output_type": "stream",
       "stream": "stdout",
       "text": [
        " \r",
        "0667   7.219737e+01   1.000000e+15   1.918578e-01"
       ]
      },
      {
       "output_type": "stream",
       "stream": "stdout",
       "text": [
        " \r",
        "0668   7.219737e+01   1.000000e+15   1.918578e-01"
       ]
      },
      {
       "output_type": "stream",
       "stream": "stdout",
       "text": [
        " \r",
        "0669   7.219737e+01   1.000000e+15   1.918578e-01"
       ]
      },
      {
       "output_type": "stream",
       "stream": "stdout",
       "text": [
        " \r",
        "0670   7.219737e+01   1.000000e+15   1.918578e-01"
       ]
      },
      {
       "output_type": "stream",
       "stream": "stdout",
       "text": [
        " \r",
        "0671   7.219737e+01   1.000000e+15   1.918578e-01"
       ]
      },
      {
       "output_type": "stream",
       "stream": "stdout",
       "text": [
        " \r",
        "0672   7.219737e+01   1.000000e+15   1.918578e-01"
       ]
      },
      {
       "output_type": "stream",
       "stream": "stdout",
       "text": [
        " \r",
        "0673   7.219737e+01   1.000000e+15   1.918578e-01"
       ]
      },
      {
       "output_type": "stream",
       "stream": "stdout",
       "text": [
        " \r",
        "0674   7.219737e+01   1.000000e+15   1.918578e-01"
       ]
      },
      {
       "output_type": "stream",
       "stream": "stdout",
       "text": [
        " \r",
        "0675   7.219737e+01   1.000000e+15   1.918578e-01"
       ]
      },
      {
       "output_type": "stream",
       "stream": "stdout",
       "text": [
        " \r",
        "0676   7.219737e+01   1.000000e+15   1.918578e-01"
       ]
      },
      {
       "output_type": "stream",
       "stream": "stdout",
       "text": [
        " \r",
        "0677   7.219737e+01   1.000000e+15   1.918578e-01"
       ]
      },
      {
       "output_type": "stream",
       "stream": "stdout",
       "text": [
        " \r",
        "0678   7.219737e+01   1.000000e+15   1.918578e-01"
       ]
      },
      {
       "output_type": "stream",
       "stream": "stdout",
       "text": [
        " \r",
        "0679   7.219737e+01   1.000000e+15   1.918578e-01"
       ]
      },
      {
       "output_type": "stream",
       "stream": "stdout",
       "text": [
        " \r",
        "0680   7.219737e+01   1.000000e+15   1.918578e-01"
       ]
      },
      {
       "output_type": "stream",
       "stream": "stdout",
       "text": [
        " \r",
        "0681   7.219737e+01   1.000000e+15   1.918578e-01"
       ]
      },
      {
       "output_type": "stream",
       "stream": "stdout",
       "text": [
        " \r",
        "0682   7.219737e+01   1.000000e+15   1.918578e-01"
       ]
      },
      {
       "output_type": "stream",
       "stream": "stdout",
       "text": [
        " \r",
        "0683   7.219737e+01   1.000000e+15   1.918578e-01"
       ]
      },
      {
       "output_type": "stream",
       "stream": "stdout",
       "text": [
        " \r",
        "0684   7.219737e+01   1.000000e+15   1.918578e-01"
       ]
      },
      {
       "output_type": "stream",
       "stream": "stdout",
       "text": [
        " \r",
        "0685   7.219737e+01   1.000000e+15   1.918578e-01"
       ]
      },
      {
       "output_type": "stream",
       "stream": "stdout",
       "text": [
        " \r",
        "0686   7.219737e+01   1.000000e+15   1.918578e-01"
       ]
      },
      {
       "output_type": "stream",
       "stream": "stdout",
       "text": [
        " \r",
        "0687   7.219737e+01   1.000000e+15   1.918578e-01"
       ]
      },
      {
       "output_type": "stream",
       "stream": "stdout",
       "text": [
        " \r",
        "0688   7.219737e+01   1.000000e+15   1.918578e-01"
       ]
      },
      {
       "output_type": "stream",
       "stream": "stdout",
       "text": [
        " \r",
        "0689   7.219737e+01   1.000000e+15   1.918578e-01"
       ]
      },
      {
       "output_type": "stream",
       "stream": "stdout",
       "text": [
        " \r",
        "0690   7.219737e+01   1.000000e+15   1.918578e-01"
       ]
      },
      {
       "output_type": "stream",
       "stream": "stdout",
       "text": [
        " \r",
        "0691   7.219737e+01   1.000000e+15   1.918578e-01"
       ]
      },
      {
       "output_type": "stream",
       "stream": "stdout",
       "text": [
        " \r",
        "0692   7.219737e+01   1.000000e+15   1.918578e-01"
       ]
      },
      {
       "output_type": "stream",
       "stream": "stdout",
       "text": [
        " \r",
        "0693   7.219737e+01   1.000000e+15   1.918578e-01"
       ]
      },
      {
       "output_type": "stream",
       "stream": "stdout",
       "text": [
        " \r",
        "0694   7.219737e+01   1.000000e+15   1.918578e-01"
       ]
      },
      {
       "output_type": "stream",
       "stream": "stdout",
       "text": [
        " \r",
        "0695   7.219737e+01   1.000000e+15   1.918578e-01"
       ]
      },
      {
       "output_type": "stream",
       "stream": "stdout",
       "text": [
        " \r",
        "0696   7.219737e+01   1.000000e+15   1.918578e-01"
       ]
      },
      {
       "output_type": "stream",
       "stream": "stdout",
       "text": [
        " \r",
        "0697   7.219737e+01   1.000000e+15   1.918578e-01"
       ]
      },
      {
       "output_type": "stream",
       "stream": "stdout",
       "text": [
        " \r",
        "0698   7.219737e+01   1.000000e+15   1.918578e-01"
       ]
      },
      {
       "output_type": "stream",
       "stream": "stdout",
       "text": [
        " \r",
        "0699   7.219737e+01   1.000000e+15   1.918578e-01"
       ]
      },
      {
       "output_type": "stream",
       "stream": "stdout",
       "text": [
        " \r",
        "0700   7.219737e+01   1.000000e+15   1.918578e-01"
       ]
      },
      {
       "output_type": "stream",
       "stream": "stdout",
       "text": [
        " \r",
        "0701   7.219737e+01   1.000000e+15   1.918578e-01"
       ]
      },
      {
       "output_type": "stream",
       "stream": "stdout",
       "text": [
        " \r",
        "0702   7.219737e+01   1.000000e+15   1.918578e-01"
       ]
      },
      {
       "output_type": "stream",
       "stream": "stdout",
       "text": [
        " \r",
        "0703   7.219737e+01   1.000000e+15   1.918578e-01"
       ]
      },
      {
       "output_type": "stream",
       "stream": "stdout",
       "text": [
        " \r",
        "0704   7.219737e+01   1.000000e+15   1.918578e-01"
       ]
      },
      {
       "output_type": "stream",
       "stream": "stdout",
       "text": [
        " \r",
        "0705   7.219737e+01   1.000000e+15   1.918578e-01"
       ]
      },
      {
       "output_type": "stream",
       "stream": "stdout",
       "text": [
        " \r",
        "0706   7.219737e+01   1.000000e+15   1.918578e-01"
       ]
      },
      {
       "output_type": "stream",
       "stream": "stdout",
       "text": [
        " \r",
        "0707   7.219737e+01   1.000000e+15   1.918578e-01"
       ]
      },
      {
       "output_type": "stream",
       "stream": "stdout",
       "text": [
        " \r",
        "0708   7.219737e+01   1.000000e+15   1.918578e-01"
       ]
      },
      {
       "output_type": "stream",
       "stream": "stdout",
       "text": [
        " \r",
        "0709   7.219737e+01   1.000000e+15   1.918578e-01"
       ]
      },
      {
       "output_type": "stream",
       "stream": "stdout",
       "text": [
        " \r",
        "0710   7.219737e+01   1.000000e+15   1.918578e-01"
       ]
      },
      {
       "output_type": "stream",
       "stream": "stdout",
       "text": [
        " \r",
        "0711   7.219737e+01   1.000000e+15   1.918578e-01"
       ]
      },
      {
       "output_type": "stream",
       "stream": "stdout",
       "text": [
        " \r",
        "0712   7.219737e+01   1.000000e+15   1.918578e-01"
       ]
      },
      {
       "output_type": "stream",
       "stream": "stdout",
       "text": [
        " \r",
        "0713   7.219737e+01   1.000000e+15   1.918578e-01"
       ]
      },
      {
       "output_type": "stream",
       "stream": "stdout",
       "text": [
        " \r",
        "0714   7.219737e+01   1.000000e+15   1.918578e-01"
       ]
      },
      {
       "output_type": "stream",
       "stream": "stdout",
       "text": [
        " \r",
        "0715   7.219737e+01   1.000000e+15   1.918578e-01"
       ]
      },
      {
       "output_type": "stream",
       "stream": "stdout",
       "text": [
        " \r",
        "0716   7.219737e+01   1.000000e+15   1.918578e-01"
       ]
      },
      {
       "output_type": "stream",
       "stream": "stdout",
       "text": [
        " \r",
        "0717   7.219737e+01   1.000000e+15   1.918578e-01"
       ]
      },
      {
       "output_type": "stream",
       "stream": "stdout",
       "text": [
        " \r",
        "0718   7.219737e+01   1.000000e+15   1.918578e-01"
       ]
      },
      {
       "output_type": "stream",
       "stream": "stdout",
       "text": [
        " \r",
        "0719   7.219737e+01   1.000000e+15   1.918578e-01"
       ]
      },
      {
       "output_type": "stream",
       "stream": "stdout",
       "text": [
        " \r",
        "0720   7.219737e+01   1.000000e+15   1.918578e-01"
       ]
      },
      {
       "output_type": "stream",
       "stream": "stdout",
       "text": [
        " \r",
        "0721   7.219737e+01   1.000000e+15   1.918578e-01"
       ]
      },
      {
       "output_type": "stream",
       "stream": "stdout",
       "text": [
        " \r",
        "0722   7.219737e+01   1.000000e+15   1.918578e-01"
       ]
      },
      {
       "output_type": "stream",
       "stream": "stdout",
       "text": [
        " \r",
        "0723   7.219737e+01   1.000000e+15   1.918578e-01"
       ]
      },
      {
       "output_type": "stream",
       "stream": "stdout",
       "text": [
        " \r",
        "0724   7.219737e+01   1.000000e+15   1.918578e-01"
       ]
      },
      {
       "output_type": "stream",
       "stream": "stdout",
       "text": [
        " \r",
        "0725   7.219737e+01   1.000000e+15   1.918578e-01"
       ]
      },
      {
       "output_type": "stream",
       "stream": "stdout",
       "text": [
        " \r",
        "0726   7.219737e+01   1.000000e+15   1.918578e-01"
       ]
      },
      {
       "output_type": "stream",
       "stream": "stdout",
       "text": [
        " \r",
        "0727   7.219737e+01   1.000000e+15   1.918578e-01"
       ]
      },
      {
       "output_type": "stream",
       "stream": "stdout",
       "text": [
        " \r",
        "0728   7.219737e+01   1.000000e+15   1.918578e-01"
       ]
      },
      {
       "output_type": "stream",
       "stream": "stdout",
       "text": [
        " \r",
        "0729   7.219737e+01   1.000000e+15   1.918578e-01"
       ]
      },
      {
       "output_type": "stream",
       "stream": "stdout",
       "text": [
        " \r",
        "0730   7.219737e+01   1.000000e+15   1.918578e-01"
       ]
      },
      {
       "output_type": "stream",
       "stream": "stdout",
       "text": [
        " \r",
        "0731   7.219737e+01   1.000000e+15   1.918578e-01"
       ]
      },
      {
       "output_type": "stream",
       "stream": "stdout",
       "text": [
        " \r",
        "0732   7.219737e+01   1.000000e+15   1.918578e-01"
       ]
      },
      {
       "output_type": "stream",
       "stream": "stdout",
       "text": [
        " \r",
        "0733   7.219737e+01   1.000000e+15   1.918578e-01"
       ]
      },
      {
       "output_type": "stream",
       "stream": "stdout",
       "text": [
        " \r",
        "0734   7.219737e+01   1.000000e+15   1.918578e-01"
       ]
      },
      {
       "output_type": "stream",
       "stream": "stdout",
       "text": [
        " \r",
        "0735   7.219737e+01   1.000000e+15   1.918578e-01"
       ]
      },
      {
       "output_type": "stream",
       "stream": "stdout",
       "text": [
        " \r",
        "0736   7.219737e+01   1.000000e+15   1.918578e-01"
       ]
      },
      {
       "output_type": "stream",
       "stream": "stdout",
       "text": [
        " \r",
        "0737   7.219737e+01   1.000000e+15   1.918578e-01"
       ]
      },
      {
       "output_type": "stream",
       "stream": "stdout",
       "text": [
        " \r",
        "0738   7.219737e+01   1.000000e+15   1.918578e-01"
       ]
      },
      {
       "output_type": "stream",
       "stream": "stdout",
       "text": [
        " \r",
        "0739   7.219737e+01   1.000000e+15   1.918578e-01"
       ]
      },
      {
       "output_type": "stream",
       "stream": "stdout",
       "text": [
        " \r",
        "0740   7.219737e+01   1.000000e+15   1.918578e-01"
       ]
      },
      {
       "output_type": "stream",
       "stream": "stdout",
       "text": [
        " \r",
        "0741   7.219737e+01   1.000000e+15   1.918578e-01"
       ]
      },
      {
       "output_type": "stream",
       "stream": "stdout",
       "text": [
        " \r",
        "0742   7.219737e+01   1.000000e+15   1.918578e-01"
       ]
      },
      {
       "output_type": "stream",
       "stream": "stdout",
       "text": [
        " \r",
        "0743   7.219737e+01   1.000000e+15   1.918578e-01"
       ]
      },
      {
       "output_type": "stream",
       "stream": "stdout",
       "text": [
        " \r",
        "0744   7.219737e+01   1.000000e+15   1.918578e-01"
       ]
      },
      {
       "output_type": "stream",
       "stream": "stdout",
       "text": [
        " \r",
        "0745   7.219737e+01   1.000000e+15   1.918578e-01"
       ]
      },
      {
       "output_type": "stream",
       "stream": "stdout",
       "text": [
        " \r",
        "0746   7.219737e+01   1.000000e+15   1.918578e-01"
       ]
      },
      {
       "output_type": "stream",
       "stream": "stdout",
       "text": [
        " \r",
        "0747   7.219737e+01   1.000000e+15   1.918578e-01"
       ]
      },
      {
       "output_type": "stream",
       "stream": "stdout",
       "text": [
        " \r",
        "0748   7.219737e+01   1.000000e+15   1.918578e-01"
       ]
      },
      {
       "output_type": "stream",
       "stream": "stdout",
       "text": [
        " \r",
        "0749   7.219737e+01   1.000000e+15   1.918578e-01"
       ]
      },
      {
       "output_type": "stream",
       "stream": "stdout",
       "text": [
        " \r",
        "0750   7.219737e+01   1.000000e+15   1.918578e-01"
       ]
      },
      {
       "output_type": "stream",
       "stream": "stdout",
       "text": [
        " \r",
        "0751   7.219737e+01   1.000000e+15   1.918578e-01"
       ]
      },
      {
       "output_type": "stream",
       "stream": "stdout",
       "text": [
        " \r",
        "0752   7.219737e+01   1.000000e+15   1.918578e-01"
       ]
      },
      {
       "output_type": "stream",
       "stream": "stdout",
       "text": [
        " \r",
        "0753   7.219737e+01   1.000000e+15   1.918578e-01"
       ]
      },
      {
       "output_type": "stream",
       "stream": "stdout",
       "text": [
        " \r",
        "0754   7.219737e+01   1.000000e+15   1.918578e-01"
       ]
      },
      {
       "output_type": "stream",
       "stream": "stdout",
       "text": [
        " \r",
        "0755   7.219737e+01   1.000000e+15   1.918578e-01"
       ]
      },
      {
       "output_type": "stream",
       "stream": "stdout",
       "text": [
        " \r",
        "0756   7.219737e+01   1.000000e+15   1.918578e-01"
       ]
      },
      {
       "output_type": "stream",
       "stream": "stdout",
       "text": [
        " \r",
        "0757   7.219737e+01   1.000000e+15   1.918578e-01"
       ]
      },
      {
       "output_type": "stream",
       "stream": "stdout",
       "text": [
        " \r",
        "0758   7.219737e+01   1.000000e+15   1.918578e-01"
       ]
      },
      {
       "output_type": "stream",
       "stream": "stdout",
       "text": [
        " \r",
        "0759   7.219737e+01   1.000000e+15   1.918578e-01"
       ]
      },
      {
       "output_type": "stream",
       "stream": "stdout",
       "text": [
        " \r",
        "0760   7.219737e+01   1.000000e+15   1.918578e-01"
       ]
      },
      {
       "output_type": "stream",
       "stream": "stdout",
       "text": [
        " \r",
        "0761   7.219737e+01   1.000000e+15   1.918578e-01"
       ]
      },
      {
       "output_type": "stream",
       "stream": "stdout",
       "text": [
        " \r",
        "0762   7.219737e+01   1.000000e+15   1.918578e-01"
       ]
      },
      {
       "output_type": "stream",
       "stream": "stdout",
       "text": [
        " \r",
        "0763   7.219737e+01   1.000000e+15   1.918578e-01"
       ]
      },
      {
       "output_type": "stream",
       "stream": "stdout",
       "text": [
        " \r",
        "0764   7.219737e+01   1.000000e+15   1.918578e-01"
       ]
      },
      {
       "output_type": "stream",
       "stream": "stdout",
       "text": [
        " \r",
        "0765   7.219737e+01   1.000000e+15   1.918578e-01"
       ]
      },
      {
       "output_type": "stream",
       "stream": "stdout",
       "text": [
        " \r",
        "0766   7.219737e+01   1.000000e+15   1.918578e-01"
       ]
      },
      {
       "output_type": "stream",
       "stream": "stdout",
       "text": [
        " \r",
        "0767   7.219737e+01   1.000000e+15   1.918578e-01"
       ]
      },
      {
       "output_type": "stream",
       "stream": "stdout",
       "text": [
        " \r",
        "0768   7.219737e+01   1.000000e+15   1.918578e-01"
       ]
      },
      {
       "output_type": "stream",
       "stream": "stdout",
       "text": [
        " \r",
        "0769   7.219737e+01   1.000000e+15   1.918578e-01"
       ]
      },
      {
       "output_type": "stream",
       "stream": "stdout",
       "text": [
        " \r",
        "0770   7.219737e+01   1.000000e+15   1.918578e-01"
       ]
      },
      {
       "output_type": "stream",
       "stream": "stdout",
       "text": [
        " \r",
        "0771   7.219737e+01   1.000000e+15   1.918578e-01"
       ]
      },
      {
       "output_type": "stream",
       "stream": "stdout",
       "text": [
        " \r",
        "0772   7.219737e+01   1.000000e+15   1.918578e-01"
       ]
      },
      {
       "output_type": "stream",
       "stream": "stdout",
       "text": [
        " \r",
        "0773   7.219737e+01   1.000000e+15   1.918578e-01"
       ]
      },
      {
       "output_type": "stream",
       "stream": "stdout",
       "text": [
        " \r",
        "0774   7.219737e+01   1.000000e+15   1.918578e-01"
       ]
      },
      {
       "output_type": "stream",
       "stream": "stdout",
       "text": [
        " \r",
        "0775   7.219737e+01   1.000000e+15   1.918578e-01"
       ]
      },
      {
       "output_type": "stream",
       "stream": "stdout",
       "text": [
        " \r",
        "0776   7.219737e+01   1.000000e+15   1.918578e-01"
       ]
      },
      {
       "output_type": "stream",
       "stream": "stdout",
       "text": [
        " \r",
        "0777   7.219737e+01   1.000000e+15   1.918578e-01"
       ]
      },
      {
       "output_type": "stream",
       "stream": "stdout",
       "text": [
        " \r",
        "0778   7.219737e+01   1.000000e+15   1.918578e-01"
       ]
      },
      {
       "output_type": "stream",
       "stream": "stdout",
       "text": [
        " \r",
        "0779   7.219737e+01   1.000000e+15   1.918578e-01"
       ]
      },
      {
       "output_type": "stream",
       "stream": "stdout",
       "text": [
        " \r",
        "0780   7.219737e+01   1.000000e+15   1.918578e-01"
       ]
      },
      {
       "output_type": "stream",
       "stream": "stdout",
       "text": [
        " \r",
        "0781   7.219737e+01   1.000000e+15   1.918578e-01"
       ]
      },
      {
       "output_type": "stream",
       "stream": "stdout",
       "text": [
        " \r",
        "0782   7.219737e+01   1.000000e+15   1.918578e-01"
       ]
      },
      {
       "output_type": "stream",
       "stream": "stdout",
       "text": [
        " \r",
        "0783   7.219737e+01   1.000000e+15   1.918578e-01"
       ]
      },
      {
       "output_type": "stream",
       "stream": "stdout",
       "text": [
        " \r",
        "0784   7.219737e+01   1.000000e+15   1.918578e-01"
       ]
      },
      {
       "output_type": "stream",
       "stream": "stdout",
       "text": [
        " \r",
        "0785   7.219737e+01   1.000000e+15   1.918578e-01"
       ]
      },
      {
       "output_type": "stream",
       "stream": "stdout",
       "text": [
        " \r",
        "0786   7.219737e+01   1.000000e+15   1.918578e-01"
       ]
      },
      {
       "output_type": "stream",
       "stream": "stdout",
       "text": [
        " \r",
        "0787   7.219737e+01   1.000000e+15   1.918578e-01"
       ]
      },
      {
       "output_type": "stream",
       "stream": "stdout",
       "text": [
        " \r",
        "0788   7.219737e+01   1.000000e+15   1.918578e-01"
       ]
      },
      {
       "output_type": "stream",
       "stream": "stdout",
       "text": [
        " \r",
        "0789   7.219737e+01   1.000000e+15   1.918578e-01"
       ]
      },
      {
       "output_type": "stream",
       "stream": "stdout",
       "text": [
        " \r",
        "0790   7.219737e+01   1.000000e+15   1.918578e-01"
       ]
      },
      {
       "output_type": "stream",
       "stream": "stdout",
       "text": [
        " \r",
        "0791   7.219737e+01   1.000000e+15   1.918578e-01"
       ]
      },
      {
       "output_type": "stream",
       "stream": "stdout",
       "text": [
        " \r",
        "0792   7.219737e+01   1.000000e+15   1.918578e-01"
       ]
      },
      {
       "output_type": "stream",
       "stream": "stdout",
       "text": [
        " \r",
        "0793   7.219737e+01   1.000000e+15   1.918578e-01"
       ]
      },
      {
       "output_type": "stream",
       "stream": "stdout",
       "text": [
        " \r",
        "0794   7.219737e+01   1.000000e+15   1.918578e-01"
       ]
      },
      {
       "output_type": "stream",
       "stream": "stdout",
       "text": [
        " \r",
        "0795   7.219737e+01   1.000000e+15   1.918578e-01"
       ]
      },
      {
       "output_type": "stream",
       "stream": "stdout",
       "text": [
        " \r",
        "0796   7.219737e+01   1.000000e+15   1.918578e-01"
       ]
      },
      {
       "output_type": "stream",
       "stream": "stdout",
       "text": [
        " \r",
        "0797   7.219737e+01   1.000000e+15   1.918578e-01"
       ]
      },
      {
       "output_type": "stream",
       "stream": "stdout",
       "text": [
        " \r",
        "0798   7.219737e+01   1.000000e+15   1.918578e-01"
       ]
      },
      {
       "output_type": "stream",
       "stream": "stdout",
       "text": [
        " \r",
        "0799   7.219737e+01   1.000000e+15   1.918578e-01"
       ]
      },
      {
       "output_type": "stream",
       "stream": "stdout",
       "text": [
        " \r",
        "0800   7.219737e+01   1.000000e+15   1.918578e-01"
       ]
      },
      {
       "output_type": "stream",
       "stream": "stdout",
       "text": [
        " \r",
        "0801   7.219737e+01   1.000000e+15   1.918578e-01"
       ]
      },
      {
       "output_type": "stream",
       "stream": "stdout",
       "text": [
        " \r",
        "0802   7.219737e+01   1.000000e+15   1.918578e-01"
       ]
      },
      {
       "output_type": "stream",
       "stream": "stdout",
       "text": [
        " \r",
        "0803   7.219737e+01   1.000000e+15   1.918578e-01"
       ]
      },
      {
       "output_type": "stream",
       "stream": "stdout",
       "text": [
        " \r",
        "0804   7.219737e+01   1.000000e+15   1.918578e-01"
       ]
      },
      {
       "output_type": "stream",
       "stream": "stdout",
       "text": [
        " \r",
        "0805   7.219737e+01   1.000000e+15   1.918578e-01"
       ]
      },
      {
       "output_type": "stream",
       "stream": "stdout",
       "text": [
        " \r",
        "0806   7.219737e+01   1.000000e+15   1.918578e-01"
       ]
      },
      {
       "output_type": "stream",
       "stream": "stdout",
       "text": [
        " \r",
        "0807   7.219737e+01   1.000000e+15   1.918578e-01"
       ]
      },
      {
       "output_type": "stream",
       "stream": "stdout",
       "text": [
        " \r",
        "0808   7.219737e+01   1.000000e+15   1.918578e-01"
       ]
      },
      {
       "output_type": "stream",
       "stream": "stdout",
       "text": [
        " \r",
        "0809   7.219737e+01   1.000000e+15   1.918578e-01"
       ]
      },
      {
       "output_type": "stream",
       "stream": "stdout",
       "text": [
        " \r",
        "0810   7.219737e+01   1.000000e+15   1.918578e-01"
       ]
      },
      {
       "output_type": "stream",
       "stream": "stdout",
       "text": [
        " \r",
        "0811   7.219737e+01   1.000000e+15   1.918578e-01"
       ]
      },
      {
       "output_type": "stream",
       "stream": "stdout",
       "text": [
        " \r",
        "0812   7.219737e+01   1.000000e+15   1.918578e-01"
       ]
      },
      {
       "output_type": "stream",
       "stream": "stdout",
       "text": [
        " \r",
        "0813   7.219737e+01   1.000000e+15   1.918578e-01"
       ]
      },
      {
       "output_type": "stream",
       "stream": "stdout",
       "text": [
        " \r",
        "0814   7.219737e+01   1.000000e+15   1.918578e-01"
       ]
      },
      {
       "output_type": "stream",
       "stream": "stdout",
       "text": [
        " \r",
        "0815   7.219737e+01   1.000000e+15   1.918578e-01"
       ]
      },
      {
       "output_type": "stream",
       "stream": "stdout",
       "text": [
        " \r",
        "0816   7.219737e+01   1.000000e+15   1.918578e-01"
       ]
      },
      {
       "output_type": "stream",
       "stream": "stdout",
       "text": [
        " \r",
        "0817   7.219737e+01   1.000000e+15   1.918578e-01"
       ]
      },
      {
       "output_type": "stream",
       "stream": "stdout",
       "text": [
        " \r",
        "0818   7.219737e+01   1.000000e+15   1.918578e-01"
       ]
      },
      {
       "output_type": "stream",
       "stream": "stdout",
       "text": [
        " \r",
        "0819   7.219737e+01   1.000000e+15   1.918578e-01"
       ]
      },
      {
       "output_type": "stream",
       "stream": "stdout",
       "text": [
        " \r",
        "0820   7.219737e+01   1.000000e+15   1.918578e-01"
       ]
      },
      {
       "output_type": "stream",
       "stream": "stdout",
       "text": [
        " \r",
        "0821   7.219737e+01   1.000000e+15   1.918578e-01"
       ]
      },
      {
       "output_type": "stream",
       "stream": "stdout",
       "text": [
        " \r",
        "0822   7.219737e+01   1.000000e+15   1.918578e-01"
       ]
      },
      {
       "output_type": "stream",
       "stream": "stdout",
       "text": [
        " \r",
        "0823   7.219737e+01   1.000000e+15   1.918578e-01"
       ]
      },
      {
       "output_type": "stream",
       "stream": "stdout",
       "text": [
        " \r",
        "0824   7.219737e+01   1.000000e+15   1.918578e-01"
       ]
      },
      {
       "output_type": "stream",
       "stream": "stdout",
       "text": [
        " \r",
        "0825   7.219737e+01   1.000000e+15   1.918578e-01"
       ]
      },
      {
       "output_type": "stream",
       "stream": "stdout",
       "text": [
        " \r",
        "0826   7.219737e+01   1.000000e+15   1.918578e-01"
       ]
      },
      {
       "output_type": "stream",
       "stream": "stdout",
       "text": [
        " \r",
        "0827   7.219737e+01   1.000000e+15   1.918578e-01"
       ]
      },
      {
       "output_type": "stream",
       "stream": "stdout",
       "text": [
        " \r",
        "0828   7.219737e+01   1.000000e+15   1.918578e-01"
       ]
      },
      {
       "output_type": "stream",
       "stream": "stdout",
       "text": [
        " \r",
        "0829   7.219737e+01   1.000000e+15   1.918578e-01"
       ]
      },
      {
       "output_type": "stream",
       "stream": "stdout",
       "text": [
        " \r",
        "0830   7.219737e+01   1.000000e+15   1.918578e-01"
       ]
      },
      {
       "output_type": "stream",
       "stream": "stdout",
       "text": [
        " \r",
        "0831   7.219737e+01   1.000000e+15   1.918578e-01"
       ]
      },
      {
       "output_type": "stream",
       "stream": "stdout",
       "text": [
        " \r",
        "0832   7.219737e+01   1.000000e+15   1.918578e-01"
       ]
      },
      {
       "output_type": "stream",
       "stream": "stdout",
       "text": [
        " \r",
        "0833   7.219737e+01   1.000000e+15   1.918578e-01"
       ]
      },
      {
       "output_type": "stream",
       "stream": "stdout",
       "text": [
        " \r",
        "0834   7.219737e+01   1.000000e+15   1.918578e-01"
       ]
      },
      {
       "output_type": "stream",
       "stream": "stdout",
       "text": [
        " \r",
        "0835   7.219737e+01   1.000000e+15   1.918578e-01"
       ]
      },
      {
       "output_type": "stream",
       "stream": "stdout",
       "text": [
        " \r",
        "0836   7.219737e+01   1.000000e+15   1.918578e-01"
       ]
      },
      {
       "output_type": "stream",
       "stream": "stdout",
       "text": [
        " \r",
        "0837   7.219737e+01   1.000000e+15   1.918578e-01"
       ]
      },
      {
       "output_type": "stream",
       "stream": "stdout",
       "text": [
        " \r",
        "0838   7.219737e+01   1.000000e+15   1.918578e-01"
       ]
      },
      {
       "output_type": "stream",
       "stream": "stdout",
       "text": [
        " \r",
        "0839   7.219737e+01   1.000000e+15   1.918578e-01"
       ]
      },
      {
       "output_type": "stream",
       "stream": "stdout",
       "text": [
        " \r",
        "0840   7.219737e+01   1.000000e+15   1.918578e-01"
       ]
      },
      {
       "output_type": "stream",
       "stream": "stdout",
       "text": [
        " \r",
        "0841   7.219737e+01   1.000000e+15   1.918578e-01"
       ]
      },
      {
       "output_type": "stream",
       "stream": "stdout",
       "text": [
        " \r",
        "0842   7.219737e+01   1.000000e+15   1.918578e-01"
       ]
      },
      {
       "output_type": "stream",
       "stream": "stdout",
       "text": [
        " \r",
        "0843   7.219737e+01   1.000000e+15   1.918578e-01"
       ]
      },
      {
       "output_type": "stream",
       "stream": "stdout",
       "text": [
        " \r",
        "0844   7.219737e+01   1.000000e+15   1.918578e-01"
       ]
      },
      {
       "output_type": "stream",
       "stream": "stdout",
       "text": [
        " \r",
        "0845   7.219737e+01   1.000000e+15   1.918578e-01"
       ]
      },
      {
       "output_type": "stream",
       "stream": "stdout",
       "text": [
        " \r",
        "0846   7.219737e+01   1.000000e+15   1.918578e-01"
       ]
      },
      {
       "output_type": "stream",
       "stream": "stdout",
       "text": [
        " \r",
        "0847   7.219737e+01   1.000000e+15   1.918578e-01"
       ]
      },
      {
       "output_type": "stream",
       "stream": "stdout",
       "text": [
        " \r",
        "0848   7.219737e+01   1.000000e+15   1.918578e-01"
       ]
      },
      {
       "output_type": "stream",
       "stream": "stdout",
       "text": [
        " \r",
        "0849   7.219737e+01   1.000000e+15   1.918578e-01"
       ]
      },
      {
       "output_type": "stream",
       "stream": "stdout",
       "text": [
        " \r",
        "0850   7.219737e+01   1.000000e+15   1.918578e-01"
       ]
      },
      {
       "output_type": "stream",
       "stream": "stdout",
       "text": [
        " \r",
        "0851   7.219737e+01   1.000000e+15   1.918578e-01"
       ]
      },
      {
       "output_type": "stream",
       "stream": "stdout",
       "text": [
        " \r",
        "0852   7.219737e+01   1.000000e+15   1.918578e-01"
       ]
      },
      {
       "output_type": "stream",
       "stream": "stdout",
       "text": [
        " \r",
        "0853   7.219737e+01   1.000000e+15   1.918578e-01"
       ]
      },
      {
       "output_type": "stream",
       "stream": "stdout",
       "text": [
        " \r",
        "0854   7.219737e+01   1.000000e+15   1.918578e-01"
       ]
      },
      {
       "output_type": "stream",
       "stream": "stdout",
       "text": [
        " \r",
        "0855   7.219737e+01   1.000000e+15   1.918578e-01"
       ]
      },
      {
       "output_type": "stream",
       "stream": "stdout",
       "text": [
        " \r",
        "0856   7.219737e+01   1.000000e+15   1.918578e-01"
       ]
      },
      {
       "output_type": "stream",
       "stream": "stdout",
       "text": [
        " \r",
        "0857   7.219737e+01   1.000000e+15   1.918578e-01"
       ]
      },
      {
       "output_type": "stream",
       "stream": "stdout",
       "text": [
        " \r",
        "0858   7.219737e+01   1.000000e+15   1.918578e-01"
       ]
      },
      {
       "output_type": "stream",
       "stream": "stdout",
       "text": [
        " \r",
        "0859   7.219737e+01   1.000000e+15   1.918578e-01"
       ]
      },
      {
       "output_type": "stream",
       "stream": "stdout",
       "text": [
        " \r",
        "0860   7.219737e+01   1.000000e+15   1.918578e-01"
       ]
      },
      {
       "output_type": "stream",
       "stream": "stdout",
       "text": [
        " \r",
        "0861   7.219737e+01   1.000000e+15   1.918578e-01"
       ]
      },
      {
       "output_type": "stream",
       "stream": "stdout",
       "text": [
        " \r",
        "0862   7.219737e+01   1.000000e+15   1.918578e-01"
       ]
      },
      {
       "output_type": "stream",
       "stream": "stdout",
       "text": [
        " \r",
        "0863   7.219737e+01   1.000000e+15   1.918578e-01"
       ]
      },
      {
       "output_type": "stream",
       "stream": "stdout",
       "text": [
        " \r",
        "0864   7.219737e+01   1.000000e+15   1.918578e-01"
       ]
      },
      {
       "output_type": "stream",
       "stream": "stdout",
       "text": [
        " \r",
        "0865   7.219737e+01   1.000000e+15   1.918578e-01"
       ]
      },
      {
       "output_type": "stream",
       "stream": "stdout",
       "text": [
        " \r",
        "0866   7.219737e+01   1.000000e+15   1.918578e-01"
       ]
      },
      {
       "output_type": "stream",
       "stream": "stdout",
       "text": [
        " \r",
        "0867   7.219737e+01   1.000000e+15   1.918578e-01"
       ]
      },
      {
       "output_type": "stream",
       "stream": "stdout",
       "text": [
        " \r",
        "0868   7.219737e+01   1.000000e+15   1.918578e-01"
       ]
      },
      {
       "output_type": "stream",
       "stream": "stdout",
       "text": [
        " \r",
        "0869   7.219737e+01   1.000000e+15   1.918578e-01"
       ]
      },
      {
       "output_type": "stream",
       "stream": "stdout",
       "text": [
        " \r",
        "0870   7.219737e+01   1.000000e+15   1.918578e-01"
       ]
      },
      {
       "output_type": "stream",
       "stream": "stdout",
       "text": [
        " \r",
        "0871   7.219737e+01   1.000000e+15   1.918578e-01"
       ]
      },
      {
       "output_type": "stream",
       "stream": "stdout",
       "text": [
        " \r",
        "0872   7.219737e+01   1.000000e+15   1.918578e-01"
       ]
      },
      {
       "output_type": "stream",
       "stream": "stdout",
       "text": [
        " \r",
        "0873   7.219737e+01   1.000000e+15   1.918578e-01"
       ]
      },
      {
       "output_type": "stream",
       "stream": "stdout",
       "text": [
        " \r",
        "0874   7.219737e+01   1.000000e+15   1.918578e-01"
       ]
      },
      {
       "output_type": "stream",
       "stream": "stdout",
       "text": [
        " \r",
        "0875   7.219737e+01   1.000000e+15   1.918578e-01"
       ]
      },
      {
       "output_type": "stream",
       "stream": "stdout",
       "text": [
        " \r",
        "0876   7.219737e+01   1.000000e+15   1.918578e-01"
       ]
      },
      {
       "output_type": "stream",
       "stream": "stdout",
       "text": [
        " \r",
        "0877   7.219737e+01   1.000000e+15   1.918578e-01"
       ]
      },
      {
       "output_type": "stream",
       "stream": "stdout",
       "text": [
        " \r",
        "0878   7.219737e+01   1.000000e+15   1.918578e-01"
       ]
      },
      {
       "output_type": "stream",
       "stream": "stdout",
       "text": [
        " \r",
        "0879   7.219737e+01   1.000000e+15   1.918578e-01"
       ]
      },
      {
       "output_type": "stream",
       "stream": "stdout",
       "text": [
        " \r",
        "0880   7.219737e+01   1.000000e+15   1.918578e-01"
       ]
      },
      {
       "output_type": "stream",
       "stream": "stdout",
       "text": [
        " \r",
        "0881   7.219737e+01   1.000000e+15   1.918578e-01"
       ]
      },
      {
       "output_type": "stream",
       "stream": "stdout",
       "text": [
        " \r",
        "0882   7.219737e+01   1.000000e+15   1.918578e-01"
       ]
      },
      {
       "output_type": "stream",
       "stream": "stdout",
       "text": [
        " \r",
        "0883   7.219737e+01   1.000000e+15   1.918578e-01"
       ]
      },
      {
       "output_type": "stream",
       "stream": "stdout",
       "text": [
        " \r",
        "0884   7.219737e+01   1.000000e+15   1.918578e-01"
       ]
      },
      {
       "output_type": "stream",
       "stream": "stdout",
       "text": [
        " \r",
        "0885   7.219737e+01   1.000000e+15   1.918578e-01"
       ]
      },
      {
       "output_type": "stream",
       "stream": "stdout",
       "text": [
        " \r",
        "0886   7.219737e+01   1.000000e+15   1.918578e-01"
       ]
      },
      {
       "output_type": "stream",
       "stream": "stdout",
       "text": [
        " \r",
        "0887   7.219737e+01   1.000000e+15   1.918578e-01"
       ]
      },
      {
       "output_type": "stream",
       "stream": "stdout",
       "text": [
        " \r",
        "0888   7.219737e+01   1.000000e+15   1.918578e-01"
       ]
      },
      {
       "output_type": "stream",
       "stream": "stdout",
       "text": [
        " \r",
        "0889   7.219737e+01   1.000000e+15   1.918578e-01"
       ]
      },
      {
       "output_type": "stream",
       "stream": "stdout",
       "text": [
        " \r",
        "0890   7.219737e+01   1.000000e+15   1.918578e-01"
       ]
      },
      {
       "output_type": "stream",
       "stream": "stdout",
       "text": [
        " \r",
        "0891   7.219737e+01   1.000000e+15   1.918578e-01"
       ]
      },
      {
       "output_type": "stream",
       "stream": "stdout",
       "text": [
        " \r",
        "0892   7.219737e+01   1.000000e+15   1.918578e-01"
       ]
      },
      {
       "output_type": "stream",
       "stream": "stdout",
       "text": [
        " \r",
        "0893   7.219737e+01   1.000000e+15   1.918578e-01"
       ]
      },
      {
       "output_type": "stream",
       "stream": "stdout",
       "text": [
        " \r",
        "0894   7.219737e+01   1.000000e+15   1.918578e-01"
       ]
      },
      {
       "output_type": "stream",
       "stream": "stdout",
       "text": [
        " \r",
        "0895   7.219737e+01   1.000000e+15   1.918578e-01"
       ]
      },
      {
       "output_type": "stream",
       "stream": "stdout",
       "text": [
        " \r",
        "0896   7.219737e+01   1.000000e+15   1.918578e-01"
       ]
      },
      {
       "output_type": "stream",
       "stream": "stdout",
       "text": [
        " \r",
        "0897   7.219737e+01   1.000000e+15   1.918578e-01"
       ]
      },
      {
       "output_type": "stream",
       "stream": "stdout",
       "text": [
        " \r",
        "0898   7.219737e+01   1.000000e+15   1.918578e-01"
       ]
      },
      {
       "output_type": "stream",
       "stream": "stdout",
       "text": [
        " \r",
        "0899   7.219737e+01   1.000000e+15   1.918578e-01"
       ]
      },
      {
       "output_type": "stream",
       "stream": "stdout",
       "text": [
        " \r",
        "0900   7.219737e+01   1.000000e+15   1.918578e-01"
       ]
      },
      {
       "output_type": "stream",
       "stream": "stdout",
       "text": [
        " \r",
        "0901   7.219737e+01   1.000000e+15   1.918578e-01"
       ]
      },
      {
       "output_type": "stream",
       "stream": "stdout",
       "text": [
        " \r",
        "0902   7.219737e+01   1.000000e+15   1.918578e-01"
       ]
      },
      {
       "output_type": "stream",
       "stream": "stdout",
       "text": [
        " \r",
        "0903   7.219737e+01   1.000000e+15   1.918578e-01"
       ]
      },
      {
       "output_type": "stream",
       "stream": "stdout",
       "text": [
        " \r",
        "0904   7.219737e+01   1.000000e+15   1.918578e-01"
       ]
      },
      {
       "output_type": "stream",
       "stream": "stdout",
       "text": [
        " \r",
        "0905   7.219737e+01   1.000000e+15   1.918578e-01"
       ]
      },
      {
       "output_type": "stream",
       "stream": "stdout",
       "text": [
        " \r",
        "0906   7.219737e+01   1.000000e+15   1.918578e-01"
       ]
      },
      {
       "output_type": "stream",
       "stream": "stdout",
       "text": [
        " \r",
        "0907   7.219737e+01   1.000000e+15   1.918578e-01"
       ]
      },
      {
       "output_type": "stream",
       "stream": "stdout",
       "text": [
        " \r",
        "0908   7.219737e+01   1.000000e+15   1.918578e-01"
       ]
      },
      {
       "output_type": "stream",
       "stream": "stdout",
       "text": [
        " \r",
        "0909   7.219737e+01   1.000000e+15   1.918578e-01"
       ]
      },
      {
       "output_type": "stream",
       "stream": "stdout",
       "text": [
        " \r",
        "0910   7.219737e+01   1.000000e+15   1.918578e-01"
       ]
      },
      {
       "output_type": "stream",
       "stream": "stdout",
       "text": [
        " \r",
        "0911   7.219737e+01   1.000000e+15   1.918578e-01"
       ]
      },
      {
       "output_type": "stream",
       "stream": "stdout",
       "text": [
        " \r",
        "0912   7.219737e+01   1.000000e+15   1.918578e-01"
       ]
      },
      {
       "output_type": "stream",
       "stream": "stdout",
       "text": [
        " \r",
        "0913   7.219737e+01   1.000000e+15   1.918578e-01"
       ]
      },
      {
       "output_type": "stream",
       "stream": "stdout",
       "text": [
        " \r",
        "0914   7.219737e+01   1.000000e+15   1.918578e-01"
       ]
      },
      {
       "output_type": "stream",
       "stream": "stdout",
       "text": [
        " \r",
        "0915   7.219737e+01   1.000000e+15   1.918578e-01"
       ]
      },
      {
       "output_type": "stream",
       "stream": "stdout",
       "text": [
        " \r",
        "0916   7.219737e+01   1.000000e+15   1.918578e-01"
       ]
      },
      {
       "output_type": "stream",
       "stream": "stdout",
       "text": [
        " \r",
        "0917   7.219737e+01   1.000000e+15   1.918578e-01"
       ]
      },
      {
       "output_type": "stream",
       "stream": "stdout",
       "text": [
        " \r",
        "0918   7.219737e+01   1.000000e+15   1.918578e-01"
       ]
      },
      {
       "output_type": "stream",
       "stream": "stdout",
       "text": [
        " \r",
        "0919   7.219737e+01   1.000000e+15   1.918578e-01"
       ]
      },
      {
       "output_type": "stream",
       "stream": "stdout",
       "text": [
        " \r",
        "0920   7.219737e+01   1.000000e+15   1.918578e-01"
       ]
      },
      {
       "output_type": "stream",
       "stream": "stdout",
       "text": [
        " \r",
        "0921   7.219737e+01   1.000000e+15   1.918578e-01"
       ]
      },
      {
       "output_type": "stream",
       "stream": "stdout",
       "text": [
        " \r",
        "0922   7.219737e+01   1.000000e+15   1.918578e-01"
       ]
      },
      {
       "output_type": "stream",
       "stream": "stdout",
       "text": [
        " \r",
        "0923   7.219737e+01   1.000000e+15   1.918578e-01"
       ]
      },
      {
       "output_type": "stream",
       "stream": "stdout",
       "text": [
        " \r",
        "0924   7.219737e+01   1.000000e+15   1.918578e-01"
       ]
      },
      {
       "output_type": "stream",
       "stream": "stdout",
       "text": [
        " \r",
        "0925   7.219737e+01   1.000000e+15   1.918578e-01"
       ]
      },
      {
       "output_type": "stream",
       "stream": "stdout",
       "text": [
        " \r",
        "0926   7.219737e+01   1.000000e+15   1.918578e-01"
       ]
      },
      {
       "output_type": "stream",
       "stream": "stdout",
       "text": [
        " \r",
        "0927   7.219737e+01   1.000000e+15   1.918578e-01"
       ]
      },
      {
       "output_type": "stream",
       "stream": "stdout",
       "text": [
        " \r",
        "0928   7.219737e+01   1.000000e+15   1.918578e-01"
       ]
      },
      {
       "output_type": "stream",
       "stream": "stdout",
       "text": [
        " \r",
        "0929   7.219737e+01   1.000000e+15   1.918578e-01"
       ]
      },
      {
       "output_type": "stream",
       "stream": "stdout",
       "text": [
        " \r",
        "0930   7.219737e+01   1.000000e+15   1.918578e-01"
       ]
      },
      {
       "output_type": "stream",
       "stream": "stdout",
       "text": [
        " \r",
        "0931   7.219737e+01   1.000000e+15   1.918578e-01"
       ]
      },
      {
       "output_type": "stream",
       "stream": "stdout",
       "text": [
        " \r",
        "0932   7.219737e+01   1.000000e+15   1.918578e-01"
       ]
      },
      {
       "output_type": "stream",
       "stream": "stdout",
       "text": [
        " \r",
        "0933   7.219737e+01   1.000000e+15   1.918578e-01"
       ]
      },
      {
       "output_type": "stream",
       "stream": "stdout",
       "text": [
        " \r",
        "0934   7.219737e+01   1.000000e+15   1.918578e-01"
       ]
      },
      {
       "output_type": "stream",
       "stream": "stdout",
       "text": [
        " \r",
        "0935   7.219737e+01   1.000000e+15   1.918578e-01"
       ]
      },
      {
       "output_type": "stream",
       "stream": "stdout",
       "text": [
        " \r",
        "0936   7.219737e+01   1.000000e+15   1.918578e-01"
       ]
      },
      {
       "output_type": "stream",
       "stream": "stdout",
       "text": [
        " \r",
        "0937   7.219737e+01   1.000000e+15   1.918578e-01"
       ]
      },
      {
       "output_type": "stream",
       "stream": "stdout",
       "text": [
        " \r",
        "0938   7.219737e+01   1.000000e+15   1.918578e-01"
       ]
      },
      {
       "output_type": "stream",
       "stream": "stdout",
       "text": [
        " \r",
        "0939   7.219737e+01   1.000000e+15   1.918578e-01"
       ]
      },
      {
       "output_type": "stream",
       "stream": "stdout",
       "text": [
        " \r",
        "0940   7.219737e+01   1.000000e+15   1.918578e-01"
       ]
      },
      {
       "output_type": "stream",
       "stream": "stdout",
       "text": [
        " \r",
        "0941   7.219737e+01   1.000000e+15   1.918578e-01"
       ]
      },
      {
       "output_type": "stream",
       "stream": "stdout",
       "text": [
        " \r",
        "0942   7.219737e+01   1.000000e+15   1.918578e-01"
       ]
      },
      {
       "output_type": "stream",
       "stream": "stdout",
       "text": [
        " \r",
        "0943   7.219737e+01   1.000000e+15   1.918578e-01"
       ]
      },
      {
       "output_type": "stream",
       "stream": "stdout",
       "text": [
        " \r",
        "0944   7.219737e+01   1.000000e+15   1.918578e-01"
       ]
      },
      {
       "output_type": "stream",
       "stream": "stdout",
       "text": [
        " \r",
        "0945   7.219737e+01   1.000000e+15   1.918578e-01"
       ]
      },
      {
       "output_type": "stream",
       "stream": "stdout",
       "text": [
        " \r",
        "0946   7.219737e+01   1.000000e+15   1.918578e-01"
       ]
      },
      {
       "output_type": "stream",
       "stream": "stdout",
       "text": [
        " \r",
        "0947   7.219737e+01   1.000000e+15   1.918578e-01"
       ]
      },
      {
       "output_type": "stream",
       "stream": "stdout",
       "text": [
        " \r",
        "0948   7.219737e+01   1.000000e+15   1.918578e-01"
       ]
      },
      {
       "output_type": "stream",
       "stream": "stdout",
       "text": [
        " \r",
        "0949   7.219737e+01   1.000000e+15   1.918578e-01"
       ]
      },
      {
       "output_type": "stream",
       "stream": "stdout",
       "text": [
        " \r",
        "0950   7.219737e+01   1.000000e+15   1.918578e-01"
       ]
      },
      {
       "output_type": "stream",
       "stream": "stdout",
       "text": [
        " \r",
        "0951   7.219737e+01   1.000000e+15   1.918578e-01"
       ]
      },
      {
       "output_type": "stream",
       "stream": "stdout",
       "text": [
        " \r",
        "0952   7.219737e+01   1.000000e+15   1.918578e-01"
       ]
      },
      {
       "output_type": "stream",
       "stream": "stdout",
       "text": [
        " \r",
        "0953   7.219737e+01   1.000000e+15   1.918578e-01"
       ]
      },
      {
       "output_type": "stream",
       "stream": "stdout",
       "text": [
        " \r",
        "0954   7.219737e+01   1.000000e+15   1.918578e-01"
       ]
      },
      {
       "output_type": "stream",
       "stream": "stdout",
       "text": [
        " \r",
        "0955   7.219737e+01   1.000000e+15   1.918578e-01"
       ]
      },
      {
       "output_type": "stream",
       "stream": "stdout",
       "text": [
        " \r",
        "0956   7.219737e+01   1.000000e+15   1.918578e-01"
       ]
      },
      {
       "output_type": "stream",
       "stream": "stdout",
       "text": [
        " \r",
        "0957   7.219737e+01   1.000000e+15   1.918578e-01"
       ]
      },
      {
       "output_type": "stream",
       "stream": "stdout",
       "text": [
        " \r",
        "0958   7.219737e+01   1.000000e+15   1.918578e-01"
       ]
      },
      {
       "output_type": "stream",
       "stream": "stdout",
       "text": [
        " \r",
        "0959   7.219737e+01   1.000000e+15   1.918578e-01"
       ]
      },
      {
       "output_type": "stream",
       "stream": "stdout",
       "text": [
        " \r",
        "0960   7.219737e+01   1.000000e+15   1.918578e-01"
       ]
      },
      {
       "output_type": "stream",
       "stream": "stdout",
       "text": [
        " \r",
        "0961   7.219737e+01   1.000000e+15   1.918578e-01"
       ]
      },
      {
       "output_type": "stream",
       "stream": "stdout",
       "text": [
        " \r",
        "0962   7.219737e+01   1.000000e+15   1.918578e-01"
       ]
      },
      {
       "output_type": "stream",
       "stream": "stdout",
       "text": [
        " \r",
        "0963   7.219737e+01   1.000000e+15   1.918578e-01"
       ]
      },
      {
       "output_type": "stream",
       "stream": "stdout",
       "text": [
        " \r",
        "0964   7.219737e+01   1.000000e+15   1.918578e-01"
       ]
      },
      {
       "output_type": "stream",
       "stream": "stdout",
       "text": [
        " \r",
        "0965   7.219737e+01   1.000000e+15   1.918578e-01"
       ]
      },
      {
       "output_type": "stream",
       "stream": "stdout",
       "text": [
        " \r",
        "0966   7.219737e+01   1.000000e+15   1.918578e-01"
       ]
      },
      {
       "output_type": "stream",
       "stream": "stdout",
       "text": [
        " \r",
        "0967   7.219737e+01   1.000000e+15   1.918578e-01"
       ]
      },
      {
       "output_type": "stream",
       "stream": "stdout",
       "text": [
        " \r",
        "0968   7.219737e+01   1.000000e+15   1.918578e-01"
       ]
      },
      {
       "output_type": "stream",
       "stream": "stdout",
       "text": [
        " \r",
        "0969   7.219737e+01   1.000000e+15   1.918578e-01"
       ]
      },
      {
       "output_type": "stream",
       "stream": "stdout",
       "text": [
        " \r",
        "0970   7.219737e+01   1.000000e+15   1.918578e-01"
       ]
      },
      {
       "output_type": "stream",
       "stream": "stdout",
       "text": [
        " \r",
        "0971   7.219737e+01   1.000000e+15   1.918578e-01"
       ]
      },
      {
       "output_type": "stream",
       "stream": "stdout",
       "text": [
        " \r",
        "0972   7.219737e+01   1.000000e+15   1.918578e-01"
       ]
      },
      {
       "output_type": "stream",
       "stream": "stdout",
       "text": [
        " \r",
        "0973   7.219737e+01   1.000000e+15   1.918578e-01"
       ]
      },
      {
       "output_type": "stream",
       "stream": "stdout",
       "text": [
        " \r",
        "0974   7.219737e+01   1.000000e+15   1.918578e-01"
       ]
      },
      {
       "output_type": "stream",
       "stream": "stdout",
       "text": [
        " \r",
        "0975   7.219737e+01   1.000000e+15   1.918578e-01"
       ]
      },
      {
       "output_type": "stream",
       "stream": "stdout",
       "text": [
        " \r",
        "0976   7.219737e+01   1.000000e+15   1.918578e-01"
       ]
      },
      {
       "output_type": "stream",
       "stream": "stdout",
       "text": [
        " \r",
        "0977   7.219737e+01   1.000000e+15   1.918578e-01"
       ]
      },
      {
       "output_type": "stream",
       "stream": "stdout",
       "text": [
        " \r",
        "0978   7.219737e+01   1.000000e+15   1.918578e-01"
       ]
      },
      {
       "output_type": "stream",
       "stream": "stdout",
       "text": [
        " \r",
        "0979   7.219737e+01   1.000000e+15   1.918578e-01"
       ]
      },
      {
       "output_type": "stream",
       "stream": "stdout",
       "text": [
        " \r",
        "0980   7.219737e+01   1.000000e+15   1.918578e-01"
       ]
      },
      {
       "output_type": "stream",
       "stream": "stdout",
       "text": [
        " \r",
        "0981   7.219737e+01   1.000000e+15   1.918578e-01"
       ]
      },
      {
       "output_type": "stream",
       "stream": "stdout",
       "text": [
        " \r",
        "0982   7.219737e+01   1.000000e+15   1.918578e-01"
       ]
      },
      {
       "output_type": "stream",
       "stream": "stdout",
       "text": [
        " \r",
        "0983   7.219737e+01   1.000000e+15   1.918578e-01"
       ]
      },
      {
       "output_type": "stream",
       "stream": "stdout",
       "text": [
        " \r",
        "0984   7.219737e+01   1.000000e+15   1.918578e-01"
       ]
      },
      {
       "output_type": "stream",
       "stream": "stdout",
       "text": [
        " \r",
        "0985   7.219737e+01   1.000000e+15   1.918578e-01"
       ]
      },
      {
       "output_type": "stream",
       "stream": "stdout",
       "text": [
        " \r",
        "0986   7.219737e+01   1.000000e+15   1.918578e-01"
       ]
      },
      {
       "output_type": "stream",
       "stream": "stdout",
       "text": [
        " \r",
        "0987   7.219737e+01   1.000000e+15   1.918578e-01"
       ]
      },
      {
       "output_type": "stream",
       "stream": "stdout",
       "text": [
        " \r",
        "0988   7.219737e+01   1.000000e+15   1.918578e-01"
       ]
      },
      {
       "output_type": "stream",
       "stream": "stdout",
       "text": [
        " \r",
        "0989   7.219737e+01   1.000000e+15   1.918578e-01"
       ]
      },
      {
       "output_type": "stream",
       "stream": "stdout",
       "text": [
        " \r",
        "0990   7.219737e+01   1.000000e+15   1.918578e-01"
       ]
      },
      {
       "output_type": "stream",
       "stream": "stdout",
       "text": [
        " \r",
        "0991   7.219737e+01   1.000000e+15   1.918578e-01"
       ]
      },
      {
       "output_type": "stream",
       "stream": "stdout",
       "text": [
        " \r",
        "0992   7.219737e+01   1.000000e+15   1.918578e-01"
       ]
      },
      {
       "output_type": "stream",
       "stream": "stdout",
       "text": [
        " \r",
        "0993   7.219737e+01   1.000000e+15   1.918578e-01"
       ]
      },
      {
       "output_type": "stream",
       "stream": "stdout",
       "text": [
        " \r",
        "0994   7.219737e+01   1.000000e+15   1.918578e-01"
       ]
      },
      {
       "output_type": "stream",
       "stream": "stdout",
       "text": [
        " \r",
        "0995   7.219737e+01   1.000000e+15   1.918578e-01"
       ]
      },
      {
       "output_type": "stream",
       "stream": "stdout",
       "text": [
        " \r",
        "0996   7.219737e+01   1.000000e+15   1.918578e-01"
       ]
      },
      {
       "output_type": "stream",
       "stream": "stdout",
       "text": [
        " \r",
        "0997   7.219737e+01   1.000000e+15   1.918578e-01"
       ]
      },
      {
       "output_type": "stream",
       "stream": "stdout",
       "text": [
        " \r",
        "0998   7.219737e+01   1.000000e+15   1.918578e-01"
       ]
      },
      {
       "output_type": "stream",
       "stream": "stdout",
       "text": [
        " \r",
        "0999   7.219737e+01   1.000000e+15   1.918578e-01"
       ]
      },
      {
       "output_type": "stream",
       "stream": "stdout",
       "text": [
        " \r",
        "1000   7.219737e+01   1.000000e+15   1.918578e-01"
       ]
      },
      {
       "output_type": "stream",
       "stream": "stdout",
       "text": [
        " \r",
        "1000   7.219737e+01   1.000000e+15   1.918578e-01"
       ]
      },
      {
       "output_type": "stream",
       "stream": "stdout",
       "text": [
        " \n",
        "maxiter exceeded\n",
        "  gp.                      |      Value      |  Constraint  |  Prior  |  Tied to\n",
        "  \u001b[1madd.mul.rbf.variance   \u001b[0;0m  |  1.71764293758  |     +ve      |         |         \n",
        "  \u001b[1madd.mul.rbf.lengthscale\u001b[0;0m  |  2.90443339187  |     +ve      |         |         \n",
        "  \u001b[1madd.mul.coregion.W     \u001b[0;0m  |         (3, 1)  |    fixed     |         |         \n",
        "  \u001b[1madd.mul.coregion.kappa \u001b[0;0m  |           (3,)  |     +ve      |         |         \n",
        "  \u001b[1madd.bias.variance      \u001b[0;0m  |  10.3512582822  |     +ve      |         |         \n",
        "  \u001b[1mStudent_T.t_scale2     \u001b[0;0m  |  1.36537551254  |     +ve      |         |         \n",
        "  \u001b[1mStudent_T.deg_free     \u001b[0;0m  |            5.0  |    fixed     |         |         \n",
        "Log likelihood: -68.9605364275\n",
        "  gp.                      |      Value      |  Constraint  |  Prior  |  Tied to\n",
        "  \u001b[1madd.mul.rbf.variance   \u001b[0;0m  |  1.06184223371  |     +ve      |         |         \n",
        "  \u001b[1madd.mul.rbf.lengthscale\u001b[0;0m  |  1.03815580511  |     +ve      |         |         \n",
        "  \u001b[1madd.mul.coregion.W     \u001b[0;0m  |             []  |              |         |         \n",
        "  \u001b[1madd.mul.coregion.kappa \u001b[0;0m  |           (3,)  |     +ve      |         |         \n",
        "  \u001b[1madd.bias.variance      \u001b[0;0m  |  5.68498748823  |     +ve      |         |         \n",
        "  \u001b[1mStudent_T.t_scale2     \u001b[0;0m  |   1.4241569103  |     +ve      |         |         \n",
        "  \u001b[1mStudent_T.deg_free     \u001b[0;0m  |            5.0  |    fixed     |         |         "
       ]
      },
      {
       "output_type": "stream",
       "stream": "stdout",
       "text": [
        "\n",
        "Log likelihood: -72.2108135664\n"
       ]
      },
      {
       "output_type": "stream",
       "stream": "stderr",
       "text": [
        "/Users/neil/SheffieldML/GPy/GPy/inference/latent_function_inference/laplace.py:133: UserWarning: f_hat now fine again\n",
        "  warnings.warn(\"f_hat now fine again\")\n"
       ]
      },
      {
       "metadata": {},
       "output_type": "display_data",
       "png": "[encoded data removed]",
       "text": [
        "<matplotlib.figure.Figure at 0x113984d10>"
       ]
      },
      {
       "metadata": {},
       "output_type": "display_data",
       "png": "[encoded data removed]",
       "text": [
        "<matplotlib.figure.Figure at 0x11399f3d0>"
       ]
      }
     ],
     "prompt_number": 12
    },
    {
     "cell_type": "heading",
     "level": 3,
     "metadata": {},
     "source": [
      "Is a Gene Differentially Expressed?"
     ]
    },
    {
     "cell_type": "markdown",
     "metadata": {},
     "source": [
      "When testing whether the replicates are valid, we can reverse the question and ask whether two *different* genes are differentially expressed.  <a href=\"http://online.liebertpub.com/doi/abs/10.1089/cmb.2009.0175\">Stegle et al</a> (in a more sophisticated way than our simple analysis) show how this idea can be used to determine whether a gene has been differentially expressed. In recent work with Paul Heath and Sura Zaki Al Rashir we are combining such differential expression studies with multiple conditions giving tests to determine under which of the conditions the genes are differentially expressed."
     ]
    },
    {
     "cell_type": "heading",
     "level": 4,
     "metadata": {},
     "source": [
      "work funded by the BioPreDyn and RADIANT projects."
     ]
    },
    {
     "cell_type": "code",
     "collapsed": false,
     "input": [],
     "language": "python",
     "metadata": {},
     "outputs": []
    }
   ],
   "metadata": {}
  }
 ]
}